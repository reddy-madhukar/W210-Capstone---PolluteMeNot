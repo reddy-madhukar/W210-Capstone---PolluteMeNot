{
 "cells": [
  {
   "cell_type": "code",
   "execution_count": 1,
   "id": "hearing-support",
   "metadata": {},
   "outputs": [],
   "source": [
    "import pandas as pd\n",
    "import numpy as np\n",
    "import time\n",
    "import ee\n",
    "import pickle\n",
    "ee.Initialize()"
   ]
  },
  {
   "cell_type": "code",
   "execution_count": 2,
   "id": "chubby-michigan",
   "metadata": {},
   "outputs": [],
   "source": [
    "PATCH_SIZE = 1250"
   ]
  },
  {
   "cell_type": "markdown",
   "id": "durable-pressure",
   "metadata": {},
   "source": [
    "# Set up bounding box"
   ]
  },
  {
   "cell_type": "code",
   "execution_count": 3,
   "id": "behind-pharmacy",
   "metadata": {},
   "outputs": [],
   "source": [
    "def square(lat=45.475649, lon=-69.471018, size=100):\n",
    "  crs_proj = \"EPSG:4326\"  \n",
    "  return ee.Geometry.Point([lon, lat], proj=crs_proj).buffer(size).bounds()"
   ]
  },
  {
   "cell_type": "code",
   "execution_count": 4,
   "id": "vital-failing",
   "metadata": {},
   "outputs": [],
   "source": [
    "srtm = ee.Image('USGS/SRTMGL1_003')\n",
    "slope = ee.Terrain.slope(srtm)\n",
    "jrc = ee.Image(\"JRC/GSW1_2/GlobalSurfaceWater\").select(\"seasonality\", \"recurrence\")\n",
    "\n",
    "def get_stats(image=ee.Image('USGS/SRTMGL1_003'), lat=45.475649, lon=-69.471018, size=100):\n",
    "    \n",
    "    try:\n",
    "\n",
    "        mean = image.reduceRegion(\n",
    "                reducer = ee.Reducer.mean(),\n",
    "                geometry = square(lat, lon, size),\n",
    "                scale = 30,\n",
    "                maxPixels = 1e9\n",
    "            ).getInfo()\n",
    "\n",
    "        stdDev = image.reduceRegion(\n",
    "                reducer = ee.Reducer.stdDev(),\n",
    "                geometry = square(lat, lon, size),\n",
    "                scale = 30,\n",
    "                maxPixels = 1e9\n",
    "            ).getInfo()#.get('elevation')\n",
    "\n",
    "        maxMin = image.reduceRegion(\n",
    "                reducer = ee.Reducer.minMax(),\n",
    "                geometry = square(lat, lon, size),\n",
    "                scale = 30,\n",
    "                maxPixels = 1e9\n",
    "        ).getInfo()\n",
    "        return mean, stdDev, maxMin\n",
    "\n",
    "    except Exception as e:\n",
    "        print(e)\n",
    "        return np.nan, np.nan, np.nan\n",
    "    \n",
    "\n",
    "\n",
    "\n",
    "def get_transition(lat=45.475649, lon=-69.471018, size=100):\n",
    "    try:\n",
    "        result = ee.Image(\"JRC/GSW1_2/GlobalSurfaceWater\").select(\"transition\").reduceRegion(\n",
    "                    reducer = ee.Reducer.frequencyHistogram(),\n",
    "                    geometry = square(lat, lon, size),\n",
    "                    scale = 30,\n",
    "                    maxPixels = 1e9\n",
    "            ).getInfo()\n",
    "        return result.get('transition')\n",
    "    except Exception as e:\n",
    "        print(e)\n",
    "        return np.nan"
   ]
  },
  {
   "cell_type": "code",
   "execution_count": 5,
   "id": "excited-calendar",
   "metadata": {},
   "outputs": [],
   "source": [
    "# read in csv file \n",
    "# df_m = pd.read_csv(\"combined_regular_clean_with_ssurgo_variables.csv\")\n",
    "df_m = pd.read_pickle(\"cwr_nwpr_dataset\")"
   ]
  },
  {
   "cell_type": "code",
   "execution_count": 6,
   "id": "hungarian-absence",
   "metadata": {},
   "outputs": [],
   "source": [
    "def extract_image_stats(df_m_, i, size):\n",
    "\n",
    "  df_m_[\"srtm_stats\"] = (df_m_.apply(lambda x: \n",
    "                                      get_stats(image=ee.Image('USGS/SRTMGL1_003'),\n",
    "                                                lat=x.latitude, \n",
    "                                                lon=x.longitude, \n",
    "                                                size=size), \n",
    "                                      axis=1))\n",
    "  df_m_[\"slope_stats\"] = (df_m_.apply(lambda x: \n",
    "                                      get_stats(image = ee.Terrain.slope(ee.Image('USGS/SRTMGL1_003')),\n",
    "                                                lat=x.latitude, \n",
    "                                                lon=x.longitude, \n",
    "                                                size=size), \n",
    "                                      axis=1))\n",
    "\n",
    "  df_m_[\"seasonality_stats\"] = (df_m_.apply(lambda x: \n",
    "                                      get_stats(image=ee.Image(\"JRC/GSW1_2/GlobalSurfaceWater\").select(\"seasonality\"),\n",
    "                                                lat=x.latitude, \n",
    "                                                lon=x.longitude, \n",
    "                                                size=size), \n",
    "                                      axis=1))\n",
    "\n",
    "  df_m_[\"recurrence_stats\"] = (df_m_.apply(lambda x: \n",
    "                                      get_stats(image=ee.Image(\"JRC/GSW1_2/GlobalSurfaceWater\").select(\"recurrence\"),\n",
    "                                                lat=x.latitude, \n",
    "                                                lon=x.longitude, \n",
    "                                                size=size), \n",
    "                                      axis=1))\n",
    "    \n",
    "\n",
    "  df_m_[\"transition_hist\"] = (df_m_.apply(lambda x: \n",
    "                                      get_transition(lat=x.latitude, \n",
    "                                                lon=x.longitude, \n",
    "                                                size=size), \n",
    "                                      axis=1))\n",
    "  \n",
    "  # pickle the dataframe \n",
    "  (pickle.dump(df_m_, open(\"cwr_nwpr/\" + str(2 * PATCH_SIZE) + \"m_SRTM/image_stats_\" \n",
    "                           + str(2*PATCH_SIZE) + \"X\" + str(2*PATCH_SIZE)\n",
    "                           + \"_part\" + str(i),\"wb\"), \n",
    "               protocol=3))        "
   ]
  },
  {
   "cell_type": "code",
   "execution_count": 7,
   "id": "broke-spoke",
   "metadata": {},
   "outputs": [
    {
     "name": "stdout",
     "output_type": "stream",
     "text": [
      "2021-04-01 19:45:57.565250\n"
     ]
    }
   ],
   "source": [
    "from datetime import datetime\n",
    "print(datetime.now())"
   ]
  },
  {
   "cell_type": "code",
   "execution_count": 8,
   "id": "wound-landscape",
   "metadata": {},
   "outputs": [
    {
     "name": "stdout",
     "output_type": "stream",
     "text": [
      "batch 1 of 10 started\n",
      "batch 1 of 10 done\n",
      "batch 2 of 10 started\n",
      "batch 2 of 10 done\n",
      "batch 3 of 10 started\n",
      "batch 3 of 10 done\n",
      "batch 4 of 10 started\n",
      "batch 4 of 10 done\n",
      "batch 5 of 10 started\n",
      "batch 5 of 10 done\n",
      "batch 6 of 10 started\n",
      "batch 6 of 10 done\n",
      "batch 7 of 10 started\n",
      "batch 7 of 10 done\n",
      "batch 8 of 10 started\n",
      "batch 8 of 10 done\n",
      "batch 9 of 10 started\n",
      "batch 9 of 10 done\n",
      "batch 10 of 10 started\n",
      "batch 10 of 10 done\n"
     ]
    }
   ],
   "source": [
    "# pass in batches of 500\n",
    "# MADHUKAR: 0 - 5000 \n",
    "# SHOBHA: 5000 - 10000\n",
    "# RADHIKA: 10000 - 15000\n",
    "\n",
    "patch_size = PATCH_SIZE\n",
    "batch_size = 50\n",
    "MY_NAME = \"MADHUKAR\"\n",
    "START = 0 + 5000 * (MY_NAME == \"SHOBHA\") + 10000 * (MY_NAME == \"RADHIKA\")\n",
    "\n",
    "for batch in range(10,65):\n",
    "  print(\"batch {} of 10 started\".format(batch + 1))\n",
    "  batch_df = df_m[START + batch_size * batch : START + batch_size * (batch + 1)].copy()\n",
    "  extract_image_stats(batch_df, (START + batch_size * batch) + 1, size = patch_size)\n",
    "  print(\"batch {} of 10 done\".format(batch + 1))\n",
    "    \n"
   ]
  },
  {
   "cell_type": "code",
   "execution_count": 9,
   "id": "blind-machinery",
   "metadata": {},
   "outputs": [],
   "source": [
    "# # pass in batches of 500\n",
    "# # MADHUKAR: 0 - 5000 \n",
    "# # SHOBHA: 5000 - 10000\n",
    "# # RADHIKA: 10000 - 15000\n",
    "\n",
    "# patch_size = PATCH_SIZE\n",
    "# batch_size = 500\n",
    "# MY_NAME = \"SHOBHA\"\n",
    "# START = 0 + 5000 * (MY_NAME == \"SHOBHA\") + 10000 * (MY_NAME == \"RADHIKA\")\n",
    "\n",
    "# for batch in range(10):\n",
    "#   print(\"batch {} of 10 started\".format(batch + 1))\n",
    "#   batch_df = df_m[START + batch_size * batch : START + batch_size * (batch + 1)].copy()\n",
    "#   extract_image_stats(batch_df, (START + batch_size * batch) + 1, size = patch_size)\n",
    "#   print(\"batch {} of 10 done\".format(batch + 1))\n"
   ]
  },
  {
   "cell_type": "code",
   "execution_count": 10,
   "id": "vertical-moscow",
   "metadata": {
    "scrolled": true
   },
   "outputs": [],
   "source": [
    "# # 6 of 10 batches done\n",
    "\n",
    "# patch_size = PATCH_SIZE\n",
    "# batch_size = 500\n",
    "# MY_NAME = \"RADHIKA\"\n",
    "# START = 0 + 5000 * (MY_NAME == \"SHOBHA\") + 10000 * (MY_NAME == \"RADHIKA\")\n",
    "\n",
    "# for batch in range(6, 10):\n",
    "#   print(\"batch {} of 10 started\".format(batch + 1))\n",
    "#   batch_df = df_m[START + batch_size * batch : START + batch_size * (batch + 1)].copy()\n",
    "#   extract_image_stats(batch_df, (START + batch_size * batch) + 1, size = patch_size)\n",
    "#   print(\"batch {} of 10 done\".format(batch + 1))\n"
   ]
  },
  {
   "cell_type": "code",
   "execution_count": 11,
   "id": "varying-ceramic",
   "metadata": {},
   "outputs": [
    {
     "name": "stdout",
     "output_type": "stream",
     "text": [
      "2021-04-01 20:05:44.184861\n"
     ]
    }
   ],
   "source": [
    "from datetime import datetime\n",
    "print(datetime.now())"
   ]
  },
  {
   "cell_type": "code",
   "execution_count": 12,
   "id": "breathing-tennis",
   "metadata": {},
   "outputs": [
    {
     "data": {
      "text/plain": [
       "Index(['jurisdiction_type', 'da_number', 'latitude', 'longitude',\n",
       "       'cwa_determination', 'Index', 'srtm_stats', 'slope_stats',\n",
       "       'seasonality_stats', 'recurrence_stats', 'transition_hist'],\n",
       "      dtype='object')"
      ]
     },
     "execution_count": 12,
     "metadata": {},
     "output_type": "execute_result"
    }
   ],
   "source": [
    "df_m_test = pd.read_pickle(\"cwr_nwpr/\" + str(2 * PATCH_SIZE) + \"m_SRTM/image_stats_\" + str(2 * PATCH_SIZE) + \"X\" + str(2 * PATCH_SIZE) + \"_part1\")\n",
    "df_m_test.columns"
   ]
  },
  {
   "cell_type": "code",
   "execution_count": 13,
   "id": "continuous-conflict",
   "metadata": {},
   "outputs": [
    {
     "name": "stdout",
     "output_type": "stream",
     "text": [
      "{}\n",
      "{}\n",
      "{'10': 2.768627450980392, '6': 7.8}\n",
      "{'1': 2, '10': 15, '5': 12, '6': 1.9803921568627452, '8': 1}\n",
      "{'1': 428.129411764706, '10': 6, '2': 1, '4': 186.17254901960786, '5': 30.28235294117647, '6': 2, '7': 12, '8': 34}\n",
      "{'0': 2, '1': 49.27843137254902, '10': 7.639215686274509, '2': 64.31372549019608, '4': 16.427450980392155, '5': 55.66274509803922, '6': 2, '7': 1.3254901960784313}\n",
      "{'10': 19, '2': 22, '3': 1, '5': 27, '6': 12}\n",
      "{'10': 5, '4': 14, '5': 17, '6': 3, '7': 4}\n",
      "{'2': 1.7882352941176471, '4': 0.9058823529411765, '5': 2}\n",
      "{'1': 10, '10': 3, '2': 2, '4': 16, '5': 106.46666666666667, '8': 17}\n",
      "{'0': 4, '1': 5, '10': 49.27058823529411, '2': 1, '4': 26.533333333333335, '5': 172.24705882352933, '6': 2, '8': 63}\n",
      "{'10': 10, '4': 3, '5': 10, '6': 31}\n",
      "{'1': 320.87058823529406, '10': 9, '3': 3, '4': 75.56470588235294, '5': 68.4, '6': 2, '7': 3, '8': 29.65882352941177}\n",
      "{'1': 11, '10': 6, '2': 10, '4': 30, '5': 49, '6': 5, '7': 5}\n",
      "{'1': 1135.8039215686274, '10': 2, '2': 49, '4': 134.94117647058823, '5': 243.33333333333331, '6': 7, '7': 3.6470588235294117, '8': 80.33333333333333}\n",
      "{'1': 67.32156862745097, '10': 8.011764705882353, '4': 72.92156862745097, '5': 142.87058823529432, '6': 8, '8': 64.68235294117648}\n",
      "{'0': 2, '10': 3, '5': 3}\n",
      "{'1': 54.29019607843137, '10': 4, '2': 3, '4': 7.572549019607843, '5': 44, '8': 12.572549019607843}\n",
      "{'10': 2, '5': 1, '6': 1}\n",
      "{'0': 4, '1': 504.80784313725485, '10': 14.43921568627451, '2': 6, '4': 56.77254901960782, '5': 73.8392156862745, '6': 2, '7': 10.95294117647059, '8': 11.572549019607843}\n",
      "{'10': 11, '5': 76}\n",
      "{}\n",
      "{'0': 20.301960784313724, '1': 546.1960784313724, '10': 254.38431372549024, '2': 31.301960784313724, '3': 5, '4': 71.78431372549018, '5': 248.15686274509807, '6': 36.937254901960785, '7': 1, '8': 152.30196078431374, '9': 1}\n",
      "{'0': 4, '1': 13, '10': 57, '2': 4, '3': 1, '4': 8, '5': 43, '6': 24, '7': 2, '8': 1}\n",
      "{'0': 11, '1': 3, '10': 6.862745098039216, '2': 1, '3': 1, '4': 3.8627450980392157, '5': 9, '6': 10, '8': 5}\n",
      "{'1': 13, '10': 7, '2': 4, '4': 34, '5': 38.84313725490196, '7': 23}\n",
      "{'1': 7, '10': 7.913725490196079, '2': 39, '4': 10.827450980392157, '5': 62.38823529411765, '6': 0.9137254901960784, '7': 4, '8': 3}\n",
      "{'0': 7, '1': 257.27450980392155, '10': 13, '2': 38, '4': 959.1294117647053, '5': 712.2470588235291, '6': 31.435294117647057, '7': 2, '8': 50}\n",
      "{'1': 5.031372549019608, '10': 6, '2': 38.36470588235294, '4': 6.015686274509804, '5': 54.72941176470589, '7': 3.015686274509804, '8': 2}\n",
      "{}\n",
      "{'1': 2518.666666666662, '10': 57.811764705882354, '2': 288.1490196078432, '3': 12.156862745098039, '4': 14, '5': 190.00784313725492, '6': 10, '7': 39, '8': 32, '9': 3}\n",
      "{'1': 1009.9490196078433, '10': 15.737254901960785, '2': 19, '4': 90.83529411764705, '5': 39.33333333333333, '6': 11.737254901960785, '7': 94.50980392156862, '8': 2.7372549019607844}\n",
      "{'0': 2, '1': 7, '10': 84.38823529411765, '2': 390.5137254901963, '4': 105.69411764705882, '5': 130.1843137254902, '6': 3, '7': 5.898039215686275, '9': 8.592156862745098}\n",
      "{'0': 1, '1': 6, '10': 1.5176470588235293, '4': 10.51764705882353, '5': 15.51764705882353, '6': 3, '7': 2}\n",
      "{}\n",
      "{'1': 1, '2': 5, '4': 11, '5': 39.46666666666667, '8': 7}\n",
      "{'0': 2, '1': 118.36470588235295, '10': 111.87450980392157, '2': 13, '3': 10.623529411764705, '4': 11, '5': 14, '6': 33, '9': 12}\n",
      "{'0': 3, '1': 4, '10': 36, '2': 1, '4': 15, '5': 13, '6': 17, '8': 7}\n",
      "{'0': 2, '1': 3392.5725490196096, '10': 97, '2': 36.462745098039214, '3': 44, '4': 163.9686274509804, '5': 132.16862745098044, '6': 97, '7': 89, '8': 106}\n",
      "{'10': 4, '2': 11, '4': 0.5647058823529412, '5': 22, '6': 0.5647058823529412}\n",
      "{'0': 5.533333333333333, '1': 7.43529411764706, '10': 5.929411764705883, '5': 1.9294117647058824, '6': 1, '7': 0.9294117647058824, '8': 0.9294117647058824}\n",
      "{'1': 94.7607843137255, '10': 6, '2': 1, '3': 1, '4': 191.45098039215677, '5': 74.80392156862747, '6': 11.521568627450982, '7': 27.76078431372549, '8': 32}\n",
      "{'0': 75.51372549019608, '1': 193.62745098039215, '10': 502.30196078431356, '2': 18.537254901960786, '4': 430.87058823529424, '5': 2178.2627450980444, '6': 7, '7': 44, '8': 7}\n",
      "{'1': 198.27843137254905, '10': 7, '2': 384.13725490196134, '3': 9, '4': 118.4235294117647, '5': 134.68235294117648, '6': 187, '7': 1, '8': 4.474509803921569}\n",
      "{'1': 342.29019607843117, '10': 34, '2': 1, '4': 281.54117647058814, '5': 81.93333333333334, '6': 10, '7': 37, '8': 12.933333333333334}\n",
      "{'0': 4, '1': 291, '10': 134.83921568627449, '2': 6, '3': 15, '4': 59, '5': 414.74117647058824, '6': 45, '7': 5, '8': 35, '9': 169}\n",
      "{'0': 1, '10': 35, '2': 5, '5': 6}\n",
      "{'1': 2, '10': 8, '2': 40, '4': 3, '5': 42, '6': 2}\n",
      "{'10': 46.6078431372549, '2': 13, '4': 1, '5': 32.82352941176471, '6': 18, '9': 7}\n",
      "{}\n"
     ]
    }
   ],
   "source": [
    "for item in df_m_test.transition_hist:\n",
    "    print(item)\n",
    "# df_m_test.image_stats\n"
   ]
  },
  {
   "cell_type": "code",
   "execution_count": null,
   "id": "novel-quantity",
   "metadata": {},
   "outputs": [],
   "source": []
  }
 ],
 "metadata": {
  "kernelspec": {
   "display_name": "Python 3",
   "language": "python",
   "name": "python3"
  },
  "language_info": {
   "codemirror_mode": {
    "name": "ipython",
    "version": 3
   },
   "file_extension": ".py",
   "mimetype": "text/x-python",
   "name": "python",
   "nbconvert_exporter": "python",
   "pygments_lexer": "ipython3",
   "version": "3.9.2"
  }
 },
 "nbformat": 4,
 "nbformat_minor": 5
}
