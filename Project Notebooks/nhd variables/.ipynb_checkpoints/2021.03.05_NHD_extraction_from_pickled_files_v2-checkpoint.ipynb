{
 "cells": [
  {
   "cell_type": "code",
   "execution_count": 1,
   "id": "technical-madison",
   "metadata": {},
   "outputs": [],
   "source": [
    "import ee\n",
    "import pandas as pd\n",
    "import numpy as np\n",
    "ee.Initialize()"
   ]
  },
  {
   "cell_type": "code",
   "execution_count": 11,
   "id": "mental-tours",
   "metadata": {},
   "outputs": [],
   "source": [
    "# read in the nhd addendum file\n",
    "\n",
    "nhd_stats = pd.read_csv(\"nhd_stats_AI.csv\")\n",
    "\n",
    "# read in csv file with SSURGO variables\n",
    "df_m = pd.read_csv(\"combined_regular_clean_with_ssurgo_variables.csv\")"
   ]
  },
  {
   "cell_type": "code",
   "execution_count": 4,
   "id": "liable-poker",
   "metadata": {},
   "outputs": [],
   "source": [
    "df_merged = []\n",
    "for i in range(10):\n",
    "    try:\n",
    "        df_temp = pd.read_pickle(('NHD_extracted_vars_200mX200m/combined_regular_clean_with_ssurgo_nhd_variables_part' + \n",
    "                              str(500 * i + 1)))\n",
    "    except:\n",
    "        break\n",
    "    df_merged.append(df_temp)\n",
    "df_merged = pd.concat(df_merged)"
   ]
  },
  {
   "cell_type": "code",
   "execution_count": 5,
   "id": "adult-revelation",
   "metadata": {},
   "outputs": [
    {
     "data": {
      "text/plain": [
       "Index(['Unnamed: 0', 'Unnamed: 0.1', 'jurisdiction_type', 'da_number',\n",
       "       'district', 'project_name', 'longitude', 'latitude',\n",
       "       'date_issued_or_denied', 'rha_determination', 'cwa_determination',\n",
       "       'rha1', 'rha2', 'cwa1', 'cwa2', 'cwa3', 'cwa4', 'cwa5', 'cwa6', 'cwa7',\n",
       "       'cwa8', 'cwa9', 'potential_wetland', 'index', 'Index', 'mukey',\n",
       "       'hydclprs', 'aws025wta', 'drclassdcd', 'nhd_vars_wb', 'nhd_vars_fl'],\n",
       "      dtype='object')"
      ]
     },
     "execution_count": 5,
     "metadata": {},
     "output_type": "execute_result"
    }
   ],
   "source": [
    "df_merged.columns"
   ]
  },
  {
   "cell_type": "code",
   "execution_count": 6,
   "id": "trained-giant",
   "metadata": {},
   "outputs": [],
   "source": [
    "df_merged[\"wb_comid_list\"] = df_merged.apply(lambda x: [comid for comid in x.nhd_vars_wb[0]], axis=1)\n",
    "df_merged[\"wb_ftype_str_list\"] = df_merged.apply(lambda x: [ftype_str for ftype_str in x.nhd_vars_wb[1]], axis=1)\n",
    "df_merged[\"wb_gnis_id_list\"] = df_merged.apply(lambda x: [gnis_id for gnis_id in x.nhd_vars_wb[2]], axis=1)\n",
    "df_merged[\"wb_area_list\"] = df_merged.apply(lambda x: [wb_area for wb_area in x.nhd_vars_wb[3]], axis=1)\n",
    "\n",
    "df_merged[\"fl_comid_list\"] = df_merged.apply(lambda x: [comid for comid in x.nhd_vars_fl[0]], axis=1)\n",
    "df_merged[\"fl_ftype_str_list\"] = df_merged.apply(lambda x: [ftype_str for ftype_str in x.nhd_vars_fl[1]], axis=1)\n",
    "df_merged[\"fl_gnis_id_list\"] = df_merged.apply(lambda x: [gnis_id for gnis_id in x.nhd_vars_fl[2]], axis=1)\n",
    "df_merged[\"fl_length_list\"] = df_merged.apply(lambda x: [fl_length for fl_length in x.nhd_vars_fl[4]], axis=1)"
   ]
  },
  {
   "cell_type": "code",
   "execution_count": 7,
   "id": "disciplinary-poultry",
   "metadata": {},
   "outputs": [
    {
     "data": {
      "text/plain": [
       "[21980217, 21978365]"
      ]
     },
     "execution_count": 7,
     "metadata": {},
     "output_type": "execute_result"
    }
   ],
   "source": [
    "df_merged.fl_comid_list[9]"
   ]
  },
  {
   "cell_type": "code",
   "execution_count": 179,
   "id": "figured-haven",
   "metadata": {},
   "outputs": [],
   "source": [
    "df_merged[\"fl_comid_list_len\"] = df_merged.apply(lambda x: len([comid for comid in x.nhd_vars_fl[0]]), axis=1)"
   ]
  },
  {
   "cell_type": "code",
   "execution_count": 191,
   "id": "spoken-hughes",
   "metadata": {},
   "outputs": [
    {
     "name": "stdout",
     "output_type": "stream",
     "text": [
      "9,11,13,15,20,21,23,25,31,32,33,37,38,39,41,42,44,47,49,50,53,54,55,58,59,64,74,75,78,81,82,85,87,88,89,92,94,"
     ]
    }
   ],
   "source": [
    "for i in range(100):\n",
    "    if df_merged.fl_comid_list_len[i] != 0:\n",
    "        print(i, end=\",\")"
   ]
  },
  {
   "cell_type": "code",
   "execution_count": 188,
   "id": "special-rover",
   "metadata": {},
   "outputs": [
    {
     "data": {
      "text/plain": [
       "2"
      ]
     },
     "execution_count": 188,
     "metadata": {},
     "output_type": "execute_result"
    }
   ],
   "source": [
    "df_merged.fl_comid_list_len[9]"
   ]
  },
  {
   "cell_type": "code",
   "execution_count": 152,
   "id": "proved-reggae",
   "metadata": {},
   "outputs": [
    {
     "data": {
      "text/plain": [
       "Index(['Unnamed: 0', 'Unnamed: 0.1', 'jurisdiction_type', 'da_number',\n",
       "       'district', 'project_name', 'longitude', 'latitude',\n",
       "       'date_issued_or_denied', 'rha_determination', 'cwa_determination',\n",
       "       'rha1', 'rha2', 'cwa1', 'cwa2', 'cwa3', 'cwa4', 'cwa5', 'cwa6', 'cwa7',\n",
       "       'cwa8', 'cwa9', 'potential_wetland', 'index', 'Index', 'mukey',\n",
       "       'hydclprs', 'aws025wta', 'drclassdcd', 'nhd_vars_wb', 'nhd_vars_fl',\n",
       "       'wb_comid_list', 'wb_ftype_str_list', 'wb_gnis_id_list', 'wb_area_list',\n",
       "       'fl_comid_list', 'fl_ftype_str_list', 'fl_gnis_id_list',\n",
       "       'fl_length_list'],\n",
       "      dtype='object')"
      ]
     },
     "execution_count": 152,
     "metadata": {},
     "output_type": "execute_result"
    }
   ],
   "source": [
    "df_merged.columns"
   ]
  },
  {
   "cell_type": "code",
   "execution_count": 153,
   "id": "informative-cookbook",
   "metadata": {},
   "outputs": [
    {
     "data": {
      "text/plain": [
       "[nan]"
      ]
     },
     "execution_count": 153,
     "metadata": {},
     "output_type": "execute_result"
    }
   ],
   "source": [
    "[num for num in df_merged.fl_length_list[1]]"
   ]
  },
  {
   "cell_type": "code",
   "execution_count": 154,
   "id": "still-clearance",
   "metadata": {},
   "outputs": [
    {
     "data": {
      "text/plain": [
       "Index(['Unnamed: 0', 'Unnamed: 0.1', 'jurisdiction_type', 'da_number',\n",
       "       'district', 'project_name', 'longitude', 'latitude',\n",
       "       'date_issued_or_denied', 'rha_determination', 'cwa_determination',\n",
       "       'rha1', 'rha2', 'cwa1', 'cwa2', 'cwa3', 'cwa4', 'cwa5', 'cwa6', 'cwa7',\n",
       "       'cwa8', 'cwa9', 'potential_wetland', 'index', 'Index', 'mukey',\n",
       "       'hydclprs', 'aws025wta', 'drclassdcd', 'nhd_vars_wb', 'nhd_vars_fl',\n",
       "       'wb_comid_list', 'wb_ftype_str_list', 'wb_gnis_id_list', 'wb_area_list',\n",
       "       'fl_comid_list', 'fl_ftype_str_list', 'fl_gnis_id_list',\n",
       "       'fl_length_list'],\n",
       "      dtype='object')"
      ]
     },
     "execution_count": 154,
     "metadata": {},
     "output_type": "execute_result"
    }
   ],
   "source": [
    "df_merged.columns"
   ]
  },
  {
   "cell_type": "code",
   "execution_count": 188,
   "id": "addressed-general",
   "metadata": {},
   "outputs": [],
   "source": [
    "# working version\n",
    "# read in fl_comid_list, pull out comids and match with nhd_stats to sum \n",
    "# areasqkm, todasqkm and flow_type\n",
    "\n",
    "def extract_feature(comid, feature):\n",
    "    if comid == None:\n",
    "        return np.nan # if no comid's in GEE\n",
    "    extracted_feature = nhd_stats[nhd_stats[\"comid\"] == comid][str(feature)]\n",
    "    try:\n",
    "        extracted_feature = np.array(extracted_feature).item() \n",
    "    except Exception as e:\n",
    "        return np.nan # if comid in GEE but not in nhd database\n",
    "    return extracted_feature\n",
    "\n",
    "\n",
    "def fl_areasqkm(comid):\n",
    "    if comid == None:\n",
    "        return np.nan # if no comid's in GEE\n",
    "    area = nhd_stats[nhd_stats[\"comid\"] == comid][\"areasqkm\"]\n",
    "    try:\n",
    "        area = np.array(area).item() \n",
    "    except Exception as e:\n",
    "        return np.nan # if comid in GEE but not in nhd database\n",
    "    return area\n",
    "\n",
    "def fl_length(comid):\n",
    "    return np.float(nhd_stats[nhd_stats[\"comid\"] == comid][\"lengthkm\"])\n",
    "\n",
    "\n",
    "def fl_totdasqkm(comid):\n",
    "    return np.float(nhd_stats[nhd_stats[\"comid\"] == comid][\"totdasqkm\"])\n",
    "\n",
    "def fl_flow_type(comid):\n",
    "    return np.float(nhd_stats[nhd_stats[\"comid\"] == comid][\"flow_type\"])\n",
    "\n",
    "def gnis_name_ind(comid):\n",
    "    return np.float(nhd_stats[nhd_stats[\"comid\"] == comid][\"gnis_name_ind\"])\n",
    "\n",
    "\n",
    "df_merged[\"fl_areasqkm_sum\"] = (df_merged.apply(lambda x: \n",
    "                                                np.sum(np.array([fl_areasqkm(item) \n",
    "                                                                 for item in x.fl_comid_list])\n",
    "                                                       [~np.isnan(np.array([fl_areasqkm(item) \n",
    "                                                                            for item in x.fl_comid_list]))]), \n",
    "                                                axis=1))\n",
    "df_merged[\"fl_areasqkm_count\"] = (df_merged.apply(lambda x: \n",
    "                                                  len(np.array([fl_areasqkm(item) \n",
    "                                                                for item in x.fl_comid_list])\n",
    "                                                      [~np.isnan(np.array([fl_areasqkm(item) \n",
    "                                                                           for item in x.fl_comid_list]))]), \n",
    "                                                  axis=1))\n",
    "\n",
    "# temp = np.array([fl_areasqkm(item) for item in x.fl_comid_list if len(x.fl_comid_list) != 0])\n",
    "# temp2 = np.array([fl_areasqkm(item) if len(x.fl_comid_list) != 0 else np.nan for item in x.fl_comid_list])\n",
    "\n",
    "# df_merged[\"fl_areasqkm_mean\"] = df_merged.apply(lambda x: temp[~np.isnan(temp)], axis=1)\n",
    "# df_merged[\"fl_areasqkm_mean\"] = df_merged.apply(lambda x: np.array([fl_areasqkm(item) for item in x.fl_comid_list if len(x.fl_comid_list) != 0])[~np.isnan(np.array([fl_areasqkm(item) for item in x.fl_comid_list if len(x.fl_comid_list) != 0]))], axis=1)\n",
    "# df_merged[\"fl_areasqkm_mean\"] = (df_merged.apply(lambda x: np.mean(np.array([fl_areasqkm(item) for item in x.fl_comid_list if len(x.fl_comid_list) != 0])[~np.isnan(np.array([fl_areasqkm(item) for item in x.fl_comid_list if len(x.fl_comid_list) != 0]))]), axis=1))\n",
    "# df_merged[\"fl_areasqkm_mean\"] = (df_merged.apply(lambda x: np.mean(np.array([fl_areasqkm(item) for item in x.fl_comid_list if len(x.fl_comid_list) != 0])[~np.isnan(np.array([fl_areasqkm(item) for item in x.fl_comid_list if len(x.fl_comid_list) != 0]))]), axis=1))\n",
    "\n",
    "# df_merged[\"fl_areasqkm_mean\"] = df_merged.apply(lambda x: np.mean(temp2[~isnan(temp2)]))\n",
    "# df_merged[\"fl_areasqkm_mean\"] = df_merged.apply(lambda x: np.mean(np.array([fl_areasqkm(item) if len(x.fl_comid_list) != 0 else np.nan for item in x.fl_comid_list])[~np.isnan(np.array([fl_areasqkm(item) if len(x.fl_comid_list) != 0 else np.nan for item in x.fl_comid_list]))]), axis=1)\n",
    "# df_merged[\"fl_areasqkm_mean\"] = df_merged.apply(lambda x: np.mean(fl_areasqkm(comid) for comid in np.array(x.fl_comid_list)[~np.isnan(np.array(x.fl_comid_list))]) if len(x.fl_comid_list) != 0 else np.nan, axis=1)\n",
    "\n"
   ]
  },
  {
   "cell_type": "markdown",
   "id": "genetic-mistress",
   "metadata": {},
   "source": [
    "# filter out invalid comids to avoid nuisance issues downstream"
   ]
  },
  {
   "cell_type": "code",
   "execution_count": 189,
   "id": "hourly-consequence",
   "metadata": {},
   "outputs": [
    {
     "data": {
      "text/plain": [
       "Index(['comid', 'long_comid', 'lat_comid', 'startflag', 'intephem',\n",
       "       'divergence', 'streamorde', 'lengthkm', 'gnis_name_ind', 'areasqkm',\n",
       "       'totdasqkm', 'flow_type', 'distup_max', 'distdown_max'],\n",
       "      dtype='object')"
      ]
     },
     "execution_count": 189,
     "metadata": {},
     "output_type": "execute_result"
    }
   ],
   "source": [
    "nhd_stats.columns"
   ]
  },
  {
   "cell_type": "code",
   "execution_count": 234,
   "id": "continued-catering",
   "metadata": {},
   "outputs": [],
   "source": [
    "df_merged[\"wb_comid_list_filtered\"] = df_merged.apply(lambda x: [comid for comid in x.nhd_vars_wb[0] if comid in np.array(nhd_stats.comid)\n",
    "                                                                ], axis=1)\n",
    "\n",
    "df_merged[\"fl_comid_list_filtered\"] = df_merged.apply(lambda x: [comid for comid in x.nhd_vars_fl[0] if comid in np.array(nhd_stats.comid)\n",
    "                                                                ], axis=1)"
   ]
  },
  {
   "cell_type": "code",
   "execution_count": 203,
   "id": "dietary-might",
   "metadata": {},
   "outputs": [
    {
     "data": {
      "text/plain": [
       "True"
      ]
     },
     "execution_count": 203,
     "metadata": {},
     "output_type": "execute_result"
    }
   ],
   "source": [
    "179 in nhd_stats.comid"
   ]
  },
  {
   "cell_type": "code",
   "execution_count": 237,
   "id": "comparative-portland",
   "metadata": {},
   "outputs": [
    {
     "data": {
      "text/plain": [
       "9     [21980217, 21978365]\n",
       "10                      []\n",
       "11              [21635913]\n",
       "12                      []\n",
       "13              [15560261]\n",
       "14                      []\n",
       "Name: fl_comid_list_filtered, dtype: object"
      ]
     },
     "execution_count": 237,
     "metadata": {},
     "output_type": "execute_result"
    }
   ],
   "source": [
    "df_merged.fl_comid_list_filtered[9:15]"
   ]
  },
  {
   "cell_type": "code",
   "execution_count": 89,
   "id": "alone-metallic",
   "metadata": {},
   "outputs": [
    {
     "data": {
      "text/plain": [
       "nan"
      ]
     },
     "execution_count": 89,
     "metadata": {},
     "output_type": "execute_result"
    }
   ],
   "source": [
    "np.mean([])"
   ]
  },
  {
   "cell_type": "code",
   "execution_count": 236,
   "id": "honey-degree",
   "metadata": {},
   "outputs": [
    {
     "data": {
      "text/plain": [
       "9     1.4490\n",
       "10       NaN\n",
       "11    8.5815\n",
       "12       NaN\n",
       "13       NaN\n",
       "14       NaN\n",
       "Name: fl_areasqkm_mean, dtype: float64"
      ]
     },
     "execution_count": 236,
     "metadata": {},
     "output_type": "execute_result"
    }
   ],
   "source": [
    "df_merged.fl_areasqkm_mean[9:15]"
   ]
  },
  {
   "cell_type": "code",
   "execution_count": 58,
   "id": "compliant-appendix",
   "metadata": {},
   "outputs": [
    {
     "data": {
      "text/plain": [
       "nan"
      ]
     },
     "execution_count": 58,
     "metadata": {},
     "output_type": "execute_result"
    }
   ],
   "source": [
    "np.mean([np.nan])"
   ]
  },
  {
   "cell_type": "code",
   "execution_count": 468,
   "id": "available-lease",
   "metadata": {},
   "outputs": [
    {
     "data": {
      "text/plain": [
       "0       0.0\n",
       "1       0.0\n",
       "2       0.0\n",
       "3       0.0\n",
       "4       0.0\n",
       "       ... \n",
       "4995    0.0\n",
       "4996    0.0\n",
       "4997    0.0\n",
       "4998    0.0\n",
       "4999    0.0\n",
       "Length: 5000, dtype: float64"
      ]
     },
     "execution_count": 468,
     "metadata": {},
     "output_type": "execute_result"
    }
   ],
   "source": [
    "# df_merged.apply(lambda x: [fl_areasqkm(comid) for comid in x.fl_comid_list], axis=1)\n",
    "def test(x):\n",
    "    return x**2\n",
    "df_merged.apply(lambda x: np.sum([fl_areasqkm(comid) for comid in x.fl_comid_list]), axis=1)"
   ]
  },
  {
   "cell_type": "code",
   "execution_count": 469,
   "id": "destroyed-eagle",
   "metadata": {},
   "outputs": [
    {
     "data": {
      "text/plain": [
       "1.5831"
      ]
     },
     "execution_count": 469,
     "metadata": {},
     "output_type": "execute_result"
    }
   ],
   "source": [
    "fl_areasqkm(21980217)"
   ]
  },
  {
   "cell_type": "code",
   "execution_count": 470,
   "id": "mature-amsterdam",
   "metadata": {},
   "outputs": [
    {
     "data": {
      "text/plain": [
       "2.8979999999999997"
      ]
     },
     "execution_count": 470,
     "metadata": {},
     "output_type": "execute_result"
    }
   ],
   "source": [
    "np.sum([fl_areasqkm(comid) for comid in df_merged.fl_comid_list[9]])\n",
    "# [fl_areasqkm(comid) for comid in df_merged.fl_comid_list[9]]\n",
    "# df_merged.fl_comid_list[9]"
   ]
  },
  {
   "cell_type": "code",
   "execution_count": 471,
   "id": "sapphire-wireless",
   "metadata": {},
   "outputs": [
    {
     "data": {
      "text/plain": [
       "[3.135, 3.557]"
      ]
     },
     "execution_count": 471,
     "metadata": {},
     "output_type": "execute_result"
    }
   ],
   "source": [
    "df_merged.fl_length_list[9]"
   ]
  },
  {
   "cell_type": "code",
   "execution_count": 472,
   "id": "looking-brush",
   "metadata": {},
   "outputs": [
    {
     "data": {
      "text/plain": [
       "2.8979999999999997"
      ]
     },
     "execution_count": 472,
     "metadata": {},
     "output_type": "execute_result"
    }
   ],
   "source": [
    "df_merged.columns\n",
    "df_merged.fl_areasqkm_sum[9]"
   ]
  },
  {
   "cell_type": "code",
   "execution_count": 33,
   "id": "incident-helicopter",
   "metadata": {},
   "outputs": [],
   "source": [
    "def fl_areasqkm(comid):\n",
    "#     if comid == None:\n",
    "#         return np.nan\n",
    "    area = nhd_stats[nhd_stats[\"comid\"] == comid][\"areasqkm\"]\n",
    "    try:\n",
    "        area = np.array(area).item() \n",
    "    except Exception as e:\n",
    "        return np.nan \n",
    "    return area\n"
   ]
  },
  {
   "cell_type": "code",
   "execution_count": 223,
   "id": "swedish-stream",
   "metadata": {},
   "outputs": [
    {
     "data": {
      "text/plain": [
       "9     [21980217, 21978365]\n",
       "10                      []\n",
       "11    [21632389, 21635913]\n",
       "12                      []\n",
       "13              [15560261]\n",
       "14                      []\n",
       "dtype: object"
      ]
     },
     "execution_count": 223,
     "metadata": {},
     "output_type": "execute_result"
    }
   ],
   "source": [
    "df_temp = df_merged.iloc[9:15].copy()\n",
    "df_temp.apply(lambda x: [comid for comid in x.fl_comid_list], axis=1)"
   ]
  },
  {
   "cell_type": "code",
   "execution_count": 233,
   "id": "latin-balloon",
   "metadata": {},
   "outputs": [
    {
     "data": {
      "text/plain": [
       "True"
      ]
     },
     "execution_count": 233,
     "metadata": {},
     "output_type": "execute_result"
    }
   ],
   "source": [
    "nhd_stats[nhd_stats.comid == 21980217]\n",
    "21980217 in np.array(nhd_stats.comid)"
   ]
  },
  {
   "cell_type": "code",
   "execution_count": 199,
   "id": "vulnerable-reserve",
   "metadata": {},
   "outputs": [
    {
     "data": {
      "text/plain": [
       "9     [1.5831, 1.3149]\n",
       "10                  []\n",
       "11       [nan, 8.5815]\n",
       "12                  []\n",
       "13               [nan]\n",
       "14                  []\n",
       "Name: fl_areasqkm_sum, dtype: object"
      ]
     },
     "execution_count": 199,
     "metadata": {},
     "output_type": "execute_result"
    }
   ],
   "source": [
    "df_temp = df_merged.iloc[9:15].copy()\n",
    "# df_temp\n",
    "\n",
    "df_temp[\"fl_areasqkm_sum\"] = df_temp.apply(lambda x: [fl_areasqkm(comid) for comid in np.array(x.fl_comid_list)[~np.isnan(np.array(x.fl_comid_list))]], axis=1)\n",
    "df_temp[\"fl_areasqkm_sum\"]"
   ]
  },
  {
   "cell_type": "code",
   "execution_count": 219,
   "id": "through-defeat",
   "metadata": {},
   "outputs": [
    {
     "data": {
      "text/plain": [
       "9     [False, False]\n",
       "10                []\n",
       "11    [False, False]\n",
       "12                []\n",
       "13           [False]\n",
       "14                []\n",
       "dtype: object"
      ]
     },
     "execution_count": 219,
     "metadata": {},
     "output_type": "execute_result"
    }
   ],
   "source": [
    "df_temp = df_merged.iloc[9:15].copy()\n",
    "# df_temp\n",
    "\n",
    "# df_temp.apply(lambda x: [fl_areasqkm(comid) for comid in np.array(x.fl_comid_list_filtered)[~np.isnan(np.array(x.fl_comid_list_filtered))]], axis=1)\n",
    "\n",
    "df_temp.apply(lambda x: [comid in nhd_stats.comid for comid in x.nhd_vars_fl[0]], axis=1)\n",
    "# df_temp.apply(lambda x: len(x.nhd_vars_fl[0]), axis=1)\n"
   ]
  },
  {
   "cell_type": "code",
   "execution_count": 159,
   "id": "overall-yacht",
   "metadata": {},
   "outputs": [
    {
     "name": "stderr",
     "output_type": "stream",
     "text": [
      "/Users/Madhukar/opt/miniconda3/envs/ee_skmr/lib/python3.9/site-packages/numpy/core/fromnumeric.py:3372: RuntimeWarning: Mean of empty slice.\n",
      "  return _methods._mean(a, axis=axis, dtype=dtype,\n",
      "/Users/Madhukar/opt/miniconda3/envs/ee_skmr/lib/python3.9/site-packages/numpy/core/_methods.py:170: RuntimeWarning: invalid value encountered in double_scalars\n",
      "  ret = ret.dtype.type(ret / rcount)\n"
     ]
    },
    {
     "data": {
      "text/plain": [
       "9     1.449\n",
       "10      NaN\n",
       "dtype: float64"
      ]
     },
     "execution_count": 159,
     "metadata": {},
     "output_type": "execute_result"
    }
   ],
   "source": [
    "df_temp.apply(lambda x: np.mean(np.array([fl_areasqkm(item) if len(x.fl_comid_list) != 0 else np.nan for item in x.fl_comid_list])[~np.isnan(np.array([fl_areasqkm(item) if len(x.fl_comid_list) != 0 else np.nan for item in x.fl_comid_list]))]), axis=1)"
   ]
  },
  {
   "cell_type": "code",
   "execution_count": 160,
   "id": "obvious-product",
   "metadata": {},
   "outputs": [
    {
     "name": "stderr",
     "output_type": "stream",
     "text": [
      "/Users/Madhukar/opt/miniconda3/envs/ee_skmr/lib/python3.9/site-packages/numpy/core/fromnumeric.py:3372: RuntimeWarning: Mean of empty slice.\n",
      "  return _methods._mean(a, axis=axis, dtype=dtype,\n",
      "/Users/Madhukar/opt/miniconda3/envs/ee_skmr/lib/python3.9/site-packages/numpy/core/_methods.py:170: RuntimeWarning: invalid value encountered in double_scalars\n",
      "  ret = ret.dtype.type(ret / rcount)\n"
     ]
    },
    {
     "data": {
      "text/plain": [
       "9     1.449\n",
       "10      NaN\n",
       "dtype: float64"
      ]
     },
     "execution_count": 160,
     "metadata": {},
     "output_type": "execute_result"
    }
   ],
   "source": [
    "(df_temp.apply(lambda x: \n",
    "               np.mean(np.array([fl_areasqkm(item) \n",
    "                                 if len(x.fl_comid_list) != 0 \n",
    "                                 else np.nan for item in x.fl_comid_list])\n",
    "                       [~np.isnan(np.array([fl_areasqkm(item) \n",
    "                                            if len(x.fl_comid_list) != 0 \n",
    "                                            else np.nan for item in x.fl_comid_list]))]), axis=1))"
   ]
  },
  {
   "cell_type": "code",
   "execution_count": 168,
   "id": "personal-genetics",
   "metadata": {},
   "outputs": [
    {
     "data": {
      "text/plain": [
       "9     2.8980\n",
       "10       NaN\n",
       "11    8.5815\n",
       "12       NaN\n",
       "13    0.0000\n",
       "14       NaN\n",
       "dtype: float64"
      ]
     },
     "execution_count": 168,
     "metadata": {},
     "output_type": "execute_result"
    }
   ],
   "source": [
    "(df_temp.apply(lambda x: \n",
    "               (np.sum(np.array([fl_areasqkm(item) \n",
    "                                 if len(x.fl_comid_list) != 0 \n",
    "                                 else np.nan for item in x.fl_comid_list])\n",
    "                       [~np.isnan(np.array([fl_areasqkm(item) \n",
    "                                            if len(x.fl_comid_list) != 0 \n",
    "                                            else np.nan for item in x.fl_comid_list]))])) if len(x.fl_comid_list) != 0 else np.nan, axis=1))\n",
    "\n"
   ]
  },
  {
   "cell_type": "code",
   "execution_count": 185,
   "id": "legal-desperate",
   "metadata": {},
   "outputs": [
    {
     "data": {
      "text/plain": [
       "9     2\n",
       "10    0\n",
       "11    1\n",
       "12    0\n",
       "13    0\n",
       "14    0\n",
       "dtype: int64"
      ]
     },
     "execution_count": 185,
     "metadata": {},
     "output_type": "execute_result"
    }
   ],
   "source": [
    "df_temp.apply(lambda x: len(np.array([fl_areasqkm(item) for item in x.fl_comid_list])[~np.isnan(np.array([fl_areasqkm(item) for item in x.fl_comid_list]))]), axis=1)"
   ]
  },
  {
   "cell_type": "code",
   "execution_count": 158,
   "id": "auburn-organ",
   "metadata": {},
   "outputs": [
    {
     "name": "stderr",
     "output_type": "stream",
     "text": [
      "/Users/Madhukar/opt/miniconda3/envs/ee_skmr/lib/python3.9/site-packages/numpy/core/fromnumeric.py:3372: RuntimeWarning: Mean of empty slice.\n",
      "  return _methods._mean(a, axis=axis, dtype=dtype,\n",
      "/Users/Madhukar/opt/miniconda3/envs/ee_skmr/lib/python3.9/site-packages/numpy/core/_methods.py:170: RuntimeWarning: invalid value encountered in double_scalars\n",
      "  ret = ret.dtype.type(ret / rcount)\n"
     ]
    },
    {
     "data": {
      "text/plain": [
       "9     1.449\n",
       "10      NaN\n",
       "dtype: float64"
      ]
     },
     "execution_count": 158,
     "metadata": {},
     "output_type": "execute_result"
    }
   ],
   "source": []
  },
  {
   "cell_type": "code",
   "execution_count": null,
   "id": "specialized-withdrawal",
   "metadata": {},
   "outputs": [],
   "source": [
    "np."
   ]
  },
  {
   "cell_type": "code",
   "execution_count": 512,
   "id": "circular-satellite",
   "metadata": {},
   "outputs": [
    {
     "ename": "TypeError",
     "evalue": "'float' object is not iterable",
     "output_type": "error",
     "traceback": [
      "\u001b[0;31m---------------------------------------------------------------------------\u001b[0m",
      "\u001b[0;31mTypeError\u001b[0m                                 Traceback (most recent call last)",
      "\u001b[0;32m<ipython-input-512-ace7538a6d37>\u001b[0m in \u001b[0;36m<module>\u001b[0;34m\u001b[0m\n\u001b[1;32m      2\u001b[0m \u001b[0;31m# df_temp\u001b[0m\u001b[0;34m\u001b[0m\u001b[0;34m\u001b[0m\u001b[0;34m\u001b[0m\u001b[0m\n\u001b[1;32m      3\u001b[0m \u001b[0mdf_temp\u001b[0m\u001b[0;34m[\u001b[0m\u001b[0;34m\"fl_areasqkm_nulls\"\u001b[0m\u001b[0;34m]\u001b[0m \u001b[0;34m=\u001b[0m \u001b[0mdf_temp\u001b[0m\u001b[0;34m.\u001b[0m\u001b[0mapply\u001b[0m\u001b[0;34m(\u001b[0m\u001b[0;32mlambda\u001b[0m \u001b[0mx\u001b[0m\u001b[0;34m:\u001b[0m \u001b[0mnp\u001b[0m\u001b[0;34m.\u001b[0m\u001b[0mnan\u001b[0m \u001b[0;32mif\u001b[0m \u001b[0mlen\u001b[0m\u001b[0;34m(\u001b[0m\u001b[0mx\u001b[0m\u001b[0;34m.\u001b[0m\u001b[0mfl_comid_list\u001b[0m\u001b[0;34m)\u001b[0m \u001b[0;34m==\u001b[0m \u001b[0;36m0\u001b[0m \u001b[0;32melse\u001b[0m \u001b[0mx\u001b[0m\u001b[0;34m.\u001b[0m\u001b[0mfl_comid_list\u001b[0m\u001b[0;34m,\u001b[0m \u001b[0maxis\u001b[0m\u001b[0;34m=\u001b[0m\u001b[0;36m1\u001b[0m\u001b[0;34m)\u001b[0m\u001b[0;34m\u001b[0m\u001b[0;34m\u001b[0m\u001b[0m\n\u001b[0;32m----> 4\u001b[0;31m \u001b[0mdf_temp\u001b[0m\u001b[0;34m[\u001b[0m\u001b[0;34m\"fl_areasqkm_sum\"\u001b[0m\u001b[0;34m]\u001b[0m \u001b[0;34m=\u001b[0m \u001b[0mdf_temp\u001b[0m\u001b[0;34m.\u001b[0m\u001b[0mapply\u001b[0m\u001b[0;34m(\u001b[0m\u001b[0;32mlambda\u001b[0m \u001b[0mx\u001b[0m\u001b[0;34m:\u001b[0m\u001b[0;34m[\u001b[0m\u001b[0mfl_areasqkm\u001b[0m\u001b[0;34m(\u001b[0m\u001b[0mcomid\u001b[0m\u001b[0;34m)\u001b[0m \u001b[0;32mfor\u001b[0m \u001b[0mcomid\u001b[0m \u001b[0;32min\u001b[0m \u001b[0mx\u001b[0m\u001b[0;34m.\u001b[0m\u001b[0mfl_areasqkm_nulls\u001b[0m \u001b[0;32mif\u001b[0m \u001b[0mfl_areasqkm\u001b[0m\u001b[0;34m(\u001b[0m\u001b[0mcomid\u001b[0m\u001b[0;34m)\u001b[0m \u001b[0;34m!=\u001b[0m \u001b[0mnp\u001b[0m\u001b[0;34m.\u001b[0m\u001b[0mnan\u001b[0m\u001b[0;34m]\u001b[0m\u001b[0;34m,\u001b[0m \u001b[0maxis\u001b[0m\u001b[0;34m=\u001b[0m\u001b[0;36m1\u001b[0m\u001b[0;34m)\u001b[0m\u001b[0;34m\u001b[0m\u001b[0;34m\u001b[0m\u001b[0m\n\u001b[0m\u001b[1;32m      5\u001b[0m \u001b[0;31m# df_temp[\"fl_areasqkm_sum\"] = df_temp.apply(lambda x:x.fl_areasqkm_nulls, axis=1)\u001b[0m\u001b[0;34m\u001b[0m\u001b[0;34m\u001b[0m\u001b[0;34m\u001b[0m\u001b[0m\n\u001b[1;32m      6\u001b[0m \u001b[0;34m\u001b[0m\u001b[0m\n",
      "\u001b[0;32m~/opt/miniconda3/envs/ee_skmr/lib/python3.9/site-packages/pandas/core/frame.py\u001b[0m in \u001b[0;36mapply\u001b[0;34m(self, func, axis, raw, result_type, args, **kwds)\u001b[0m\n\u001b[1;32m   7766\u001b[0m             \u001b[0mkwds\u001b[0m\u001b[0;34m=\u001b[0m\u001b[0mkwds\u001b[0m\u001b[0;34m,\u001b[0m\u001b[0;34m\u001b[0m\u001b[0;34m\u001b[0m\u001b[0m\n\u001b[1;32m   7767\u001b[0m         )\n\u001b[0;32m-> 7768\u001b[0;31m         \u001b[0;32mreturn\u001b[0m \u001b[0mop\u001b[0m\u001b[0;34m.\u001b[0m\u001b[0mget_result\u001b[0m\u001b[0;34m(\u001b[0m\u001b[0;34m)\u001b[0m\u001b[0;34m\u001b[0m\u001b[0;34m\u001b[0m\u001b[0m\n\u001b[0m\u001b[1;32m   7769\u001b[0m \u001b[0;34m\u001b[0m\u001b[0m\n\u001b[1;32m   7770\u001b[0m     \u001b[0;32mdef\u001b[0m \u001b[0mapplymap\u001b[0m\u001b[0;34m(\u001b[0m\u001b[0mself\u001b[0m\u001b[0;34m,\u001b[0m \u001b[0mfunc\u001b[0m\u001b[0;34m,\u001b[0m \u001b[0mna_action\u001b[0m\u001b[0;34m:\u001b[0m \u001b[0mOptional\u001b[0m\u001b[0;34m[\u001b[0m\u001b[0mstr\u001b[0m\u001b[0;34m]\u001b[0m \u001b[0;34m=\u001b[0m \u001b[0;32mNone\u001b[0m\u001b[0;34m)\u001b[0m \u001b[0;34m->\u001b[0m \u001b[0mDataFrame\u001b[0m\u001b[0;34m:\u001b[0m\u001b[0;34m\u001b[0m\u001b[0;34m\u001b[0m\u001b[0m\n",
      "\u001b[0;32m~/opt/miniconda3/envs/ee_skmr/lib/python3.9/site-packages/pandas/core/apply.py\u001b[0m in \u001b[0;36mget_result\u001b[0;34m(self)\u001b[0m\n\u001b[1;32m    183\u001b[0m             \u001b[0;32mreturn\u001b[0m \u001b[0mself\u001b[0m\u001b[0;34m.\u001b[0m\u001b[0mapply_raw\u001b[0m\u001b[0;34m(\u001b[0m\u001b[0;34m)\u001b[0m\u001b[0;34m\u001b[0m\u001b[0;34m\u001b[0m\u001b[0m\n\u001b[1;32m    184\u001b[0m \u001b[0;34m\u001b[0m\u001b[0m\n\u001b[0;32m--> 185\u001b[0;31m         \u001b[0;32mreturn\u001b[0m \u001b[0mself\u001b[0m\u001b[0;34m.\u001b[0m\u001b[0mapply_standard\u001b[0m\u001b[0;34m(\u001b[0m\u001b[0;34m)\u001b[0m\u001b[0;34m\u001b[0m\u001b[0;34m\u001b[0m\u001b[0m\n\u001b[0m\u001b[1;32m    186\u001b[0m \u001b[0;34m\u001b[0m\u001b[0m\n\u001b[1;32m    187\u001b[0m     \u001b[0;32mdef\u001b[0m \u001b[0mapply_empty_result\u001b[0m\u001b[0;34m(\u001b[0m\u001b[0mself\u001b[0m\u001b[0;34m)\u001b[0m\u001b[0;34m:\u001b[0m\u001b[0;34m\u001b[0m\u001b[0;34m\u001b[0m\u001b[0m\n",
      "\u001b[0;32m~/opt/miniconda3/envs/ee_skmr/lib/python3.9/site-packages/pandas/core/apply.py\u001b[0m in \u001b[0;36mapply_standard\u001b[0;34m(self)\u001b[0m\n\u001b[1;32m    274\u001b[0m \u001b[0;34m\u001b[0m\u001b[0m\n\u001b[1;32m    275\u001b[0m     \u001b[0;32mdef\u001b[0m \u001b[0mapply_standard\u001b[0m\u001b[0;34m(\u001b[0m\u001b[0mself\u001b[0m\u001b[0;34m)\u001b[0m\u001b[0;34m:\u001b[0m\u001b[0;34m\u001b[0m\u001b[0;34m\u001b[0m\u001b[0m\n\u001b[0;32m--> 276\u001b[0;31m         \u001b[0mresults\u001b[0m\u001b[0;34m,\u001b[0m \u001b[0mres_index\u001b[0m \u001b[0;34m=\u001b[0m \u001b[0mself\u001b[0m\u001b[0;34m.\u001b[0m\u001b[0mapply_series_generator\u001b[0m\u001b[0;34m(\u001b[0m\u001b[0;34m)\u001b[0m\u001b[0;34m\u001b[0m\u001b[0;34m\u001b[0m\u001b[0m\n\u001b[0m\u001b[1;32m    277\u001b[0m \u001b[0;34m\u001b[0m\u001b[0m\n\u001b[1;32m    278\u001b[0m         \u001b[0;31m# wrap results\u001b[0m\u001b[0;34m\u001b[0m\u001b[0;34m\u001b[0m\u001b[0;34m\u001b[0m\u001b[0m\n",
      "\u001b[0;32m~/opt/miniconda3/envs/ee_skmr/lib/python3.9/site-packages/pandas/core/apply.py\u001b[0m in \u001b[0;36mapply_series_generator\u001b[0;34m(self)\u001b[0m\n\u001b[1;32m    288\u001b[0m             \u001b[0;32mfor\u001b[0m \u001b[0mi\u001b[0m\u001b[0;34m,\u001b[0m \u001b[0mv\u001b[0m \u001b[0;32min\u001b[0m \u001b[0menumerate\u001b[0m\u001b[0;34m(\u001b[0m\u001b[0mseries_gen\u001b[0m\u001b[0;34m)\u001b[0m\u001b[0;34m:\u001b[0m\u001b[0;34m\u001b[0m\u001b[0;34m\u001b[0m\u001b[0m\n\u001b[1;32m    289\u001b[0m                 \u001b[0;31m# ignore SettingWithCopy here in case the user mutates\u001b[0m\u001b[0;34m\u001b[0m\u001b[0;34m\u001b[0m\u001b[0;34m\u001b[0m\u001b[0m\n\u001b[0;32m--> 290\u001b[0;31m                 \u001b[0mresults\u001b[0m\u001b[0;34m[\u001b[0m\u001b[0mi\u001b[0m\u001b[0;34m]\u001b[0m \u001b[0;34m=\u001b[0m \u001b[0mself\u001b[0m\u001b[0;34m.\u001b[0m\u001b[0mf\u001b[0m\u001b[0;34m(\u001b[0m\u001b[0mv\u001b[0m\u001b[0;34m)\u001b[0m\u001b[0;34m\u001b[0m\u001b[0;34m\u001b[0m\u001b[0m\n\u001b[0m\u001b[1;32m    291\u001b[0m                 \u001b[0;32mif\u001b[0m \u001b[0misinstance\u001b[0m\u001b[0;34m(\u001b[0m\u001b[0mresults\u001b[0m\u001b[0;34m[\u001b[0m\u001b[0mi\u001b[0m\u001b[0;34m]\u001b[0m\u001b[0;34m,\u001b[0m \u001b[0mABCSeries\u001b[0m\u001b[0;34m)\u001b[0m\u001b[0;34m:\u001b[0m\u001b[0;34m\u001b[0m\u001b[0;34m\u001b[0m\u001b[0m\n\u001b[1;32m    292\u001b[0m                     \u001b[0;31m# If we have a view on v, we need to make a copy because\u001b[0m\u001b[0;34m\u001b[0m\u001b[0;34m\u001b[0m\u001b[0;34m\u001b[0m\u001b[0m\n",
      "\u001b[0;32m<ipython-input-512-ace7538a6d37>\u001b[0m in \u001b[0;36m<lambda>\u001b[0;34m(x)\u001b[0m\n\u001b[1;32m      2\u001b[0m \u001b[0;31m# df_temp\u001b[0m\u001b[0;34m\u001b[0m\u001b[0;34m\u001b[0m\u001b[0;34m\u001b[0m\u001b[0m\n\u001b[1;32m      3\u001b[0m \u001b[0mdf_temp\u001b[0m\u001b[0;34m[\u001b[0m\u001b[0;34m\"fl_areasqkm_nulls\"\u001b[0m\u001b[0;34m]\u001b[0m \u001b[0;34m=\u001b[0m \u001b[0mdf_temp\u001b[0m\u001b[0;34m.\u001b[0m\u001b[0mapply\u001b[0m\u001b[0;34m(\u001b[0m\u001b[0;32mlambda\u001b[0m \u001b[0mx\u001b[0m\u001b[0;34m:\u001b[0m \u001b[0mnp\u001b[0m\u001b[0;34m.\u001b[0m\u001b[0mnan\u001b[0m \u001b[0;32mif\u001b[0m \u001b[0mlen\u001b[0m\u001b[0;34m(\u001b[0m\u001b[0mx\u001b[0m\u001b[0;34m.\u001b[0m\u001b[0mfl_comid_list\u001b[0m\u001b[0;34m)\u001b[0m \u001b[0;34m==\u001b[0m \u001b[0;36m0\u001b[0m \u001b[0;32melse\u001b[0m \u001b[0mx\u001b[0m\u001b[0;34m.\u001b[0m\u001b[0mfl_comid_list\u001b[0m\u001b[0;34m,\u001b[0m \u001b[0maxis\u001b[0m\u001b[0;34m=\u001b[0m\u001b[0;36m1\u001b[0m\u001b[0;34m)\u001b[0m\u001b[0;34m\u001b[0m\u001b[0;34m\u001b[0m\u001b[0m\n\u001b[0;32m----> 4\u001b[0;31m \u001b[0mdf_temp\u001b[0m\u001b[0;34m[\u001b[0m\u001b[0;34m\"fl_areasqkm_sum\"\u001b[0m\u001b[0;34m]\u001b[0m \u001b[0;34m=\u001b[0m \u001b[0mdf_temp\u001b[0m\u001b[0;34m.\u001b[0m\u001b[0mapply\u001b[0m\u001b[0;34m(\u001b[0m\u001b[0;32mlambda\u001b[0m \u001b[0mx\u001b[0m\u001b[0;34m:\u001b[0m\u001b[0;34m[\u001b[0m\u001b[0mfl_areasqkm\u001b[0m\u001b[0;34m(\u001b[0m\u001b[0mcomid\u001b[0m\u001b[0;34m)\u001b[0m \u001b[0;32mfor\u001b[0m \u001b[0mcomid\u001b[0m \u001b[0;32min\u001b[0m \u001b[0mx\u001b[0m\u001b[0;34m.\u001b[0m\u001b[0mfl_areasqkm_nulls\u001b[0m \u001b[0;32mif\u001b[0m \u001b[0mfl_areasqkm\u001b[0m\u001b[0;34m(\u001b[0m\u001b[0mcomid\u001b[0m\u001b[0;34m)\u001b[0m \u001b[0;34m!=\u001b[0m \u001b[0mnp\u001b[0m\u001b[0;34m.\u001b[0m\u001b[0mnan\u001b[0m\u001b[0;34m]\u001b[0m\u001b[0;34m,\u001b[0m \u001b[0maxis\u001b[0m\u001b[0;34m=\u001b[0m\u001b[0;36m1\u001b[0m\u001b[0;34m)\u001b[0m\u001b[0;34m\u001b[0m\u001b[0;34m\u001b[0m\u001b[0m\n\u001b[0m\u001b[1;32m      5\u001b[0m \u001b[0;31m# df_temp[\"fl_areasqkm_sum\"] = df_temp.apply(lambda x:x.fl_areasqkm_nulls, axis=1)\u001b[0m\u001b[0;34m\u001b[0m\u001b[0;34m\u001b[0m\u001b[0;34m\u001b[0m\u001b[0m\n\u001b[1;32m      6\u001b[0m \u001b[0;34m\u001b[0m\u001b[0m\n",
      "\u001b[0;31mTypeError\u001b[0m: 'float' object is not iterable"
     ]
    }
   ],
   "source": [
    "df_temp = df_merged.iloc[9:15].copy()\n",
    "# df_temp\n",
    "df_temp[\"fl_areasqkm_nulls\"] = df_temp.apply(lambda x: np.nan if len(x.fl_comid_list) == 0 else x.fl_comid_list, axis=1)\n",
    "df_temp[\"fl_areasqkm_sum\"] = df_temp.apply(lambda x:[fl_areasqkm(comid) for comid in x.fl_areasqkm_nulls if fl_areasqkm(comid) != np.nan], axis=1)\n",
    "# df_temp[\"fl_areasqkm_sum\"] = df_temp.apply(lambda x:x.fl_areasqkm_nulls, axis=1)\n",
    "\n",
    "# df_temp[\"fl_areasqkm_nulls\"]\n",
    "# df_temp[\"fl_areasqkm_sum\"]\n",
    "df_temp.fl_areasqkm_nulls"
   ]
  },
  {
   "cell_type": "code",
   "execution_count": 494,
   "id": "floating-institute",
   "metadata": {},
   "outputs": [
    {
     "data": {
      "text/plain": [
       "9     [21980217, 21978365]\n",
       "10                      []\n",
       "11    [21632389, 21635913]\n",
       "12                      []\n",
       "13              [15560261]\n",
       "14                      []\n",
       "Name: fl_comid_list, dtype: object"
      ]
     },
     "execution_count": 494,
     "metadata": {},
     "output_type": "execute_result"
    }
   ],
   "source": [
    "df_temp = df_merged.iloc[9:15].copy()\n",
    "# df_temp\n",
    "\n",
    "df_temp.fl_comid_list"
   ]
  },
  {
   "cell_type": "code",
   "execution_count": 50,
   "id": "accomplished-healthcare",
   "metadata": {},
   "outputs": [],
   "source": [
    "def fl_areasqkm(comid):\n",
    "#     if comid == None:\n",
    "#         return np.nan\n",
    "    area = nhd_stats[nhd_stats[\"comid\"] == comid][\"areasqkm\"]\n",
    "#     print(type(np.array(area).item()))\n",
    "    try:\n",
    "        area = np.array(area).item()\n",
    "    except Exception as e:\n",
    "        return np.nan\n",
    "    return area\n"
   ]
  },
  {
   "cell_type": "code",
   "execution_count": 64,
   "id": "intensive-somewhere",
   "metadata": {},
   "outputs": [],
   "source": [
    "comid0 = None # ValueError: can only convert an array of size 1 to a Python scalar\n",
    "comid1 = 21632389 # ValueError: can only convert an array of size 1 to a Python scalar\n",
    "comid2 = 21635913 # 8.5815\n",
    "comid3 = 15560261 # nan"
   ]
  },
  {
   "cell_type": "code",
   "execution_count": 66,
   "id": "elect-confidence",
   "metadata": {},
   "outputs": [
    {
     "data": {
      "text/plain": [
       "array([8.5815])"
      ]
     },
     "execution_count": 66,
     "metadata": {},
     "output_type": "execute_result"
    }
   ],
   "source": [
    "comid_list = [fl_areasqkm(comid2), fl_areasqkm(comid3)]\n",
    "# np.array(comid_list).__dir__()\n",
    "np.array(comid_list)[~np.isnan(np.array(comid_list))]"
   ]
  },
  {
   "cell_type": "code",
   "execution_count": 51,
   "id": "quiet-forest",
   "metadata": {},
   "outputs": [
    {
     "data": {
      "text/plain": [
       "nan"
      ]
     },
     "execution_count": 51,
     "metadata": {},
     "output_type": "execute_result"
    }
   ],
   "source": [
    "fl_areasqkm(comid1)"
   ]
  },
  {
   "cell_type": "code",
   "execution_count": 408,
   "id": "individual-burke",
   "metadata": {},
   "outputs": [
    {
     "data": {
      "text/html": [
       "<div>\n",
       "<style scoped>\n",
       "    .dataframe tbody tr th:only-of-type {\n",
       "        vertical-align: middle;\n",
       "    }\n",
       "\n",
       "    .dataframe tbody tr th {\n",
       "        vertical-align: top;\n",
       "    }\n",
       "\n",
       "    .dataframe thead th {\n",
       "        text-align: right;\n",
       "    }\n",
       "</style>\n",
       "<table border=\"1\" class=\"dataframe\">\n",
       "  <thead>\n",
       "    <tr style=\"text-align: right;\">\n",
       "      <th></th>\n",
       "      <th>comid</th>\n",
       "      <th>long_comid</th>\n",
       "      <th>lat_comid</th>\n",
       "      <th>startflag</th>\n",
       "      <th>intephem</th>\n",
       "      <th>divergence</th>\n",
       "      <th>streamorde</th>\n",
       "      <th>lengthkm</th>\n",
       "      <th>gnis_name_ind</th>\n",
       "      <th>areasqkm</th>\n",
       "      <th>totdasqkm</th>\n",
       "      <th>flow_type</th>\n",
       "      <th>distup_max</th>\n",
       "      <th>distdown_max</th>\n",
       "    </tr>\n",
       "  </thead>\n",
       "  <tbody>\n",
       "    <tr>\n",
       "      <th>0</th>\n",
       "      <td>179</td>\n",
       "      <td>-67.986409</td>\n",
       "      <td>46.022164</td>\n",
       "      <td>1.0</td>\n",
       "      <td>0</td>\n",
       "      <td>0.0</td>\n",
       "      <td>1.0</td>\n",
       "      <td>2.412</td>\n",
       "      <td>0</td>\n",
       "      <td>3.5550</td>\n",
       "      <td>3.5550</td>\n",
       "      <td>1</td>\n",
       "      <td>NaN</td>\n",
       "      <td>243.972000</td>\n",
       "    </tr>\n",
       "    <tr>\n",
       "      <th>1</th>\n",
       "      <td>181</td>\n",
       "      <td>-67.998723</td>\n",
       "      <td>46.016490</td>\n",
       "      <td>0.0</td>\n",
       "      <td>0</td>\n",
       "      <td>0.0</td>\n",
       "      <td>1.0</td>\n",
       "      <td>0.442</td>\n",
       "      <td>0</td>\n",
       "      <td>0.2898</td>\n",
       "      <td>3.8448</td>\n",
       "      <td>1</td>\n",
       "      <td>1.364</td>\n",
       "      <td>242.608000</td>\n",
       "    </tr>\n",
       "    <tr>\n",
       "      <th>2</th>\n",
       "      <td>183</td>\n",
       "      <td>-67.998835</td>\n",
       "      <td>46.020847</td>\n",
       "      <td>0.0</td>\n",
       "      <td>0</td>\n",
       "      <td>0.0</td>\n",
       "      <td>2.0</td>\n",
       "      <td>0.112</td>\n",
       "      <td>1</td>\n",
       "      <td>0.2043</td>\n",
       "      <td>8.1954</td>\n",
       "      <td>1</td>\n",
       "      <td>3.278</td>\n",
       "      <td>243.296010</td>\n",
       "    </tr>\n",
       "    <tr>\n",
       "      <th>3</th>\n",
       "      <td>185</td>\n",
       "      <td>-67.998621</td>\n",
       "      <td>46.019712</td>\n",
       "      <td>0.0</td>\n",
       "      <td>0</td>\n",
       "      <td>0.0</td>\n",
       "      <td>2.0</td>\n",
       "      <td>0.170</td>\n",
       "      <td>1</td>\n",
       "      <td>0.0369</td>\n",
       "      <td>8.2323</td>\n",
       "      <td>1</td>\n",
       "      <td>3.438</td>\n",
       "      <td>243.136000</td>\n",
       "    </tr>\n",
       "    <tr>\n",
       "      <th>4</th>\n",
       "      <td>843</td>\n",
       "      <td>-68.378758</td>\n",
       "      <td>46.246067</td>\n",
       "      <td>1.0</td>\n",
       "      <td>0</td>\n",
       "      <td>0.0</td>\n",
       "      <td>1.0</td>\n",
       "      <td>1.889</td>\n",
       "      <td>0</td>\n",
       "      <td>2.7486</td>\n",
       "      <td>2.7486</td>\n",
       "      <td>1</td>\n",
       "      <td>NaN</td>\n",
       "      <td>285.859010</td>\n",
       "    </tr>\n",
       "    <tr>\n",
       "      <th>...</th>\n",
       "      <td>...</td>\n",
       "      <td>...</td>\n",
       "      <td>...</td>\n",
       "      <td>...</td>\n",
       "      <td>...</td>\n",
       "      <td>...</td>\n",
       "      <td>...</td>\n",
       "      <td>...</td>\n",
       "      <td>...</td>\n",
       "      <td>...</td>\n",
       "      <td>...</td>\n",
       "      <td>...</td>\n",
       "      <td>...</td>\n",
       "      <td>...</td>\n",
       "    </tr>\n",
       "    <tr>\n",
       "      <th>2989308</th>\n",
       "      <td>948100736</td>\n",
       "      <td>-114.836484</td>\n",
       "      <td>32.899003</td>\n",
       "      <td>1.0</td>\n",
       "      <td>1</td>\n",
       "      <td>0.0</td>\n",
       "      <td>1.0</td>\n",
       "      <td>8.559</td>\n",
       "      <td>0</td>\n",
       "      <td>9.3933</td>\n",
       "      <td>9.3933</td>\n",
       "      <td>1</td>\n",
       "      <td>NaN</td>\n",
       "      <td>10.409000</td>\n",
       "    </tr>\n",
       "    <tr>\n",
       "      <th>2989309</th>\n",
       "      <td>948100737</td>\n",
       "      <td>-116.804081</td>\n",
       "      <td>34.543096</td>\n",
       "      <td>0.0</td>\n",
       "      <td>1</td>\n",
       "      <td>0.0</td>\n",
       "      <td>4.0</td>\n",
       "      <td>6.019</td>\n",
       "      <td>0</td>\n",
       "      <td>23.6052</td>\n",
       "      <td>201.5145</td>\n",
       "      <td>1</td>\n",
       "      <td>13.660</td>\n",
       "      <td>5.613000</td>\n",
       "    </tr>\n",
       "    <tr>\n",
       "      <th>2989310</th>\n",
       "      <td>948100738</td>\n",
       "      <td>-116.779838</td>\n",
       "      <td>34.570815</td>\n",
       "      <td>0.0</td>\n",
       "      <td>1</td>\n",
       "      <td>0.0</td>\n",
       "      <td>2.0</td>\n",
       "      <td>2.449</td>\n",
       "      <td>0</td>\n",
       "      <td>7.3683</td>\n",
       "      <td>121.1004</td>\n",
       "      <td>1</td>\n",
       "      <td>9.481</td>\n",
       "      <td>9.794000</td>\n",
       "    </tr>\n",
       "    <tr>\n",
       "      <th>2989311</th>\n",
       "      <td>948100739</td>\n",
       "      <td>-114.956633</td>\n",
       "      <td>34.624972</td>\n",
       "      <td>0.0</td>\n",
       "      <td>1</td>\n",
       "      <td>0.0</td>\n",
       "      <td>3.0</td>\n",
       "      <td>0.282</td>\n",
       "      <td>1</td>\n",
       "      <td>4.6683</td>\n",
       "      <td>618.0561</td>\n",
       "      <td>1</td>\n",
       "      <td>28.018</td>\n",
       "      <td>40.571999</td>\n",
       "    </tr>\n",
       "    <tr>\n",
       "      <th>2989312</th>\n",
       "      <td>948100740</td>\n",
       "      <td>-114.955789</td>\n",
       "      <td>34.626921</td>\n",
       "      <td>0.0</td>\n",
       "      <td>1</td>\n",
       "      <td>0.0</td>\n",
       "      <td>3.0</td>\n",
       "      <td>0.180</td>\n",
       "      <td>1</td>\n",
       "      <td>3.0123</td>\n",
       "      <td>594.5931</td>\n",
       "      <td>1</td>\n",
       "      <td>27.837</td>\n",
       "      <td>40.752998</td>\n",
       "    </tr>\n",
       "  </tbody>\n",
       "</table>\n",
       "<p>2989313 rows × 14 columns</p>\n",
       "</div>"
      ],
      "text/plain": [
       "             comid  long_comid  lat_comid  startflag  intephem  divergence  \\\n",
       "0              179  -67.986409  46.022164        1.0         0         0.0   \n",
       "1              181  -67.998723  46.016490        0.0         0         0.0   \n",
       "2              183  -67.998835  46.020847        0.0         0         0.0   \n",
       "3              185  -67.998621  46.019712        0.0         0         0.0   \n",
       "4              843  -68.378758  46.246067        1.0         0         0.0   \n",
       "...            ...         ...        ...        ...       ...         ...   \n",
       "2989308  948100736 -114.836484  32.899003        1.0         1         0.0   \n",
       "2989309  948100737 -116.804081  34.543096        0.0         1         0.0   \n",
       "2989310  948100738 -116.779838  34.570815        0.0         1         0.0   \n",
       "2989311  948100739 -114.956633  34.624972        0.0         1         0.0   \n",
       "2989312  948100740 -114.955789  34.626921        0.0         1         0.0   \n",
       "\n",
       "         streamorde  lengthkm  gnis_name_ind  areasqkm  totdasqkm  flow_type  \\\n",
       "0               1.0     2.412              0    3.5550     3.5550          1   \n",
       "1               1.0     0.442              0    0.2898     3.8448          1   \n",
       "2               2.0     0.112              1    0.2043     8.1954          1   \n",
       "3               2.0     0.170              1    0.0369     8.2323          1   \n",
       "4               1.0     1.889              0    2.7486     2.7486          1   \n",
       "...             ...       ...            ...       ...        ...        ...   \n",
       "2989308         1.0     8.559              0    9.3933     9.3933          1   \n",
       "2989309         4.0     6.019              0   23.6052   201.5145          1   \n",
       "2989310         2.0     2.449              0    7.3683   121.1004          1   \n",
       "2989311         3.0     0.282              1    4.6683   618.0561          1   \n",
       "2989312         3.0     0.180              1    3.0123   594.5931          1   \n",
       "\n",
       "         distup_max  distdown_max  \n",
       "0               NaN    243.972000  \n",
       "1             1.364    242.608000  \n",
       "2             3.278    243.296010  \n",
       "3             3.438    243.136000  \n",
       "4               NaN    285.859010  \n",
       "...             ...           ...  \n",
       "2989308         NaN     10.409000  \n",
       "2989309      13.660      5.613000  \n",
       "2989310       9.481      9.794000  \n",
       "2989311      28.018     40.571999  \n",
       "2989312      27.837     40.752998  \n",
       "\n",
       "[2989313 rows x 14 columns]"
      ]
     },
     "execution_count": 408,
     "metadata": {},
     "output_type": "execute_result"
    }
   ],
   "source": [
    "nhd_stats"
   ]
  },
  {
   "cell_type": "code",
   "execution_count": 404,
   "id": "abstract-effects",
   "metadata": {},
   "outputs": [
    {
     "ename": "ValueError",
     "evalue": "can only convert an array of size 1 to a Python scalar",
     "output_type": "error",
     "traceback": [
      "\u001b[0;31m---------------------------------------------------------------------------\u001b[0m",
      "\u001b[0;31mValueError\u001b[0m                                Traceback (most recent call last)",
      "\u001b[0;32m<ipython-input-404-306c809dc165>\u001b[0m in \u001b[0;36m<module>\u001b[0;34m\u001b[0m\n\u001b[1;32m      3\u001b[0m \u001b[0;34m\u001b[0m\u001b[0m\n\u001b[1;32m      4\u001b[0m \u001b[0;31m# df_temp[\"fl_areasqkm_sum\"] = df_temp.apply(lambda x: [fl_areasqkm(comid) for comid in x.fl_comid_list], axis=1)\u001b[0m\u001b[0;34m\u001b[0m\u001b[0;34m\u001b[0m\u001b[0;34m\u001b[0m\u001b[0m\n\u001b[0;32m----> 5\u001b[0;31m \u001b[0mdf_temp\u001b[0m\u001b[0;34m[\u001b[0m\u001b[0;34m\"fl_areasqkm_sum\"\u001b[0m\u001b[0;34m]\u001b[0m \u001b[0;34m=\u001b[0m \u001b[0mdf_temp\u001b[0m\u001b[0;34m.\u001b[0m\u001b[0mapply\u001b[0m\u001b[0;34m(\u001b[0m\u001b[0;32mlambda\u001b[0m \u001b[0mx\u001b[0m\u001b[0;34m:\u001b[0m \u001b[0;34m[\u001b[0m\u001b[0mnp\u001b[0m\u001b[0;34m.\u001b[0m\u001b[0marray\u001b[0m\u001b[0;34m(\u001b[0m\u001b[0mfl_areasqkm\u001b[0m\u001b[0;34m(\u001b[0m\u001b[0mcomid\u001b[0m\u001b[0;34m)\u001b[0m\u001b[0;34m)\u001b[0m \u001b[0;32mfor\u001b[0m \u001b[0mcomid\u001b[0m \u001b[0;32min\u001b[0m \u001b[0mx\u001b[0m\u001b[0;34m.\u001b[0m\u001b[0mfl_comid_list\u001b[0m\u001b[0;34m]\u001b[0m\u001b[0;34m,\u001b[0m \u001b[0maxis\u001b[0m\u001b[0;34m=\u001b[0m\u001b[0;36m1\u001b[0m\u001b[0;34m)\u001b[0m\u001b[0;34m\u001b[0m\u001b[0;34m\u001b[0m\u001b[0m\n\u001b[0m\u001b[1;32m      6\u001b[0m \u001b[0mdf_temp\u001b[0m\u001b[0;34m[\u001b[0m\u001b[0;34m\"fl_areasqkm_sum\"\u001b[0m\u001b[0;34m]\u001b[0m\u001b[0;34m\u001b[0m\u001b[0;34m\u001b[0m\u001b[0m\n",
      "\u001b[0;32m~/opt/miniconda3/envs/ee_skmr/lib/python3.9/site-packages/pandas/core/frame.py\u001b[0m in \u001b[0;36mapply\u001b[0;34m(self, func, axis, raw, result_type, args, **kwds)\u001b[0m\n\u001b[1;32m   7766\u001b[0m             \u001b[0mkwds\u001b[0m\u001b[0;34m=\u001b[0m\u001b[0mkwds\u001b[0m\u001b[0;34m,\u001b[0m\u001b[0;34m\u001b[0m\u001b[0;34m\u001b[0m\u001b[0m\n\u001b[1;32m   7767\u001b[0m         )\n\u001b[0;32m-> 7768\u001b[0;31m         \u001b[0;32mreturn\u001b[0m \u001b[0mop\u001b[0m\u001b[0;34m.\u001b[0m\u001b[0mget_result\u001b[0m\u001b[0;34m(\u001b[0m\u001b[0;34m)\u001b[0m\u001b[0;34m\u001b[0m\u001b[0;34m\u001b[0m\u001b[0m\n\u001b[0m\u001b[1;32m   7769\u001b[0m \u001b[0;34m\u001b[0m\u001b[0m\n\u001b[1;32m   7770\u001b[0m     \u001b[0;32mdef\u001b[0m \u001b[0mapplymap\u001b[0m\u001b[0;34m(\u001b[0m\u001b[0mself\u001b[0m\u001b[0;34m,\u001b[0m \u001b[0mfunc\u001b[0m\u001b[0;34m,\u001b[0m \u001b[0mna_action\u001b[0m\u001b[0;34m:\u001b[0m \u001b[0mOptional\u001b[0m\u001b[0;34m[\u001b[0m\u001b[0mstr\u001b[0m\u001b[0;34m]\u001b[0m \u001b[0;34m=\u001b[0m \u001b[0;32mNone\u001b[0m\u001b[0;34m)\u001b[0m \u001b[0;34m->\u001b[0m \u001b[0mDataFrame\u001b[0m\u001b[0;34m:\u001b[0m\u001b[0;34m\u001b[0m\u001b[0;34m\u001b[0m\u001b[0m\n",
      "\u001b[0;32m~/opt/miniconda3/envs/ee_skmr/lib/python3.9/site-packages/pandas/core/apply.py\u001b[0m in \u001b[0;36mget_result\u001b[0;34m(self)\u001b[0m\n\u001b[1;32m    183\u001b[0m             \u001b[0;32mreturn\u001b[0m \u001b[0mself\u001b[0m\u001b[0;34m.\u001b[0m\u001b[0mapply_raw\u001b[0m\u001b[0;34m(\u001b[0m\u001b[0;34m)\u001b[0m\u001b[0;34m\u001b[0m\u001b[0;34m\u001b[0m\u001b[0m\n\u001b[1;32m    184\u001b[0m \u001b[0;34m\u001b[0m\u001b[0m\n\u001b[0;32m--> 185\u001b[0;31m         \u001b[0;32mreturn\u001b[0m \u001b[0mself\u001b[0m\u001b[0;34m.\u001b[0m\u001b[0mapply_standard\u001b[0m\u001b[0;34m(\u001b[0m\u001b[0;34m)\u001b[0m\u001b[0;34m\u001b[0m\u001b[0;34m\u001b[0m\u001b[0m\n\u001b[0m\u001b[1;32m    186\u001b[0m \u001b[0;34m\u001b[0m\u001b[0m\n\u001b[1;32m    187\u001b[0m     \u001b[0;32mdef\u001b[0m \u001b[0mapply_empty_result\u001b[0m\u001b[0;34m(\u001b[0m\u001b[0mself\u001b[0m\u001b[0;34m)\u001b[0m\u001b[0;34m:\u001b[0m\u001b[0;34m\u001b[0m\u001b[0;34m\u001b[0m\u001b[0m\n",
      "\u001b[0;32m~/opt/miniconda3/envs/ee_skmr/lib/python3.9/site-packages/pandas/core/apply.py\u001b[0m in \u001b[0;36mapply_standard\u001b[0;34m(self)\u001b[0m\n\u001b[1;32m    274\u001b[0m \u001b[0;34m\u001b[0m\u001b[0m\n\u001b[1;32m    275\u001b[0m     \u001b[0;32mdef\u001b[0m \u001b[0mapply_standard\u001b[0m\u001b[0;34m(\u001b[0m\u001b[0mself\u001b[0m\u001b[0;34m)\u001b[0m\u001b[0;34m:\u001b[0m\u001b[0;34m\u001b[0m\u001b[0;34m\u001b[0m\u001b[0m\n\u001b[0;32m--> 276\u001b[0;31m         \u001b[0mresults\u001b[0m\u001b[0;34m,\u001b[0m \u001b[0mres_index\u001b[0m \u001b[0;34m=\u001b[0m \u001b[0mself\u001b[0m\u001b[0;34m.\u001b[0m\u001b[0mapply_series_generator\u001b[0m\u001b[0;34m(\u001b[0m\u001b[0;34m)\u001b[0m\u001b[0;34m\u001b[0m\u001b[0;34m\u001b[0m\u001b[0m\n\u001b[0m\u001b[1;32m    277\u001b[0m \u001b[0;34m\u001b[0m\u001b[0m\n\u001b[1;32m    278\u001b[0m         \u001b[0;31m# wrap results\u001b[0m\u001b[0;34m\u001b[0m\u001b[0;34m\u001b[0m\u001b[0;34m\u001b[0m\u001b[0m\n",
      "\u001b[0;32m~/opt/miniconda3/envs/ee_skmr/lib/python3.9/site-packages/pandas/core/apply.py\u001b[0m in \u001b[0;36mapply_series_generator\u001b[0;34m(self)\u001b[0m\n\u001b[1;32m    288\u001b[0m             \u001b[0;32mfor\u001b[0m \u001b[0mi\u001b[0m\u001b[0;34m,\u001b[0m \u001b[0mv\u001b[0m \u001b[0;32min\u001b[0m \u001b[0menumerate\u001b[0m\u001b[0;34m(\u001b[0m\u001b[0mseries_gen\u001b[0m\u001b[0;34m)\u001b[0m\u001b[0;34m:\u001b[0m\u001b[0;34m\u001b[0m\u001b[0;34m\u001b[0m\u001b[0m\n\u001b[1;32m    289\u001b[0m                 \u001b[0;31m# ignore SettingWithCopy here in case the user mutates\u001b[0m\u001b[0;34m\u001b[0m\u001b[0;34m\u001b[0m\u001b[0;34m\u001b[0m\u001b[0m\n\u001b[0;32m--> 290\u001b[0;31m                 \u001b[0mresults\u001b[0m\u001b[0;34m[\u001b[0m\u001b[0mi\u001b[0m\u001b[0;34m]\u001b[0m \u001b[0;34m=\u001b[0m \u001b[0mself\u001b[0m\u001b[0;34m.\u001b[0m\u001b[0mf\u001b[0m\u001b[0;34m(\u001b[0m\u001b[0mv\u001b[0m\u001b[0;34m)\u001b[0m\u001b[0;34m\u001b[0m\u001b[0;34m\u001b[0m\u001b[0m\n\u001b[0m\u001b[1;32m    291\u001b[0m                 \u001b[0;32mif\u001b[0m \u001b[0misinstance\u001b[0m\u001b[0;34m(\u001b[0m\u001b[0mresults\u001b[0m\u001b[0;34m[\u001b[0m\u001b[0mi\u001b[0m\u001b[0;34m]\u001b[0m\u001b[0;34m,\u001b[0m \u001b[0mABCSeries\u001b[0m\u001b[0;34m)\u001b[0m\u001b[0;34m:\u001b[0m\u001b[0;34m\u001b[0m\u001b[0;34m\u001b[0m\u001b[0m\n\u001b[1;32m    292\u001b[0m                     \u001b[0;31m# If we have a view on v, we need to make a copy because\u001b[0m\u001b[0;34m\u001b[0m\u001b[0;34m\u001b[0m\u001b[0;34m\u001b[0m\u001b[0m\n",
      "\u001b[0;32m<ipython-input-404-306c809dc165>\u001b[0m in \u001b[0;36m<lambda>\u001b[0;34m(x)\u001b[0m\n\u001b[1;32m      3\u001b[0m \u001b[0;34m\u001b[0m\u001b[0m\n\u001b[1;32m      4\u001b[0m \u001b[0;31m# df_temp[\"fl_areasqkm_sum\"] = df_temp.apply(lambda x: [fl_areasqkm(comid) for comid in x.fl_comid_list], axis=1)\u001b[0m\u001b[0;34m\u001b[0m\u001b[0;34m\u001b[0m\u001b[0;34m\u001b[0m\u001b[0m\n\u001b[0;32m----> 5\u001b[0;31m \u001b[0mdf_temp\u001b[0m\u001b[0;34m[\u001b[0m\u001b[0;34m\"fl_areasqkm_sum\"\u001b[0m\u001b[0;34m]\u001b[0m \u001b[0;34m=\u001b[0m \u001b[0mdf_temp\u001b[0m\u001b[0;34m.\u001b[0m\u001b[0mapply\u001b[0m\u001b[0;34m(\u001b[0m\u001b[0;32mlambda\u001b[0m \u001b[0mx\u001b[0m\u001b[0;34m:\u001b[0m \u001b[0;34m[\u001b[0m\u001b[0mnp\u001b[0m\u001b[0;34m.\u001b[0m\u001b[0marray\u001b[0m\u001b[0;34m(\u001b[0m\u001b[0mfl_areasqkm\u001b[0m\u001b[0;34m(\u001b[0m\u001b[0mcomid\u001b[0m\u001b[0;34m)\u001b[0m\u001b[0;34m)\u001b[0m \u001b[0;32mfor\u001b[0m \u001b[0mcomid\u001b[0m \u001b[0;32min\u001b[0m \u001b[0mx\u001b[0m\u001b[0;34m.\u001b[0m\u001b[0mfl_comid_list\u001b[0m\u001b[0;34m]\u001b[0m\u001b[0;34m,\u001b[0m \u001b[0maxis\u001b[0m\u001b[0;34m=\u001b[0m\u001b[0;36m1\u001b[0m\u001b[0;34m)\u001b[0m\u001b[0;34m\u001b[0m\u001b[0;34m\u001b[0m\u001b[0m\n\u001b[0m\u001b[1;32m      6\u001b[0m \u001b[0mdf_temp\u001b[0m\u001b[0;34m[\u001b[0m\u001b[0;34m\"fl_areasqkm_sum\"\u001b[0m\u001b[0;34m]\u001b[0m\u001b[0;34m\u001b[0m\u001b[0;34m\u001b[0m\u001b[0m\n",
      "\u001b[0;32m<ipython-input-404-306c809dc165>\u001b[0m in \u001b[0;36m<listcomp>\u001b[0;34m(.0)\u001b[0m\n\u001b[1;32m      3\u001b[0m \u001b[0;34m\u001b[0m\u001b[0m\n\u001b[1;32m      4\u001b[0m \u001b[0;31m# df_temp[\"fl_areasqkm_sum\"] = df_temp.apply(lambda x: [fl_areasqkm(comid) for comid in x.fl_comid_list], axis=1)\u001b[0m\u001b[0;34m\u001b[0m\u001b[0;34m\u001b[0m\u001b[0;34m\u001b[0m\u001b[0m\n\u001b[0;32m----> 5\u001b[0;31m \u001b[0mdf_temp\u001b[0m\u001b[0;34m[\u001b[0m\u001b[0;34m\"fl_areasqkm_sum\"\u001b[0m\u001b[0;34m]\u001b[0m \u001b[0;34m=\u001b[0m \u001b[0mdf_temp\u001b[0m\u001b[0;34m.\u001b[0m\u001b[0mapply\u001b[0m\u001b[0;34m(\u001b[0m\u001b[0;32mlambda\u001b[0m \u001b[0mx\u001b[0m\u001b[0;34m:\u001b[0m \u001b[0;34m[\u001b[0m\u001b[0mnp\u001b[0m\u001b[0;34m.\u001b[0m\u001b[0marray\u001b[0m\u001b[0;34m(\u001b[0m\u001b[0mfl_areasqkm\u001b[0m\u001b[0;34m(\u001b[0m\u001b[0mcomid\u001b[0m\u001b[0;34m)\u001b[0m\u001b[0;34m)\u001b[0m \u001b[0;32mfor\u001b[0m \u001b[0mcomid\u001b[0m \u001b[0;32min\u001b[0m \u001b[0mx\u001b[0m\u001b[0;34m.\u001b[0m\u001b[0mfl_comid_list\u001b[0m\u001b[0;34m]\u001b[0m\u001b[0;34m,\u001b[0m \u001b[0maxis\u001b[0m\u001b[0;34m=\u001b[0m\u001b[0;36m1\u001b[0m\u001b[0;34m)\u001b[0m\u001b[0;34m\u001b[0m\u001b[0;34m\u001b[0m\u001b[0m\n\u001b[0m\u001b[1;32m      6\u001b[0m \u001b[0mdf_temp\u001b[0m\u001b[0;34m[\u001b[0m\u001b[0;34m\"fl_areasqkm_sum\"\u001b[0m\u001b[0;34m]\u001b[0m\u001b[0;34m\u001b[0m\u001b[0;34m\u001b[0m\u001b[0m\n",
      "\u001b[0;32m<ipython-input-402-eedad070fba5>\u001b[0m in \u001b[0;36mfl_areasqkm\u001b[0;34m(comid)\u001b[0m\n\u001b[1;32m      1\u001b[0m \u001b[0;32mdef\u001b[0m \u001b[0mfl_areasqkm\u001b[0m\u001b[0;34m(\u001b[0m\u001b[0mcomid\u001b[0m\u001b[0;34m)\u001b[0m\u001b[0;34m:\u001b[0m\u001b[0;34m\u001b[0m\u001b[0;34m\u001b[0m\u001b[0m\n\u001b[1;32m      2\u001b[0m     \u001b[0marea\u001b[0m \u001b[0;34m=\u001b[0m \u001b[0mnhd_stats\u001b[0m\u001b[0;34m[\u001b[0m\u001b[0mnhd_stats\u001b[0m\u001b[0;34m[\u001b[0m\u001b[0;34m\"comid\"\u001b[0m\u001b[0;34m]\u001b[0m \u001b[0;34m==\u001b[0m \u001b[0mcomid\u001b[0m\u001b[0;34m]\u001b[0m\u001b[0;34m[\u001b[0m\u001b[0;34m\"areasqkm\"\u001b[0m\u001b[0;34m]\u001b[0m\u001b[0;34m\u001b[0m\u001b[0;34m\u001b[0m\u001b[0m\n\u001b[0;32m----> 3\u001b[0;31m     \u001b[0mprint\u001b[0m\u001b[0;34m(\u001b[0m\u001b[0mnp\u001b[0m\u001b[0;34m.\u001b[0m\u001b[0marray\u001b[0m\u001b[0;34m(\u001b[0m\u001b[0marea\u001b[0m\u001b[0;34m)\u001b[0m\u001b[0;34m.\u001b[0m\u001b[0mitem\u001b[0m\u001b[0;34m(\u001b[0m\u001b[0;34m)\u001b[0m\u001b[0;34m)\u001b[0m\u001b[0;34m\u001b[0m\u001b[0;34m\u001b[0m\u001b[0m\n\u001b[0m\u001b[1;32m      4\u001b[0m     \u001b[0;32mif\u001b[0m \u001b[0marea\u001b[0m \u001b[0;34m>\u001b[0m \u001b[0;36m0\u001b[0m\u001b[0;34m:\u001b[0m\u001b[0;34m\u001b[0m\u001b[0;34m\u001b[0m\u001b[0m\n\u001b[1;32m      5\u001b[0m         \u001b[0;32mreturn\u001b[0m \u001b[0marea\u001b[0m\u001b[0;34m\u001b[0m\u001b[0;34m\u001b[0m\u001b[0m\n",
      "\u001b[0;31mValueError\u001b[0m: can only convert an array of size 1 to a Python scalar"
     ]
    }
   ],
   "source": [
    "df_temp = df_merged.iloc[10:15].copy()\n",
    "# df_temp\n",
    "\n",
    "# df_temp[\"fl_areasqkm_sum\"] = df_temp.apply(lambda x: [fl_areasqkm(comid) for comid in x.fl_comid_list], axis=1)\n",
    "df_temp[\"fl_areasqkm_sum\"] = df_temp.apply(lambda x: [np.array(fl_areasqkm(comid)) for comid in x.fl_comid_list], axis=1)\n",
    "df_temp[\"fl_areasqkm_sum\"]"
   ]
  },
  {
   "cell_type": "code",
   "execution_count": 405,
   "id": "quantitative-retro",
   "metadata": {},
   "outputs": [
    {
     "data": {
      "text/plain": [
       "8.5815"
      ]
     },
     "execution_count": 405,
     "metadata": {},
     "output_type": "execute_result"
    }
   ],
   "source": [
    "nhd_stats[nhd_stats[\"comid\"] == 21635913][\"areasqkm\"].item()\n",
    "# nhd_stats[nhd_stats[\"comid\"] == 21632389][\"areasqkm\"].item()\n"
   ]
  },
  {
   "cell_type": "code",
   "execution_count": 406,
   "id": "configured-cutting",
   "metadata": {},
   "outputs": [
    {
     "data": {
      "text/html": [
       "<div>\n",
       "<style scoped>\n",
       "    .dataframe tbody tr th:only-of-type {\n",
       "        vertical-align: middle;\n",
       "    }\n",
       "\n",
       "    .dataframe tbody tr th {\n",
       "        vertical-align: top;\n",
       "    }\n",
       "\n",
       "    .dataframe thead th {\n",
       "        text-align: right;\n",
       "    }\n",
       "</style>\n",
       "<table border=\"1\" class=\"dataframe\">\n",
       "  <thead>\n",
       "    <tr style=\"text-align: right;\">\n",
       "      <th></th>\n",
       "      <th>comid</th>\n",
       "      <th>long_comid</th>\n",
       "      <th>lat_comid</th>\n",
       "      <th>startflag</th>\n",
       "      <th>intephem</th>\n",
       "      <th>divergence</th>\n",
       "      <th>streamorde</th>\n",
       "      <th>lengthkm</th>\n",
       "      <th>gnis_name_ind</th>\n",
       "      <th>areasqkm</th>\n",
       "      <th>totdasqkm</th>\n",
       "      <th>flow_type</th>\n",
       "      <th>distup_max</th>\n",
       "      <th>distdown_max</th>\n",
       "    </tr>\n",
       "  </thead>\n",
       "  <tbody>\n",
       "    <tr>\n",
       "      <th>0</th>\n",
       "      <td>179</td>\n",
       "      <td>-67.986409</td>\n",
       "      <td>46.022164</td>\n",
       "      <td>1.0</td>\n",
       "      <td>0</td>\n",
       "      <td>0.0</td>\n",
       "      <td>1.0</td>\n",
       "      <td>2.412</td>\n",
       "      <td>0</td>\n",
       "      <td>3.5550</td>\n",
       "      <td>3.5550</td>\n",
       "      <td>1</td>\n",
       "      <td>NaN</td>\n",
       "      <td>243.972000</td>\n",
       "    </tr>\n",
       "    <tr>\n",
       "      <th>1</th>\n",
       "      <td>181</td>\n",
       "      <td>-67.998723</td>\n",
       "      <td>46.016490</td>\n",
       "      <td>0.0</td>\n",
       "      <td>0</td>\n",
       "      <td>0.0</td>\n",
       "      <td>1.0</td>\n",
       "      <td>0.442</td>\n",
       "      <td>0</td>\n",
       "      <td>0.2898</td>\n",
       "      <td>3.8448</td>\n",
       "      <td>1</td>\n",
       "      <td>1.364</td>\n",
       "      <td>242.608000</td>\n",
       "    </tr>\n",
       "    <tr>\n",
       "      <th>2</th>\n",
       "      <td>183</td>\n",
       "      <td>-67.998835</td>\n",
       "      <td>46.020847</td>\n",
       "      <td>0.0</td>\n",
       "      <td>0</td>\n",
       "      <td>0.0</td>\n",
       "      <td>2.0</td>\n",
       "      <td>0.112</td>\n",
       "      <td>1</td>\n",
       "      <td>0.2043</td>\n",
       "      <td>8.1954</td>\n",
       "      <td>1</td>\n",
       "      <td>3.278</td>\n",
       "      <td>243.296010</td>\n",
       "    </tr>\n",
       "    <tr>\n",
       "      <th>3</th>\n",
       "      <td>185</td>\n",
       "      <td>-67.998621</td>\n",
       "      <td>46.019712</td>\n",
       "      <td>0.0</td>\n",
       "      <td>0</td>\n",
       "      <td>0.0</td>\n",
       "      <td>2.0</td>\n",
       "      <td>0.170</td>\n",
       "      <td>1</td>\n",
       "      <td>0.0369</td>\n",
       "      <td>8.2323</td>\n",
       "      <td>1</td>\n",
       "      <td>3.438</td>\n",
       "      <td>243.136000</td>\n",
       "    </tr>\n",
       "    <tr>\n",
       "      <th>4</th>\n",
       "      <td>843</td>\n",
       "      <td>-68.378758</td>\n",
       "      <td>46.246067</td>\n",
       "      <td>1.0</td>\n",
       "      <td>0</td>\n",
       "      <td>0.0</td>\n",
       "      <td>1.0</td>\n",
       "      <td>1.889</td>\n",
       "      <td>0</td>\n",
       "      <td>2.7486</td>\n",
       "      <td>2.7486</td>\n",
       "      <td>1</td>\n",
       "      <td>NaN</td>\n",
       "      <td>285.859010</td>\n",
       "    </tr>\n",
       "    <tr>\n",
       "      <th>...</th>\n",
       "      <td>...</td>\n",
       "      <td>...</td>\n",
       "      <td>...</td>\n",
       "      <td>...</td>\n",
       "      <td>...</td>\n",
       "      <td>...</td>\n",
       "      <td>...</td>\n",
       "      <td>...</td>\n",
       "      <td>...</td>\n",
       "      <td>...</td>\n",
       "      <td>...</td>\n",
       "      <td>...</td>\n",
       "      <td>...</td>\n",
       "      <td>...</td>\n",
       "    </tr>\n",
       "    <tr>\n",
       "      <th>2989308</th>\n",
       "      <td>948100736</td>\n",
       "      <td>-114.836484</td>\n",
       "      <td>32.899003</td>\n",
       "      <td>1.0</td>\n",
       "      <td>1</td>\n",
       "      <td>0.0</td>\n",
       "      <td>1.0</td>\n",
       "      <td>8.559</td>\n",
       "      <td>0</td>\n",
       "      <td>9.3933</td>\n",
       "      <td>9.3933</td>\n",
       "      <td>1</td>\n",
       "      <td>NaN</td>\n",
       "      <td>10.409000</td>\n",
       "    </tr>\n",
       "    <tr>\n",
       "      <th>2989309</th>\n",
       "      <td>948100737</td>\n",
       "      <td>-116.804081</td>\n",
       "      <td>34.543096</td>\n",
       "      <td>0.0</td>\n",
       "      <td>1</td>\n",
       "      <td>0.0</td>\n",
       "      <td>4.0</td>\n",
       "      <td>6.019</td>\n",
       "      <td>0</td>\n",
       "      <td>23.6052</td>\n",
       "      <td>201.5145</td>\n",
       "      <td>1</td>\n",
       "      <td>13.660</td>\n",
       "      <td>5.613000</td>\n",
       "    </tr>\n",
       "    <tr>\n",
       "      <th>2989310</th>\n",
       "      <td>948100738</td>\n",
       "      <td>-116.779838</td>\n",
       "      <td>34.570815</td>\n",
       "      <td>0.0</td>\n",
       "      <td>1</td>\n",
       "      <td>0.0</td>\n",
       "      <td>2.0</td>\n",
       "      <td>2.449</td>\n",
       "      <td>0</td>\n",
       "      <td>7.3683</td>\n",
       "      <td>121.1004</td>\n",
       "      <td>1</td>\n",
       "      <td>9.481</td>\n",
       "      <td>9.794000</td>\n",
       "    </tr>\n",
       "    <tr>\n",
       "      <th>2989311</th>\n",
       "      <td>948100739</td>\n",
       "      <td>-114.956633</td>\n",
       "      <td>34.624972</td>\n",
       "      <td>0.0</td>\n",
       "      <td>1</td>\n",
       "      <td>0.0</td>\n",
       "      <td>3.0</td>\n",
       "      <td>0.282</td>\n",
       "      <td>1</td>\n",
       "      <td>4.6683</td>\n",
       "      <td>618.0561</td>\n",
       "      <td>1</td>\n",
       "      <td>28.018</td>\n",
       "      <td>40.571999</td>\n",
       "    </tr>\n",
       "    <tr>\n",
       "      <th>2989312</th>\n",
       "      <td>948100740</td>\n",
       "      <td>-114.955789</td>\n",
       "      <td>34.626921</td>\n",
       "      <td>0.0</td>\n",
       "      <td>1</td>\n",
       "      <td>0.0</td>\n",
       "      <td>3.0</td>\n",
       "      <td>0.180</td>\n",
       "      <td>1</td>\n",
       "      <td>3.0123</td>\n",
       "      <td>594.5931</td>\n",
       "      <td>1</td>\n",
       "      <td>27.837</td>\n",
       "      <td>40.752998</td>\n",
       "    </tr>\n",
       "  </tbody>\n",
       "</table>\n",
       "<p>2989313 rows × 14 columns</p>\n",
       "</div>"
      ],
      "text/plain": [
       "             comid  long_comid  lat_comid  startflag  intephem  divergence  \\\n",
       "0              179  -67.986409  46.022164        1.0         0         0.0   \n",
       "1              181  -67.998723  46.016490        0.0         0         0.0   \n",
       "2              183  -67.998835  46.020847        0.0         0         0.0   \n",
       "3              185  -67.998621  46.019712        0.0         0         0.0   \n",
       "4              843  -68.378758  46.246067        1.0         0         0.0   \n",
       "...            ...         ...        ...        ...       ...         ...   \n",
       "2989308  948100736 -114.836484  32.899003        1.0         1         0.0   \n",
       "2989309  948100737 -116.804081  34.543096        0.0         1         0.0   \n",
       "2989310  948100738 -116.779838  34.570815        0.0         1         0.0   \n",
       "2989311  948100739 -114.956633  34.624972        0.0         1         0.0   \n",
       "2989312  948100740 -114.955789  34.626921        0.0         1         0.0   \n",
       "\n",
       "         streamorde  lengthkm  gnis_name_ind  areasqkm  totdasqkm  flow_type  \\\n",
       "0               1.0     2.412              0    3.5550     3.5550          1   \n",
       "1               1.0     0.442              0    0.2898     3.8448          1   \n",
       "2               2.0     0.112              1    0.2043     8.1954          1   \n",
       "3               2.0     0.170              1    0.0369     8.2323          1   \n",
       "4               1.0     1.889              0    2.7486     2.7486          1   \n",
       "...             ...       ...            ...       ...        ...        ...   \n",
       "2989308         1.0     8.559              0    9.3933     9.3933          1   \n",
       "2989309         4.0     6.019              0   23.6052   201.5145          1   \n",
       "2989310         2.0     2.449              0    7.3683   121.1004          1   \n",
       "2989311         3.0     0.282              1    4.6683   618.0561          1   \n",
       "2989312         3.0     0.180              1    3.0123   594.5931          1   \n",
       "\n",
       "         distup_max  distdown_max  \n",
       "0               NaN    243.972000  \n",
       "1             1.364    242.608000  \n",
       "2             3.278    243.296010  \n",
       "3             3.438    243.136000  \n",
       "4               NaN    285.859010  \n",
       "...             ...           ...  \n",
       "2989308         NaN     10.409000  \n",
       "2989309      13.660      5.613000  \n",
       "2989310       9.481      9.794000  \n",
       "2989311      28.018     40.571999  \n",
       "2989312      27.837     40.752998  \n",
       "\n",
       "[2989313 rows x 14 columns]"
      ]
     },
     "execution_count": 406,
     "metadata": {},
     "output_type": "execute_result"
    }
   ],
   "source": [
    "nhd_stats"
   ]
  },
  {
   "cell_type": "code",
   "execution_count": 407,
   "id": "federal-parallel",
   "metadata": {},
   "outputs": [
    {
     "name": "stdout",
     "output_type": "stream",
     "text": [
      "9.3933\n"
     ]
    },
    {
     "ename": "ValueError",
     "evalue": "The truth value of a Series is ambiguous. Use a.empty, a.bool(), a.item(), a.any() or a.all().",
     "output_type": "error",
     "traceback": [
      "\u001b[0;31m---------------------------------------------------------------------------\u001b[0m",
      "\u001b[0;31mValueError\u001b[0m                                Traceback (most recent call last)",
      "\u001b[0;32m<ipython-input-407-a4b57f362c2e>\u001b[0m in \u001b[0;36m<module>\u001b[0;34m\u001b[0m\n\u001b[0;32m----> 1\u001b[0;31m \u001b[0mfl_areasqkm\u001b[0m\u001b[0;34m(\u001b[0m\u001b[0;36m948100736\u001b[0m\u001b[0;34m)\u001b[0m\u001b[0;34m\u001b[0m\u001b[0;34m\u001b[0m\u001b[0m\n\u001b[0m",
      "\u001b[0;32m<ipython-input-402-eedad070fba5>\u001b[0m in \u001b[0;36mfl_areasqkm\u001b[0;34m(comid)\u001b[0m\n\u001b[1;32m      2\u001b[0m     \u001b[0marea\u001b[0m \u001b[0;34m=\u001b[0m \u001b[0mnhd_stats\u001b[0m\u001b[0;34m[\u001b[0m\u001b[0mnhd_stats\u001b[0m\u001b[0;34m[\u001b[0m\u001b[0;34m\"comid\"\u001b[0m\u001b[0;34m]\u001b[0m \u001b[0;34m==\u001b[0m \u001b[0mcomid\u001b[0m\u001b[0;34m]\u001b[0m\u001b[0;34m[\u001b[0m\u001b[0;34m\"areasqkm\"\u001b[0m\u001b[0;34m]\u001b[0m\u001b[0;34m\u001b[0m\u001b[0;34m\u001b[0m\u001b[0m\n\u001b[1;32m      3\u001b[0m     \u001b[0mprint\u001b[0m\u001b[0;34m(\u001b[0m\u001b[0mnp\u001b[0m\u001b[0;34m.\u001b[0m\u001b[0marray\u001b[0m\u001b[0;34m(\u001b[0m\u001b[0marea\u001b[0m\u001b[0;34m)\u001b[0m\u001b[0;34m.\u001b[0m\u001b[0mitem\u001b[0m\u001b[0;34m(\u001b[0m\u001b[0;34m)\u001b[0m\u001b[0;34m)\u001b[0m\u001b[0;34m\u001b[0m\u001b[0;34m\u001b[0m\u001b[0m\n\u001b[0;32m----> 4\u001b[0;31m     \u001b[0;32mif\u001b[0m \u001b[0marea\u001b[0m \u001b[0;34m>\u001b[0m \u001b[0;36m0\u001b[0m\u001b[0;34m:\u001b[0m\u001b[0;34m\u001b[0m\u001b[0;34m\u001b[0m\u001b[0m\n\u001b[0m\u001b[1;32m      5\u001b[0m         \u001b[0;32mreturn\u001b[0m \u001b[0marea\u001b[0m\u001b[0;34m\u001b[0m\u001b[0;34m\u001b[0m\u001b[0m\n\u001b[1;32m      6\u001b[0m     \u001b[0;32melse\u001b[0m\u001b[0;34m:\u001b[0m\u001b[0;34m\u001b[0m\u001b[0;34m\u001b[0m\u001b[0m\n",
      "\u001b[0;32m~/opt/miniconda3/envs/ee_skmr/lib/python3.9/site-packages/pandas/core/generic.py\u001b[0m in \u001b[0;36m__nonzero__\u001b[0;34m(self)\u001b[0m\n\u001b[1;32m   1440\u001b[0m     \u001b[0;34m@\u001b[0m\u001b[0mfinal\u001b[0m\u001b[0;34m\u001b[0m\u001b[0;34m\u001b[0m\u001b[0m\n\u001b[1;32m   1441\u001b[0m     \u001b[0;32mdef\u001b[0m \u001b[0m__nonzero__\u001b[0m\u001b[0;34m(\u001b[0m\u001b[0mself\u001b[0m\u001b[0;34m)\u001b[0m\u001b[0;34m:\u001b[0m\u001b[0;34m\u001b[0m\u001b[0;34m\u001b[0m\u001b[0m\n\u001b[0;32m-> 1442\u001b[0;31m         raise ValueError(\n\u001b[0m\u001b[1;32m   1443\u001b[0m             \u001b[0;34mf\"The truth value of a {type(self).__name__} is ambiguous. \"\u001b[0m\u001b[0;34m\u001b[0m\u001b[0;34m\u001b[0m\u001b[0m\n\u001b[1;32m   1444\u001b[0m             \u001b[0;34m\"Use a.empty, a.bool(), a.item(), a.any() or a.all().\"\u001b[0m\u001b[0;34m\u001b[0m\u001b[0;34m\u001b[0m\u001b[0m\n",
      "\u001b[0;31mValueError\u001b[0m: The truth value of a Series is ambiguous. Use a.empty, a.bool(), a.item(), a.any() or a.all()."
     ]
    }
   ],
   "source": [
    "fl_areasqkm(948100736)"
   ]
  },
  {
   "cell_type": "code",
   "execution_count": 344,
   "id": "prescribed-lighter",
   "metadata": {},
   "outputs": [
    {
     "data": {
      "text/html": [
       "<div>\n",
       "<style scoped>\n",
       "    .dataframe tbody tr th:only-of-type {\n",
       "        vertical-align: middle;\n",
       "    }\n",
       "\n",
       "    .dataframe tbody tr th {\n",
       "        vertical-align: top;\n",
       "    }\n",
       "\n",
       "    .dataframe thead th {\n",
       "        text-align: right;\n",
       "    }\n",
       "</style>\n",
       "<table border=\"1\" class=\"dataframe\">\n",
       "  <thead>\n",
       "    <tr style=\"text-align: right;\">\n",
       "      <th></th>\n",
       "      <th>Unnamed: 0</th>\n",
       "      <th>Unnamed: 0.1</th>\n",
       "      <th>jurisdiction_type</th>\n",
       "      <th>da_number</th>\n",
       "      <th>district</th>\n",
       "      <th>project_name</th>\n",
       "      <th>longitude</th>\n",
       "      <th>latitude</th>\n",
       "      <th>date_issued_or_denied</th>\n",
       "      <th>rha_determination</th>\n",
       "      <th>...</th>\n",
       "      <th>fl_length_sum</th>\n",
       "      <th>fl_length_sum_</th>\n",
       "      <th>fl_areasqkm_sum</th>\n",
       "      <th>fl_totdasqkm_sum</th>\n",
       "      <th>fl_ftype_str</th>\n",
       "      <th>fl_gnis_name_ind_count</th>\n",
       "      <th>wb_gnis_name_ind_count</th>\n",
       "      <th>fl_comid_list_len</th>\n",
       "      <th>fl_areasqkm</th>\n",
       "      <th>fl_areasqkm_mean</th>\n",
       "    </tr>\n",
       "  </thead>\n",
       "  <tbody>\n",
       "    <tr>\n",
       "      <th>10</th>\n",
       "      <td>10</td>\n",
       "      <td>10</td>\n",
       "      <td>RAPANOS</td>\n",
       "      <td>LRB-1999-01857</td>\n",
       "      <td>Buffalo</td>\n",
       "      <td>LAKEWOOD, CITY OF</td>\n",
       "      <td>-81.82489</td>\n",
       "      <td>41.47921</td>\n",
       "      <td>04/19/2016</td>\n",
       "      <td>0</td>\n",
       "      <td>...</td>\n",
       "      <td>0.000</td>\n",
       "      <td>0.0</td>\n",
       "      <td>0.0</td>\n",
       "      <td>0.0</td>\n",
       "      <td>0.0</td>\n",
       "      <td>0.0</td>\n",
       "      <td>0.0</td>\n",
       "      <td>0</td>\n",
       "      <td>0.0</td>\n",
       "      <td>NaN</td>\n",
       "    </tr>\n",
       "    <tr>\n",
       "      <th>11</th>\n",
       "      <td>11</td>\n",
       "      <td>11</td>\n",
       "      <td>RAPANOS</td>\n",
       "      <td>LRB-1999-02061</td>\n",
       "      <td>Buffalo</td>\n",
       "      <td>Fair Point Marina, (Snowden Properties LLC) fo...</td>\n",
       "      <td>-76.71328</td>\n",
       "      <td>43.34411</td>\n",
       "      <td>01/28/2020</td>\n",
       "      <td>0</td>\n",
       "      <td>...</td>\n",
       "      <td>12.004</td>\n",
       "      <td>0.0</td>\n",
       "      <td>727546   NaN\n",
       "Name: areasqkm, dtype: float64</td>\n",
       "      <td>0.0</td>\n",
       "      <td>0.0</td>\n",
       "      <td>0.0</td>\n",
       "      <td>0.0</td>\n",
       "      <td>2</td>\n",
       "      <td>727546   NaN\n",
       "Name: areasqkm, dtype: float64</td>\n",
       "      <td>NaN</td>\n",
       "    </tr>\n",
       "    <tr>\n",
       "      <th>12</th>\n",
       "      <td>12</td>\n",
       "      <td>12</td>\n",
       "      <td>RAPANOS</td>\n",
       "      <td>LRB-2000-00809</td>\n",
       "      <td>Buffalo</td>\n",
       "      <td>Omni Property Companies - Hudson  (Formerly: O...</td>\n",
       "      <td>-81.47880</td>\n",
       "      <td>41.25130</td>\n",
       "      <td>01/12/2016</td>\n",
       "      <td>0</td>\n",
       "      <td>...</td>\n",
       "      <td>0.000</td>\n",
       "      <td>0.0</td>\n",
       "      <td>0.0</td>\n",
       "      <td>0.0</td>\n",
       "      <td>0.0</td>\n",
       "      <td>0.0</td>\n",
       "      <td>0.0</td>\n",
       "      <td>0</td>\n",
       "      <td>0.0</td>\n",
       "      <td>NaN</td>\n",
       "    </tr>\n",
       "  </tbody>\n",
       "</table>\n",
       "<p>3 rows × 49 columns</p>\n",
       "</div>"
      ],
      "text/plain": [
       "    Unnamed: 0  Unnamed: 0.1 jurisdiction_type       da_number district  \\\n",
       "10          10            10           RAPANOS  LRB-1999-01857  Buffalo   \n",
       "11          11            11           RAPANOS  LRB-1999-02061  Buffalo   \n",
       "12          12            12           RAPANOS  LRB-2000-00809  Buffalo   \n",
       "\n",
       "                                         project_name  longitude  latitude  \\\n",
       "10                                  LAKEWOOD, CITY OF  -81.82489  41.47921   \n",
       "11  Fair Point Marina, (Snowden Properties LLC) fo...  -76.71328  43.34411   \n",
       "12  Omni Property Companies - Hudson  (Formerly: O...  -81.47880  41.25130   \n",
       "\n",
       "   date_issued_or_denied  rha_determination  ...  fl_length_sum  \\\n",
       "10            04/19/2016                  0  ...          0.000   \n",
       "11            01/28/2020                  0  ...         12.004   \n",
       "12            01/12/2016                  0  ...          0.000   \n",
       "\n",
       "    fl_length_sum_                              fl_areasqkm_sum  \\\n",
       "10             0.0                                          0.0   \n",
       "11             0.0  727546   NaN\n",
       "Name: areasqkm, dtype: float64   \n",
       "12             0.0                                          0.0   \n",
       "\n",
       "    fl_totdasqkm_sum  fl_ftype_str  fl_gnis_name_ind_count  \\\n",
       "10               0.0           0.0                     0.0   \n",
       "11               0.0           0.0                     0.0   \n",
       "12               0.0           0.0                     0.0   \n",
       "\n",
       "    wb_gnis_name_ind_count  fl_comid_list_len  \\\n",
       "10                     0.0                  0   \n",
       "11                     0.0                  2   \n",
       "12                     0.0                  0   \n",
       "\n",
       "                                    fl_areasqkm  fl_areasqkm_mean  \n",
       "10                                          0.0               NaN  \n",
       "11  727546   NaN\n",
       "Name: areasqkm, dtype: float64               NaN  \n",
       "12                                          0.0               NaN  \n",
       "\n",
       "[3 rows x 49 columns]"
      ]
     },
     "execution_count": 344,
     "metadata": {},
     "output_type": "execute_result"
    }
   ],
   "source": [
    "df_temp"
   ]
  },
  {
   "cell_type": "code",
   "execution_count": null,
   "id": "answering-malawi",
   "metadata": {},
   "outputs": [],
   "source": [
    "np.mean()"
   ]
  },
  {
   "cell_type": "code",
   "execution_count": 294,
   "id": "recognized-frederick",
   "metadata": {},
   "outputs": [
    {
     "data": {
      "text/plain": [
       "[21980217, 21978365]"
      ]
     },
     "execution_count": 294,
     "metadata": {},
     "output_type": "execute_result"
    }
   ],
   "source": [
    "df_merged.fl_comid_list[9]"
   ]
  },
  {
   "cell_type": "code",
   "execution_count": 203,
   "id": "electoral-daughter",
   "metadata": {},
   "outputs": [
    {
     "name": "stderr",
     "output_type": "stream",
     "text": [
      "<ipython-input-203-162854a0368b>:1: DeprecationWarning: Calling np.sum(generator) is deprecated, and in the future will give a different result. Use np.sum(np.fromiter(generator)) or the python sum builtin instead.\n",
      "  np.sum(num for num in df_merged.fl_length_list[9])\n"
     ]
    },
    {
     "data": {
      "text/plain": [
       "6.692"
      ]
     },
     "execution_count": 203,
     "metadata": {},
     "output_type": "execute_result"
    }
   ],
   "source": [
    "np.sum(num for num in df_merged.fl_length_list[9])"
   ]
  },
  {
   "cell_type": "code",
   "execution_count": 157,
   "id": "functioning-flight",
   "metadata": {},
   "outputs": [
    {
     "data": {
      "text/plain": [
       "count    5000.0\n",
       "mean        0.0\n",
       "std         0.0\n",
       "min         0.0\n",
       "25%         0.0\n",
       "50%         0.0\n",
       "75%         0.0\n",
       "max         0.0\n",
       "Name: fl_length_sum_, dtype: float64"
      ]
     },
     "execution_count": 157,
     "metadata": {},
     "output_type": "execute_result"
    }
   ],
   "source": [
    "df_merged.fl_length_sum_.describe()"
   ]
  },
  {
   "cell_type": "code",
   "execution_count": 102,
   "id": "adopted-banana",
   "metadata": {},
   "outputs": [
    {
     "ename": "SyntaxError",
     "evalue": "invalid syntax (<ipython-input-102-2f9c250d1a9d>, line 1)",
     "output_type": "error",
     "traceback": [
      "\u001b[0;36m  File \u001b[0;32m\"<ipython-input-102-2f9c250d1a9d>\"\u001b[0;36m, line \u001b[0;32m1\u001b[0m\n\u001b[0;31m    np.(1)\u001b[0m\n\u001b[0m       ^\u001b[0m\n\u001b[0;31mSyntaxError\u001b[0m\u001b[0;31m:\u001b[0m invalid syntax\n"
     ]
    }
   ],
   "source": []
  }
 ],
 "metadata": {
  "kernelspec": {
   "display_name": "Python 3",
   "language": "python",
   "name": "python3"
  },
  "language_info": {
   "codemirror_mode": {
    "name": "ipython",
    "version": 3
   },
   "file_extension": ".py",
   "mimetype": "text/x-python",
   "name": "python",
   "nbconvert_exporter": "python",
   "pygments_lexer": "ipython3",
   "version": "3.9.2"
  }
 },
 "nbformat": 4,
 "nbformat_minor": 5
}
