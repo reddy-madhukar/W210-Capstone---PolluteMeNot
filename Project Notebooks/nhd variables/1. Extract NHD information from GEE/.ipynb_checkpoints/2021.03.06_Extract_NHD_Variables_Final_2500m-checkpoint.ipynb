{
 "cells": [
  {
   "cell_type": "markdown",
   "metadata": {
    "id": "4c9iIwPU-2eG"
   },
   "source": [
    "# Notebook to extract variables out of NHD database\n"
   ]
  },
  {
   "cell_type": "code",
   "execution_count": 19,
   "metadata": {},
   "outputs": [],
   "source": [
    "#ee\n",
    "PATCH_SIZE = 1250"
   ]
  },
  {
   "cell_type": "markdown",
   "metadata": {
    "id": "moOhZ19C_Alv"
   },
   "source": [
    "Originally 2021.02.23_ExportImagestoGCS_MR1_Copy.ipynb"
   ]
  },
  {
   "cell_type": "markdown",
   "metadata": {
    "id": "6f36_nSgAAOP"
   },
   "source": [
    "# Authentications"
   ]
  },
  {
   "cell_type": "code",
   "execution_count": 20,
   "metadata": {
    "id": "SOhZOzOln96G"
   },
   "outputs": [],
   "source": [
    "import pandas as pd\n",
    "import numpy as np\n",
    "import time\n",
    "import ee\n",
    "import pickle\n",
    "ee.Initialize()"
   ]
  },
  {
   "cell_type": "markdown",
   "metadata": {
    "id": "ggwS5nwCFiHw"
   },
   "source": [
    "# Set up bounding box"
   ]
  },
  {
   "cell_type": "code",
   "execution_count": 21,
   "metadata": {
    "id": "JSFWBtG4Fv9X"
   },
   "outputs": [],
   "source": [
    "def square(lat, lon, size):\n",
    "  crs_proj = \"EPSG:4326\"  \n",
    "  return ee.Geometry.Point([lon, lat], proj=crs_proj).buffer(size).bounds()"
   ]
  },
  {
   "cell_type": "markdown",
   "metadata": {
    "id": "j-TjA3PuBurs"
   },
   "source": [
    "# NHDPlus"
   ]
  },
  {
   "cell_type": "code",
   "execution_count": 22,
   "metadata": {
    "id": "D5HrUlzVe5wR"
   },
   "outputs": [],
   "source": [
    "def fc(nhd_folder_num, feature): # fc for feature collection\n",
    "  \"\"\"\n",
    "\n",
    "  Function calls the individual GEE asset correspondiing to shapefiles in \n",
    "  subfolder of NHDPlus V2 dataset\n",
    "\n",
    "  nhd_num: number indicating which subfolder in the NHDPlus dataset\n",
    "  \"\"\"\n",
    "\n",
    "  # start with empty feature collection\n",
    "  merged = ee.FeatureCollection([None])\n",
    "\n",
    "  # convert '1' into '01' etc\n",
    "  if nhd_folder_num < 10:\n",
    "    num = \"0\" + str(nhd_folder_num)\n",
    "  else:\n",
    "    num = str(nhd_folder_num)\n",
    "\n",
    "  # add suffix corresponding to how the subfolders were named\n",
    "  if nhd_folder_num == 3:\n",
    "    for direction in ['N', 'S', 'W']:\n",
    "      merged = merged.merge((ee.FeatureCollection(\"users/madhukarreddy/NHDPlus\" \n",
    "                                                  + num + direction \n",
    "                                                  + \"_\" + feature)))\n",
    "  elif nhd_folder_num == 10:\n",
    "    for direction in ['L', 'U']:\n",
    "      merged = merged.merge((ee.FeatureCollection(\"users/madhukarreddy/NHDPlus\" \n",
    "                                                  + num + direction \n",
    "                                                  + \"_\" + feature)))\n",
    "  else:\n",
    "    merged = merged.merge((ee.FeatureCollection(\"users/madhukarreddy/NHDPlus\" \n",
    "                                                + num + \"_\" \n",
    "                                                + feature)))\n",
    "  return merged"
   ]
  },
  {
   "cell_type": "code",
   "execution_count": 23,
   "metadata": {
    "id": "dvBSoW1i-Yr8"
   },
   "outputs": [],
   "source": [
    "def merge_fc(feature):\n",
    "  \"\"\"\n",
    "\n",
    "  Joins all the shapefiles across the US\n",
    "\n",
    "  feature: \"Waterbodies\" or \"Flowlines\"\n",
    "  \"\"\"\n",
    "  merged_fc_ = ee.FeatureCollection([None])\n",
    "  for i in range(1,19):\n",
    "    merged_fc_ = merged_fc_.merge(fc(i, feature))\n",
    "  return merged_fc_\n",
    "\n",
    "fc_wb = merge_fc(\"Waterbodies\")\n",
    "fc_fl = merge_fc(\"Flowlines\")"
   ]
  },
  {
   "cell_type": "markdown",
   "metadata": {
    "id": "oJ25HijxChrp"
   },
   "source": [
    "# NHD parameter retrieval"
   ]
  },
  {
   "cell_type": "code",
   "execution_count": 24,
   "metadata": {
    "id": "drKWGsUbPeK4"
   },
   "outputs": [],
   "source": [
    "# waterbodies\n",
    "# key imp properties: COMID, FTYPE, GNIS_NAME, AREASQKM\n",
    "\n",
    "# How do you combine these?:\n",
    "# FTYPE: join the strings for later usage (OHE)\n",
    "# GNIS_NAME: sum all of the OHE name present vs absent\n",
    "# AREASQKM: sum of all\n",
    "\n",
    "# Given a lat, lon, find the above parameters"
   ]
  },
  {
   "cell_type": "code",
   "execution_count": 25,
   "metadata": {},
   "outputs": [],
   "source": [
    "# return multiple fields\n",
    "def nhd_vars(feature=\"Waterbodies\", lat=41.638, lon=-122.0048, size=1000):\n",
    "  \"\"\"\n",
    "\n",
    "  For a given lat, lon, return multiple GEE variables\n",
    "  \"\"\"\n",
    "  \n",
    "  comid_list = [] # n-digit number\n",
    "  ftype_str = [] # str\n",
    "  fl_length = [] # float\n",
    "  wb_area = [] # float\n",
    "  gnis_id = [] # n-digit number\n",
    "  fcode = [] # n-digit number\n",
    "\n",
    "\n",
    "\n",
    "  try:\n",
    "    if feature == \"Waterbodies\":\n",
    "      fc = fc_wb.filterBounds(square(lat, lon, size))\n",
    "    else:\n",
    "      fc = fc_fl.filterBounds(square(lat, lon, size))\n",
    "      \n",
    "    \n",
    "    fc_getInfo = fc.getInfo().get('features')\n",
    "    num_of_features = len(fc_getInfo)\n",
    "    print(\"number of features =\", num_of_features)\n",
    "    \n",
    "    for feat in range(num_of_features):\n",
    "      comid_list.append(fc_getInfo[feat].get('properties').get('COMID'))\n",
    "\n",
    "      ftype_str.append(fc_getInfo[feat].get('properties').get('FTYPE'))\n",
    "      \n",
    "      gnis_id.append(fc_getInfo[feat].get('properties').get('GNIS_ID'))\n",
    "      \n",
    "      if feature == \"Waterbodies\":\n",
    "        wb_area.append(fc_getInfo[feat].get('properties').get('AREASQKM'))\n",
    "      else:\n",
    "        wb_area.append(np.nan)\n",
    "      \n",
    "      if feature == \"Flowlines\":\n",
    "        fl_length.append(fc_getInfo[feat].get('properties').get('LENGTHKM'))\n",
    "      else:\n",
    "        fl_length.append(np.nan)\n",
    "        \n",
    "      fcode.append(fc_getInfo[feat].get('properties').get('FCODE'))\n",
    "\n",
    "    return comid_list, ftype_str, gnis_id, wb_area, fl_length, fcode\n",
    "  except Exception as e:\n",
    "    print(e)\n",
    "    print(\"Issue with {0} at lat={1}, lon={2}\".format(feature, lat, lon))\n",
    "    return np.nan"
   ]
  },
  {
   "cell_type": "code",
   "execution_count": 26,
   "metadata": {
    "id": "2bcRIItG4bu7"
   },
   "outputs": [],
   "source": [
    "# read in the nhd addendum file\n",
    "\n",
    "nhd_stats = pd.read_csv(\"nhd_stats_AI.csv\")\n",
    "\n",
    "# read in csv file with SSURGO variables\n",
    "# df_m = pd.read_csv(\"combined_regular_clean_with_ssurgo_variables.csv\")\n",
    "df_m = pd.read_pickle(\"cwr_nwpr_dataset\")"
   ]
  },
  {
   "cell_type": "code",
   "execution_count": 27,
   "metadata": {},
   "outputs": [],
   "source": [
    "def extract_nhd_variables(df_m_, i, size):\n",
    "\n",
    "  df_m_[\"nhd_vars_wb\"] = df_m_.apply(lambda x: nhd_vars(feature=\"Waterbodies\", lat=x.latitude, lon=x.longitude, size=size), axis=1)\n",
    "  df_m_[\"nhd_vars_fl\"] = df_m_.apply(lambda x: nhd_vars(feature=\"Flowlines\", lat=x.latitude, lon=x.longitude, size=size), axis=1)\n",
    "\n",
    "  # pickle the dataframe \n",
    "#   df_m_.to_pickle('NHD_extracted_vars_2.5kmX2.5km_with_fcode_ftype/2.5kmX2.5km_nhd_variables_part' + str(i))\n",
    "  pickle.dump(df_m_, open(\"NHD_extracted_vars_cwr_nwpr_\" + \n",
    "                          str(2 * PATCH_SIZE) + \"mX\" + \n",
    "                          str(2 * PATCH_SIZE) + \"m_with_fcode_ftype/\" + \n",
    "                          str(2 * PATCH_SIZE) + \"mX\" + str(2 * PATCH_SIZE) + \n",
    "                          \"m_nhd_variables_part\" + str(i),\"wb\"), \n",
    "              protocol=3)        "
   ]
  },
  {
   "cell_type": "code",
   "execution_count": 28,
   "metadata": {},
   "outputs": [
    {
     "name": "stdout",
     "output_type": "stream",
     "text": [
      "2021-04-02 22:20:41.352153\n"
     ]
    }
   ],
   "source": [
    "from datetime import datetime\n",
    "print(datetime.now())"
   ]
  },
  {
   "cell_type": "code",
   "execution_count": 29,
   "metadata": {
    "colab": {
     "base_uri": "https://localhost:8080/"
    },
    "id": "OJ7imBRFtzdI",
    "outputId": "17f4a2d4-a6bd-41cf-efed-d43001734eec"
   },
   "outputs": [
    {
     "name": "stdout",
     "output_type": "stream",
     "text": [
      "batch 65 of 10 started\n",
      "number of features = 0\n",
      "number of features = 2\n",
      "number of features = 0\n",
      "number of features = 3\n",
      "number of features = 0\n",
      "number of features = 0\n",
      "number of features = 2\n",
      "number of features = 1\n",
      "number of features = 0\n",
      "number of features = 0\n",
      "number of features = 0\n",
      "number of features = 0\n",
      "number of features = 0\n",
      "number of features = 4\n",
      "number of features = 1\n",
      "number of features = 1\n",
      "number of features = 0\n",
      "number of features = 0\n",
      "number of features = 6\n",
      "number of features = 2\n",
      "number of features = 3\n",
      "number of features = 0\n",
      "number of features = 12\n",
      "number of features = 8\n",
      "number of features = 7\n",
      "number of features = 12\n",
      "number of features = 5\n",
      "number of features = 6\n",
      "number of features = 3\n",
      "number of features = 5\n",
      "number of features = 1\n",
      "number of features = 4\n",
      "number of features = 3\n",
      "number of features = 5\n",
      "number of features = 2\n",
      "number of features = 1\n",
      "batch 65 of 10 done\n"
     ]
    }
   ],
   "source": [
    "# pass in batches of 500\n",
    "# MADHUKAR: 0 - 5000 \n",
    "# SHOBHA: 5000 - 10000\n",
    "# RADHIKA: 10000 - 15000\n",
    "\n",
    "# PATCH_SIZE = 500\n",
    "batch_size = 50\n",
    "MY_NAME = \"MADHUKAR\"\n",
    "START = 0 + 5000 * (MY_NAME == \"SHOBHA\") + 10000 * (MY_NAME == \"RADHIKA\")\n",
    "# batch = 64\n",
    "# for batch in range(10, df_m.shape[0]//50):\n",
    "for batch in [64]:\n",
    "  print(\"batch {} of 10 started\".format(batch + 1))\n",
    "  batch_df = df_m[START + batch_size * batch : START + batch_size * (batch + 1)].copy()\n",
    "  extract_nhd_variables(batch_df, (START + batch_size * batch) + 1, PATCH_SIZE)\n",
    "  print(\"batch {} of 10 done\".format(batch + 1))\n"
   ]
  },
  {
   "cell_type": "code",
   "execution_count": 12,
   "metadata": {},
   "outputs": [],
   "source": [
    "# # pass in batches of 500\n",
    "# # MADHUKAR: 0 - 5000 \n",
    "# # SHOBHA: 5000 - 10000\n",
    "# # RADHIKA: 10000 - 15000\n",
    "\n",
    "# batch_size = 500\n",
    "# MY_NAME = \"SHOBHA\"\n",
    "# START = 0 + 5000 * (MY_NAME == \"SHOBHA\") + 10000 * (MY_NAME == \"RADHIKA\")\n",
    "\n",
    "# for batch in range(10):\n",
    "#   print(\"batch {} of 10 started\".format(batch + 1))\n",
    "#   batch_df = df_m[START + batch_size * batch : START + batch_size * (batch + 1)].copy()\n",
    "#   extract_nhd_variables(batch_df, (START + batch_size * batch) + 1, PATCH_SIZE)\n",
    "#   print(\"batch {} of 10 done\".format(batch + 1))\n"
   ]
  },
  {
   "cell_type": "code",
   "execution_count": 13,
   "metadata": {},
   "outputs": [],
   "source": [
    "# # pass in batches of 500\n",
    "# # MADHUKAR: 0 - 5000 \n",
    "# # SHOBHA: 5000 - 10000\n",
    "# # RADHIKA: 10000 - 15000\n",
    "\n",
    "# batch_size = 500\n",
    "# MY_NAME = \"RADHIKA\"\n",
    "# START = 0 + 5000 * (MY_NAME == \"SHOBHA\") + 10000 * (MY_NAME == \"RADHIKA\")\n",
    "\n",
    "# for batch in range(10):\n",
    "#   print(\"batch {} of 10 started\".format(batch + 1))\n",
    "#   batch_df = df_m[START + batch_size * batch : START + batch_size * (batch + 1)].copy()\n",
    "#   extract_nhd_variables(batch_df, (START + batch_size * batch) + 1, PATCH_SIZE)\n",
    "#   print(\"batch {} of 10 done\".format(batch + 1))\n"
   ]
  },
  {
   "cell_type": "code",
   "execution_count": 14,
   "metadata": {},
   "outputs": [
    {
     "name": "stdout",
     "output_type": "stream",
     "text": [
      "2021-04-02 21:00:12.635424\n"
     ]
    }
   ],
   "source": [
    "from datetime import datetime\n",
    "print(datetime.now())"
   ]
  },
  {
   "cell_type": "code",
   "execution_count": 15,
   "metadata": {
    "colab": {
     "base_uri": "https://localhost:8080/",
     "height": 185
    },
    "id": "Wyr-kwm5PDnq",
    "outputId": "26ad02d0-dbbe-468b-c923-d5837819a20f"
   },
   "outputs": [
    {
     "data": {
      "text/plain": [
       "14324                             ([], [], [], [], [], [])\n",
       "14339                             ([], [], [], [], [], [])\n",
       "14346                             ([], [], [], [], [], [])\n",
       "14348                             ([], [], [], [], [], [])\n",
       "14378    ([4833730, 4833766, 4833678, 22324621, 2232597...\n",
       "14395    ([1098900, 4250936], [LakePond, SwampMarsh], [...\n",
       "14540                             ([], [], [], [], [], [])\n",
       "14604    ([8609261, 8609259], [LakePond, LakePond], [, ...\n",
       "14609    ([18413819], [LakePond], [], [0.154], [nan], [...\n",
       "14659    ([1099348, 1099410, 1099404], [LakePond, LakeP...\n",
       "14668    ([2031615, 2031653, 2031661, 2031625, 2031665]...\n",
       "14680    ([22560220, 22560218, 22560214], [LakePond, La...\n",
       "14691    ([4251998, 4252058], [LakePond, LakePond], [65...\n",
       "14693    ([4254754, 4254522], [SwampMarsh, SwampMarsh],...\n",
       "14696    ([1098968, 1098974, 4250942, 1099008], [LakePo...\n",
       "14723    ([5861931, 5861949, 6743442, 5861937], [LakePo...\n",
       "14726                             ([], [], [], [], [], [])\n",
       "14727    ([2384758, 4254778], [LakePond, SwampMarsh], [...\n",
       "14732                             ([], [], [], [], [], [])\n",
       "14733    ([2384766, 2384904, 4254780, 2384808], [LakePo...\n",
       "14745                             ([], [], [], [], [], [])\n",
       "14746                             ([], [], [], [], [], [])\n",
       "14747    ([14785651, 14785653, 14785661, 14785669, 1478...\n",
       "14750    ([14770416], [LakePond], [1692107], [0.03], [n...\n",
       "14755                             ([], [], [], [], [], [])\n",
       "14760    ([6657597], [LakePond], [], [0.034], [nan], [3...\n",
       "14781    ([4507866], [LakePond], [1490262], [0.049], [n...\n",
       "14784    ([2385038, 2384978], [LakePond, LakePond], [, ...\n",
       "14787    ([4507866], [LakePond], [1490262], [0.049], [n...\n",
       "14796                             ([], [], [], [], [], [])\n",
       "14801    ([120054678, 9437545, 9437889], [SwampMarsh, S...\n",
       "14802    ([23985171, 23985195], [LakePond, LakePond], [...\n",
       "14803                             ([], [], [], [], [], [])\n",
       "14810                             ([], [], [], [], [], [])\n",
       "14818                             ([], [], [], [], [], [])\n",
       "14820                             ([], [], [], [], [], [])\n",
       "14827    ([14770238, 14770240], [LakePond, LakePond], [...\n",
       "14830    ([14786505, 14786501, 14786513, 14786503], [La...\n",
       "14832    ([904140245], [LakePond], [1075813], [12045.52...\n",
       "14835                             ([], [], [], [], [], [])\n",
       "14837    ([4251580], [LakePond], [640737], [2.552], [na...\n",
       "14871                             ([], [], [], [], [], [])\n",
       "14874                             ([], [], [], [], [], [])\n",
       "14878    ([2387732, 2387716], [LakePond, LakePond], [64...\n",
       "14894    ([4855999, 4855925, 4855989, 4855921, 4855963,...\n",
       "14895    ([1766292, 7174740], [LakePond, SwampMarsh], [...\n",
       "14902    ([14761567], [LakePond], [], [0.02], [nan], [3...\n",
       "14906                             ([], [], [], [], [], [])\n",
       "14977    ([24539792], [LakePond], [], [0.018], [nan], [...\n",
       "14993                             ([], [], [], [], [], [])\n",
       "Name: nhd_vars_wb, dtype: object"
      ]
     },
     "execution_count": 15,
     "metadata": {},
     "output_type": "execute_result"
    }
   ],
   "source": [
    "#read the file\n",
    "# df_m_test = pd.read_csv('NHD_extracted_vars/combined_regular_clean_with_ssurgo_nhd_variables_part1.csv')\n",
    "df_m_test = pd.read_pickle(\"NHD_extracted_vars_cwr_nwpr_\" + \n",
    "                          str(2 * PATCH_SIZE) + \"mX\" + \n",
    "                          str(2 * PATCH_SIZE) + \"m_with_fcode_ftype/\" + \n",
    "                          str(2 * PATCH_SIZE) + \"mX\" + str(2 * PATCH_SIZE) + \n",
    "                          \"m_nhd_variables_part1\")\n",
    "df_m_test.nhd_vars_wb\n"
   ]
  },
  {
   "cell_type": "code",
   "execution_count": 16,
   "metadata": {},
   "outputs": [
    {
     "name": "stdout",
     "output_type": "stream",
     "text": [
      "([], [], [], [], [], [])\n",
      "([], [], [], [], [], [])\n",
      "([], [], [], [], [], [])\n",
      "([], [], [], [], [], [])\n",
      "([4833730, 4833766, 4833678, 22324621, 22325977, 22324549], ['LakePond', 'LakePond', 'LakePond', 'SwampMarsh', 'SwampMarsh', 'SwampMarsh'], ['658594', '657069', '656704', '', '', ''], [0.193, 0.194, 0.275, 0.383, 0.875, 4.705], [nan, nan, nan, nan, nan, nan], [39004, 39004, 39004, 46600, 46600, 46600])\n",
      "([1098900, 4250936], ['LakePond', 'SwampMarsh'], ['643939', ''], [0.862, 1.101], [nan, nan], [39004, 46600])\n",
      "([], [], [], [], [], [])\n",
      "([8609261, 8609259], ['LakePond', 'LakePond'], ['', ''], [0.015, 0.012], [nan, nan], [39004, 39004])\n",
      "([18413819], ['LakePond'], [''], [0.154], [nan], [39004])\n",
      "([1099348, 1099410, 1099404], ['LakePond', 'LakePond', 'LakePond'], ['647717', '', ''], [0.042, 0.02, 0.02], [nan, nan, nan], [39004, 39004, 39004])\n",
      "([2031615, 2031653, 2031661, 2031625, 2031665], ['LakePond', 'LakePond', 'LakePond', 'LakePond', 'LakePond'], ['', '', '', '', ''], [0.169, 0.065, 0.322, 0.044, 0.027], [nan, nan, nan, nan, nan], [39004, 39004, 39004, 39004, 39004])\n",
      "([22560220, 22560218, 22560214], ['LakePond', 'LakePond', 'LakePond'], ['', '', '243667'], [0.052, 0.043, 0.017], [nan, nan, nan], [39001, 39001, 39004])\n",
      "([4251998, 4252058], ['LakePond', 'LakePond'], ['652457', '646934'], [0.793, 0.307], [nan, nan], [39004, 39004])\n",
      "([4254754, 4254522], ['SwampMarsh', 'SwampMarsh'], ['', ''], [0.741, 0.62], [nan, nan], [46600, 46600])\n",
      "([1098968, 1098974, 4250942, 1099008], ['LakePond', 'LakePond', 'SwampMarsh', 'LakePond'], ['650034', '649938', '', ''], [1.468, 1.192, 1.393, 0.016], [nan, nan, nan, nan], [39009, 39004, 46600, 39004])\n",
      "([5861931, 5861949, 6743442, 5861937], ['LakePond', 'LakePond', 'LakePond', 'LakePond'], ['612713', '612745', '612170', '612726'], [0.056, 0.207, 0.444, 0.023], [nan, nan, nan, nan], [39004, 39004, 39004, 39004])\n",
      "([], [], [], [], [], [])\n",
      "([2384758, 4254778], ['LakePond', 'SwampMarsh'], ['649926', ''], [0.332, 0.411], [nan, nan], [39004, 46600])\n",
      "([], [], [], [], [], [])\n",
      "([2384766, 2384904, 4254780, 2384808], ['LakePond', 'LakePond', 'SwampMarsh', 'LakePond'], ['1776567', '649984', '', ''], [1.12, 0.963, 0.416, 0.024], [nan, nan, nan, nan], [39004, 39004, 46600, 39004])\n",
      "([], [], [], [], [], [])\n",
      "([], [], [], [], [], [])\n",
      "([14785651, 14785653, 14785661, 14785669, 14785667, 14785665, 14785659, 14785657], ['LakePond', 'LakePond', 'LakePond', 'LakePond', 'LakePond', 'LakePond', 'LakePond', 'LakePond'], ['', '', '', '', '', '', '', ''], [0.1, 0.112, 0.135, 0.054, 0.009, 0.025, 0.017, 0.011], [nan, nan, nan, nan, nan, nan, nan, nan], [39004, 39004, 39004, 39004, 39004, 39004, 39004, 39004])\n",
      "([14770416], ['LakePond'], ['1692107'], [0.03], [nan], [39004])\n",
      "([], [], [], [], [], [])\n",
      "([6657597], ['LakePond'], [''], [0.034], [nan], [39004])\n",
      "([4507866], ['LakePond'], ['1490262'], [0.049], [nan], [39004])\n",
      "([2385038, 2384978], ['LakePond', 'LakePond'], ['', ''], [0.087, 0.023], [nan, nan], [39004, 39004])\n",
      "([4507866], ['LakePond'], ['1490262'], [0.049], [nan], [39004])\n",
      "([], [], [], [], [], [])\n",
      "([120054678, 9437545, 9437889], ['SwampMarsh', 'SwampMarsh', 'SwampMarsh'], ['', '', ''], [35.347, 0.142, 38.421], [nan, nan, nan], [46600, 46600, 46600])\n",
      "([23985171, 23985195], ['LakePond', 'LakePond'], ['1531869', ''], [9.908, 0.141], [nan, nan], [39004, 39004])\n",
      "([], [], [], [], [], [])\n",
      "([], [], [], [], [], [])\n",
      "([], [], [], [], [], [])\n",
      "([], [], [], [], [], [])\n",
      "([14770238, 14770240], ['LakePond', 'LakePond'], ['', ''], [0.057, 0.035], [nan, nan], [39004, 39004])\n",
      "([14786505, 14786501, 14786513, 14786503], ['LakePond', 'LakePond', 'LakePond', 'LakePond'], ['', '', '', ''], [0.029, 0.017, 0.038, 0.016], [nan, nan, nan, nan], [39004, 39004, 39004, 39004])\n",
      "([904140245], ['LakePond'], ['1075813'], [12045.529], [nan], [39009])\n",
      "([], [], [], [], [], [])\n",
      "([4251580], ['LakePond'], ['640737'], [2.552], [nan], [39004])\n",
      "([], [], [], [], [], [])\n",
      "([], [], [], [], [], [])\n",
      "([2387732, 2387716], ['LakePond', 'LakePond'], ['648208', '1776072'], [0.242, 3.349], [nan, nan], [39004, 39004])\n",
      "([4855999, 4855925, 4855989, 4855921, 4855963, 4970029, 4855905, 4855983, 4855979, 4856015], ['LakePond', 'LakePond', 'LakePond', 'LakePond', 'LakePond', 'SwampMarsh', 'LakePond', 'LakePond', 'LakePond', 'LakePond'], ['654054', '650268', '648992', '', '', '', '', '', '', ''], [0.144, 0.203, 0.177, 0.068, 0.096, 1.554, 0.034, 0.019, 0.035, 0.024], [nan, nan, nan, nan, nan, nan, nan, nan, nan, nan], [39004, 39004, 39004, 39004, 39004, 46600, 39004, 39004, 39004, 39004])\n",
      "([1766292, 7174740], ['LakePond', 'SwampMarsh'], ['', ''], [0.044, 1.642], [nan, nan], [39004, 46600])\n",
      "([14761567], ['LakePond'], [''], [0.02], [nan], [39004])\n",
      "([], [], [], [], [], [])\n",
      "([24539792], ['LakePond'], [''], [0.018], [nan], [39004])\n",
      "([], [], [], [], [], [])\n"
     ]
    },
    {
     "data": {
      "text/plain": [
       "[None,\n",
       " None,\n",
       " None,\n",
       " None,\n",
       " None,\n",
       " None,\n",
       " None,\n",
       " None,\n",
       " None,\n",
       " None,\n",
       " None,\n",
       " None,\n",
       " None,\n",
       " None,\n",
       " None,\n",
       " None,\n",
       " None,\n",
       " None,\n",
       " None,\n",
       " None,\n",
       " None,\n",
       " None,\n",
       " None,\n",
       " None,\n",
       " None,\n",
       " None,\n",
       " None,\n",
       " None,\n",
       " None,\n",
       " None,\n",
       " None,\n",
       " None,\n",
       " None,\n",
       " None,\n",
       " None,\n",
       " None,\n",
       " None,\n",
       " None,\n",
       " None,\n",
       " None,\n",
       " None,\n",
       " None,\n",
       " None,\n",
       " None,\n",
       " None,\n",
       " None,\n",
       " None,\n",
       " None,\n",
       " None,\n",
       " None]"
      ]
     },
     "execution_count": 16,
     "metadata": {},
     "output_type": "execute_result"
    }
   ],
   "source": [
    "[print(item) for item in df_m_test.nhd_vars_wb]"
   ]
  },
  {
   "cell_type": "code",
   "execution_count": 17,
   "metadata": {},
   "outputs": [
    {
     "name": "stdout",
     "output_type": "stream",
     "text": [
      "([20331722, 20324433, 20324437], ['StreamRiver', 'StreamRiver', 'StreamRiver'], ['', '', ''], [nan, nan, nan], [2.722, 2.179, 1.471], [46003, 46003, 46003])\n",
      "([22338541, 22338501, 22338455], ['StreamRiver', 'StreamRiver', 'StreamRiver'], ['1469616', '1467593', '1472325'], [nan, nan, nan], [3.595, 2.272, 2.639], [46006, 46006, 46006])\n",
      "([22338859, 22340313, 22338847], ['StreamRiver', 'StreamRiver', 'StreamRiver'], ['1478084', '1478084', '1469782'], [nan, nan, nan], [2.436, 3.173, 3.123], [46006, 46006, 46003])\n",
      "([14784645, 14785825, 14784643, 14785817, 14784637, 14785837], ['StreamRiver', 'StreamRiver', 'StreamRiver', 'StreamRiver', 'StreamRiver', 'CanalDitch'], ['422161', '422161', '422161', '422161', '410206', ''], [nan, nan, nan, nan, nan, nan], [2.635, 2.93, 0.918, 1.7, 3.225, 3.899], [46003, 46003, 46003, 46003, 46003, 33600])\n",
      "([4835432, 4836616, 4837010], ['StreamRiver', 'ArtificialPath', 'ArtificialPath'], ['', '', ''], [nan, nan, nan], [0.407, 1.257, 0.759], [46006, 55800, 55800])\n",
      "([1100732, 1100404, 1099884, 1099876], ['ArtificialPath', 'StreamRiver', 'StreamRiver', 'StreamRiver'], ['642797', '650394', '650394', ''], [nan, nan, nan, nan], [1.46, 2.938, 3.114, 2.394], [55800, 46006, 46006, 46003])\n",
      "([3882814, 3882822, 3883006], ['StreamRiver', 'StreamRiver', 'StreamRiver'], ['', '', ''], [nan, nan, nan], [2.975, 1.324, 4.545], [46003, 46003, 46006])\n",
      "([8577703, 8577705, 8610431, 8610329, 8610409, 8612101, 8612277], ['StreamRiver', 'StreamRiver', 'StreamRiver', 'StreamRiver', 'StreamRiver', 'ArtificialPath', 'ArtificialPath'], ['', '', '', '', '', '', ''], [nan, nan, nan, nan, nan, nan, nan], [3.214, 2.81, 1.577, 0.158, 3.909, 0.178, 0.131], [46003, 46003, 46006, 46006, 46006, 55800, 55800])\n",
      "([18414733, 18414699, 18414727, 18414671, 18414741, 18414707], ['StreamRiver', 'StreamRiver', 'StreamRiver', 'StreamRiver', 'StreamRiver', 'StreamRiver'], ['1303810', '1303810', '', '', '', ''], [nan, nan, nan, nan, nan, nan], [2.091, 0.331, 2.146, 2.487, 1.274, 2.937], [46006, 46006, 46006, 46003, 46006, 46003])\n",
      "([1100060, 1100052, 1100076], ['StreamRiver', 'StreamRiver', 'StreamRiver'], ['639667', '639667', ''], [nan, nan, nan], [1.558, 0.994, 2.076], [46003, 46006, 46003])\n",
      "([2032517, 2032553, 2033735], ['StreamRiver', 'StreamRiver', 'ArtificialPath'], ['644821', '', ''], [nan, nan, nan], [2.54, 0.346, 1.339], [46003, 46003, 55800])\n",
      "([22563042, 22560452, 22560470, 22560484, 22560486, 22560472, 22563030, 22563028, 22560482, 22560462, 22560444, 22560460, 22560478, 22560454, 22563360, 22563026, 22560448, 22560476, 22560450, 22560456, 948070273], ['Pipeline', 'CanalDitch', 'CanalDitch', 'CanalDitch', 'CanalDitch', 'CanalDitch', 'CanalDitch', 'CanalDitch', 'CanalDitch', 'StreamRiver', 'StreamRiver', 'StreamRiver', 'StreamRiver', 'StreamRiver', 'ArtificialPath', 'StreamRiver', 'StreamRiver', 'StreamRiver', 'StreamRiver', 'StreamRiver', 'StreamRiver'], ['', '', '', '', '', '', '', '', '', '', '', '', '', '', '', '273539', '273539', '273539', '273539', '273539', '273539'], [nan, nan, nan, nan, nan, nan, nan, nan, nan, nan, nan, nan, nan, nan, nan, nan, nan, nan, nan, nan, nan], [4.954, 0.579, 0.616, 0.599, 1.176, 0.053, 1.589, 1.457, 0.268, 0.099, 0.382, 0.267, 0.486, 1.168, 0.273, 1.323, 0.344, 0.526, 0.485, 0.257, 0.929], [42803, 33600, 33600, 33600, 33600, 33600, 33600, 33600, 33600, 46003, 46003, 46003, 46006, 46006, 55800, 46006, 46006, 46006, 46006, 46006, 46006])\n",
      "([4253010], ['StreamRiver'], [''], [nan], [1.545], [46003])\n",
      "([937010380, 937010382, 937010381, 2354060, 2353786, 2353794, 2353790, 2354034, 2353778], ['CanalDitch', 'StreamRiver', 'StreamRiver', 'ArtificialPath', 'StreamRiver', 'StreamRiver', 'StreamRiver', 'StreamRiver', 'StreamRiver'], ['', '', '', '', '663175', '663175', '', '', ''], [nan, nan, nan, nan, nan, nan, nan, nan, nan], [0.113, 0.079, 0.519, 0.447, 3.497, 1.828, 1.873, 3.181, 2.823], [33600, 46006, 46006, 55800, 46006, 46006, 46006, 46006, 46006])\n",
      "([1100578, 1100574, 1100828, 1100576, 1100826, 1099924, 1100414, 1099946, 1100416, 1099882, 1099890, 1099908], ['ArtificialPath', 'ArtificialPath', 'ArtificialPath', 'ArtificialPath', 'ArtificialPath', 'StreamRiver', 'StreamRiver', 'StreamRiver', 'StreamRiver', 'StreamRiver', 'StreamRiver', 'StreamRiver'], ['', '', '', '', '', '', '', '', '', '', '', ''], [nan, nan, nan, nan, nan, nan, nan, nan, nan, nan, nan, nan], [1.626, 0.202, 0.586, 0.107, 0.4, 0.801, 2.7, 1.87, 2.569, 0.213, 0.504, 1.072], [55800, 55800, 55800, 55800, 55800, 46003, 46006, 46006, 46006, 46006, 46006, 46006])\n",
      "([5862339, 5862555], ['StreamRiver', 'StreamRiver'], ['', '618556'], [nan, nan], [0.936, 4.141], [46006, 46006])\n",
      "([11689390, 11689394, 11689398, 11689400, 11689772, 11689456, 11689384, 11689774, 11689402], ['StreamRiver', 'StreamRiver', 'StreamRiver', 'StreamRiver', 'StreamRiver', 'StreamRiver', 'StreamRiver', 'StreamRiver', 'StreamRiver'], ['584073', '584073', '584073', '584073', '584073', '586572', '', '', ''], [nan, nan, nan, nan, nan, nan, nan, nan, nan], [0.815, 1.157, 1.191, 0.069, 6.344, 5.326, 1.662, 1.804, 0.785], [46006, 46006, 46006, 46006, 46006, 46006, 46006, 46006, 46006])\n",
      "([2387016, 2387012, 2387004, 2386780, 2385872, 2385902], ['ArtificialPath', 'ArtificialPath', 'ArtificialPath', 'StreamRiver', 'StreamRiver', 'StreamRiver'], ['', '', '', '', '', ''], [nan, nan, nan, nan, nan, nan], [1.167, 0.122, 0.16, 2.873, 1.122, 1.505], [55800, 55800, 55800, 46006, 46006, 46006])\n",
      "([22124998, 22125028, 22131647, 22131659], ['StreamRiver', 'StreamRiver', 'StreamRiver', 'StreamRiver'], ['1293498', '', '', ''], [nan, nan, nan, nan], [4.83, 1.766, 1.902, 4.49], [46006, 46006, 46006, 46006])\n",
      "([2386788], ['StreamRiver'], ['640308'], [nan], [10.917], [46006])\n",
      "([2385910, 2385946], ['StreamRiver', 'StreamRiver'], ['641130', '641130'], [nan, nan], [1.839, 2.745], [46003, 46006])\n",
      "([5213353, 5213339], ['StreamRiver', 'StreamRiver'], ['', ''], [nan, nan], [4.832, 2.011], [46003, 46003])\n",
      "([14786195, 14786281, 14786023, 14786031, 14786193], ['CanalDitch', 'ArtificialPath', 'StreamRiver', 'StreamRiver', 'StreamRiver'], ['421744', '421765', '', '', ''], [nan, nan, nan, nan, nan], [5.485, 3.71, 2.774, 3.026, 2.084], [33600, 55800, 46006, 46003, 46006])\n",
      "([14771114, 14771150, 14771802], ['StreamRiver', 'StreamRiver', 'ArtificialPath'], ['411082', '411082', '411082'], [nan, nan, nan], [1.309, 5.654, 0.343], [46003, 46006, 55800])\n",
      "([14785321, 14785323, 14785315, 14785317, 14785313, 14785329, 14785337, 14785331], ['StreamRiver', 'StreamRiver', 'StreamRiver', 'StreamRiver', 'StreamRiver', 'StreamRiver', 'StreamRiver', 'StreamRiver'], ['', '', '', '', '', '', '', ''], [nan, nan, nan, nan, nan, nan, nan, nan], [0.827, 1.539, 0.362, 2.474, 1.67, 0.624, 3.232, 2.784], [46003, 46003, 46003, 46003, 46003, 46003, 46003, 46003])\n",
      "([6658277, 6658283, 6657949, 6658269], ['StreamRiver', 'StreamRiver', 'StreamRiver', 'StreamRiver'], ['', '', '', ''], [nan, nan, nan, nan], [2.814, 4.937, 2.885, 3.739], [46003, 46003, 46003, 46003])\n",
      "([4507048, 4508414, 4509288, 4508448, 4507026, 4508462, 4507030, 4507046, 4508424], ['StreamRiver', 'StreamRiver', 'ArtificialPath', 'StreamRiver', 'StreamRiver', 'StreamRiver', 'StreamRiver', 'StreamRiver', 'StreamRiver'], ['1463852', '1463852', '1468300', '1468300', '1463852', '1463852', '', '', ''], [nan, nan, nan, nan, nan, nan, nan, nan, nan], [0.44, 1.342, 0.602, 0.56, 2.35, 2.239, 1.902, 0.713, 1.14], [46006, 46006, 55800, 46006, 46006, 46006, 46003, 46003, 46003])\n",
      "([2387084, 2387086, 2387092, 2387090, 2387096, 2387094, 2387088, 2387378, 2385992], ['ArtificialPath', 'ArtificialPath', 'ArtificialPath', 'ArtificialPath', 'ArtificialPath', 'ArtificialPath', 'ArtificialPath', 'StreamRiver', 'StreamRiver'], ['663182', '663182', '', '', '659759', '659759', '659759', '663182', ''], [nan, nan, nan, nan, nan, nan, nan, nan, nan], [0.035, 0.012, 0.014, 0.038, 1.744, 1.986, 1.912, 4.812, 1.444], [55800, 55800, 55800, 55800, 55800, 55800, 55800, 46006, 46006])\n",
      "([4507048, 4508414, 4509288, 4508448, 4507026, 4508462, 4507030, 4507046, 4508424], ['StreamRiver', 'StreamRiver', 'ArtificialPath', 'StreamRiver', 'StreamRiver', 'StreamRiver', 'StreamRiver', 'StreamRiver', 'StreamRiver'], ['1463852', '1463852', '1468300', '1468300', '1463852', '1463852', '', '', ''], [nan, nan, nan, nan, nan, nan, nan, nan, nan], [0.44, 1.342, 0.602, 0.56, 2.35, 2.239, 1.902, 0.713, 1.14], [46006, 46006, 55800, 46006, 46006, 46006, 46003, 46003, 46003])\n",
      "([2463781, 2463789, 2463783, 2463745, 2463677, 2465321, 2463747, 2463791], ['StreamRiver', 'StreamRiver', 'StreamRiver', 'StreamRiver', 'StreamRiver', 'StreamRiver', 'StreamRiver', 'StreamRiver'], ['648617', '648617', '', '', '', '', '', ''], [nan, nan, nan, nan, nan, nan, nan, nan], [1.747, 0.355, 0.97, 1.646, 1.622, 2.17, 1.691, 2.064], [46006, 46006, 46003, 46003, 46003, 46003, 46003, 46003])\n",
      "([8076926, 8077574, 8077570, 8077754, 8077778, 8077740, 8077744, 8077764, 8077756, 8077782, 8077736, 8080210, 8077750, 8077786, 8078014, 8078016, 8078000, 8078022, 8078018, 8078024, 8078004, 8078026, 8078028, 8078030, 8078006, 8078002, 8078052, 8080212, 8077780, 8077784, 8077758, 8077748, 8077752, 8077746, 8077742, 8077734, 8078020, 8076854, 8076922, 8076884, 8076896, 8076886, 8076862, 8076866, 8077562, 8076864, 8077564], ['CanalDitch', 'CanalDitch', 'StreamRiver', 'ArtificialPath', 'ArtificialPath', 'ArtificialPath', 'ArtificialPath', 'ArtificialPath', 'ArtificialPath', 'ArtificialPath', 'ArtificialPath', 'ArtificialPath', 'ArtificialPath', 'ArtificialPath', 'Coastline', 'Coastline', 'Coastline', 'Coastline', 'Coastline', 'Coastline', 'Coastline', 'Coastline', 'Coastline', 'Coastline', 'Coastline', 'Coastline', 'ArtificialPath', 'ArtificialPath', 'ArtificialPath', 'ArtificialPath', 'ArtificialPath', 'ArtificialPath', 'ArtificialPath', 'ArtificialPath', 'ArtificialPath', 'ArtificialPath', 'ArtificialPath', 'CanalDitch', 'CanalDitch', 'StreamRiver', 'StreamRiver', 'StreamRiver', 'StreamRiver', 'StreamRiver', 'StreamRiver', 'StreamRiver', 'StreamRiver'], ['213773', '213773', '', '214330', '213773', '214330', '214330', '214330', '214330', '213773', '214330', '214330', '214330', '213773', '', '', '', '', '', '', '', '', '', '', '', '', '', '', '', '', '', '', '', '', '', '', '', '', '', '', '', '', '', '', '', '', ''], [nan, nan, nan, nan, nan, nan, nan, nan, nan, nan, nan, nan, nan, nan, nan, nan, nan, nan, nan, nan, nan, nan, nan, nan, nan, nan, nan, nan, nan, nan, nan, nan, nan, nan, nan, nan, nan, nan, nan, nan, nan, nan, nan, nan, nan, nan, nan], [0.729, 0.585, 0.637, 0.119, 0.73, 0.173, 0.237, 0.658, 0.49, 0.306, 0.799, 0.131, 0.161, 0.14, 0.099, 0.054, 3.521, 0.414, 0.097, 0.064, 0.271, 0.038, 0.335, 1.277, 9.093, 0.923, 0.173, 0.171, 0.032, 0.049, 0.053, 0.037, 0.055, 0.064, 0.078, 0.079, 0.939, 0.433, 0.984, 0.938, 0.414, 1.276, 1.664, 0.044, 1.962, 0.171, 1.39], [33600, 33600, 46006, 55800, 55800, 55800, 55800, 55800, 55800, 55800, 55800, 55800, 55800, 55800, 56600, 56600, 56600, 56600, 56600, 56600, 56600, 56600, 56600, 56600, 56600, 56600, 55800, 55800, 55800, 55800, 55800, 55800, 55800, 55800, 55800, 55800, 55800, 33600, 33600, 46006, 46006, 46006, 46006, 46006, 46006, 46006, 46006])\n",
      "([23982533, 23981279, 23982381], ['CanalDitch', 'StreamRiver', 'ArtificialPath'], ['', '1528078', ''], [nan, nan, nan], [0.894, 0.842, 0.77], [33600, 46006, 55800])\n",
      "([19391442, 19391468, 19393078, 19392752, 19392754, 25021696, 25021698, 19393044], ['StreamRiver', 'StreamRiver', 'ArtificialPath', 'ArtificialPath', 'ArtificialPath', 'ArtificialPath', 'ArtificialPath', 'ArtificialPath'], ['', '1066721', '1067076', '1066721', '1066721', '1067076', '1067076', ''], [nan, nan, nan, nan, nan, nan, nan, nan], [3.733, 3.172, 4.626, 0.04, 0.015, 3.077, 0.364, 0.034], [46003, 46006, 55800, 55800, 55800, 55800, 55800, 55800])\n",
      "([8572661, 8572753, 8572735, 8572685], ['StreamRiver', 'StreamRiver', 'StreamRiver', 'StreamRiver'], ['1462464', '1462464', '', ''], [nan, nan, nan, nan], [1.082, 2.518, 2.087, 2.02], [46003, 46006, 46006, 46006])\n",
      "([23990391, 23990417, 23990385], ['StreamRiver', 'StreamRiver', 'StreamRiver'], ['', '', '1509861'], [nan, nan, nan], [1.948, 2.819, 3.781], [46006, 46006, 46006])\n",
      "([8273239, 8273271, 8273309, 8273237, 8273217], ['StreamRiver', 'StreamRiver', 'StreamRiver', 'StreamRiver', 'StreamRiver'], ['224576', '224576', '218443', '', ''], [nan, nan, nan, nan, nan], [1.997, 1.444, 5.962, 2.852, 2.311], [46006, 46006, 46006, 46003, 46006])\n",
      "([14771054, 14771052, 14771046, 14771044, 14771762, 14771754, 14771066, 14771050, 14771048, 14771764, 14771766, 14771760], ['StreamRiver', 'StreamRiver', 'StreamRiver', 'StreamRiver', 'ArtificialPath', 'ArtificialPath', 'StreamRiver', 'StreamRiver', 'StreamRiver', 'ArtificialPath', 'ArtificialPath', 'ArtificialPath'], ['1808349', '1808349', '1808349', '1808349', '1808349', '1808349', '', '', '', '408636', '408636', '408636'], [nan, nan, nan, nan, nan, nan, nan, nan, nan, nan, nan, nan], [1.473, 0.3, 0.862, 6.497, 0.045, 0.228, 2.635, 2.723, 1.144, 0.024, 0.863, 4.76], [46006, 46006, 46006, 46006, 55800, 55800, 46006, 46006, 46006, 55800, 55800, 55800])\n",
      "([14787369, 14786869, 14786867, 14787655, 14787453, 14786859], ['StreamRiver', 'StreamRiver', 'StreamRiver', 'ArtificialPath', 'ArtificialPath', 'StreamRiver'], ['422098', '422098', '422098', '422098', '422098', ''], [nan, nan, nan, nan, nan, nan], [5.722, 2.439, 0.073, 0.248, 0.348, 6.509], [46006, 46006, 46006, 55800, 55800, 46006])\n",
      "([28123902, 9842358, 28123906, 28123766], ['Coastline', 'Coastline', 'Coastline', 'ArtificialPath'], ['', '', '', '1065899'], [nan, nan, nan, nan], [6.056, 6.095, 2.594, 2.391], [56600, 56600, 56600, 55800])\n",
      "([22338871, 22338883], ['StreamRiver', 'StreamRiver'], ['1463398', '1469641'], [nan, nan], [6.483, 3.089], [46006, 46006])\n",
      "([4252500, 4252528, 4252518, 4252486, 4252516], ['CanalDitch', 'CanalDitch', 'CanalDitch', 'StreamRiver', 'StreamRiver'], ['', '', '', '', ''], [nan, nan, nan, nan, nan], [2.734, 1.547, 2.348, 2.336, 1.456], [33600, 33600, 33600, 46003, 46003])\n",
      "([8476918, 8476914, 8476912, 8484052, 8484054, 8476910, 8477264, 8476750, 8476010, 8476748, 8476020, 8476014, 8476028, 8476038, 8476016, 8476040, 8476026], ['ArtificialPath', 'ArtificialPath', 'ArtificialPath', 'ArtificialPath', 'ArtificialPath', 'ArtificialPath', 'ArtificialPath', 'StreamRiver', 'StreamRiver', 'StreamRiver', 'StreamRiver', 'StreamRiver', 'StreamRiver', 'StreamRiver', 'StreamRiver', 'StreamRiver', 'StreamRiver'], ['1479404', '1466447', '1466304', '1479404', '1479404', '1479404', '', '1466447', '1466304', '1466477', '1466304', '1466304', '', '', '', '', ''], [nan, nan, nan, nan, nan, nan, nan, nan, nan, nan, nan, nan, nan, nan, nan, nan, nan], [0.724, 0.071, 0.075, 0.658, 0.525, 0.642, 0.239, 2.449, 2.007, 11.276, 0.728, 0.867, 1.971, 0.165, 2.213, 0.865, 0.3], [55800, 55800, 55800, 55800, 55800, 55800, 55800, 46003, 46003, 46006, 46006, 46006, 46003, 46006, 46006, 46006, 46006])\n",
      "([24688711, 24688709, 2848189, 2851041, 1684105, 1684097], ['ArtificialPath', 'ArtificialPath', 'CanalDitch', 'CanalDitch', 'CanalDitch', 'CanalDitch'], ['1654949', '1654949', '', '', '', ''], [nan, nan, nan, nan, nan, nan], [3.32, 5.133, 0.324, 1.203, 2.096, 3.305], [55800, 55800, 33600, 33600, 33600, 33600])\n",
      "([2388128, 2388140, 2388132, 2388146, 2388474, 2388124, 2388456], ['CanalDitch', 'CanalDitch', 'StreamRiver', 'StreamRiver', 'StreamRiver', 'StreamRiver', 'ArtificialPath'], ['', '', '', '', '', '', ''], [nan, nan, nan, nan, nan, nan, nan], [0.067, 1.14, 3.175, 1.605, 3.418, 0.327, 0.486], [33600, 33600, 46003, 46003, 46006, 46006, 55800])\n",
      "([], [], [], [], [], [])\n",
      "([1767050], ['StreamRiver'], [''], [nan], [1.866], [46006])\n",
      "([14762057], ['StreamRiver'], [''], [nan], [2.156], [46003])\n",
      "([10082032], ['StreamRiver'], [''], [nan], [8.283], [46006])\n",
      "([24537908], ['StreamRiver'], ['1517577'], [nan], [8.989], [46006])\n",
      "([10472437, 10472443, 10472445, 10472447, 10472511, 10472513, 10472551, 10472597, 10472615, 10472613, 10472629, 10472673, 10472679, 10472723, 10472721, 10472713, 10472711, 10472725, 10472733, 10472731, 10472739, 10472741, 10472743, 10472747, 10472749, 10472759, 10472763, 10472765, 10472767, 10472769, 10472771, 10472787, 10472775, 10472785, 10472781, 10472783, 10472797, 10472805, 10472833, 10472837, 10472839, 10472863, 10472867, 10472967, 10472873, 10472875, 10472627, 10472599, 10473027], ['CanalDitch', 'CanalDitch', 'CanalDitch', 'CanalDitch', 'CanalDitch', 'CanalDitch', 'CanalDitch', 'CanalDitch', 'CanalDitch', 'CanalDitch', 'CanalDitch', 'CanalDitch', 'CanalDitch', 'CanalDitch', 'CanalDitch', 'CanalDitch', 'CanalDitch', 'CanalDitch', 'CanalDitch', 'CanalDitch', 'CanalDitch', 'CanalDitch', 'CanalDitch', 'CanalDitch', 'CanalDitch', 'CanalDitch', 'CanalDitch', 'CanalDitch', 'CanalDitch', 'CanalDitch', 'CanalDitch', 'CanalDitch', 'CanalDitch', 'CanalDitch', 'CanalDitch', 'CanalDitch', 'CanalDitch', 'CanalDitch', 'CanalDitch', 'CanalDitch', 'CanalDitch', 'CanalDitch', 'CanalDitch', 'CanalDitch', 'CanalDitch', 'CanalDitch', 'CanalDitch', 'CanalDitch', 'CanalDitch'], ['', '', '', '', '', '', '', '', '', '', '', '', '', '', '', '', '', '', '', '', '', '', '', '', '', '', '', '', '', '', '', '', '', '', '', '', '', '', '', '', '', '', '', '', '', '', '', '', ''], [nan, nan, nan, nan, nan, nan, nan, nan, nan, nan, nan, nan, nan, nan, nan, nan, nan, nan, nan, nan, nan, nan, nan, nan, nan, nan, nan, nan, nan, nan, nan, nan, nan, nan, nan, nan, nan, nan, nan, nan, nan, nan, nan, nan, nan, nan, nan, nan, nan], [0.479, 0.49, 0.641, 0.044, 0.292, 0.269, 0.087, 0.472, 0.45, 0.907, 0.887, 0.222, 1.317, 0.258, 0.536, 0.449, 0.365, 0.404, 0.258, 0.264, 0.159, 0.307, 0.068, 0.723, 0.192, 0.141, 0.108, 0.191, 0.308, 0.269, 0.15, 0.593, 0.412, 0.66, 0.104, 0.551, 0.329, 0.995, 0.287, 0.462, 0.743, 0.194, 0.348, 1.079, 0.124, 0.185, 0.505, 0.355, 2.548], [33600, 33600, 33600, 33600, 33600, 33600, 33600, 33600, 33600, 33600, 33600, 33600, 33600, 33600, 33600, 33600, 33600, 33600, 33600, 33600, 33600, 33600, 33600, 33600, 33600, 33600, 33600, 33600, 33600, 33600, 33600, 33600, 33600, 33600, 33600, 33600, 33600, 33600, 33600, 33600, 33600, 33600, 33600, 33600, 33600, 33600, 33600, 33600, 33600])\n"
     ]
    },
    {
     "data": {
      "text/plain": [
       "[None]"
      ]
     },
     "execution_count": 17,
     "metadata": {},
     "output_type": "execute_result"
    }
   ],
   "source": [
    "[print(item) for item in df_m_test.nhd_vars_fl][:1]"
   ]
  },
  {
   "cell_type": "code",
   "execution_count": 18,
   "metadata": {},
   "outputs": [
    {
     "data": {
      "text/plain": [
       "14324    ([20331722, 20324433, 20324437], [StreamRiver,...\n",
       "14339    ([22338541, 22338501, 22338455], [StreamRiver,...\n",
       "14346    ([22338859, 22340313, 22338847], [StreamRiver,...\n",
       "14348    ([14784645, 14785825, 14784643, 14785817, 1478...\n",
       "14378    ([4835432, 4836616, 4837010], [StreamRiver, Ar...\n",
       "14395    ([1100732, 1100404, 1099884, 1099876], [Artifi...\n",
       "14540    ([3882814, 3882822, 3883006], [StreamRiver, St...\n",
       "14604    ([8577703, 8577705, 8610431, 8610329, 8610409,...\n",
       "14609    ([18414733, 18414699, 18414727, 18414671, 1841...\n",
       "14659    ([1100060, 1100052, 1100076], [StreamRiver, St...\n",
       "14668    ([2032517, 2032553, 2033735], [StreamRiver, St...\n",
       "14680    ([22563042, 22560452, 22560470, 22560484, 2256...\n",
       "14691    ([4253010], [StreamRiver], [], [nan], [1.545],...\n",
       "14693    ([937010380, 937010382, 937010381, 2354060, 23...\n",
       "14696    ([1100578, 1100574, 1100828, 1100576, 1100826,...\n",
       "14723    ([5862339, 5862555], [StreamRiver, StreamRiver...\n",
       "14726    ([11689390, 11689394, 11689398, 11689400, 1168...\n",
       "14727    ([2387016, 2387012, 2387004, 2386780, 2385872,...\n",
       "14732    ([22124998, 22125028, 22131647, 22131659], [St...\n",
       "14733    ([2386788], [StreamRiver], [640308], [nan], [1...\n",
       "14745    ([2385910, 2385946], [StreamRiver, StreamRiver...\n",
       "14746    ([5213353, 5213339], [StreamRiver, StreamRiver...\n",
       "14747    ([14786195, 14786281, 14786023, 14786031, 1478...\n",
       "14750    ([14771114, 14771150, 14771802], [StreamRiver,...\n",
       "14755    ([14785321, 14785323, 14785315, 14785317, 1478...\n",
       "14760    ([6658277, 6658283, 6657949, 6658269], [Stream...\n",
       "14781    ([4507048, 4508414, 4509288, 4508448, 4507026,...\n",
       "14784    ([2387084, 2387086, 2387092, 2387090, 2387096,...\n",
       "14787    ([4507048, 4508414, 4509288, 4508448, 4507026,...\n",
       "14796    ([2463781, 2463789, 2463783, 2463745, 2463677,...\n",
       "14801    ([8076926, 8077574, 8077570, 8077754, 8077778,...\n",
       "14802    ([23982533, 23981279, 23982381], [CanalDitch, ...\n",
       "14803    ([19391442, 19391468, 19393078, 19392752, 1939...\n",
       "14810    ([8572661, 8572753, 8572735, 8572685], [Stream...\n",
       "14818    ([23990391, 23990417, 23990385], [StreamRiver,...\n",
       "14820    ([8273239, 8273271, 8273309, 8273237, 8273217]...\n",
       "14827    ([14771054, 14771052, 14771046, 14771044, 1477...\n",
       "14830    ([14787369, 14786869, 14786867, 14787655, 1478...\n",
       "14832    ([28123902, 9842358, 28123906, 28123766], [Coa...\n",
       "14835    ([22338871, 22338883], [StreamRiver, StreamRiv...\n",
       "14837    ([4252500, 4252528, 4252518, 4252486, 4252516]...\n",
       "14871    ([8476918, 8476914, 8476912, 8484052, 8484054,...\n",
       "14874    ([24688711, 24688709, 2848189, 2851041, 168410...\n",
       "14878    ([2388128, 2388140, 2388132, 2388146, 2388474,...\n",
       "14894                             ([], [], [], [], [], [])\n",
       "14895    ([1767050], [StreamRiver], [], [nan], [1.866],...\n",
       "14902    ([14762057], [StreamRiver], [], [nan], [2.156]...\n",
       "14906    ([10082032], [StreamRiver], [], [nan], [8.283]...\n",
       "14977    ([24537908], [StreamRiver], [1517577], [nan], ...\n",
       "14993    ([10472437, 10472443, 10472445, 10472447, 1047...\n",
       "Name: nhd_vars_fl, dtype: object"
      ]
     },
     "execution_count": 18,
     "metadata": {},
     "output_type": "execute_result"
    }
   ],
   "source": [
    "df_m_test.nhd_vars_fl"
   ]
  },
  {
   "cell_type": "code",
   "execution_count": null,
   "metadata": {},
   "outputs": [],
   "source": []
  },
  {
   "cell_type": "code",
   "execution_count": null,
   "metadata": {},
   "outputs": [],
   "source": []
  },
  {
   "cell_type": "code",
   "execution_count": null,
   "metadata": {},
   "outputs": [],
   "source": []
  }
 ],
 "metadata": {
  "colab": {
   "name": "2021.02.27_Extract_NHD_Variables_Copy.ipynb",
   "provenance": []
  },
  "kernelspec": {
   "display_name": "Python 3",
   "language": "python",
   "name": "python3"
  },
  "language_info": {
   "codemirror_mode": {
    "name": "ipython",
    "version": 3
   },
   "file_extension": ".py",
   "mimetype": "text/x-python",
   "name": "python",
   "nbconvert_exporter": "python",
   "pygments_lexer": "ipython3",
   "version": "3.9.2"
  }
 },
 "nbformat": 4,
 "nbformat_minor": 1
}
