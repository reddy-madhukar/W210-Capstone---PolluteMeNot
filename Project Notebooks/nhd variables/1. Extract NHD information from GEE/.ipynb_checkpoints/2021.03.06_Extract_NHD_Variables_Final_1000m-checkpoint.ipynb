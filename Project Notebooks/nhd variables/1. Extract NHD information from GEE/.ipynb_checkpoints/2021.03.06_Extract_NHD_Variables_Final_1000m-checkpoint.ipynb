{
 "cells": [
  {
   "cell_type": "markdown",
   "metadata": {
    "id": "4c9iIwPU-2eG"
   },
   "source": [
    "# Notebook to extract variables out of NHD database\n"
   ]
  },
  {
   "cell_type": "code",
   "execution_count": 19,
   "metadata": {},
   "outputs": [],
   "source": [
    "#ee\n",
    "PATCH_SIZE = 500"
   ]
  },
  {
   "cell_type": "markdown",
   "metadata": {
    "id": "moOhZ19C_Alv"
   },
   "source": [
    "Originally 2021.02.23_ExportImagestoGCS_MR1_Copy.ipynb"
   ]
  },
  {
   "cell_type": "markdown",
   "metadata": {
    "id": "6f36_nSgAAOP"
   },
   "source": [
    "# Authentications"
   ]
  },
  {
   "cell_type": "code",
   "execution_count": 20,
   "metadata": {
    "id": "SOhZOzOln96G"
   },
   "outputs": [],
   "source": [
    "import pandas as pd\n",
    "import numpy as np\n",
    "import time\n",
    "import ee\n",
    "import pickle\n",
    "ee.Initialize()"
   ]
  },
  {
   "cell_type": "markdown",
   "metadata": {
    "id": "ggwS5nwCFiHw"
   },
   "source": [
    "# Set up bounding box"
   ]
  },
  {
   "cell_type": "code",
   "execution_count": 21,
   "metadata": {
    "id": "JSFWBtG4Fv9X"
   },
   "outputs": [],
   "source": [
    "def square(lat, lon, size):\n",
    "  crs_proj = \"EPSG:4326\"  \n",
    "  return ee.Geometry.Point([lon, lat], proj=crs_proj).buffer(size).bounds()"
   ]
  },
  {
   "cell_type": "markdown",
   "metadata": {
    "id": "j-TjA3PuBurs"
   },
   "source": [
    "# NHDPlus"
   ]
  },
  {
   "cell_type": "code",
   "execution_count": 22,
   "metadata": {
    "id": "D5HrUlzVe5wR"
   },
   "outputs": [],
   "source": [
    "def fc(nhd_folder_num, feature): # fc for feature collection\n",
    "  \"\"\"\n",
    "\n",
    "  Function calls the individual GEE asset correspondiing to shapefiles in \n",
    "  subfolder of NHDPlus V2 dataset\n",
    "\n",
    "  nhd_num: number indicating which subfolder in the NHDPlus dataset\n",
    "  \"\"\"\n",
    "\n",
    "  # start with empty feature collection\n",
    "  merged = ee.FeatureCollection([None])\n",
    "\n",
    "  # convert '1' into '01' etc\n",
    "  if nhd_folder_num < 10:\n",
    "    num = \"0\" + str(nhd_folder_num)\n",
    "  else:\n",
    "    num = str(nhd_folder_num)\n",
    "\n",
    "  # add suffix corresponding to how the subfolders were named\n",
    "  if nhd_folder_num == 3:\n",
    "    for direction in ['N', 'S', 'W']:\n",
    "      merged = merged.merge((ee.FeatureCollection(\"users/madhukarreddy/NHDPlus\" \n",
    "                                                  + num + direction \n",
    "                                                  + \"_\" + feature)))\n",
    "  elif nhd_folder_num == 10:\n",
    "    for direction in ['L', 'U']:\n",
    "      merged = merged.merge((ee.FeatureCollection(\"users/madhukarreddy/NHDPlus\" \n",
    "                                                  + num + direction \n",
    "                                                  + \"_\" + feature)))\n",
    "  else:\n",
    "    merged = merged.merge((ee.FeatureCollection(\"users/madhukarreddy/NHDPlus\" \n",
    "                                                + num + \"_\" \n",
    "                                                + feature)))\n",
    "  return merged"
   ]
  },
  {
   "cell_type": "code",
   "execution_count": 23,
   "metadata": {
    "id": "dvBSoW1i-Yr8"
   },
   "outputs": [],
   "source": [
    "def merge_fc(feature):\n",
    "  \"\"\"\n",
    "\n",
    "  Joins all the shapefiles across the US\n",
    "\n",
    "  feature: \"Waterbodies\" or \"Flowlines\"\n",
    "  \"\"\"\n",
    "  merged_fc_ = ee.FeatureCollection([None])\n",
    "  for i in range(1,19):\n",
    "    merged_fc_ = merged_fc_.merge(fc(i, feature))\n",
    "  return merged_fc_\n",
    "\n",
    "fc_wb = merge_fc(\"Waterbodies\")\n",
    "fc_fl = merge_fc(\"Flowlines\")"
   ]
  },
  {
   "cell_type": "markdown",
   "metadata": {
    "id": "oJ25HijxChrp"
   },
   "source": [
    "# NHD parameter retrieval"
   ]
  },
  {
   "cell_type": "code",
   "execution_count": 24,
   "metadata": {
    "id": "drKWGsUbPeK4"
   },
   "outputs": [],
   "source": [
    "# waterbodies\n",
    "# key imp properties: COMID, FTYPE, GNIS_NAME, AREASQKM\n",
    "\n",
    "# How do you combine these?:\n",
    "# FTYPE: join the strings for later usage (OHE)\n",
    "# GNIS_NAME: sum all of the OHE name present vs absent\n",
    "# AREASQKM: sum of all\n",
    "\n",
    "# Given a lat, lon, find the above parameters"
   ]
  },
  {
   "cell_type": "code",
   "execution_count": 25,
   "metadata": {},
   "outputs": [],
   "source": [
    "# return multiple fields\n",
    "def nhd_vars(feature=\"Waterbodies\", lat=41.638, lon=-122.0048, size=1000):\n",
    "  \"\"\"\n",
    "\n",
    "  For a given lat, lon, return multiple GEE variables\n",
    "  \"\"\"\n",
    "  \n",
    "  comid_list = [] # n-digit number\n",
    "  ftype_str = [] # str\n",
    "  fl_length = [] # float\n",
    "  wb_area = [] # float\n",
    "  gnis_id = [] # n-digit number\n",
    "  fcode = [] # n-digit number\n",
    "\n",
    "\n",
    "\n",
    "  try:\n",
    "    if feature == \"Waterbodies\":\n",
    "      fc = fc_wb.filterBounds(square(lat, lon, size))\n",
    "    else:\n",
    "      fc = fc_fl.filterBounds(square(lat, lon, size))\n",
    "      \n",
    "    \n",
    "    fc_getInfo = fc.getInfo().get('features')\n",
    "    num_of_features = len(fc_getInfo)\n",
    "    print(\"number of features =\", num_of_features)\n",
    "    \n",
    "    for feat in range(num_of_features):\n",
    "      comid_list.append(fc_getInfo[feat].get('properties').get('COMID'))\n",
    "\n",
    "      ftype_str.append(fc_getInfo[feat].get('properties').get('FTYPE'))\n",
    "      \n",
    "      gnis_id.append(fc_getInfo[feat].get('properties').get('GNIS_ID'))\n",
    "      \n",
    "      if feature == \"Waterbodies\":\n",
    "        wb_area.append(fc_getInfo[feat].get('properties').get('AREASQKM'))\n",
    "      else:\n",
    "        wb_area.append(np.nan)\n",
    "      \n",
    "      if feature == \"Flowlines\":\n",
    "        fl_length.append(fc_getInfo[feat].get('properties').get('LENGTHKM'))\n",
    "      else:\n",
    "        fl_length.append(np.nan)\n",
    "        \n",
    "      fcode.append(fc_getInfo[feat].get('properties').get('FCODE'))\n",
    "\n",
    "    return comid_list, ftype_str, gnis_id, wb_area, fl_length, fcode\n",
    "  except Exception as e:\n",
    "    print(e)\n",
    "    print(\"Issue with {0} at lat={1}, lon={2}\".format(feature, lat, lon))\n",
    "    return np.nan"
   ]
  },
  {
   "cell_type": "code",
   "execution_count": 26,
   "metadata": {
    "id": "2bcRIItG4bu7"
   },
   "outputs": [],
   "source": [
    "# read in the nhd addendum file\n",
    "\n",
    "nhd_stats = pd.read_csv(\"nhd_stats_AI.csv\")\n",
    "\n",
    "# read in csv file with SSURGO variables\n",
    "# df_m = pd.read_csv(\"combined_regular_clean_with_ssurgo_variables.csv\")\n",
    "df_m = pd.read_pickle(\"cwr_nwpr_dataset\")"
   ]
  },
  {
   "cell_type": "code",
   "execution_count": 27,
   "metadata": {},
   "outputs": [],
   "source": [
    "def extract_nhd_variables(df_m_, i, size):\n",
    "\n",
    "  df_m_[\"nhd_vars_wb\"] = df_m_.apply(lambda x: nhd_vars(feature=\"Waterbodies\", lat=x.latitude, lon=x.longitude, size=size), axis=1)\n",
    "  df_m_[\"nhd_vars_fl\"] = df_m_.apply(lambda x: nhd_vars(feature=\"Flowlines\", lat=x.latitude, lon=x.longitude, size=size), axis=1)\n",
    "\n",
    "  # pickle the dataframe \n",
    "#   df_m_.to_pickle('NHD_extracted_vars_2.5kmX2.5km_with_fcode_ftype/2.5kmX2.5km_nhd_variables_part' + str(i))\n",
    "  pickle.dump(df_m_, open(\"NHD_extracted_vars_cwr_nwpr_\" + \n",
    "                          str(2 * PATCH_SIZE) + \"mX\" + \n",
    "                          str(2 * PATCH_SIZE) + \"m_with_fcode_ftype/\" + \n",
    "                          str(2 * PATCH_SIZE) + \"mX\" + str(2 * PATCH_SIZE) + \n",
    "                          \"m_nhd_variables_part\" + str(i),\"wb\"), \n",
    "              protocol=3)        "
   ]
  },
  {
   "cell_type": "code",
   "execution_count": 28,
   "metadata": {},
   "outputs": [
    {
     "name": "stdout",
     "output_type": "stream",
     "text": [
      "2021-04-02 22:20:11.770805\n"
     ]
    }
   ],
   "source": [
    "from datetime import datetime\n",
    "print(datetime.now())"
   ]
  },
  {
   "cell_type": "code",
   "execution_count": 29,
   "metadata": {
    "colab": {
     "base_uri": "https://localhost:8080/"
    },
    "id": "OJ7imBRFtzdI",
    "outputId": "17f4a2d4-a6bd-41cf-efed-d43001734eec"
   },
   "outputs": [
    {
     "name": "stdout",
     "output_type": "stream",
     "text": [
      "batch 65 of 10 started\n",
      "number of features = 0\n",
      "number of features = 1\n",
      "number of features = 0\n",
      "number of features = 1\n",
      "number of features = 0\n",
      "number of features = 0\n",
      "number of features = 1\n",
      "number of features = 0\n",
      "number of features = 0\n",
      "number of features = 0\n",
      "number of features = 0\n",
      "number of features = 0\n",
      "number of features = 0\n",
      "number of features = 2\n",
      "number of features = 0\n",
      "number of features = 1\n",
      "number of features = 0\n",
      "number of features = 0\n",
      "number of features = 3\n",
      "number of features = 1\n",
      "number of features = 1\n",
      "number of features = 0\n",
      "number of features = 1\n",
      "number of features = 3\n",
      "number of features = 1\n",
      "number of features = 1\n",
      "number of features = 2\n",
      "number of features = 1\n",
      "number of features = 1\n",
      "number of features = 1\n",
      "number of features = 1\n",
      "number of features = 3\n",
      "number of features = 0\n",
      "number of features = 1\n",
      "number of features = 1\n",
      "number of features = 0\n",
      "batch 65 of 10 done\n"
     ]
    }
   ],
   "source": [
    "# pass in batches of 500\n",
    "# MADHUKAR: 0 - 5000 \n",
    "# SHOBHA: 5000 - 10000\n",
    "# RADHIKA: 10000 - 15000\n",
    "\n",
    "# PATCH_SIZE = 500\n",
    "batch_size = 50\n",
    "MY_NAME = \"MADHUKAR\"\n",
    "START = 0 + 5000 * (MY_NAME == \"SHOBHA\") + 10000 * (MY_NAME == \"RADHIKA\")\n",
    "# batch = 64\n",
    "# for batch in range(10, df_m.shape[0]//50):\n",
    "for batch in [64]:\n",
    "  print(\"batch {} of 10 started\".format(batch + 1))\n",
    "  batch_df = df_m[START + batch_size * batch : START + batch_size * (batch + 1)].copy()\n",
    "  extract_nhd_variables(batch_df, (START + batch_size * batch) + 1, PATCH_SIZE)\n",
    "  print(\"batch {} of 10 done\".format(batch + 1))\n"
   ]
  },
  {
   "cell_type": "code",
   "execution_count": 12,
   "metadata": {},
   "outputs": [],
   "source": [
    "# # pass in batches of 500\n",
    "# # MADHUKAR: 0 - 5000 \n",
    "# # SHOBHA: 5000 - 10000\n",
    "# # RADHIKA: 10000 - 15000\n",
    "\n",
    "# batch_size = 500\n",
    "# MY_NAME = \"SHOBHA\"\n",
    "# START = 0 + 5000 * (MY_NAME == \"SHOBHA\") + 10000 * (MY_NAME == \"RADHIKA\")\n",
    "\n",
    "# for batch in range(10):\n",
    "#   print(\"batch {} of 10 started\".format(batch + 1))\n",
    "#   batch_df = df_m[START + batch_size * batch : START + batch_size * (batch + 1)].copy()\n",
    "#   extract_nhd_variables(batch_df, (START + batch_size * batch) + 1, PATCH_SIZE)\n",
    "#   print(\"batch {} of 10 done\".format(batch + 1))\n"
   ]
  },
  {
   "cell_type": "code",
   "execution_count": 13,
   "metadata": {},
   "outputs": [],
   "source": [
    "# # pass in batches of 500\n",
    "# # MADHUKAR: 0 - 5000 \n",
    "# # SHOBHA: 5000 - 10000\n",
    "# # RADHIKA: 10000 - 15000\n",
    "\n",
    "# batch_size = 500\n",
    "# MY_NAME = \"RADHIKA\"\n",
    "# START = 0 + 5000 * (MY_NAME == \"SHOBHA\") + 10000 * (MY_NAME == \"RADHIKA\")\n",
    "\n",
    "# for batch in range(10):\n",
    "#   print(\"batch {} of 10 started\".format(batch + 1))\n",
    "#   batch_df = df_m[START + batch_size * batch : START + batch_size * (batch + 1)].copy()\n",
    "#   extract_nhd_variables(batch_df, (START + batch_size * batch) + 1, PATCH_SIZE)\n",
    "#   print(\"batch {} of 10 done\".format(batch + 1))\n"
   ]
  },
  {
   "cell_type": "code",
   "execution_count": 14,
   "metadata": {},
   "outputs": [
    {
     "name": "stdout",
     "output_type": "stream",
     "text": [
      "2021-04-02 20:53:54.042306\n"
     ]
    }
   ],
   "source": [
    "from datetime import datetime\n",
    "print(datetime.now())"
   ]
  },
  {
   "cell_type": "code",
   "execution_count": 15,
   "metadata": {
    "colab": {
     "base_uri": "https://localhost:8080/",
     "height": 185
    },
    "id": "Wyr-kwm5PDnq",
    "outputId": "26ad02d0-dbbe-468b-c923-d5837819a20f"
   },
   "outputs": [
    {
     "data": {
      "text/plain": [
       "14324                             ([], [], [], [], [], [])\n",
       "14339                             ([], [], [], [], [], [])\n",
       "14346                             ([], [], [], [], [], [])\n",
       "14348                             ([], [], [], [], [], [])\n",
       "14378    ([4833766, 4833678, 22324549], [LakePond, Lake...\n",
       "14395                             ([], [], [], [], [], [])\n",
       "14540                             ([], [], [], [], [], [])\n",
       "14604                             ([], [], [], [], [], [])\n",
       "14609                             ([], [], [], [], [], [])\n",
       "14659                             ([], [], [], [], [], [])\n",
       "14668                             ([], [], [], [], [], [])\n",
       "14680    ([22560220], [LakePond], [], [0.052], [nan], [...\n",
       "14691                             ([], [], [], [], [], [])\n",
       "14693    ([4254754, 4254522], [SwampMarsh, SwampMarsh],...\n",
       "14696    ([1098974], [LakePond], [649938], [1.192], [na...\n",
       "14723                             ([], [], [], [], [], [])\n",
       "14726                             ([], [], [], [], [], [])\n",
       "14727    ([4254778], [SwampMarsh], [], [0.411], [nan], ...\n",
       "14732                             ([], [], [], [], [], [])\n",
       "14733                             ([], [], [], [], [], [])\n",
       "14745                             ([], [], [], [], [], [])\n",
       "14746                             ([], [], [], [], [], [])\n",
       "14747    ([14785653, 14785661, 14785667, 14785665, 1478...\n",
       "14750    ([14770416], [LakePond], [1692107], [0.03], [n...\n",
       "14755                             ([], [], [], [], [], [])\n",
       "14760                             ([], [], [], [], [], [])\n",
       "14781                             ([], [], [], [], [], [])\n",
       "14784                             ([], [], [], [], [], [])\n",
       "14787                             ([], [], [], [], [], [])\n",
       "14796                             ([], [], [], [], [], [])\n",
       "14801    ([120054678, 9437545], [SwampMarsh, SwampMarsh...\n",
       "14802                             ([], [], [], [], [], [])\n",
       "14803                             ([], [], [], [], [], [])\n",
       "14810                             ([], [], [], [], [], [])\n",
       "14818                             ([], [], [], [], [], [])\n",
       "14820                             ([], [], [], [], [], [])\n",
       "14827                             ([], [], [], [], [], [])\n",
       "14830    ([14786513, 14786503], [LakePond, LakePond], [...\n",
       "14832    ([904140245], [LakePond], [1075813], [12045.52...\n",
       "14835                             ([], [], [], [], [], [])\n",
       "14837                             ([], [], [], [], [], [])\n",
       "14871                             ([], [], [], [], [], [])\n",
       "14874                             ([], [], [], [], [], [])\n",
       "14878    ([2387732], [LakePond], [648208], [0.242], [na...\n",
       "14894    ([4855989, 4970029], [LakePond, SwampMarsh], [...\n",
       "14895                             ([], [], [], [], [], [])\n",
       "14902                             ([], [], [], [], [], [])\n",
       "14906                             ([], [], [], [], [], [])\n",
       "14977    ([24539792], [LakePond], [], [0.018], [nan], [...\n",
       "14993                             ([], [], [], [], [], [])\n",
       "Name: nhd_vars_wb, dtype: object"
      ]
     },
     "execution_count": 15,
     "metadata": {},
     "output_type": "execute_result"
    }
   ],
   "source": [
    "#read the file\n",
    "# df_m_test = pd.read_csv('NHD_extracted_vars/combined_regular_clean_with_ssurgo_nhd_variables_part1.csv')\n",
    "df_m_test = pd.read_pickle(\"NHD_extracted_vars_cwr_nwpr_\" + \n",
    "                          str(2 * PATCH_SIZE) + \"mX\" + \n",
    "                          str(2 * PATCH_SIZE) + \"m_with_fcode_ftype/\" + \n",
    "                          str(2 * PATCH_SIZE) + \"mX\" + str(2 * PATCH_SIZE) + \n",
    "                          \"m_nhd_variables_part1\")\n",
    "df_m_test.nhd_vars_wb\n"
   ]
  },
  {
   "cell_type": "code",
   "execution_count": 16,
   "metadata": {},
   "outputs": [
    {
     "name": "stdout",
     "output_type": "stream",
     "text": [
      "([], [], [], [], [], [])\n",
      "([], [], [], [], [], [])\n",
      "([], [], [], [], [], [])\n",
      "([], [], [], [], [], [])\n",
      "([4833766, 4833678, 22324549], ['LakePond', 'LakePond', 'SwampMarsh'], ['657069', '656704', ''], [0.194, 0.275, 4.705], [nan, nan, nan], [39004, 39004, 46600])\n",
      "([], [], [], [], [], [])\n",
      "([], [], [], [], [], [])\n",
      "([], [], [], [], [], [])\n",
      "([], [], [], [], [], [])\n",
      "([], [], [], [], [], [])\n",
      "([], [], [], [], [], [])\n",
      "([22560220], ['LakePond'], [''], [0.052], [nan], [39001])\n",
      "([], [], [], [], [], [])\n",
      "([4254754, 4254522], ['SwampMarsh', 'SwampMarsh'], ['', ''], [0.741, 0.62], [nan, nan], [46600, 46600])\n",
      "([1098974], ['LakePond'], ['649938'], [1.192], [nan], [39004])\n",
      "([], [], [], [], [], [])\n",
      "([], [], [], [], [], [])\n",
      "([4254778], ['SwampMarsh'], [''], [0.411], [nan], [46600])\n",
      "([], [], [], [], [], [])\n",
      "([], [], [], [], [], [])\n",
      "([], [], [], [], [], [])\n",
      "([], [], [], [], [], [])\n",
      "([14785653, 14785661, 14785667, 14785665, 14785659, 14785657], ['LakePond', 'LakePond', 'LakePond', 'LakePond', 'LakePond', 'LakePond'], ['', '', '', '', '', ''], [0.112, 0.135, 0.009, 0.025, 0.017, 0.011], [nan, nan, nan, nan, nan, nan], [39004, 39004, 39004, 39004, 39004, 39004])\n",
      "([14770416], ['LakePond'], ['1692107'], [0.03], [nan], [39004])\n",
      "([], [], [], [], [], [])\n",
      "([], [], [], [], [], [])\n",
      "([], [], [], [], [], [])\n",
      "([], [], [], [], [], [])\n",
      "([], [], [], [], [], [])\n",
      "([], [], [], [], [], [])\n",
      "([120054678, 9437545], ['SwampMarsh', 'SwampMarsh'], ['', ''], [35.347, 0.142], [nan, nan], [46600, 46600])\n",
      "([], [], [], [], [], [])\n",
      "([], [], [], [], [], [])\n",
      "([], [], [], [], [], [])\n",
      "([], [], [], [], [], [])\n",
      "([], [], [], [], [], [])\n",
      "([], [], [], [], [], [])\n",
      "([14786513, 14786503], ['LakePond', 'LakePond'], ['', ''], [0.038, 0.016], [nan, nan], [39004, 39004])\n",
      "([904140245], ['LakePond'], ['1075813'], [12045.529], [nan], [39009])\n",
      "([], [], [], [], [], [])\n",
      "([], [], [], [], [], [])\n",
      "([], [], [], [], [], [])\n",
      "([], [], [], [], [], [])\n",
      "([2387732], ['LakePond'], ['648208'], [0.242], [nan], [39004])\n",
      "([4855989, 4970029], ['LakePond', 'SwampMarsh'], ['648992', ''], [0.177, 1.554], [nan, nan], [39004, 46600])\n",
      "([], [], [], [], [], [])\n",
      "([], [], [], [], [], [])\n",
      "([], [], [], [], [], [])\n",
      "([24539792], ['LakePond'], [''], [0.018], [nan], [39004])\n",
      "([], [], [], [], [], [])\n"
     ]
    },
    {
     "data": {
      "text/plain": [
       "[None,\n",
       " None,\n",
       " None,\n",
       " None,\n",
       " None,\n",
       " None,\n",
       " None,\n",
       " None,\n",
       " None,\n",
       " None,\n",
       " None,\n",
       " None,\n",
       " None,\n",
       " None,\n",
       " None,\n",
       " None,\n",
       " None,\n",
       " None,\n",
       " None,\n",
       " None,\n",
       " None,\n",
       " None,\n",
       " None,\n",
       " None,\n",
       " None,\n",
       " None,\n",
       " None,\n",
       " None,\n",
       " None,\n",
       " None,\n",
       " None,\n",
       " None,\n",
       " None,\n",
       " None,\n",
       " None,\n",
       " None,\n",
       " None,\n",
       " None,\n",
       " None,\n",
       " None,\n",
       " None,\n",
       " None,\n",
       " None,\n",
       " None,\n",
       " None,\n",
       " None,\n",
       " None,\n",
       " None,\n",
       " None,\n",
       " None]"
      ]
     },
     "execution_count": 16,
     "metadata": {},
     "output_type": "execute_result"
    }
   ],
   "source": [
    "[print(item) for item in df_m_test.nhd_vars_wb]"
   ]
  },
  {
   "cell_type": "code",
   "execution_count": 17,
   "metadata": {},
   "outputs": [
    {
     "name": "stdout",
     "output_type": "stream",
     "text": [
      "([20324433, 20324437], ['StreamRiver', 'StreamRiver'], ['', ''], [nan, nan], [2.179, 1.471], [46003, 46003])\n",
      "([22338541], ['StreamRiver'], ['1469616'], [nan], [3.595], [46006])\n",
      "([22340313, 22338847], ['StreamRiver', 'StreamRiver'], ['1478084', '1469782'], [nan, nan], [3.173, 3.123], [46006, 46003])\n",
      "([14785817], ['StreamRiver'], ['422161'], [nan], [1.7], [46003])\n",
      "([4835432, 4836616, 4837010], ['StreamRiver', 'ArtificialPath', 'ArtificialPath'], ['', '', ''], [nan, nan, nan], [0.407, 1.257, 0.759], [46006, 55800, 55800])\n",
      "([], [], [], [], [], [])\n",
      "([3882814], ['StreamRiver'], [''], [nan], [2.975], [46003])\n",
      "([], [], [], [], [], [])\n",
      "([18414727], ['StreamRiver'], [''], [nan], [2.146], [46006])\n",
      "([1100076], ['StreamRiver'], [''], [nan], [2.076], [46003])\n",
      "([], [], [], [], [], [])\n",
      "([22563042, 22560452, 22560470, 22560484, 22560486, 22560482, 22560444, 22563360, 22563026, 22560448, 22560456], ['Pipeline', 'CanalDitch', 'CanalDitch', 'CanalDitch', 'CanalDitch', 'CanalDitch', 'StreamRiver', 'ArtificialPath', 'StreamRiver', 'StreamRiver', 'StreamRiver'], ['', '', '', '', '', '', '', '', '273539', '273539', '273539'], [nan, nan, nan, nan, nan, nan, nan, nan, nan, nan, nan], [4.954, 0.579, 0.616, 0.599, 1.176, 0.268, 0.382, 0.273, 1.323, 0.344, 0.257], [42803, 33600, 33600, 33600, 33600, 33600, 46003, 55800, 46006, 46006, 46006])\n",
      "([4253010], ['StreamRiver'], [''], [nan], [1.545], [46003])\n",
      "([2353786], ['StreamRiver'], ['663175'], [nan], [3.497], [46006])\n",
      "([], [], [], [], [], [])\n",
      "([], [], [], [], [], [])\n",
      "([11689394, 11689398, 11689402], ['StreamRiver', 'StreamRiver', 'StreamRiver'], ['584073', '584073', ''], [nan, nan, nan], [1.157, 1.191, 0.785], [46006, 46006, 46006])\n",
      "([2386780], ['StreamRiver'], [''], [nan], [2.873], [46006])\n",
      "([22131647], ['StreamRiver'], [''], [nan], [1.902], [46006])\n",
      "([], [], [], [], [], [])\n",
      "([], [], [], [], [], [])\n",
      "([], [], [], [], [], [])\n",
      "([14786195, 14786023, 14786031], ['CanalDitch', 'StreamRiver', 'StreamRiver'], ['421744', '', ''], [nan, nan, nan], [5.485, 2.774, 3.026], [33600, 46006, 46003])\n",
      "([14771802], ['ArtificialPath'], ['411082'], [nan], [0.343], [55800])\n",
      "([14785323, 14785317], ['StreamRiver', 'StreamRiver'], ['', ''], [nan, nan], [1.539, 2.474], [46003, 46003])\n",
      "([6658277], ['StreamRiver'], [''], [nan], [2.814], [46003])\n",
      "([], [], [], [], [], [])\n",
      "([2387086, 2387094, 2387378], ['ArtificialPath', 'ArtificialPath', 'StreamRiver'], ['663182', '659759', '663182'], [nan, nan, nan], [0.012, 1.986, 4.812], [55800, 55800, 46006])\n",
      "([], [], [], [], [], [])\n",
      "([2463745, 2463747], ['StreamRiver', 'StreamRiver'], ['', ''], [nan, nan], [1.646, 1.691], [46003, 46003])\n",
      "([8077574, 8077570, 8077778, 8077782, 8077786, 8078006, 8080212, 8077780, 8077784, 8076884, 8076896, 8076886], ['CanalDitch', 'StreamRiver', 'ArtificialPath', 'ArtificialPath', 'ArtificialPath', 'Coastline', 'ArtificialPath', 'ArtificialPath', 'ArtificialPath', 'StreamRiver', 'StreamRiver', 'StreamRiver'], ['213773', '', '213773', '213773', '213773', '', '', '', '', '', '', ''], [nan, nan, nan, nan, nan, nan, nan, nan, nan, nan, nan, nan], [0.585, 0.637, 0.73, 0.306, 0.14, 9.093, 0.171, 0.032, 0.049, 0.938, 0.414, 1.276], [33600, 46006, 55800, 55800, 55800, 56600, 55800, 55800, 55800, 46006, 46006, 46006])\n",
      "([], [], [], [], [], [])\n",
      "([19391442, 19391468, 25021698, 19393044], ['StreamRiver', 'StreamRiver', 'ArtificialPath', 'ArtificialPath'], ['', '1066721', '1067076', ''], [nan, nan, nan, nan], [3.733, 3.172, 0.364, 0.034], [46003, 46006, 55800, 55800])\n",
      "([], [], [], [], [], [])\n",
      "([], [], [], [], [], [])\n",
      "([8273237], ['StreamRiver'], [''], [nan], [2.852], [46003])\n",
      "([14771054, 14771052, 14771046, 14771050, 14771048], ['StreamRiver', 'StreamRiver', 'StreamRiver', 'StreamRiver', 'StreamRiver'], ['1808349', '1808349', '1808349', '', ''], [nan, nan, nan, nan, nan], [1.473, 0.3, 0.862, 2.723, 1.144], [46006, 46006, 46006, 46006, 46006])\n",
      "([14787369, 14787655], ['StreamRiver', 'ArtificialPath'], ['422098', '422098'], [nan, nan], [5.722, 0.248], [46006, 55800])\n",
      "([9842358, 28123906], ['Coastline', 'Coastline'], ['', ''], [nan, nan], [6.095, 2.594], [56600, 56600])\n",
      "([], [], [], [], [], [])\n",
      "([4252518], ['CanalDitch'], [''], [nan], [2.348], [33600])\n",
      "([8476014], ['StreamRiver'], ['1466304'], [nan], [0.867], [46006])\n",
      "([24688709], ['ArtificialPath'], ['1654949'], [nan], [5.133], [55800])\n",
      "([2388128, 2388132, 2388456], ['CanalDitch', 'StreamRiver', 'ArtificialPath'], ['', '', ''], [nan, nan, nan], [0.067, 3.175, 0.486], [33600, 46003, 55800])\n",
      "([], [], [], [], [], [])\n",
      "([], [], [], [], [], [])\n",
      "([], [], [], [], [], [])\n",
      "([10082032], ['StreamRiver'], [''], [nan], [8.283], [46006])\n",
      "([], [], [], [], [], [])\n",
      "([10472673, 10472723, 10472721, 10472733, 10472731, 10472739, 10472741, 10472743, 10472747, 10472749, 10472759, 10472763, 10472765, 10472767, 10472769, 10472771, 10472787, 10472775, 10472797, 10472833, 10472839], ['CanalDitch', 'CanalDitch', 'CanalDitch', 'CanalDitch', 'CanalDitch', 'CanalDitch', 'CanalDitch', 'CanalDitch', 'CanalDitch', 'CanalDitch', 'CanalDitch', 'CanalDitch', 'CanalDitch', 'CanalDitch', 'CanalDitch', 'CanalDitch', 'CanalDitch', 'CanalDitch', 'CanalDitch', 'CanalDitch', 'CanalDitch'], ['', '', '', '', '', '', '', '', '', '', '', '', '', '', '', '', '', '', '', '', ''], [nan, nan, nan, nan, nan, nan, nan, nan, nan, nan, nan, nan, nan, nan, nan, nan, nan, nan, nan, nan, nan], [0.222, 0.258, 0.536, 0.258, 0.264, 0.159, 0.307, 0.068, 0.723, 0.192, 0.141, 0.108, 0.191, 0.308, 0.269, 0.15, 0.593, 0.412, 0.329, 0.287, 0.743], [33600, 33600, 33600, 33600, 33600, 33600, 33600, 33600, 33600, 33600, 33600, 33600, 33600, 33600, 33600, 33600, 33600, 33600, 33600, 33600, 33600])\n"
     ]
    },
    {
     "data": {
      "text/plain": [
       "[None]"
      ]
     },
     "execution_count": 17,
     "metadata": {},
     "output_type": "execute_result"
    }
   ],
   "source": [
    "[print(item) for item in df_m_test.nhd_vars_fl][:1]"
   ]
  },
  {
   "cell_type": "code",
   "execution_count": 18,
   "metadata": {},
   "outputs": [
    {
     "data": {
      "text/plain": [
       "14324    ([20324433, 20324437], [StreamRiver, StreamRiv...\n",
       "14339    ([22338541], [StreamRiver], [1469616], [nan], ...\n",
       "14346    ([22340313, 22338847], [StreamRiver, StreamRiv...\n",
       "14348    ([14785817], [StreamRiver], [422161], [nan], [...\n",
       "14378    ([4835432, 4836616, 4837010], [StreamRiver, Ar...\n",
       "14395                             ([], [], [], [], [], [])\n",
       "14540    ([3882814], [StreamRiver], [], [nan], [2.975],...\n",
       "14604                             ([], [], [], [], [], [])\n",
       "14609    ([18414727], [StreamRiver], [], [nan], [2.146]...\n",
       "14659    ([1100076], [StreamRiver], [], [nan], [2.076],...\n",
       "14668                             ([], [], [], [], [], [])\n",
       "14680    ([22563042, 22560452, 22560470, 22560484, 2256...\n",
       "14691    ([4253010], [StreamRiver], [], [nan], [1.545],...\n",
       "14693    ([2353786], [StreamRiver], [663175], [nan], [3...\n",
       "14696                             ([], [], [], [], [], [])\n",
       "14723                             ([], [], [], [], [], [])\n",
       "14726    ([11689394, 11689398, 11689402], [StreamRiver,...\n",
       "14727    ([2386780], [StreamRiver], [], [nan], [2.873],...\n",
       "14732    ([22131647], [StreamRiver], [], [nan], [1.902]...\n",
       "14733                             ([], [], [], [], [], [])\n",
       "14745                             ([], [], [], [], [], [])\n",
       "14746                             ([], [], [], [], [], [])\n",
       "14747    ([14786195, 14786023, 14786031], [CanalDitch, ...\n",
       "14750    ([14771802], [ArtificialPath], [411082], [nan]...\n",
       "14755    ([14785323, 14785317], [StreamRiver, StreamRiv...\n",
       "14760    ([6658277], [StreamRiver], [], [nan], [2.814],...\n",
       "14781                             ([], [], [], [], [], [])\n",
       "14784    ([2387086, 2387094, 2387378], [ArtificialPath,...\n",
       "14787                             ([], [], [], [], [], [])\n",
       "14796    ([2463745, 2463747], [StreamRiver, StreamRiver...\n",
       "14801    ([8077574, 8077570, 8077778, 8077782, 8077786,...\n",
       "14802                             ([], [], [], [], [], [])\n",
       "14803    ([19391442, 19391468, 25021698, 19393044], [St...\n",
       "14810                             ([], [], [], [], [], [])\n",
       "14818                             ([], [], [], [], [], [])\n",
       "14820    ([8273237], [StreamRiver], [], [nan], [2.852],...\n",
       "14827    ([14771054, 14771052, 14771046, 14771050, 1477...\n",
       "14830    ([14787369, 14787655], [StreamRiver, Artificia...\n",
       "14832    ([9842358, 28123906], [Coastline, Coastline], ...\n",
       "14835                             ([], [], [], [], [], [])\n",
       "14837    ([4252518], [CanalDitch], [], [nan], [2.348], ...\n",
       "14871    ([8476014], [StreamRiver], [1466304], [nan], [...\n",
       "14874    ([24688709], [ArtificialPath], [1654949], [nan...\n",
       "14878    ([2388128, 2388132, 2388456], [CanalDitch, Str...\n",
       "14894                             ([], [], [], [], [], [])\n",
       "14895                             ([], [], [], [], [], [])\n",
       "14902                             ([], [], [], [], [], [])\n",
       "14906    ([10082032], [StreamRiver], [], [nan], [8.283]...\n",
       "14977                             ([], [], [], [], [], [])\n",
       "14993    ([10472673, 10472723, 10472721, 10472733, 1047...\n",
       "Name: nhd_vars_fl, dtype: object"
      ]
     },
     "execution_count": 18,
     "metadata": {},
     "output_type": "execute_result"
    }
   ],
   "source": [
    "df_m_test.nhd_vars_fl"
   ]
  },
  {
   "cell_type": "code",
   "execution_count": null,
   "metadata": {},
   "outputs": [],
   "source": []
  },
  {
   "cell_type": "code",
   "execution_count": null,
   "metadata": {},
   "outputs": [],
   "source": []
  },
  {
   "cell_type": "code",
   "execution_count": null,
   "metadata": {},
   "outputs": [],
   "source": []
  }
 ],
 "metadata": {
  "colab": {
   "name": "2021.02.27_Extract_NHD_Variables_Copy.ipynb",
   "provenance": []
  },
  "kernelspec": {
   "display_name": "Python 3",
   "language": "python",
   "name": "python3"
  },
  "language_info": {
   "codemirror_mode": {
    "name": "ipython",
    "version": 3
   },
   "file_extension": ".py",
   "mimetype": "text/x-python",
   "name": "python",
   "nbconvert_exporter": "python",
   "pygments_lexer": "ipython3",
   "version": "3.9.2"
  }
 },
 "nbformat": 4,
 "nbformat_minor": 1
}
