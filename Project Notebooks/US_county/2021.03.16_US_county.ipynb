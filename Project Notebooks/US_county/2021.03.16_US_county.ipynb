{
 "cells": [
  {
   "cell_type": "code",
   "execution_count": 1,
   "id": "senior-partition",
   "metadata": {},
   "outputs": [
    {
     "data": {
      "text/html": [
       "<div>\n",
       "<style scoped>\n",
       "    .dataframe tbody tr th:only-of-type {\n",
       "        vertical-align: middle;\n",
       "    }\n",
       "\n",
       "    .dataframe tbody tr th {\n",
       "        vertical-align: top;\n",
       "    }\n",
       "\n",
       "    .dataframe thead th {\n",
       "        text-align: right;\n",
       "    }\n",
       "</style>\n",
       "<table border=\"1\" class=\"dataframe\">\n",
       "  <thead>\n",
       "    <tr style=\"text-align: right;\">\n",
       "      <th></th>\n",
       "      <th>jurisdiction_type</th>\n",
       "      <th>da_number</th>\n",
       "      <th>latitude</th>\n",
       "      <th>longitude</th>\n",
       "      <th>cwa_determination</th>\n",
       "      <th>Index</th>\n",
       "    </tr>\n",
       "  </thead>\n",
       "  <tbody>\n",
       "    <tr>\n",
       "      <th>14324</th>\n",
       "      <td>CWR</td>\n",
       "      <td>SPL-2015-00294</td>\n",
       "      <td>32.56200</td>\n",
       "      <td>-117.02018</td>\n",
       "      <td>1</td>\n",
       "      <td>1</td>\n",
       "    </tr>\n",
       "    <tr>\n",
       "      <th>14339</th>\n",
       "      <td>CWR</td>\n",
       "      <td>NAO-2019-02292</td>\n",
       "      <td>38.92073</td>\n",
       "      <td>-77.14066</td>\n",
       "      <td>1</td>\n",
       "      <td>2</td>\n",
       "    </tr>\n",
       "    <tr>\n",
       "      <th>14346</th>\n",
       "      <td>CWR</td>\n",
       "      <td>NAO-2019-00266</td>\n",
       "      <td>38.84361</td>\n",
       "      <td>-77.07721</td>\n",
       "      <td>1</td>\n",
       "      <td>3</td>\n",
       "    </tr>\n",
       "    <tr>\n",
       "      <th>14348</th>\n",
       "      <td>CWR</td>\n",
       "      <td>LRC-2003-22401</td>\n",
       "      <td>41.99860</td>\n",
       "      <td>-87.92959</td>\n",
       "      <td>0</td>\n",
       "      <td>4</td>\n",
       "    </tr>\n",
       "    <tr>\n",
       "      <th>14378</th>\n",
       "      <td>CWR</td>\n",
       "      <td>MVP-2019-00125</td>\n",
       "      <td>47.38801</td>\n",
       "      <td>-93.43970</td>\n",
       "      <td>0</td>\n",
       "      <td>5</td>\n",
       "    </tr>\n",
       "  </tbody>\n",
       "</table>\n",
       "</div>"
      ],
      "text/plain": [
       "      jurisdiction_type       da_number  latitude  longitude  \\\n",
       "14324               CWR  SPL-2015-00294  32.56200 -117.02018   \n",
       "14339               CWR  NAO-2019-02292  38.92073  -77.14066   \n",
       "14346               CWR  NAO-2019-00266  38.84361  -77.07721   \n",
       "14348               CWR  LRC-2003-22401  41.99860  -87.92959   \n",
       "14378               CWR  MVP-2019-00125  47.38801  -93.43970   \n",
       "\n",
       "      cwa_determination  Index  \n",
       "14324                 1      1  \n",
       "14339                 1      2  \n",
       "14346                 1      3  \n",
       "14348                 0      4  \n",
       "14378                 0      5  "
      ]
     },
     "execution_count": 1,
     "metadata": {},
     "output_type": "execute_result"
    }
   ],
   "source": [
    "import pandas as pd\n",
    "import numpy as np\n",
    "import time\n",
    "import ee\n",
    "import pickle\n",
    "ee.Initialize()\n",
    "from datetime import datetime\n",
    "# df = pd.read_csv(\"combined_regular_clean_with_ssurgo_variables.csv\")\n",
    "df = pd.read_pickle(\"cwr_nwpr_dataset\")\n",
    "# df = df.loc[:10]\n",
    "df.head()"
   ]
  },
  {
   "cell_type": "code",
   "execution_count": 2,
   "id": "dramatic-superior",
   "metadata": {},
   "outputs": [],
   "source": [
    "def square(lat=45.475649, lon=-69.471018 , size=100):\n",
    "  crs_proj = \"EPSG:4326\"  \n",
    "  return ee.Geometry.Point([lon, lat], proj=crs_proj).buffer(size).bounds()"
   ]
  },
  {
   "cell_type": "code",
   "execution_count": 3,
   "id": "advanced-contact",
   "metadata": {},
   "outputs": [
    {
     "data": {
      "text/plain": [
       "{'AFFGEOID': '0500000US23021',\n",
       " 'ALAND': 10259018201,\n",
       " 'AWATER': 1080044975,\n",
       " 'COUNTYFP': '021',\n",
       " 'COUNTYNS': '00581296',\n",
       " 'GEOID': '23021',\n",
       " 'LSAD': '06',\n",
       " 'NAME': 'Piscataquis',\n",
       " 'STATEFP': '23'}"
      ]
     },
     "execution_count": 3,
     "metadata": {},
     "output_type": "execute_result"
    }
   ],
   "source": [
    "(ee.FeatureCollection(\"users/madhukarreddy/US_county_map\")\n",
    " .filterBounds(square())\n",
    " .getInfo()\n",
    " .get(\"features\")[0]\n",
    " .get('properties'))\n",
    "#  .get('NAME'))"
   ]
  },
  {
   "cell_type": "code",
   "execution_count": 4,
   "id": "characteristic-lying",
   "metadata": {},
   "outputs": [
    {
     "data": {
      "text/html": [
       "<div>\n",
       "<style scoped>\n",
       "    .dataframe tbody tr th:only-of-type {\n",
       "        vertical-align: middle;\n",
       "    }\n",
       "\n",
       "    .dataframe tbody tr th {\n",
       "        vertical-align: top;\n",
       "    }\n",
       "\n",
       "    .dataframe thead th {\n",
       "        text-align: right;\n",
       "    }\n",
       "</style>\n",
       "<table border=\"1\" class=\"dataframe\">\n",
       "  <thead>\n",
       "    <tr style=\"text-align: right;\">\n",
       "      <th></th>\n",
       "      <th>jurisdiction_type</th>\n",
       "      <th>da_number</th>\n",
       "      <th>latitude</th>\n",
       "      <th>longitude</th>\n",
       "      <th>cwa_determination</th>\n",
       "      <th>Index</th>\n",
       "    </tr>\n",
       "  </thead>\n",
       "  <tbody>\n",
       "    <tr>\n",
       "      <th>14324</th>\n",
       "      <td>CWR</td>\n",
       "      <td>SPL-2015-00294</td>\n",
       "      <td>32.56200</td>\n",
       "      <td>-117.02018</td>\n",
       "      <td>1</td>\n",
       "      <td>1</td>\n",
       "    </tr>\n",
       "    <tr>\n",
       "      <th>14339</th>\n",
       "      <td>CWR</td>\n",
       "      <td>NAO-2019-02292</td>\n",
       "      <td>38.92073</td>\n",
       "      <td>-77.14066</td>\n",
       "      <td>1</td>\n",
       "      <td>2</td>\n",
       "    </tr>\n",
       "    <tr>\n",
       "      <th>14346</th>\n",
       "      <td>CWR</td>\n",
       "      <td>NAO-2019-00266</td>\n",
       "      <td>38.84361</td>\n",
       "      <td>-77.07721</td>\n",
       "      <td>1</td>\n",
       "      <td>3</td>\n",
       "    </tr>\n",
       "    <tr>\n",
       "      <th>14348</th>\n",
       "      <td>CWR</td>\n",
       "      <td>LRC-2003-22401</td>\n",
       "      <td>41.99860</td>\n",
       "      <td>-87.92959</td>\n",
       "      <td>0</td>\n",
       "      <td>4</td>\n",
       "    </tr>\n",
       "    <tr>\n",
       "      <th>14378</th>\n",
       "      <td>CWR</td>\n",
       "      <td>MVP-2019-00125</td>\n",
       "      <td>47.38801</td>\n",
       "      <td>-93.43970</td>\n",
       "      <td>0</td>\n",
       "      <td>5</td>\n",
       "    </tr>\n",
       "  </tbody>\n",
       "</table>\n",
       "</div>"
      ],
      "text/plain": [
       "      jurisdiction_type       da_number  latitude  longitude  \\\n",
       "14324               CWR  SPL-2015-00294  32.56200 -117.02018   \n",
       "14339               CWR  NAO-2019-02292  38.92073  -77.14066   \n",
       "14346               CWR  NAO-2019-00266  38.84361  -77.07721   \n",
       "14348               CWR  LRC-2003-22401  41.99860  -87.92959   \n",
       "14378               CWR  MVP-2019-00125  47.38801  -93.43970   \n",
       "\n",
       "      cwa_determination  Index  \n",
       "14324                 1      1  \n",
       "14339                 1      2  \n",
       "14346                 1      3  \n",
       "14348                 0      4  \n",
       "14378                 0      5  "
      ]
     },
     "execution_count": 4,
     "metadata": {},
     "output_type": "execute_result"
    }
   ],
   "source": [
    "df.head()"
   ]
  },
  {
   "cell_type": "code",
   "execution_count": 5,
   "id": "present-event",
   "metadata": {},
   "outputs": [
    {
     "data": {
      "text/plain": [
       "'Cayuga'"
      ]
     },
     "execution_count": 5,
     "metadata": {},
     "output_type": "execute_result"
    }
   ],
   "source": [
    "def find_county(lat=42.85821, lon=-76.70773, size=100):\n",
    "    try:\n",
    "        result = (ee.FeatureCollection(\"users/madhukarreddy/US_county_map\")\n",
    "         .filterBounds(square(lat, lon, size))\n",
    "         .getInfo()\n",
    "         .get(\"features\")[0]\n",
    "         .get('properties')\n",
    "         .get('NAME'))\n",
    "    except Exception as e:\n",
    "        print(e)\n",
    "        \n",
    "        return np.nan\n",
    "    \n",
    "    return result\n",
    "find_county()"
   ]
  },
  {
   "cell_type": "code",
   "execution_count": 6,
   "id": "alpine-communist",
   "metadata": {},
   "outputs": [
    {
     "data": {
      "text/plain": [
       "'36'"
      ]
     },
     "execution_count": 6,
     "metadata": {},
     "output_type": "execute_result"
    }
   ],
   "source": [
    "def find_state(lat=42.85821, lon=-76.70773, size=100):\n",
    "    try:\n",
    "        result = (ee.FeatureCollection(\"users/madhukarreddy/US_county_map\")\n",
    "         .filterBounds(square(lat, lon, size))\n",
    "         .getInfo()\n",
    "         .get(\"features\")[0]\n",
    "         .get('properties')\n",
    "         .get('STATEFP'))\n",
    "    except:\n",
    "        return np.nan\n",
    "    \n",
    "    return result\n",
    "find_state()"
   ]
  },
  {
   "cell_type": "code",
   "execution_count": 7,
   "id": "enhanced-crystal",
   "metadata": {},
   "outputs": [
    {
     "name": "stdout",
     "output_type": "stream",
     "text": [
      "2021-04-01 19:35:44.120549\n"
     ]
    }
   ],
   "source": [
    "print(datetime.now())"
   ]
  },
  {
   "cell_type": "code",
   "execution_count": 8,
   "id": "threatened-capitol",
   "metadata": {},
   "outputs": [
    {
     "name": "stdout",
     "output_type": "stream",
     "text": [
      "list index out of range\n",
      "list index out of range\n",
      "list index out of range\n",
      "list index out of range\n",
      "list index out of range\n",
      "list index out of range\n",
      "list index out of range\n",
      "list index out of range\n"
     ]
    }
   ],
   "source": [
    "df[\"county\"] = df.apply(lambda x: find_county(x.latitude, x.longitude), axis=1)"
   ]
  },
  {
   "cell_type": "code",
   "execution_count": 9,
   "id": "attractive-weekend",
   "metadata": {},
   "outputs": [
    {
     "name": "stdout",
     "output_type": "stream",
     "text": [
      "2021-04-01 19:48:10.818103\n"
     ]
    }
   ],
   "source": [
    "print(datetime.now())"
   ]
  },
  {
   "cell_type": "code",
   "execution_count": 10,
   "id": "blond-velvet",
   "metadata": {},
   "outputs": [],
   "source": [
    "df[\"state\"] = df.apply(lambda x: find_state(x.latitude, x.longitude), axis=1)"
   ]
  },
  {
   "cell_type": "code",
   "execution_count": 11,
   "id": "consistent-tamil",
   "metadata": {},
   "outputs": [
    {
     "name": "stdout",
     "output_type": "stream",
     "text": [
      "2021-04-01 20:00:35.480739\n"
     ]
    }
   ],
   "source": [
    "print(datetime.now())"
   ]
  },
  {
   "cell_type": "code",
   "execution_count": 12,
   "id": "precious-mirror",
   "metadata": {},
   "outputs": [
    {
     "data": {
      "text/html": [
       "<div>\n",
       "<style scoped>\n",
       "    .dataframe tbody tr th:only-of-type {\n",
       "        vertical-align: middle;\n",
       "    }\n",
       "\n",
       "    .dataframe tbody tr th {\n",
       "        vertical-align: top;\n",
       "    }\n",
       "\n",
       "    .dataframe thead th {\n",
       "        text-align: right;\n",
       "    }\n",
       "</style>\n",
       "<table border=\"1\" class=\"dataframe\">\n",
       "  <thead>\n",
       "    <tr style=\"text-align: right;\">\n",
       "      <th></th>\n",
       "      <th>jurisdiction_type</th>\n",
       "      <th>da_number</th>\n",
       "      <th>latitude</th>\n",
       "      <th>longitude</th>\n",
       "      <th>cwa_determination</th>\n",
       "      <th>Index</th>\n",
       "      <th>county</th>\n",
       "      <th>state</th>\n",
       "    </tr>\n",
       "  </thead>\n",
       "  <tbody>\n",
       "    <tr>\n",
       "      <th>25537</th>\n",
       "      <td>CWR</td>\n",
       "      <td>SPN-2017-00207</td>\n",
       "      <td>37.88244</td>\n",
       "      <td>-122.31368</td>\n",
       "      <td>1</td>\n",
       "      <td>977</td>\n",
       "      <td>NaN</td>\n",
       "      <td>NaN</td>\n",
       "    </tr>\n",
       "    <tr>\n",
       "      <th>26644</th>\n",
       "      <td>CWR</td>\n",
       "      <td>LRE-2006-16087</td>\n",
       "      <td>43.26709</td>\n",
       "      <td>-82.52604</td>\n",
       "      <td>1</td>\n",
       "      <td>1068</td>\n",
       "      <td>NaN</td>\n",
       "      <td>NaN</td>\n",
       "    </tr>\n",
       "    <tr>\n",
       "      <th>68435</th>\n",
       "      <td>CWR</td>\n",
       "      <td>SWG-2015-00608</td>\n",
       "      <td>28.05945</td>\n",
       "      <td>-95.87867</td>\n",
       "      <td>1</td>\n",
       "      <td>1220</td>\n",
       "      <td>NaN</td>\n",
       "      <td>NaN</td>\n",
       "    </tr>\n",
       "    <tr>\n",
       "      <th>68892</th>\n",
       "      <td>CWR</td>\n",
       "      <td>SWG-2014-00656</td>\n",
       "      <td>28.76322</td>\n",
       "      <td>-95.62898</td>\n",
       "      <td>1</td>\n",
       "      <td>1296</td>\n",
       "      <td>NaN</td>\n",
       "      <td>NaN</td>\n",
       "    </tr>\n",
       "    <tr>\n",
       "      <th>68906</th>\n",
       "      <td>CWR</td>\n",
       "      <td>NAB-2015-01209</td>\n",
       "      <td>38.31433</td>\n",
       "      <td>-76.01150</td>\n",
       "      <td>1</td>\n",
       "      <td>1305</td>\n",
       "      <td>NaN</td>\n",
       "      <td>NaN</td>\n",
       "    </tr>\n",
       "    <tr>\n",
       "      <th>1409</th>\n",
       "      <td>NWPR</td>\n",
       "      <td>POA-2020-00528</td>\n",
       "      <td>56.96278</td>\n",
       "      <td>-132.92444</td>\n",
       "      <td>0</td>\n",
       "      <td>1641</td>\n",
       "      <td>NaN</td>\n",
       "      <td>NaN</td>\n",
       "    </tr>\n",
       "    <tr>\n",
       "      <th>4321</th>\n",
       "      <td>NWPR</td>\n",
       "      <td>POA-2020-00389</td>\n",
       "      <td>59.60128</td>\n",
       "      <td>-151.41705</td>\n",
       "      <td>0</td>\n",
       "      <td>2582</td>\n",
       "      <td>NaN</td>\n",
       "      <td>NaN</td>\n",
       "    </tr>\n",
       "    <tr>\n",
       "      <th>4322</th>\n",
       "      <td>NWPR</td>\n",
       "      <td>POA-2020-00388</td>\n",
       "      <td>59.60102</td>\n",
       "      <td>-151.41769</td>\n",
       "      <td>0</td>\n",
       "      <td>2583</td>\n",
       "      <td>NaN</td>\n",
       "      <td>NaN</td>\n",
       "    </tr>\n",
       "  </tbody>\n",
       "</table>\n",
       "</div>"
      ],
      "text/plain": [
       "      jurisdiction_type       da_number  latitude  longitude  \\\n",
       "25537               CWR  SPN-2017-00207  37.88244 -122.31368   \n",
       "26644               CWR  LRE-2006-16087  43.26709  -82.52604   \n",
       "68435               CWR  SWG-2015-00608  28.05945  -95.87867   \n",
       "68892               CWR  SWG-2014-00656  28.76322  -95.62898   \n",
       "68906               CWR  NAB-2015-01209  38.31433  -76.01150   \n",
       "1409               NWPR  POA-2020-00528  56.96278 -132.92444   \n",
       "4321               NWPR  POA-2020-00389  59.60128 -151.41705   \n",
       "4322               NWPR  POA-2020-00388  59.60102 -151.41769   \n",
       "\n",
       "      cwa_determination  Index county state  \n",
       "25537                 1    977    NaN   NaN  \n",
       "26644                 1   1068    NaN   NaN  \n",
       "68435                 1   1220    NaN   NaN  \n",
       "68892                 1   1296    NaN   NaN  \n",
       "68906                 1   1305    NaN   NaN  \n",
       "1409                  0   1641    NaN   NaN  \n",
       "4321                  0   2582    NaN   NaN  \n",
       "4322                  0   2583    NaN   NaN  "
      ]
     },
     "execution_count": 12,
     "metadata": {},
     "output_type": "execute_result"
    }
   ],
   "source": [
    "np.mean(np.array(df.county.isna()))\n",
    "df[df.county.isna()]"
   ]
  },
  {
   "cell_type": "code",
   "execution_count": 13,
   "id": "enormous-threshold",
   "metadata": {},
   "outputs": [
    {
     "data": {
      "text/plain": [
       "0.002486016159105034"
      ]
     },
     "execution_count": 13,
     "metadata": {},
     "output_type": "execute_result"
    }
   ],
   "source": [
    "np.mean(np.array(df.county.isna()))"
   ]
  },
  {
   "cell_type": "code",
   "execution_count": 14,
   "id": "complete-marketplace",
   "metadata": {},
   "outputs": [],
   "source": [
    "import pickle\n",
    "\n",
    "# use protocol 3 for backwards compatibility with Python 3.6 on AWS\n",
    "pickle.dump(df, open(\"2021.04.01_cwr_nwpr_us_county_raw0\",\"wb\"), protocol=3)\n",
    "# df.to_csv(\"2021.03.17_us_county_raw0.csv\")"
   ]
  },
  {
   "cell_type": "markdown",
   "id": "tutorial-walnut",
   "metadata": {},
   "source": [
    "# Read the file"
   ]
  },
  {
   "cell_type": "code",
   "execution_count": 15,
   "id": "indirect-michael",
   "metadata": {},
   "outputs": [],
   "source": [
    "\n",
    "df = pd.read_pickle(\"2021.04.01_cwr_nwpr_us_county_raw0\")"
   ]
  },
  {
   "cell_type": "code",
   "execution_count": 16,
   "id": "large-junction",
   "metadata": {},
   "outputs": [
    {
     "data": {
      "text/html": [
       "<div>\n",
       "<style scoped>\n",
       "    .dataframe tbody tr th:only-of-type {\n",
       "        vertical-align: middle;\n",
       "    }\n",
       "\n",
       "    .dataframe tbody tr th {\n",
       "        vertical-align: top;\n",
       "    }\n",
       "\n",
       "    .dataframe thead th {\n",
       "        text-align: right;\n",
       "    }\n",
       "</style>\n",
       "<table border=\"1\" class=\"dataframe\">\n",
       "  <thead>\n",
       "    <tr style=\"text-align: right;\">\n",
       "      <th></th>\n",
       "      <th>jurisdiction_type</th>\n",
       "      <th>da_number</th>\n",
       "      <th>latitude</th>\n",
       "      <th>longitude</th>\n",
       "      <th>cwa_determination</th>\n",
       "      <th>Index</th>\n",
       "      <th>county</th>\n",
       "      <th>state</th>\n",
       "    </tr>\n",
       "  </thead>\n",
       "  <tbody>\n",
       "    <tr>\n",
       "      <th>14324</th>\n",
       "      <td>CWR</td>\n",
       "      <td>SPL-2015-00294</td>\n",
       "      <td>32.56200</td>\n",
       "      <td>-117.02018</td>\n",
       "      <td>1</td>\n",
       "      <td>1</td>\n",
       "      <td>San Diego</td>\n",
       "      <td>06</td>\n",
       "    </tr>\n",
       "    <tr>\n",
       "      <th>14339</th>\n",
       "      <td>CWR</td>\n",
       "      <td>NAO-2019-02292</td>\n",
       "      <td>38.92073</td>\n",
       "      <td>-77.14066</td>\n",
       "      <td>1</td>\n",
       "      <td>2</td>\n",
       "      <td>Fairfax</td>\n",
       "      <td>51</td>\n",
       "    </tr>\n",
       "    <tr>\n",
       "      <th>14346</th>\n",
       "      <td>CWR</td>\n",
       "      <td>NAO-2019-00266</td>\n",
       "      <td>38.84361</td>\n",
       "      <td>-77.07721</td>\n",
       "      <td>1</td>\n",
       "      <td>3</td>\n",
       "      <td>Arlington</td>\n",
       "      <td>51</td>\n",
       "    </tr>\n",
       "    <tr>\n",
       "      <th>14348</th>\n",
       "      <td>CWR</td>\n",
       "      <td>LRC-2003-22401</td>\n",
       "      <td>41.99860</td>\n",
       "      <td>-87.92959</td>\n",
       "      <td>0</td>\n",
       "      <td>4</td>\n",
       "      <td>Cook</td>\n",
       "      <td>17</td>\n",
       "    </tr>\n",
       "    <tr>\n",
       "      <th>14378</th>\n",
       "      <td>CWR</td>\n",
       "      <td>MVP-2019-00125</td>\n",
       "      <td>47.38801</td>\n",
       "      <td>-93.43970</td>\n",
       "      <td>0</td>\n",
       "      <td>5</td>\n",
       "      <td>Itasca</td>\n",
       "      <td>27</td>\n",
       "    </tr>\n",
       "  </tbody>\n",
       "</table>\n",
       "</div>"
      ],
      "text/plain": [
       "      jurisdiction_type       da_number  latitude  longitude  \\\n",
       "14324               CWR  SPL-2015-00294  32.56200 -117.02018   \n",
       "14339               CWR  NAO-2019-02292  38.92073  -77.14066   \n",
       "14346               CWR  NAO-2019-00266  38.84361  -77.07721   \n",
       "14348               CWR  LRC-2003-22401  41.99860  -87.92959   \n",
       "14378               CWR  MVP-2019-00125  47.38801  -93.43970   \n",
       "\n",
       "      cwa_determination  Index     county state  \n",
       "14324                 1      1  San Diego    06  \n",
       "14339                 1      2    Fairfax    51  \n",
       "14346                 1      3  Arlington    51  \n",
       "14348                 0      4       Cook    17  \n",
       "14378                 0      5     Itasca    27  "
      ]
     },
     "execution_count": 16,
     "metadata": {},
     "output_type": "execute_result"
    }
   ],
   "source": [
    "df.head()"
   ]
  },
  {
   "cell_type": "code",
   "execution_count": 17,
   "id": "international-chest",
   "metadata": {},
   "outputs": [
    {
     "data": {
      "text/plain": [
       "0.002486016159105034"
      ]
     },
     "execution_count": 17,
     "metadata": {},
     "output_type": "execute_result"
    }
   ],
   "source": [
    "np.mean(np.array(df.county.isna()))"
   ]
  },
  {
   "cell_type": "code",
   "execution_count": 18,
   "id": "understood-methodology",
   "metadata": {},
   "outputs": [
    {
     "data": {
      "text/html": [
       "<div>\n",
       "<style scoped>\n",
       "    .dataframe tbody tr th:only-of-type {\n",
       "        vertical-align: middle;\n",
       "    }\n",
       "\n",
       "    .dataframe tbody tr th {\n",
       "        vertical-align: top;\n",
       "    }\n",
       "\n",
       "    .dataframe thead th {\n",
       "        text-align: right;\n",
       "    }\n",
       "</style>\n",
       "<table border=\"1\" class=\"dataframe\">\n",
       "  <thead>\n",
       "    <tr style=\"text-align: right;\">\n",
       "      <th></th>\n",
       "      <th>jurisdiction_type</th>\n",
       "      <th>da_number</th>\n",
       "      <th>latitude</th>\n",
       "      <th>longitude</th>\n",
       "      <th>cwa_determination</th>\n",
       "      <th>Index</th>\n",
       "      <th>county</th>\n",
       "      <th>state</th>\n",
       "    </tr>\n",
       "  </thead>\n",
       "  <tbody>\n",
       "    <tr>\n",
       "      <th>25537</th>\n",
       "      <td>CWR</td>\n",
       "      <td>SPN-2017-00207</td>\n",
       "      <td>37.88244</td>\n",
       "      <td>-122.31368</td>\n",
       "      <td>1</td>\n",
       "      <td>977</td>\n",
       "      <td>NaN</td>\n",
       "      <td>NaN</td>\n",
       "    </tr>\n",
       "    <tr>\n",
       "      <th>26644</th>\n",
       "      <td>CWR</td>\n",
       "      <td>LRE-2006-16087</td>\n",
       "      <td>43.26709</td>\n",
       "      <td>-82.52604</td>\n",
       "      <td>1</td>\n",
       "      <td>1068</td>\n",
       "      <td>NaN</td>\n",
       "      <td>NaN</td>\n",
       "    </tr>\n",
       "    <tr>\n",
       "      <th>68435</th>\n",
       "      <td>CWR</td>\n",
       "      <td>SWG-2015-00608</td>\n",
       "      <td>28.05945</td>\n",
       "      <td>-95.87867</td>\n",
       "      <td>1</td>\n",
       "      <td>1220</td>\n",
       "      <td>NaN</td>\n",
       "      <td>NaN</td>\n",
       "    </tr>\n",
       "    <tr>\n",
       "      <th>68892</th>\n",
       "      <td>CWR</td>\n",
       "      <td>SWG-2014-00656</td>\n",
       "      <td>28.76322</td>\n",
       "      <td>-95.62898</td>\n",
       "      <td>1</td>\n",
       "      <td>1296</td>\n",
       "      <td>NaN</td>\n",
       "      <td>NaN</td>\n",
       "    </tr>\n",
       "    <tr>\n",
       "      <th>68906</th>\n",
       "      <td>CWR</td>\n",
       "      <td>NAB-2015-01209</td>\n",
       "      <td>38.31433</td>\n",
       "      <td>-76.01150</td>\n",
       "      <td>1</td>\n",
       "      <td>1305</td>\n",
       "      <td>NaN</td>\n",
       "      <td>NaN</td>\n",
       "    </tr>\n",
       "  </tbody>\n",
       "</table>\n",
       "</div>"
      ],
      "text/plain": [
       "      jurisdiction_type       da_number  latitude  longitude  \\\n",
       "25537               CWR  SPN-2017-00207  37.88244 -122.31368   \n",
       "26644               CWR  LRE-2006-16087  43.26709  -82.52604   \n",
       "68435               CWR  SWG-2015-00608  28.05945  -95.87867   \n",
       "68892               CWR  SWG-2014-00656  28.76322  -95.62898   \n",
       "68906               CWR  NAB-2015-01209  38.31433  -76.01150   \n",
       "\n",
       "      cwa_determination  Index county state  \n",
       "25537                 1    977    NaN   NaN  \n",
       "26644                 1   1068    NaN   NaN  \n",
       "68435                 1   1220    NaN   NaN  \n",
       "68892                 1   1296    NaN   NaN  \n",
       "68906                 1   1305    NaN   NaN  "
      ]
     },
     "execution_count": 18,
     "metadata": {},
     "output_type": "execute_result"
    }
   ],
   "source": [
    "df[df.county.isna()].head()"
   ]
  },
  {
   "cell_type": "code",
   "execution_count": 19,
   "id": "corporate-cambodia",
   "metadata": {},
   "outputs": [
    {
     "data": {
      "text/plain": [
       "(8, 8)"
      ]
     },
     "execution_count": 19,
     "metadata": {},
     "output_type": "execute_result"
    }
   ],
   "source": [
    "df[df.county.isna()].shape"
   ]
  },
  {
   "cell_type": "code",
   "execution_count": 20,
   "id": "powered-andrews",
   "metadata": {},
   "outputs": [
    {
     "data": {
      "text/html": [
       "<div>\n",
       "<style scoped>\n",
       "    .dataframe tbody tr th:only-of-type {\n",
       "        vertical-align: middle;\n",
       "    }\n",
       "\n",
       "    .dataframe tbody tr th {\n",
       "        vertical-align: top;\n",
       "    }\n",
       "\n",
       "    .dataframe thead th {\n",
       "        text-align: right;\n",
       "    }\n",
       "</style>\n",
       "<table border=\"1\" class=\"dataframe\">\n",
       "  <thead>\n",
       "    <tr style=\"text-align: right;\">\n",
       "      <th></th>\n",
       "      <th>jurisdiction_type</th>\n",
       "      <th>da_number</th>\n",
       "      <th>latitude</th>\n",
       "      <th>longitude</th>\n",
       "      <th>cwa_determination</th>\n",
       "      <th>Index</th>\n",
       "      <th>county</th>\n",
       "      <th>state</th>\n",
       "    </tr>\n",
       "  </thead>\n",
       "  <tbody>\n",
       "    <tr>\n",
       "      <th>25537</th>\n",
       "      <td>CWR</td>\n",
       "      <td>SPN-2017-00207</td>\n",
       "      <td>37.88244</td>\n",
       "      <td>-122.31368</td>\n",
       "      <td>1</td>\n",
       "      <td>977</td>\n",
       "      <td>NaN</td>\n",
       "      <td>NaN</td>\n",
       "    </tr>\n",
       "    <tr>\n",
       "      <th>26644</th>\n",
       "      <td>CWR</td>\n",
       "      <td>LRE-2006-16087</td>\n",
       "      <td>43.26709</td>\n",
       "      <td>-82.52604</td>\n",
       "      <td>1</td>\n",
       "      <td>1068</td>\n",
       "      <td>NaN</td>\n",
       "      <td>NaN</td>\n",
       "    </tr>\n",
       "  </tbody>\n",
       "</table>\n",
       "</div>"
      ],
      "text/plain": [
       "      jurisdiction_type       da_number  latitude  longitude  \\\n",
       "25537               CWR  SPN-2017-00207  37.88244 -122.31368   \n",
       "26644               CWR  LRE-2006-16087  43.26709  -82.52604   \n",
       "\n",
       "      cwa_determination  Index county state  \n",
       "25537                 1    977    NaN   NaN  \n",
       "26644                 1   1068    NaN   NaN  "
      ]
     },
     "execution_count": 20,
     "metadata": {},
     "output_type": "execute_result"
    }
   ],
   "source": [
    "df.loc[df.county.isna(),:].head(2)"
   ]
  },
  {
   "cell_type": "code",
   "execution_count": 21,
   "id": "substantial-ribbon",
   "metadata": {},
   "outputs": [
    {
     "data": {
      "text/plain": [
       "'Sanilac'"
      ]
     },
     "execution_count": 21,
     "metadata": {},
     "output_type": "execute_result"
    }
   ],
   "source": [
    "def find_county2(lat=43.26720, lon=-82.52610):\n",
    "    try:\n",
    "        return (ee.FeatureCollection(\"users/madhukarreddy/US_county_map\")\n",
    "         .filterBounds(square(lat, lon, size=10000))\n",
    "         .getInfo()\n",
    "         .get(\"features\")[0]\n",
    "         .get('properties')\n",
    "         .get('NAME'))\n",
    "    except:\n",
    "        return np.nan\n",
    "\n",
    "find_county2()"
   ]
  },
  {
   "cell_type": "code",
   "execution_count": 22,
   "id": "activated-falls",
   "metadata": {},
   "outputs": [
    {
     "data": {
      "text/plain": [
       "'26'"
      ]
     },
     "execution_count": 22,
     "metadata": {},
     "output_type": "execute_result"
    }
   ],
   "source": [
    "def find_state2(lat=43.26720, lon=-82.52610):\n",
    "    try:\n",
    "        return (ee.FeatureCollection(\"users/madhukarreddy/US_county_map\")\n",
    "         .filterBounds(square(lat, lon, size=10000))\n",
    "         .getInfo()\n",
    "         .get(\"features\")[0]\n",
    "         .get('properties')\n",
    "         .get('STATEFP'))\n",
    "    except:\n",
    "        return np.nan\n",
    "\n",
    "find_state2()"
   ]
  },
  {
   "cell_type": "code",
   "execution_count": 23,
   "id": "excited-gabriel",
   "metadata": {},
   "outputs": [],
   "source": [
    "df_temp = df.loc[df.county.isna(),:].apply(lambda x: find_county2(x.latitude, x.longitude), axis=1)"
   ]
  },
  {
   "cell_type": "code",
   "execution_count": 24,
   "id": "running-catering",
   "metadata": {},
   "outputs": [
    {
     "data": {
      "text/plain": [
       "0.125"
      ]
     },
     "execution_count": 24,
     "metadata": {},
     "output_type": "execute_result"
    }
   ],
   "source": [
    "np.mean(df_temp.isna())\n"
   ]
  },
  {
   "cell_type": "code",
   "execution_count": 25,
   "id": "attractive-chart",
   "metadata": {},
   "outputs": [
    {
     "data": {
      "text/html": [
       "<div>\n",
       "<style scoped>\n",
       "    .dataframe tbody tr th:only-of-type {\n",
       "        vertical-align: middle;\n",
       "    }\n",
       "\n",
       "    .dataframe tbody tr th {\n",
       "        vertical-align: top;\n",
       "    }\n",
       "\n",
       "    .dataframe thead th {\n",
       "        text-align: right;\n",
       "    }\n",
       "</style>\n",
       "<table border=\"1\" class=\"dataframe\">\n",
       "  <thead>\n",
       "    <tr style=\"text-align: right;\">\n",
       "      <th></th>\n",
       "      <th>jurisdiction_type</th>\n",
       "      <th>da_number</th>\n",
       "      <th>latitude</th>\n",
       "      <th>longitude</th>\n",
       "      <th>cwa_determination</th>\n",
       "      <th>Index</th>\n",
       "      <th>county</th>\n",
       "      <th>state</th>\n",
       "    </tr>\n",
       "  </thead>\n",
       "  <tbody>\n",
       "    <tr>\n",
       "      <th>68435</th>\n",
       "      <td>CWR</td>\n",
       "      <td>SWG-2015-00608</td>\n",
       "      <td>28.05945</td>\n",
       "      <td>-95.87867</td>\n",
       "      <td>1</td>\n",
       "      <td>1220</td>\n",
       "      <td>NaN</td>\n",
       "      <td>NaN</td>\n",
       "    </tr>\n",
       "  </tbody>\n",
       "</table>\n",
       "</div>"
      ],
      "text/plain": [
       "      jurisdiction_type       da_number  latitude  longitude  \\\n",
       "68435               CWR  SWG-2015-00608  28.05945  -95.87867   \n",
       "\n",
       "      cwa_determination  Index county state  \n",
       "68435                 1   1220    NaN   NaN  "
      ]
     },
     "execution_count": 25,
     "metadata": {},
     "output_type": "execute_result"
    }
   ],
   "source": [
    "df.loc[df.county.isna(),:][df_temp.isna()]"
   ]
  },
  {
   "cell_type": "code",
   "execution_count": 26,
   "id": "stupid-berry",
   "metadata": {},
   "outputs": [
    {
     "data": {
      "text/plain": [
       "'Sanilac'"
      ]
     },
     "execution_count": 26,
     "metadata": {},
     "output_type": "execute_result"
    }
   ],
   "source": [
    "def find_county3(lat=43.26720, lon=-82.52610, value=1):\n",
    "    if type(value) != str:\n",
    "        try:\n",
    "            return (ee.FeatureCollection(\"users/madhukarreddy/US_county_map\")\n",
    "             .filterBounds(square(lat, lon, size=10000))\n",
    "             .getInfo()\n",
    "             .get(\"features\")[0]\n",
    "             .get('properties')\n",
    "             .get('NAME'))\n",
    "        except:\n",
    "            return np.nan\n",
    "    else:\n",
    "        return value\n",
    "find_county3()"
   ]
  },
  {
   "cell_type": "code",
   "execution_count": 27,
   "id": "resident-fifteen",
   "metadata": {},
   "outputs": [
    {
     "data": {
      "text/plain": [
       "'Sanilac'"
      ]
     },
     "execution_count": 27,
     "metadata": {},
     "output_type": "execute_result"
    }
   ],
   "source": [
    "def find_state3(lat=43.26720, lon=-82.52610, value=1):\n",
    "    if type(value) != str:\n",
    "        try:\n",
    "            return (ee.FeatureCollection(\"users/madhukarreddy/US_county_map\")\n",
    "             .filterBounds(square(lat, lon, size=10000))\n",
    "             .getInfo()\n",
    "             .get(\"features\")[0]\n",
    "             .get('properties')\n",
    "             .get('NAME'))\n",
    "        except:\n",
    "            return np.nan\n",
    "    else:\n",
    "        return value\n",
    "find_state3()"
   ]
  },
  {
   "cell_type": "code",
   "execution_count": 28,
   "id": "intended-deadline",
   "metadata": {},
   "outputs": [
    {
     "data": {
      "text/plain": [
       "14324    06\n",
       "14339    51\n",
       "14346    51\n",
       "14348    17\n",
       "14378    27\n",
       "         ..\n",
       "7258     55\n",
       "7262     55\n",
       "7266     55\n",
       "7272     55\n",
       "7273     27\n",
       "Length: 3218, dtype: object"
      ]
     },
     "execution_count": 28,
     "metadata": {},
     "output_type": "execute_result"
    }
   ],
   "source": [
    "df.apply(lambda x: find_state3(x.latitude, x.longitude, x.state), axis=1)"
   ]
  },
  {
   "cell_type": "code",
   "execution_count": 29,
   "id": "automatic-trust",
   "metadata": {},
   "outputs": [],
   "source": [
    "# df.apply(lambda x: find_county2(x.latitude, x.longitude) if np.isnan(x.county) else x.county, axis=1)\n",
    "\n",
    "df[\"county\"] = df.apply(lambda x: find_county3(x.latitude, x.longitude, x.county), axis=1)\n",
    "df[\"state\"] = df.apply(lambda x: find_state3(x.latitude, x.longitude, x.state), axis=1)"
   ]
  },
  {
   "cell_type": "code",
   "execution_count": 30,
   "id": "digital-boundary",
   "metadata": {},
   "outputs": [
    {
     "data": {
      "text/html": [
       "<div>\n",
       "<style scoped>\n",
       "    .dataframe tbody tr th:only-of-type {\n",
       "        vertical-align: middle;\n",
       "    }\n",
       "\n",
       "    .dataframe tbody tr th {\n",
       "        vertical-align: top;\n",
       "    }\n",
       "\n",
       "    .dataframe thead th {\n",
       "        text-align: right;\n",
       "    }\n",
       "</style>\n",
       "<table border=\"1\" class=\"dataframe\">\n",
       "  <thead>\n",
       "    <tr style=\"text-align: right;\">\n",
       "      <th></th>\n",
       "      <th>jurisdiction_type</th>\n",
       "      <th>da_number</th>\n",
       "      <th>latitude</th>\n",
       "      <th>longitude</th>\n",
       "      <th>cwa_determination</th>\n",
       "      <th>Index</th>\n",
       "      <th>county</th>\n",
       "      <th>state</th>\n",
       "    </tr>\n",
       "  </thead>\n",
       "  <tbody>\n",
       "    <tr>\n",
       "      <th>14324</th>\n",
       "      <td>CWR</td>\n",
       "      <td>SPL-2015-00294</td>\n",
       "      <td>32.56200</td>\n",
       "      <td>-117.02018</td>\n",
       "      <td>1</td>\n",
       "      <td>1</td>\n",
       "      <td>San Diego</td>\n",
       "      <td>06</td>\n",
       "    </tr>\n",
       "    <tr>\n",
       "      <th>14339</th>\n",
       "      <td>CWR</td>\n",
       "      <td>NAO-2019-02292</td>\n",
       "      <td>38.92073</td>\n",
       "      <td>-77.14066</td>\n",
       "      <td>1</td>\n",
       "      <td>2</td>\n",
       "      <td>Fairfax</td>\n",
       "      <td>51</td>\n",
       "    </tr>\n",
       "    <tr>\n",
       "      <th>14346</th>\n",
       "      <td>CWR</td>\n",
       "      <td>NAO-2019-00266</td>\n",
       "      <td>38.84361</td>\n",
       "      <td>-77.07721</td>\n",
       "      <td>1</td>\n",
       "      <td>3</td>\n",
       "      <td>Arlington</td>\n",
       "      <td>51</td>\n",
       "    </tr>\n",
       "    <tr>\n",
       "      <th>14348</th>\n",
       "      <td>CWR</td>\n",
       "      <td>LRC-2003-22401</td>\n",
       "      <td>41.99860</td>\n",
       "      <td>-87.92959</td>\n",
       "      <td>0</td>\n",
       "      <td>4</td>\n",
       "      <td>Cook</td>\n",
       "      <td>17</td>\n",
       "    </tr>\n",
       "    <tr>\n",
       "      <th>14378</th>\n",
       "      <td>CWR</td>\n",
       "      <td>MVP-2019-00125</td>\n",
       "      <td>47.38801</td>\n",
       "      <td>-93.43970</td>\n",
       "      <td>0</td>\n",
       "      <td>5</td>\n",
       "      <td>Itasca</td>\n",
       "      <td>27</td>\n",
       "    </tr>\n",
       "  </tbody>\n",
       "</table>\n",
       "</div>"
      ],
      "text/plain": [
       "      jurisdiction_type       da_number  latitude  longitude  \\\n",
       "14324               CWR  SPL-2015-00294  32.56200 -117.02018   \n",
       "14339               CWR  NAO-2019-02292  38.92073  -77.14066   \n",
       "14346               CWR  NAO-2019-00266  38.84361  -77.07721   \n",
       "14348               CWR  LRC-2003-22401  41.99860  -87.92959   \n",
       "14378               CWR  MVP-2019-00125  47.38801  -93.43970   \n",
       "\n",
       "      cwa_determination  Index     county state  \n",
       "14324                 1      1  San Diego    06  \n",
       "14339                 1      2    Fairfax    51  \n",
       "14346                 1      3  Arlington    51  \n",
       "14348                 0      4       Cook    17  \n",
       "14378                 0      5     Itasca    27  "
      ]
     },
     "execution_count": 30,
     "metadata": {},
     "output_type": "execute_result"
    }
   ],
   "source": [
    "df.head()"
   ]
  },
  {
   "cell_type": "code",
   "execution_count": 31,
   "id": "chicken-province",
   "metadata": {},
   "outputs": [
    {
     "data": {
      "text/plain": [
       "0.00031075201988812925"
      ]
     },
     "execution_count": 31,
     "metadata": {},
     "output_type": "execute_result"
    }
   ],
   "source": [
    "np.mean(np.array(df.county.isna()))"
   ]
  },
  {
   "cell_type": "code",
   "execution_count": 32,
   "id": "collaborative-kennedy",
   "metadata": {},
   "outputs": [],
   "source": [
    "import pickle\n",
    "\n",
    "# use protocol 3 for backwards compatibility with Python 3.6 on AWS\n",
    "pickle.dump(df, open(\"2021.04.01_cwr_nwpr_us_county_raw\",\"wb\"), protocol=3)\n",
    "# df.to_csv(\"2021.03.17_us_county_raw.csv\")"
   ]
  },
  {
   "cell_type": "code",
   "execution_count": 33,
   "id": "formed-personality",
   "metadata": {},
   "outputs": [
    {
     "data": {
      "text/html": [
       "<div>\n",
       "<style scoped>\n",
       "    .dataframe tbody tr th:only-of-type {\n",
       "        vertical-align: middle;\n",
       "    }\n",
       "\n",
       "    .dataframe tbody tr th {\n",
       "        vertical-align: top;\n",
       "    }\n",
       "\n",
       "    .dataframe thead th {\n",
       "        text-align: right;\n",
       "    }\n",
       "</style>\n",
       "<table border=\"1\" class=\"dataframe\">\n",
       "  <thead>\n",
       "    <tr style=\"text-align: right;\">\n",
       "      <th></th>\n",
       "      <th>jurisdiction_type</th>\n",
       "      <th>da_number</th>\n",
       "      <th>latitude</th>\n",
       "      <th>longitude</th>\n",
       "      <th>cwa_determination</th>\n",
       "      <th>Index</th>\n",
       "      <th>county</th>\n",
       "      <th>state</th>\n",
       "    </tr>\n",
       "  </thead>\n",
       "  <tbody>\n",
       "    <tr>\n",
       "      <th>14324</th>\n",
       "      <td>CWR</td>\n",
       "      <td>SPL-2015-00294</td>\n",
       "      <td>32.56200</td>\n",
       "      <td>-117.02018</td>\n",
       "      <td>1</td>\n",
       "      <td>1</td>\n",
       "      <td>San Diego</td>\n",
       "      <td>06</td>\n",
       "    </tr>\n",
       "    <tr>\n",
       "      <th>14339</th>\n",
       "      <td>CWR</td>\n",
       "      <td>NAO-2019-02292</td>\n",
       "      <td>38.92073</td>\n",
       "      <td>-77.14066</td>\n",
       "      <td>1</td>\n",
       "      <td>2</td>\n",
       "      <td>Fairfax</td>\n",
       "      <td>51</td>\n",
       "    </tr>\n",
       "    <tr>\n",
       "      <th>14346</th>\n",
       "      <td>CWR</td>\n",
       "      <td>NAO-2019-00266</td>\n",
       "      <td>38.84361</td>\n",
       "      <td>-77.07721</td>\n",
       "      <td>1</td>\n",
       "      <td>3</td>\n",
       "      <td>Arlington</td>\n",
       "      <td>51</td>\n",
       "    </tr>\n",
       "    <tr>\n",
       "      <th>14348</th>\n",
       "      <td>CWR</td>\n",
       "      <td>LRC-2003-22401</td>\n",
       "      <td>41.99860</td>\n",
       "      <td>-87.92959</td>\n",
       "      <td>0</td>\n",
       "      <td>4</td>\n",
       "      <td>Cook</td>\n",
       "      <td>17</td>\n",
       "    </tr>\n",
       "    <tr>\n",
       "      <th>14378</th>\n",
       "      <td>CWR</td>\n",
       "      <td>MVP-2019-00125</td>\n",
       "      <td>47.38801</td>\n",
       "      <td>-93.43970</td>\n",
       "      <td>0</td>\n",
       "      <td>5</td>\n",
       "      <td>Itasca</td>\n",
       "      <td>27</td>\n",
       "    </tr>\n",
       "  </tbody>\n",
       "</table>\n",
       "</div>"
      ],
      "text/plain": [
       "      jurisdiction_type       da_number  latitude  longitude  \\\n",
       "14324               CWR  SPL-2015-00294  32.56200 -117.02018   \n",
       "14339               CWR  NAO-2019-02292  38.92073  -77.14066   \n",
       "14346               CWR  NAO-2019-00266  38.84361  -77.07721   \n",
       "14348               CWR  LRC-2003-22401  41.99860  -87.92959   \n",
       "14378               CWR  MVP-2019-00125  47.38801  -93.43970   \n",
       "\n",
       "      cwa_determination  Index     county state  \n",
       "14324                 1      1  San Diego    06  \n",
       "14339                 1      2    Fairfax    51  \n",
       "14346                 1      3  Arlington    51  \n",
       "14348                 0      4       Cook    17  \n",
       "14378                 0      5     Itasca    27  "
      ]
     },
     "execution_count": 33,
     "metadata": {},
     "output_type": "execute_result"
    }
   ],
   "source": [
    "df = pd.read_pickle(\"2021.04.01_cwr_nwpr_us_county_raw\")\n",
    "df.head()"
   ]
  },
  {
   "cell_type": "code",
   "execution_count": 34,
   "id": "compatible-advisory",
   "metadata": {},
   "outputs": [
    {
     "data": {
      "text/plain": [
       "0.00031075201988812925"
      ]
     },
     "execution_count": 34,
     "metadata": {},
     "output_type": "execute_result"
    }
   ],
   "source": [
    "len(df.state.unique())\n",
    "len(df.county.unique())\n",
    "set(df.state.unique())\n",
    "np.mean(df.state.isna())"
   ]
  },
  {
   "cell_type": "code",
   "execution_count": null,
   "id": "iraqi-credits",
   "metadata": {},
   "outputs": [],
   "source": []
  }
 ],
 "metadata": {
  "kernelspec": {
   "display_name": "Python 3",
   "language": "python",
   "name": "python3"
  },
  "language_info": {
   "codemirror_mode": {
    "name": "ipython",
    "version": 3
   },
   "file_extension": ".py",
   "mimetype": "text/x-python",
   "name": "python",
   "nbconvert_exporter": "python",
   "pygments_lexer": "ipython3",
   "version": "3.9.2"
  }
 },
 "nbformat": 4,
 "nbformat_minor": 5
}
