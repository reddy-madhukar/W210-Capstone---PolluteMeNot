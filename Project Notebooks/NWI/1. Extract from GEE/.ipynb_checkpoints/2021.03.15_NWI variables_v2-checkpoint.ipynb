{
 "cells": [
  {
   "cell_type": "code",
   "execution_count": 236,
   "id": "wooden-mountain",
   "metadata": {},
   "outputs": [],
   "source": [
    "import pandas as pd\n",
    "import pickle\n",
    "# read in csv file with SSURGO variables\n",
    "df_m = pd.read_csv(\"combined_regular_clean_with_ssurgo_variables.csv\")\n",
    "\n",
    "PATCH_SIZE = 100"
   ]
  },
  {
   "cell_type": "code",
   "execution_count": 237,
   "id": "golden-prefix",
   "metadata": {},
   "outputs": [
    {
     "data": {
      "text/plain": [
       "Index(['Unnamed: 0', 'Unnamed: 0.1', 'jurisdiction_type', 'da_number',\n",
       "       'district', 'project_name', 'longitude', 'latitude',\n",
       "       'date_issued_or_denied', 'rha_determination', 'cwa_determination',\n",
       "       'rha1', 'rha2', 'cwa1', 'cwa2', 'cwa3', 'cwa4', 'cwa5', 'cwa6', 'cwa7',\n",
       "       'cwa8', 'cwa9', 'potential_wetland', 'index', 'Index', 'mukey',\n",
       "       'hydclprs', 'aws025wta', 'drclassdcd', 'nwi_vars_200m'],\n",
       "      dtype='object')"
      ]
     },
     "execution_count": 237,
     "metadata": {},
     "output_type": "execute_result"
    }
   ],
   "source": [
    "# consolidate the pickle files into one\n",
    "df = []\n",
    "\n",
    "for i in range(df_m.shape[0] // 500 + 1):\n",
    "    try:\n",
    "        df_temp = (pd.read_pickle('NWI_extracted_vars/nwi_extraction_' \n",
    "                                  + str(2 * PATCH_SIZE) + \"X\" \n",
    "                                  + str(2 * PATCH_SIZE) + \n",
    "                                  '_part' + str(500 * i + 1)))\n",
    "        df.append(df_temp)\n",
    "\n",
    "    except:\n",
    "        break\n",
    "df = pd.concat(df)\n",
    "\n",
    "# rename the column to reflect naming convention elsewhere\n",
    "# THIS IS MANUAL HERE\n",
    "if PATCH_SIZE == 100:\n",
    "    df.rename(columns={\"nwi_bbox_vars_100\" : \"nwi_vars_\" + str(2 * PATCH_SIZE) + \"m\"}, inplace=True)\n",
    "elif PATCH_SIZE == 1250:\n",
    "    df.rename(columns={\"nwi_bbox_vars_1250\" : \"nwi_vars_\" + str(2 * PATCH_SIZE) + \"m\"}, inplace=True)\n",
    "df.columns"
   ]
  },
  {
   "cell_type": "code",
   "execution_count": 238,
   "id": "fabulous-beatles",
   "metadata": {},
   "outputs": [
    {
     "name": "stdout",
     "output_type": "stream",
     "text": [
      "0.27833641151925576\n",
      "(2176, 30)\n"
     ]
    },
    {
     "data": {
      "text/html": [
       "<div>\n",
       "<style scoped>\n",
       "    .dataframe tbody tr th:only-of-type {\n",
       "        vertical-align: middle;\n",
       "    }\n",
       "\n",
       "    .dataframe tbody tr th {\n",
       "        vertical-align: top;\n",
       "    }\n",
       "\n",
       "    .dataframe thead th {\n",
       "        text-align: right;\n",
       "    }\n",
       "</style>\n",
       "<table border=\"1\" class=\"dataframe\">\n",
       "  <thead>\n",
       "    <tr style=\"text-align: right;\">\n",
       "      <th></th>\n",
       "      <th>Unnamed: 0</th>\n",
       "      <th>Unnamed: 0.1</th>\n",
       "      <th>jurisdiction_type</th>\n",
       "      <th>da_number</th>\n",
       "      <th>district</th>\n",
       "      <th>project_name</th>\n",
       "      <th>longitude</th>\n",
       "      <th>latitude</th>\n",
       "      <th>date_issued_or_denied</th>\n",
       "      <th>rha_determination</th>\n",
       "      <th>...</th>\n",
       "      <th>cwa8</th>\n",
       "      <th>cwa9</th>\n",
       "      <th>potential_wetland</th>\n",
       "      <th>index</th>\n",
       "      <th>Index</th>\n",
       "      <th>mukey</th>\n",
       "      <th>hydclprs</th>\n",
       "      <th>aws025wta</th>\n",
       "      <th>drclassdcd</th>\n",
       "      <th>nwi_vars_200m</th>\n",
       "    </tr>\n",
       "  </thead>\n",
       "  <tbody>\n",
       "    <tr>\n",
       "      <th>10</th>\n",
       "      <td>10</td>\n",
       "      <td>10</td>\n",
       "      <td>RAPANOS</td>\n",
       "      <td>LRB-1999-01857</td>\n",
       "      <td>Buffalo</td>\n",
       "      <td>LAKEWOOD, CITY OF</td>\n",
       "      <td>-81.82489</td>\n",
       "      <td>41.47921</td>\n",
       "      <td>04/19/2016</td>\n",
       "      <td>0</td>\n",
       "      <td>...</td>\n",
       "      <td>0</td>\n",
       "      <td>0</td>\n",
       "      <td>0</td>\n",
       "      <td>11</td>\n",
       "      <td>11</td>\n",
       "      <td>287286.0</td>\n",
       "      <td>0.0</td>\n",
       "      <td>5.25</td>\n",
       "      <td>Well drained</td>\n",
       "      <td>(1, [R5UBH], [Riverine])</td>\n",
       "    </tr>\n",
       "    <tr>\n",
       "      <th>15</th>\n",
       "      <td>15</td>\n",
       "      <td>15</td>\n",
       "      <td>RAPANOS</td>\n",
       "      <td>LRB-2004-00299</td>\n",
       "      <td>Buffalo</td>\n",
       "      <td>Cobblestone Park Development LLC (Formerly: PO...</td>\n",
       "      <td>-81.85690</td>\n",
       "      <td>41.09800</td>\n",
       "      <td>07/21/2016</td>\n",
       "      <td>0</td>\n",
       "      <td>...</td>\n",
       "      <td>0</td>\n",
       "      <td>0</td>\n",
       "      <td>1</td>\n",
       "      <td>16</td>\n",
       "      <td>16</td>\n",
       "      <td>288392.0</td>\n",
       "      <td>10.0</td>\n",
       "      <td>5.24</td>\n",
       "      <td>Somewhat poorly drained</td>\n",
       "      <td>(2, [R4SBC, PUBGx], [Riverine, Freshwater Pond])</td>\n",
       "    </tr>\n",
       "    <tr>\n",
       "      <th>21</th>\n",
       "      <td>21</td>\n",
       "      <td>21</td>\n",
       "      <td>CWR</td>\n",
       "      <td>LRB-2005-00781</td>\n",
       "      <td>Buffalo</td>\n",
       "      <td>HOFFMAN, MARK - SOUTH LAKE HUNT CLUB</td>\n",
       "      <td>-83.14360</td>\n",
       "      <td>41.60608</td>\n",
       "      <td>09/22/2015</td>\n",
       "      <td>1</td>\n",
       "      <td>...</td>\n",
       "      <td>0</td>\n",
       "      <td>0</td>\n",
       "      <td>0</td>\n",
       "      <td>22</td>\n",
       "      <td>22</td>\n",
       "      <td>170406.0</td>\n",
       "      <td>100.0</td>\n",
       "      <td>2.87</td>\n",
       "      <td>Very poorly drained</td>\n",
       "      <td>(7, [R2UBH, PUBG, PUBG, PEM1C, PEM1K, PEM1Fh, ...</td>\n",
       "    </tr>\n",
       "  </tbody>\n",
       "</table>\n",
       "<p>3 rows × 30 columns</p>\n",
       "</div>"
      ],
      "text/plain": [
       "    Unnamed: 0  Unnamed: 0.1 jurisdiction_type       da_number district  \\\n",
       "10          10            10           RAPANOS  LRB-1999-01857  Buffalo   \n",
       "15          15            15           RAPANOS  LRB-2004-00299  Buffalo   \n",
       "21          21            21               CWR  LRB-2005-00781  Buffalo   \n",
       "\n",
       "                                         project_name  longitude  latitude  \\\n",
       "10                                  LAKEWOOD, CITY OF  -81.82489  41.47921   \n",
       "15  Cobblestone Park Development LLC (Formerly: PO...  -81.85690  41.09800   \n",
       "21               HOFFMAN, MARK - SOUTH LAKE HUNT CLUB  -83.14360  41.60608   \n",
       "\n",
       "   date_issued_or_denied  rha_determination  ...  cwa8  cwa9  \\\n",
       "10            04/19/2016                  0  ...     0     0   \n",
       "15            07/21/2016                  0  ...     0     0   \n",
       "21            09/22/2015                  1  ...     0     0   \n",
       "\n",
       "    potential_wetland  index  Index     mukey  hydclprs  aws025wta  \\\n",
       "10                  0     11     11  287286.0       0.0       5.25   \n",
       "15                  1     16     16  288392.0      10.0       5.24   \n",
       "21                  0     22     22  170406.0     100.0       2.87   \n",
       "\n",
       "                 drclassdcd                                      nwi_vars_200m  \n",
       "10             Well drained                           (1, [R5UBH], [Riverine])  \n",
       "15  Somewhat poorly drained   (2, [R4SBC, PUBGx], [Riverine, Freshwater Pond])  \n",
       "21      Very poorly drained  (7, [R2UBH, PUBG, PUBG, PEM1C, PEM1K, PEM1Fh, ...  \n",
       "\n",
       "[3 rows x 30 columns]"
      ]
     },
     "execution_count": 238,
     "metadata": {},
     "output_type": "execute_result"
    }
   ],
   "source": [
    "import numpy as np\n",
    "\n",
    "# fraction of records that have data\n",
    "print(np.mean(np.array(df[\"nwi_vars_\" + str(2 * PATCH_SIZE) + \"m\"].apply(lambda x: x[0]))) )\n",
    "\n",
    "# records for which data is available (because GEE ingestion is still ongoing)\n",
    "# THIS IS AN AD-HOC THAT WILL BE DISCARDED\n",
    "good = df[\"nwi_vars_\" + str(2 * PATCH_SIZE) + \"m\"].apply(lambda x: x[0]) != 0\n",
    "\n",
    "df_selected = df[good]\n",
    "print(df_selected.shape)\n",
    "df_selected.head(3)"
   ]
  },
  {
   "cell_type": "code",
   "execution_count": 239,
   "id": "discrete-polish",
   "metadata": {},
   "outputs": [],
   "source": [
    "# NWI features within a bbox come as a list of ATTRIBUTES\n",
    "# create a column with number of such features in the patch\n",
    "\n",
    "df[\"nwi_feature_count_\" + str(2 * PATCH_SIZE) + \"m\"] = (df.apply(lambda x: \n",
    "                                                                 x[\"nwi_vars_\" \n",
    "                                                                   + str(2 * PATCH_SIZE) \n",
    "                                                                   + \"m\"][0], \n",
    "                                                                 axis=1))\n",
    "\n"
   ]
  },
  {
   "cell_type": "code",
   "execution_count": 240,
   "id": "permanent-arkansas",
   "metadata": {},
   "outputs": [
    {
     "data": {
      "text/plain": [
       "10       1\n",
       "15       2\n",
       "21       7\n",
       "23       1\n",
       "29       2\n",
       "        ..\n",
       "14549    3\n",
       "14563    1\n",
       "14612    6\n",
       "14613    6\n",
       "14614    1\n",
       "Name: nwi_feature_count_200m, Length: 2176, dtype: int64"
      ]
     },
     "execution_count": 240,
     "metadata": {},
     "output_type": "execute_result"
    }
   ],
   "source": [
    "df.nwi_feature_count_200m[good]"
   ]
  },
  {
   "cell_type": "code",
   "execution_count": 241,
   "id": "human-certificate",
   "metadata": {},
   "outputs": [],
   "source": [
    "# Create a list of ATTRIBUTES within a bbox\n",
    "df[\"nwi_attr_list_\" + str(2 * PATCH_SIZE) + \"m\"] = (df.apply(lambda x: \n",
    "                                                             x[\"nwi_vars_\" \n",
    "                                                               + str(2 * PATCH_SIZE) \n",
    "                                                               + \"m\"][1], \n",
    "                                                             axis=1))\n",
    "\n",
    "# Create a list of Wetland Types within a bbox\n",
    "df[\"nwi_wetland_list_\" + str(2 * PATCH_SIZE) + \"m\"] = (df.apply(lambda x: \n",
    "                                                                x[\"nwi_vars_\" \n",
    "                                                                  + str(2 * PATCH_SIZE) \n",
    "                                                                  + \"m\"][2], \n",
    "                                                                axis=1))"
   ]
  },
  {
   "cell_type": "code",
   "execution_count": 242,
   "id": "laden-semiconductor",
   "metadata": {},
   "outputs": [
    {
     "data": {
      "text/plain": [
       "10                                                [R5UBH]\n",
       "15                                         [R4SBC, PUBGx]\n",
       "21       [R2UBH, PUBG, PUBG, PEM1C, PEM1K, PEM1Fh, PSS1C]\n",
       "23                                                [R4SBC]\n",
       "29                                           [PUBG, PUBG]\n",
       "                               ...                       \n",
       "14549                               [R4SBC, PABGx, PABGx]\n",
       "14563                                             [R4SBA]\n",
       "14612          [R4SBC, R4SBC, R4SBC, R4SBC, PFO1A, PSS1C]\n",
       "14613          [R4SBC, R4SBC, R5UBH, R5UBH, PUBHh, PUBHx]\n",
       "14614                                            [PEM1Cx]\n",
       "Name: nwi_attr_list_200m, Length: 2176, dtype: object"
      ]
     },
     "execution_count": 242,
     "metadata": {},
     "output_type": "execute_result"
    }
   ],
   "source": [
    "# how does nwi attribute_list look in a record\n",
    "df.nwi_attr_list_200m[good]#[0:10]"
   ]
  },
  {
   "cell_type": "code",
   "execution_count": 243,
   "id": "boring-academy",
   "metadata": {},
   "outputs": [
    {
     "data": {
      "text/plain": [
       "10                                              [Riverine]\n",
       "15                             [Riverine, Freshwater Pond]\n",
       "21       [Riverine, Freshwater Pond, Freshwater Pond, F...\n",
       "23                                              [Riverine]\n",
       "29                      [Freshwater Pond, Freshwater Pond]\n",
       "                               ...                        \n",
       "14549         [Riverine, Freshwater Pond, Freshwater Pond]\n",
       "14563                                           [Riverine]\n",
       "14612    [Riverine, Riverine, Riverine, Riverine, Fresh...\n",
       "14613    [Riverine, Riverine, Riverine, Riverine, Fresh...\n",
       "14614                        [Freshwater Emergent Wetland]\n",
       "Name: nwi_wetland_list_200m, Length: 2176, dtype: object"
      ]
     },
     "execution_count": 243,
     "metadata": {},
     "output_type": "execute_result"
    }
   ],
   "source": [
    "# how does nwi_wetland_list look in a record\n",
    "df.nwi_wetland_list_200m[good]#[0:10]"
   ]
  },
  {
   "cell_type": "code",
   "execution_count": 244,
   "id": "given-alaska",
   "metadata": {},
   "outputs": [
    {
     "name": "stdout",
     "output_type": "stream",
     "text": [
      "285\n"
     ]
    }
   ],
   "source": [
    "# Find all the unique attributes (not used later)\n",
    "from collections import defaultdict\n",
    "\n",
    "attr_dict = defaultdict(int)\n",
    "\n",
    "for i in range(df[\"nwi_wetland_list_\" + str(2 * PATCH_SIZE) + \"m\"][good].shape[0]):\n",
    "    for feature in df[\"nwi_attr_list_\" + str(2 * PATCH_SIZE) + \"m\"][good].iloc[i]:\n",
    "        attr_dict[feature.lower().replace(\" \", \"_\") ] += 1\n",
    "print(len(attr_dict.keys()))        \n",
    "# attr_dict  "
   ]
  },
  {
   "cell_type": "code",
   "execution_count": 245,
   "id": "loving-tanzania",
   "metadata": {},
   "outputs": [
    {
     "name": "stdout",
     "output_type": "stream",
     "text": [
      "9\n"
     ]
    },
    {
     "data": {
      "text/plain": [
       "dict_keys(['riverine', 'freshwater_pond', 'freshwater_emergent_wetland', 'freshwater_forested', 'shrub_wetland', 'lake', 'other', 'estuarine_and_marine_wetland', 'estuarine_and_marine_deepwater'])"
      ]
     },
     "execution_count": 245,
     "metadata": {},
     "output_type": "execute_result"
    }
   ],
   "source": [
    "# Find all the unique wetland types for later bookkeeping\n",
    "from collections import defaultdict\n",
    "\n",
    "wetland_dict = defaultdict(int)\n",
    "\n",
    "for i in range(df[\"nwi_wetland_list_\" + str(2 * PATCH_SIZE) + \"m\"][good].shape[0]):\n",
    "    for feature in df[\"nwi_wetland_list_\" + str(2 * PATCH_SIZE) + \"m\"][good].iloc[i]:\n",
    "        wetland_dict[feature.lower().replace(\" \", \"_\") ] += 1\n",
    "print(len(wetland_dict.keys()))\n",
    "wetland_dict.keys()      "
   ]
  },
  {
   "cell_type": "code",
   "execution_count": 246,
   "id": "unable-beverage",
   "metadata": {},
   "outputs": [
    {
     "name": "stdout",
     "output_type": "stream",
     "text": [
      "9\n"
     ]
    },
    {
     "data": {
      "text/plain": [
       "('riverine',\n",
       " 'freshwater_pond',\n",
       " 'freshwater_emergent_wetland',\n",
       " 'freshwater_forested',\n",
       " 'shrub_wetland',\n",
       " 'lake',\n",
       " 'other',\n",
       " 'estuarine_and_marine_wetland',\n",
       " 'estuarine_and_marine_deepwater')"
      ]
     },
     "execution_count": 246,
     "metadata": {},
     "output_type": "execute_result"
    }
   ],
   "source": [
    "from collections import OrderedDict\n",
    "\n",
    "wetland_types = tuple(wetland_dict.keys())\n",
    "\n",
    "def create_wetland_vector(wetland_list):\n",
    "    \"\"\"\n",
    "    Returns vector of form [1, 1, 2, 1, 1, 0, 0, 0, 0]\n",
    "    corresponding to wetland_types\n",
    "    \"\"\"\n",
    "    wetland_dict = OrderedDict(zip(wetland_types, [0] * len(wetland_types)))\n",
    "    for wetland in wetland_list:\n",
    "        wetland_dict[wetland.lower().replace(\" \", \"_\") ] += 1\n",
    "    return list(wetland_dict.values())\n",
    "print(len(wetland_types))\n",
    "wetland_types\n"
   ]
  },
  {
   "cell_type": "code",
   "execution_count": 247,
   "id": "accessory-blend",
   "metadata": {},
   "outputs": [
    {
     "data": {
      "text/plain": [
       "[1, 1, 2, 1, 1, 0, 0, 0, 0]"
      ]
     },
     "execution_count": 247,
     "metadata": {},
     "output_type": "execute_result"
    }
   ],
   "source": [
    "# delete\n",
    "alist = wetland_types[0:3] + wetland_types[2:5]\n",
    "create_wetland_vector(alist)\n"
   ]
  },
  {
   "cell_type": "code",
   "execution_count": 248,
   "id": "frozen-graphic",
   "metadata": {},
   "outputs": [],
   "source": [
    "# Convert the nwi_wetland_list_XXXXm column into a vector\n",
    "\n",
    "df[\"wetland_type_vector_\" + str(2 * PATCH_SIZE) + \"m\"] = (df.apply(lambda x: \n",
    "                                                                  create_wetland_vector(x[\"nwi_wetland_list_\" \n",
    "                                                                                           + str(2 * PATCH_SIZE) \n",
    "                                                                                           + \"m\"]), \n",
    "                                                                  axis=1))\n",
    "\n",
    "\n",
    "\n"
   ]
  },
  {
   "cell_type": "code",
   "execution_count": 249,
   "id": "certified-compilation",
   "metadata": {},
   "outputs": [],
   "source": [
    "# The wetland vector is then stripped into individual columns\n",
    "\n",
    "for count, wetland in enumerate(wetland_types):\n",
    "    df[\"nwi_\" + str(wetland) + \"_\" + str(2 * PATCH_SIZE) + \"m\"] = (df.apply(lambda x: \n",
    "                                                                                    x[\"wetland_type_vector_\" \n",
    "                                                                                      + str(2 * PATCH_SIZE) \n",
    "                                                                                      + \"m\"][count],\n",
    "                                                                                   axis=1))\n",
    "    \n",
    "    "
   ]
  },
  {
   "cell_type": "code",
   "execution_count": 250,
   "id": "effective-violation",
   "metadata": {},
   "outputs": [
    {
     "data": {
      "text/plain": [
       "Index(['Unnamed: 0', 'Unnamed: 0.1', 'jurisdiction_type', 'da_number',\n",
       "       'district', 'project_name', 'longitude', 'latitude',\n",
       "       'date_issued_or_denied', 'rha_determination', 'cwa_determination',\n",
       "       'rha1', 'rha2', 'cwa1', 'cwa2', 'cwa3', 'cwa4', 'cwa5', 'cwa6', 'cwa7',\n",
       "       'cwa8', 'cwa9', 'potential_wetland', 'index', 'Index', 'mukey',\n",
       "       'hydclprs', 'aws025wta', 'drclassdcd', 'nwi_vars_200m',\n",
       "       'nwi_feature_count_200m', 'nwi_attr_list_200m', 'nwi_wetland_list_200m',\n",
       "       'wetland_type_vector_200m', 'nwi_riverine_200m',\n",
       "       'nwi_freshwater_pond_200m', 'nwi_freshwater_emergent_wetland_200m',\n",
       "       'nwi_freshwater_forested_200m', 'nwi_shrub_wetland_200m',\n",
       "       'nwi_lake_200m', 'nwi_other_200m',\n",
       "       'nwi_estuarine_and_marine_wetland_200m',\n",
       "       'nwi_estuarine_and_marine_deepwater_200m'],\n",
       "      dtype='object')"
      ]
     },
     "execution_count": 250,
     "metadata": {},
     "output_type": "execute_result"
    }
   ],
   "source": [
    "df.columns"
   ]
  },
  {
   "cell_type": "code",
   "execution_count": 251,
   "id": "common-joyce",
   "metadata": {},
   "outputs": [
    {
     "data": {
      "text/html": [
       "<div>\n",
       "<style scoped>\n",
       "    .dataframe tbody tr th:only-of-type {\n",
       "        vertical-align: middle;\n",
       "    }\n",
       "\n",
       "    .dataframe tbody tr th {\n",
       "        vertical-align: top;\n",
       "    }\n",
       "\n",
       "    .dataframe thead th {\n",
       "        text-align: right;\n",
       "    }\n",
       "</style>\n",
       "<table border=\"1\" class=\"dataframe\">\n",
       "  <thead>\n",
       "    <tr style=\"text-align: right;\">\n",
       "      <th></th>\n",
       "      <th>wetland_type_vector_200m</th>\n",
       "      <th>nwi_riverine_200m</th>\n",
       "      <th>nwi_freshwater_pond_200m</th>\n",
       "      <th>nwi_freshwater_emergent_wetland_200m</th>\n",
       "      <th>nwi_freshwater_forested_200m</th>\n",
       "      <th>nwi_shrub_wetland_200m</th>\n",
       "      <th>nwi_lake_200m</th>\n",
       "      <th>nwi_other_200m</th>\n",
       "      <th>nwi_estuarine_and_marine_wetland_200m</th>\n",
       "      <th>nwi_estuarine_and_marine_deepwater_200m</th>\n",
       "    </tr>\n",
       "  </thead>\n",
       "  <tbody>\n",
       "    <tr>\n",
       "      <th>10</th>\n",
       "      <td>[1, 0, 0, 0, 0, 0, 0, 0, 0]</td>\n",
       "      <td>1</td>\n",
       "      <td>0</td>\n",
       "      <td>0</td>\n",
       "      <td>0</td>\n",
       "      <td>0</td>\n",
       "      <td>0</td>\n",
       "      <td>0</td>\n",
       "      <td>0</td>\n",
       "      <td>0</td>\n",
       "    </tr>\n",
       "    <tr>\n",
       "      <th>15</th>\n",
       "      <td>[1, 1, 0, 0, 0, 0, 0, 0, 0]</td>\n",
       "      <td>1</td>\n",
       "      <td>1</td>\n",
       "      <td>0</td>\n",
       "      <td>0</td>\n",
       "      <td>0</td>\n",
       "      <td>0</td>\n",
       "      <td>0</td>\n",
       "      <td>0</td>\n",
       "      <td>0</td>\n",
       "    </tr>\n",
       "    <tr>\n",
       "      <th>21</th>\n",
       "      <td>[1, 2, 3, 1, 1, 0, 0, 0, 0]</td>\n",
       "      <td>1</td>\n",
       "      <td>2</td>\n",
       "      <td>3</td>\n",
       "      <td>1</td>\n",
       "      <td>1</td>\n",
       "      <td>0</td>\n",
       "      <td>0</td>\n",
       "      <td>0</td>\n",
       "      <td>0</td>\n",
       "    </tr>\n",
       "  </tbody>\n",
       "</table>\n",
       "</div>"
      ],
      "text/plain": [
       "       wetland_type_vector_200m  nwi_riverine_200m  nwi_freshwater_pond_200m  \\\n",
       "10  [1, 0, 0, 0, 0, 0, 0, 0, 0]                  1                         0   \n",
       "15  [1, 1, 0, 0, 0, 0, 0, 0, 0]                  1                         1   \n",
       "21  [1, 2, 3, 1, 1, 0, 0, 0, 0]                  1                         2   \n",
       "\n",
       "    nwi_freshwater_emergent_wetland_200m  nwi_freshwater_forested_200m  \\\n",
       "10                                     0                             0   \n",
       "15                                     0                             0   \n",
       "21                                     3                             1   \n",
       "\n",
       "    nwi_shrub_wetland_200m  nwi_lake_200m  nwi_other_200m  \\\n",
       "10                       0              0               0   \n",
       "15                       0              0               0   \n",
       "21                       1              0               0   \n",
       "\n",
       "    nwi_estuarine_and_marine_wetland_200m  \\\n",
       "10                                      0   \n",
       "15                                      0   \n",
       "21                                      0   \n",
       "\n",
       "    nwi_estuarine_and_marine_deepwater_200m  \n",
       "10                                        0  \n",
       "15                                        0  \n",
       "21                                        0  "
      ]
     },
     "execution_count": 251,
     "metadata": {},
     "output_type": "execute_result"
    }
   ],
   "source": [
    "# just looking at the newly created columns\n",
    "df[good].head(3).loc[:, \"wetland_type_vector_\" + str(2 * PATCH_SIZE) + \"m\" : \"nwi_estuarine_and_marine_deepwater_\" + str(2 * PATCH_SIZE) + \"m\"]\n",
    "\n",
    "\n"
   ]
  },
  {
   "cell_type": "markdown",
   "id": "synthetic-prince",
   "metadata": {},
   "source": [
    "# NWI Code Definitions"
   ]
  },
  {
   "cell_type": "markdown",
   "id": "apart-johns",
   "metadata": {},
   "source": [
    "## Glean out features from attributes using the NWI Code Defn book"
   ]
  },
  {
   "cell_type": "code",
   "execution_count": 252,
   "id": "expanded-falls",
   "metadata": {},
   "outputs": [],
   "source": [
    "df_attr = pd.read_csv(\"NWI_Code_Definitions.csv\")"
   ]
  },
  {
   "cell_type": "code",
   "execution_count": 253,
   "id": "affiliated-leone",
   "metadata": {},
   "outputs": [
    {
     "data": {
      "text/plain": [
       "(5419, 24)"
      ]
     },
     "execution_count": 253,
     "metadata": {},
     "output_type": "execute_result"
    }
   ],
   "source": [
    "df_attr.shape"
   ]
  },
  {
   "cell_type": "code",
   "execution_count": 254,
   "id": "massive-pioneer",
   "metadata": {},
   "outputs": [
    {
     "data": {
      "text/plain": [
       "Index(['ATTRIBUTE', 'SYSTEM_NAME', 'SYSTEM_DEFINITION', 'SUBSYSTEM_NAME',\n",
       "       'SUBSYSTEM_DEFINITION', 'CLASS_NAME', 'CLASS_DEFINITION',\n",
       "       'SUBCLASS_NAME', 'SUBCLASS_DEFINITION', 'SPLIT_CLASS_NAME',\n",
       "       'SPLIT_CLASS_DEFINITION', 'SPLIT_SUBCLASS_NAME',\n",
       "       'SPLIT_SUBCLASS_DEFINITION', 'WATER_REGIME_NAME',\n",
       "       'WATER_REGIME_SUBGROUP', 'WATER_REGIME_DEFINITION',\n",
       "       'FIRST_MODIFIER_NAME', 'FIRST_MODIFIER_GROUP',\n",
       "       'FIRST_MODIFIER_SUBGROUP', 'FIRST_MODIFIER_DEFINITION',\n",
       "       'SECOND_MODIFIER_NAME', 'SECOND_MODIFIER_GROUP',\n",
       "       'SECOND_MODIFIER_SUBGROUP', 'SECOND_MODIFIER_DEFINITION'],\n",
       "      dtype='object')"
      ]
     },
     "execution_count": 254,
     "metadata": {},
     "output_type": "execute_result"
    }
   ],
   "source": [
    "df_attr.columns"
   ]
  },
  {
   "cell_type": "code",
   "execution_count": 255,
   "id": "adjusted-glasgow",
   "metadata": {},
   "outputs": [
    {
     "data": {
      "text/plain": [
       "PEM1/SS6C     1\n",
       "L2US5Jh       1\n",
       "E2SS3Nh6      1\n",
       "PSS1/EM1D     1\n",
       "PSS1/4Db      1\n",
       "             ..\n",
       "PSS3/4Ex      1\n",
       "PEM5/1R       1\n",
       "PUB/SS6F      1\n",
       "PSS3/FO4S     1\n",
       "E2SS3/US3N    1\n",
       "Name: ATTRIBUTE, Length: 5419, dtype: int64"
      ]
     },
     "execution_count": 255,
     "metadata": {},
     "output_type": "execute_result"
    }
   ],
   "source": [
    "# ATTRIBUTE column has all unique entries (some with \"/\" which may not be used)\n",
    "df_attr.ATTRIBUTE.value_counts()"
   ]
  },
  {
   "cell_type": "code",
   "execution_count": 256,
   "id": "unusual-healing",
   "metadata": {},
   "outputs": [
    {
     "data": {
      "text/html": [
       "<div>\n",
       "<style scoped>\n",
       "    .dataframe tbody tr th:only-of-type {\n",
       "        vertical-align: middle;\n",
       "    }\n",
       "\n",
       "    .dataframe tbody tr th {\n",
       "        vertical-align: top;\n",
       "    }\n",
       "\n",
       "    .dataframe thead th {\n",
       "        text-align: right;\n",
       "    }\n",
       "</style>\n",
       "<table border=\"1\" class=\"dataframe\">\n",
       "  <thead>\n",
       "    <tr style=\"text-align: right;\">\n",
       "      <th></th>\n",
       "      <th>ATTRIBUTE</th>\n",
       "      <th>SYSTEM_NAME</th>\n",
       "      <th>CLASS_NAME</th>\n",
       "      <th>SUBCLASS_NAME</th>\n",
       "      <th>SPLIT_CLASS_NAME</th>\n",
       "      <th>WATER_REGIME_NAME</th>\n",
       "      <th>FIRST_MODIFIER_NAME</th>\n",
       "      <th>FIRST_MODIFIER_SUBGROUP</th>\n",
       "      <th>SECOND_MODIFIER_NAME</th>\n",
       "      <th>SECOND_MODIFIER_DEFINITION</th>\n",
       "    </tr>\n",
       "  </thead>\n",
       "  <tbody>\n",
       "    <tr>\n",
       "      <th>685</th>\n",
       "      <td>L1UBHh</td>\n",
       "      <td>Lacustrine</td>\n",
       "      <td>Unconsolidated Bottom</td>\n",
       "      <td>NaN</td>\n",
       "      <td>NaN</td>\n",
       "      <td>Permanently Flooded</td>\n",
       "      <td>Diked/Impounded</td>\n",
       "      <td>NaN</td>\n",
       "      <td>NaN</td>\n",
       "      <td>NaN</td>\n",
       "    </tr>\n",
       "  </tbody>\n",
       "</table>\n",
       "</div>"
      ],
      "text/plain": [
       "    ATTRIBUTE SYSTEM_NAME             CLASS_NAME SUBCLASS_NAME  \\\n",
       "685    L1UBHh  Lacustrine  Unconsolidated Bottom           NaN   \n",
       "\n",
       "    SPLIT_CLASS_NAME    WATER_REGIME_NAME FIRST_MODIFIER_NAME  \\\n",
       "685              NaN  Permanently Flooded     Diked/Impounded   \n",
       "\n",
       "    FIRST_MODIFIER_SUBGROUP SECOND_MODIFIER_NAME SECOND_MODIFIER_DEFINITION  \n",
       "685                     NaN                  NaN                        NaN  "
      ]
     },
     "execution_count": 256,
     "metadata": {},
     "output_type": "execute_result"
    }
   ],
   "source": [
    "def find_feature(attribute=\"L1UBHh\"):\n",
    "    \"\"\"\n",
    "    \n",
    "    input: attribute observed in the GEE NWI bbox\n",
    "    output: corresponding row in the NWI Code Definition book\n",
    "    \"\"\"\n",
    "    return (df_attr[df_attr.ATTRIBUTE == attribute].loc[:, [\"ATTRIBUTE\", \n",
    "                                                            \"SYSTEM_NAME\",\n",
    "                                                            \"CLASS_NAME\",\n",
    "                                                            \"SUBCLASS_NAME\",\n",
    "                                                            \"SPLIT_CLASS_NAME\",\n",
    "                                                            \"WATER_REGIME_NAME\",\n",
    "                                                            \"FIRST_MODIFIER_NAME\",\n",
    "                                                            \"FIRST_MODIFIER_SUBGROUP\",\n",
    "                                                            \"SECOND_MODIFIER_NAME\",\n",
    "                                                            \"SECOND_MODIFIER_DEFINITION\"]])\n",
    "\n",
    "find_feature()"
   ]
  },
  {
   "cell_type": "code",
   "execution_count": 257,
   "id": "institutional-sapphire",
   "metadata": {},
   "outputs": [],
   "source": [
    "# df_attr.SPLIT_SUBCLASS_NAME.value_counts()"
   ]
  },
  {
   "cell_type": "code",
   "execution_count": 258,
   "id": "varied-aerospace",
   "metadata": {},
   "outputs": [
    {
     "name": "stdout",
     "output_type": "stream",
     "text": [
      "ATTRIBUTE 0.0\n",
      "SYSTEM_NAME 0.0\n",
      "SUBSYSTEM_NAME 0.7422033585532386\n",
      "CLASS_NAME 0.0009226794611551947\n",
      "SUBCLASS_NAME 0.20114412253183245\n",
      "SPLIT_CLASS_NAME 0.35929138217383283\n",
      "SPLIT_SUBCLASS_NAME 0.4469459309835763\n",
      "WATER_REGIME_NAME 0.002029894814541428\n",
      "WATER_REGIME_SUBGROUP 0.002029894814541428\n",
      "FIRST_MODIFIER_NAME 0.36482745894076396\n",
      "FIRST_MODIFIER_SUBGROUP 0.9512825244510057\n",
      "SECOND_MODIFIER_NAME 0.9675216829673371\n",
      "SECOND_MODIFIER_DEFINITION 0.9675216829673371\n"
     ]
    }
   ],
   "source": [
    "# find fraction of nan's\n",
    "attribute_features = ([\"ATTRIBUTE\",\"SYSTEM_NAME\",\"SUBSYSTEM_NAME\", \"CLASS_NAME\",\n",
    "             \"SUBCLASS_NAME\", \"SPLIT_CLASS_NAME\", \"SPLIT_SUBCLASS_NAME\", \n",
    "             \"WATER_REGIME_NAME\", \"WATER_REGIME_SUBGROUP\", \"FIRST_MODIFIER_NAME\", \n",
    "             \"FIRST_MODIFIER_SUBGROUP\", \"SECOND_MODIFIER_NAME\", \n",
    "             \"SECOND_MODIFIER_DEFINITION\"])\n",
    "\n",
    "for feature in attribute_features:\n",
    "    print(feature, np.mean(df_attr[feature].isna()))"
   ]
  },
  {
   "cell_type": "code",
   "execution_count": 259,
   "id": "toxic-carry",
   "metadata": {},
   "outputs": [
    {
     "name": "stdout",
     "output_type": "stream",
     "text": [
      "ATTRIBUTE 0.0\n",
      "SYSTEM_NAME 0.0\n",
      "SUBSYSTEM_NAME 0.0\n",
      "CLASS_NAME 0.0\n",
      "SUBCLASS_NAME 0.0\n",
      "SPLIT_CLASS_NAME 0.0\n",
      "SPLIT_SUBCLASS_NAME 0.0\n",
      "WATER_REGIME_NAME 0.0\n",
      "WATER_REGIME_SUBGROUP 0.0\n",
      "FIRST_MODIFIER_NAME 0.0\n",
      "FIRST_MODIFIER_SUBGROUP 0.0\n",
      "SECOND_MODIFIER_NAME 0.0\n",
      "SECOND_MODIFIER_DEFINITION 0.0\n"
     ]
    }
   ],
   "source": [
    "# impute not_available category so available and not-available can be OHE\n",
    "df_attr.fillna(\"zzz\", inplace=True)\n",
    "\n",
    "# verify no more nans left\n",
    "for feature in attribute_features:\n",
    "    print(feature, np.mean(df_attr[feature].isna()))"
   ]
  },
  {
   "cell_type": "code",
   "execution_count": 260,
   "id": "million-armstrong",
   "metadata": {},
   "outputs": [
    {
     "name": "stdout",
     "output_type": "stream",
     "text": [
      "SYSTEM_NAME : 5\n",
      "['Estuarine' 'Lacustrine' 'Marine' 'Palustrine' 'Riverine']\n",
      "____________________________________________________________________________________________________\n",
      "SUBSYSTEM_NAME : 11\n",
      "['Subtidal' 'Intertidal' 'zzz' 'Limnetic' 'Littoral' 'INTERTIDAL' 'Tidal'\n",
      " 'Lower Perennial' 'Upper Perennial' 'Intermittent' 'Unknown Perennial']\n",
      "____________________________________________________________________________________________________\n",
      "CLASS_NAME : 12\n",
      "['Aquatic Bed' 'Rock Bottom' 'Reef' 'Unconsolidated Bottom' 'Emergent'\n",
      " 'Forested' 'Rocky Shore' 'Streambed' 'Scrub-Shrub' 'Unconsolidated Shore'\n",
      " 'zzz' 'Moss-Lichen']\n",
      "____________________________________________________________________________________________________\n",
      "SUBCLASS_NAME : 26\n",
      "['zzz' 'Algal' 'Rooted Vascular' 'Floating Vascular' 'Rubble' 'Mollusk'\n",
      " 'Cobble-Gravel' 'Sand' 'Mud' 'Organic' 'Persistent' 'Non persistent'\n",
      " 'Phragmites australis' 'Broad-Leaved Deciduous' 'Broad-Leaved Evergreen'\n",
      " 'Needle-Leaved Evergreen' 'Dead' 'Evergreen' 'Bedrock'\n",
      " 'Needle-Leaved Deciduous' 'Deciduous' 'Aquatic Moss' 'Vegetated' 'Coral'\n",
      " 'Moss' 'Lichen']\n",
      "____________________________________________________________________________________________________\n",
      "SPLIT_CLASS_NAME : 10\n",
      "['Unconsolidated Bottom' 'zzz' 'Reef' 'Aquatic Bed' 'Rocky Shore'\n",
      " 'Unconsolidated Shore' 'Emergent' 'Forested' 'Scrub-Shrub' 'Moss-Lichen']\n",
      "____________________________________________________________________________________________________\n",
      "SPLIT_SUBCLASS_NAME : 26\n",
      "['zzz' 'Sand' 'Rooted Vascular' 'Algal' 'Mud' 'Persistent' 'Bedrock'\n",
      " 'Cobble-Gravel' 'Phragmites australis' 'Broad-Leaved Deciduous'\n",
      " 'Broad-Leaved Evergreen' 'Needle-Leaved Evergreen' 'Dead'\n",
      " 'Needle-Leaved Deciduous' 'Evergreen' 'Non persistent' 'Mollusk'\n",
      " 'Floating Vascular' 'Coral' 'Rubble' 'Deciduous' 'Organic' 'Aquatic Moss'\n",
      " 'Moss' 'Lichen' 'Vegetated']\n",
      "____________________________________________________________________________________________________\n",
      "WATER_REGIME_NAME : 19\n",
      "['Subtidal' 'Irregularly Exposed' 'Regularly Flooded'\n",
      " 'Irregularly Flooded' 'zzz' 'Permanently Flooded'\n",
      " 'Permanently Flooded-Tidal' 'Intermittently Exposed'\n",
      " 'Artificially Flooded' 'Semipermanently Flooded'\n",
      " 'Semipermanently Flooded-Tidal' 'Seasonally Flooded' 'Temporary Flooded'\n",
      " 'Intermittently Flooded' 'Seasonally Flooded-Tidal'\n",
      " 'Seasonally Saturated' 'Seasonally Flooded/Saturated'\n",
      " 'Continuously  Saturated' 'Temporary Flooded-Tidal']\n",
      "____________________________________________________________________________________________________\n",
      "WATER_REGIME_SUBGROUP : 4\n",
      "['Saltwater Tidal' 'zzz' 'Nontidal' 'Freshwater Tidal']\n",
      "____________________________________________________________________________________________________\n",
      "FIRST_MODIFIER_NAME : 19\n",
      "['zzz' 'Excavated' 'Oligohaline' 'Diked/Impounded' 'Mesohaline'\n",
      " 'Polyhaline' 'Mixohaline/Mixosaline (Brackish)' 'Artificial Substrate'\n",
      " 'Partially Drained/Ditched' 'Spoil' 'Organic' 'Beaver'\n",
      " 'Euthaline/Eusaline' 'Managed' 'Hyperhaline/Hypersaline' 'Farmed'\n",
      " 'Alkaline' 'Acid' 'Mineral']\n",
      "____________________________________________________________________________________________________\n"
     ]
    }
   ],
   "source": [
    "\"\"\"attribute_features = ([\"ATTRIBUTE\",\"SYSTEM_NAME\",\"SUBSYSTEM_NAME\", \"CLASS_NAME\",\n",
    "             \"SUBCLASS_NAME\", \"SPLIT_CLASS_NAME\", \"SPLIT_SUBCLASS_NAME\", \n",
    "             \"WATER_REGIME_NAME\", \"WATER_REGIME_SUBGROUP\", \"FIRST_MODIFIER_NAME\", \n",
    "             \"FIRST_MODIFIER_SUBGROUP\", \"SECOND_MODIFIER_NAME\", \n",
    "             \"SECOND_MODIFIER_DEFINITION\"])\n",
    "QAZAAZAA\"\"\"\n",
    "attribute_features = ([\"SYSTEM_NAME\",\"SUBSYSTEM_NAME\", \"CLASS_NAME\",\n",
    "             \"SUBCLASS_NAME\", \"SPLIT_CLASS_NAME\", \"SPLIT_SUBCLASS_NAME\", \n",
    "             \"WATER_REGIME_NAME\", \"WATER_REGIME_SUBGROUP\", \"FIRST_MODIFIER_NAME\"])\n",
    "\n",
    "\n",
    "for feature in attribute_features:\n",
    "    print(feature, \":\", len(df_attr[feature].value_counts()))\n",
    "#     print(df_attr[feature].value_counts())\n",
    "    print(df_attr[feature].unique())\n",
    "    print(\"_\" * 100)\n",
    "\n"
   ]
  },
  {
   "cell_type": "code",
   "execution_count": 261,
   "id": "rising-promotion",
   "metadata": {},
   "outputs": [],
   "source": [
    "# attribute_features = ([\"ATTRIBUTE\",\"SYSTEM_NAME\"])\n",
    "\n",
    "def feature_vector(df_attr=df_attr, feature=\"SYSTEM_NAME\"):\n",
    "    \"\"\"\n",
    "    \n",
    "    Returns the vector for each feature of an attribute\n",
    "    \n",
    "    input: NWI Code Definition as df_attr to find unique values for a featurE & feature name \n",
    "    output: feature vector for that (attribute, feature) set\n",
    "    \n",
    "    \"\"\"\n",
    "    # find unique values for a give feature\n",
    "    feature_list = list(df_attr[feature].unique())\n",
    "    # sort\n",
    "    feature_list.sort()\n",
    "    # lower case and replace spaces by _\n",
    "    feature_list = [feature.lower().replace(\" \", \"_\") for feature in feature_list]\n",
    "    \n",
    "    # create a dict where the order is maintained. Initialize values to 0\n",
    "    feature_dict = OrderedDict(zip(feature_list, [0] * len(feature_list)))\n",
    "    \n",
    "    # you would like to actually create a new column with this frozen feature_list\n",
    "    df_attr[feature + \"_\" + \"uniques_list\"] = df_attr.apply(lambda x: feature_list, axis=1)\n",
    "    return df_attr\n",
    "    \n"
   ]
  },
  {
   "cell_type": "code",
   "execution_count": 262,
   "id": "rising-velvet",
   "metadata": {},
   "outputs": [
    {
     "data": {
      "text/plain": [
       "Index(['ATTRIBUTE', 'SYSTEM_NAME', 'SYSTEM_DEFINITION', 'SUBSYSTEM_NAME',\n",
       "       'SUBSYSTEM_DEFINITION', 'CLASS_NAME', 'CLASS_DEFINITION',\n",
       "       'SUBCLASS_NAME', 'SUBCLASS_DEFINITION', 'SPLIT_CLASS_NAME',\n",
       "       'SPLIT_CLASS_DEFINITION', 'SPLIT_SUBCLASS_NAME',\n",
       "       'SPLIT_SUBCLASS_DEFINITION', 'WATER_REGIME_NAME',\n",
       "       'WATER_REGIME_SUBGROUP', 'WATER_REGIME_DEFINITION',\n",
       "       'FIRST_MODIFIER_NAME', 'FIRST_MODIFIER_GROUP',\n",
       "       'FIRST_MODIFIER_SUBGROUP', 'FIRST_MODIFIER_DEFINITION',\n",
       "       'SECOND_MODIFIER_NAME', 'SECOND_MODIFIER_GROUP',\n",
       "       'SECOND_MODIFIER_SUBGROUP', 'SECOND_MODIFIER_DEFINITION',\n",
       "       'SYSTEM_NAME_uniques_list', 'SUBSYSTEM_NAME_uniques_list',\n",
       "       'CLASS_NAME_uniques_list', 'SUBCLASS_NAME_uniques_list',\n",
       "       'SPLIT_CLASS_NAME_uniques_list', 'SPLIT_SUBCLASS_NAME_uniques_list',\n",
       "       'WATER_REGIME_NAME_uniques_list', 'WATER_REGIME_SUBGROUP_uniques_list',\n",
       "       'FIRST_MODIFIER_NAME_uniques_list'],\n",
       "      dtype='object')"
      ]
     },
     "execution_count": 262,
     "metadata": {},
     "output_type": "execute_result"
    }
   ],
   "source": [
    "# create the columns for each of the attribute_features    \n",
    "for feature in attribute_features:\n",
    "    feature_vector(feature=feature)\n",
    "    \n",
    "# note the _uniques_list columns created\n",
    "df_attr.columns"
   ]
  },
  {
   "cell_type": "markdown",
   "id": "annual-spectrum",
   "metadata": {},
   "source": [
    "# Creating NWI attribute features"
   ]
  },
  {
   "cell_type": "code",
   "execution_count": 263,
   "id": "subtle-mystery",
   "metadata": {},
   "outputs": [
    {
     "data": {
      "text/plain": [
       "['estuarine', 'lacustrine', 'marine', 'palustrine', 'riverine']"
      ]
     },
     "execution_count": 263,
     "metadata": {},
     "output_type": "execute_result"
    }
   ],
   "source": [
    "# read a uniques column\n",
    "df_attr.SYSTEM_NAME_uniques_list[0]"
   ]
  },
  {
   "cell_type": "code",
   "execution_count": 264,
   "id": "conceptual-juvenile",
   "metadata": {},
   "outputs": [
    {
     "data": {
      "text/plain": [
       "['artificially_flooded',\n",
       " 'continuously__saturated',\n",
       " 'intermittently_exposed',\n",
       " 'intermittently_flooded',\n",
       " 'irregularly_exposed',\n",
       " 'irregularly_flooded',\n",
       " 'permanently_flooded',\n",
       " 'permanently_flooded-tidal',\n",
       " 'regularly_flooded',\n",
       " 'seasonally_flooded',\n",
       " 'seasonally_flooded-tidal',\n",
       " 'seasonally_flooded/saturated',\n",
       " 'seasonally_saturated',\n",
       " 'semipermanently_flooded',\n",
       " 'semipermanently_flooded-tidal',\n",
       " 'subtidal',\n",
       " 'temporary_flooded',\n",
       " 'temporary_flooded-tidal',\n",
       " 'zzz']"
      ]
     },
     "execution_count": 264,
     "metadata": {},
     "output_type": "execute_result"
    }
   ],
   "source": [
    "# read a uniques column\n",
    "df_attr.WATER_REGIME_NAME_uniques_list[0]"
   ]
  },
  {
   "cell_type": "code",
   "execution_count": 265,
   "id": "excellent-skiing",
   "metadata": {},
   "outputs": [
    {
     "data": {
      "text/plain": [
       "'Streambed'"
      ]
     },
     "execution_count": 265,
     "metadata": {},
     "output_type": "execute_result"
    }
   ],
   "source": [
    "# for an attribute and feature find the value\n",
    "# the [0] pulls out the entry from pandas Series\n",
    "find_feature(\"R4SBC\")[\"CLASS_NAME\"].values[0]"
   ]
  },
  {
   "cell_type": "code",
   "execution_count": 266,
   "id": "southeast-fever",
   "metadata": {},
   "outputs": [
    {
     "data": {
      "text/plain": [
       "'Aquatic Bed'"
      ]
     },
     "execution_count": 266,
     "metadata": {},
     "output_type": "execute_result"
    }
   ],
   "source": [
    "find_feature(\"PABGx\")[\"CLASS_NAME\"].values[0]"
   ]
  },
  {
   "cell_type": "code",
   "execution_count": 267,
   "id": "elegant-track",
   "metadata": {},
   "outputs": [
    {
     "data": {
      "text/plain": [
       "'Riverine'"
      ]
     },
     "execution_count": 267,
     "metadata": {},
     "output_type": "execute_result"
    }
   ],
   "source": [
    "find_feature(\"R4SBC\")[\"SYSTEM_NAME\"].values[0]"
   ]
  },
  {
   "cell_type": "code",
   "execution_count": 268,
   "id": "equipped-chile",
   "metadata": {},
   "outputs": [
    {
     "data": {
      "text/plain": [
       "[0, 0, 0, 2, 1]"
      ]
     },
     "execution_count": 268,
     "metadata": {},
     "output_type": "execute_result"
    }
   ],
   "source": [
    "def create_attr_feature_vector(attr_list=[\"R4SBC\", \"PABGx\", \"PABGx\"], attr_feature=\"SYSTEM_NAME\"):\n",
    "    \"\"\"\n",
    "    Returns vector of form [1, 1, 2, 1, 1, 0, 0, 0, 0]\n",
    "    corresponding to attr feature\n",
    "    \n",
    "    attr_list: is of the form [\"R4SBC\", \"PUBGx\"]\n",
    "    attr_feature is of the form \"CLASS_NAME\"\n",
    "    \n",
    "    output: attr feature vector\n",
    "    \"\"\"\n",
    "    feature_uniques_dict = (OrderedDict(zip(df_attr[attr_feature + \"_uniques_list\"][0], \n",
    "                                    [0] * len(df_attr[attr_feature + \"_uniques_list\"][0]))))\n",
    "    for attr in attr_list:\n",
    "        # its possible to not find an entry in Code book that matches ATTRIBUTE from GEE\n",
    "        # as such handle the empty list returned\n",
    "        try:\n",
    "            feature = find_feature(attr)[attr_feature].values[0]\n",
    "            feature = feature.lower().replace(\" \", \"_\") \n",
    "            feature_uniques_dict[feature] += 1\n",
    "        except Exception as e:\n",
    "            pass\n",
    "    return list(feature_uniques_dict.values())\n",
    "\n",
    "create_attr_feature_vector()"
   ]
  },
  {
   "cell_type": "code",
   "execution_count": 269,
   "id": "about-arrangement",
   "metadata": {},
   "outputs": [
    {
     "data": {
      "text/plain": [
       "[2, 0, 0, 0, 0, 0, 0, 0, 1, 0, 0, 0]"
      ]
     },
     "execution_count": 269,
     "metadata": {},
     "output_type": "execute_result"
    }
   ],
   "source": [
    "create_attr_feature_vector(attr_feature=\"CLASS_NAME\")"
   ]
  },
  {
   "cell_type": "code",
   "execution_count": 270,
   "id": "passive-consciousness",
   "metadata": {},
   "outputs": [
    {
     "name": "stdout",
     "output_type": "stream",
     "text": [
      "SYSTEM_NAME\n",
      "SUBSYSTEM_NAME\n",
      "CLASS_NAME\n",
      "SUBCLASS_NAME\n",
      "SPLIT_CLASS_NAME\n",
      "SPLIT_SUBCLASS_NAME\n",
      "WATER_REGIME_NAME\n",
      "WATER_REGIME_SUBGROUP\n",
      "FIRST_MODIFIER_NAME\n"
     ]
    }
   ],
   "source": [
    "# create feature vectors for the chosen attribute features\n",
    "for attr_feature in attribute_features:\n",
    "    print(attr_feature)\n",
    "    df[attr_feature + \"_vector_\" + str(2 * PATCH_SIZE) + \"m\"] = (df.apply(lambda x: \n",
    "                                                                    create_attr_feature_vector(\n",
    "                                                                        x[\"nwi_attr_list_\"  \n",
    "                                                                          + str(2 * PATCH_SIZE) + \"m\"], \n",
    "                                                                        attr_feature=attr_feature), \n",
    "                                                           axis=1))\n",
    "    \n",
    "    \n",
    "    \n",
    "    \n",
    "    \n",
    "    "
   ]
  },
  {
   "cell_type": "code",
   "execution_count": 271,
   "id": "controlled-disaster",
   "metadata": {},
   "outputs": [
    {
     "data": {
      "text/plain": [
       "Index(['Unnamed: 0', 'Unnamed: 0.1', 'jurisdiction_type', 'da_number',\n",
       "       'district', 'project_name', 'longitude', 'latitude',\n",
       "       'date_issued_or_denied', 'rha_determination', 'cwa_determination',\n",
       "       'rha1', 'rha2', 'cwa1', 'cwa2', 'cwa3', 'cwa4', 'cwa5', 'cwa6', 'cwa7',\n",
       "       'cwa8', 'cwa9', 'potential_wetland', 'index', 'Index', 'mukey',\n",
       "       'hydclprs', 'aws025wta', 'drclassdcd', 'nwi_vars_200m',\n",
       "       'nwi_feature_count_200m', 'nwi_attr_list_200m', 'nwi_wetland_list_200m',\n",
       "       'wetland_type_vector_200m', 'nwi_riverine_200m',\n",
       "       'nwi_freshwater_pond_200m', 'nwi_freshwater_emergent_wetland_200m',\n",
       "       'nwi_freshwater_forested_200m', 'nwi_shrub_wetland_200m',\n",
       "       'nwi_lake_200m', 'nwi_other_200m',\n",
       "       'nwi_estuarine_and_marine_wetland_200m',\n",
       "       'nwi_estuarine_and_marine_deepwater_200m', 'SYSTEM_NAME_vector_200m',\n",
       "       'SUBSYSTEM_NAME_vector_200m', 'CLASS_NAME_vector_200m',\n",
       "       'SUBCLASS_NAME_vector_200m', 'SPLIT_CLASS_NAME_vector_200m',\n",
       "       'SPLIT_SUBCLASS_NAME_vector_200m', 'WATER_REGIME_NAME_vector_200m',\n",
       "       'WATER_REGIME_SUBGROUP_vector_200m', 'FIRST_MODIFIER_NAME_vector_200m'],\n",
       "      dtype='object')"
      ]
     },
     "execution_count": 271,
     "metadata": {},
     "output_type": "execute_result"
    }
   ],
   "source": [
    "df.columns\n"
   ]
  },
  {
   "cell_type": "code",
   "execution_count": 272,
   "id": "immediate-trade",
   "metadata": {},
   "outputs": [
    {
     "data": {
      "text/plain": [
       "10       [0, 0, 0, 0, 1]\n",
       "15       [0, 0, 0, 1, 1]\n",
       "21       [0, 0, 0, 6, 1]\n",
       "23       [0, 0, 0, 0, 1]\n",
       "29       [0, 0, 0, 2, 0]\n",
       "              ...       \n",
       "14549    [0, 0, 0, 2, 1]\n",
       "14563    [0, 0, 0, 0, 1]\n",
       "14612    [0, 0, 0, 2, 4]\n",
       "14613    [0, 0, 0, 2, 4]\n",
       "14614    [0, 0, 0, 1, 0]\n",
       "Name: SYSTEM_NAME_vector_200m, Length: 2176, dtype: object"
      ]
     },
     "execution_count": 272,
     "metadata": {},
     "output_type": "execute_result"
    }
   ],
   "source": [
    "df.SYSTEM_NAME_vector_200m[good]"
   ]
  },
  {
   "cell_type": "code",
   "execution_count": 273,
   "id": "offshore-feeding",
   "metadata": {},
   "outputs": [
    {
     "data": {
      "text/plain": [
       "['estuarine', 'lacustrine', 'marine', 'palustrine', 'riverine']"
      ]
     },
     "execution_count": 273,
     "metadata": {},
     "output_type": "execute_result"
    }
   ],
   "source": [
    "df_attr.SYSTEM_NAME_uniques_list[0]"
   ]
  },
  {
   "cell_type": "code",
   "execution_count": 274,
   "id": "checked-clinton",
   "metadata": {},
   "outputs": [],
   "source": [
    "# # The vectors are then stripped into individual columns\n",
    "\n",
    "# vector_list = ['SYSTEM_NAME_vector_' + str(2 * PATCH_SIZE) + \"m\",\n",
    "#        'SUBSYSTEM_NAME_vector_' + str(2 * PATCH_SIZE) + \"m\", 'CLASS_NAME_vector_' + str(2 * PATCH_SIZE) + \"m\",\n",
    "#        'SUBCLASS_NAME_vector_' + str(2 * PATCH_SIZE) + \"m\", 'SPLIT_CLASS_NAME_vector_' + str(2 * PATCH_SIZE) + \"m\",\n",
    "#        'SPLIT_SUBCLASS_NAME_vector_' + str(2 * PATCH_SIZE) + \"m\", 'WATER_REGIME_NAME_vector_' + str(2 * PATCH_SIZE) + \"m\",\n",
    "#        'WATER_REGIME_SUBGROUP_vector_' + str(2 * PATCH_SIZE) + \"m\", 'FIRST_MODIFIER_NAME_vector_' + str(2 * PATCH_SIZE) + \"m\"]\n",
    "\n",
    "\n",
    "# # for [estuarine, lacustrine etc] in vector_list:\n",
    "# #     for j, estuarine in enumerate[estuarine, lacustrine etc]:\n",
    "# #         df[esturaine_200m] = df.apply(x: x.[estuarine, lacustrine etc][j], axis=1)\n",
    "\n",
    "# for i, vector in enumerate(vector_list):        \n",
    "#     for j, feature_count in enumerate(vector):\n",
    "#         feature_name = df_attr[attribute_features[i] + \"_uniques_list\"][0][j]\n",
    "#         df[\"nwi_\" + feature_name + \"_\" + str(2 * PATCH_SIZE) + \"m\"] = (df.apply(lambda x: x[attribute_features[i] + \"_vector_\"  + str(2 * PATCH_SIZE) + \"m\"][j], axis=1))\n",
    "# #         df[vector + \"_\" + value] = df.apply()"
   ]
  },
  {
   "cell_type": "code",
   "execution_count": 275,
   "id": "victorian-ticket",
   "metadata": {},
   "outputs": [
    {
     "data": {
      "text/plain": [
       "[0, 0, 0, 0, 0]"
      ]
     },
     "execution_count": 275,
     "metadata": {},
     "output_type": "execute_result"
    }
   ],
   "source": [
    "df.SYSTEM_NAME_vector_200m[0]"
   ]
  },
  {
   "cell_type": "code",
   "execution_count": 276,
   "id": "accepting-recovery",
   "metadata": {},
   "outputs": [
    {
     "data": {
      "text/plain": [
       "['estuarine', 'lacustrine', 'marine', 'palustrine', 'riverine']"
      ]
     },
     "execution_count": 276,
     "metadata": {},
     "output_type": "execute_result"
    }
   ],
   "source": [
    "df_attr.SYSTEM_NAME_uniques_list[0]"
   ]
  },
  {
   "cell_type": "code",
   "execution_count": 277,
   "id": "controversial-focus",
   "metadata": {},
   "outputs": [
    {
     "name": "stdout",
     "output_type": "stream",
     "text": [
      "SYSTEM_NAME_vector_200m\n",
      "SUBSYSTEM_NAME_vector_200m\n",
      "CLASS_NAME_vector_200m\n",
      "SUBCLASS_NAME_vector_200m\n",
      "SPLIT_CLASS_NAME_vector_200m\n",
      "SPLIT_SUBCLASS_NAME_vector_200m\n",
      "WATER_REGIME_NAME_vector_200m\n",
      "WATER_REGIME_SUBGROUP_vector_200m\n",
      "FIRST_MODIFIER_NAME_vector_200m\n"
     ]
    }
   ],
   "source": [
    "print(*vector_list, sep=\"\\n\")"
   ]
  },
  {
   "cell_type": "code",
   "execution_count": 278,
   "id": "engaged-cancer",
   "metadata": {},
   "outputs": [
    {
     "data": {
      "text/plain": [
       "Index(['Unnamed: 0', 'Unnamed: 0.1', 'jurisdiction_type', 'da_number',\n",
       "       'district', 'project_name', 'longitude', 'latitude',\n",
       "       'date_issued_or_denied', 'rha_determination', 'cwa_determination',\n",
       "       'rha1', 'rha2', 'cwa1', 'cwa2', 'cwa3', 'cwa4', 'cwa5', 'cwa6', 'cwa7',\n",
       "       'cwa8', 'cwa9', 'potential_wetland', 'index', 'Index', 'mukey',\n",
       "       'hydclprs', 'aws025wta', 'drclassdcd', 'nwi_vars_200m',\n",
       "       'nwi_feature_count_200m', 'nwi_attr_list_200m', 'nwi_wetland_list_200m',\n",
       "       'wetland_type_vector_200m', 'nwi_riverine_200m',\n",
       "       'nwi_freshwater_pond_200m', 'nwi_freshwater_emergent_wetland_200m',\n",
       "       'nwi_freshwater_forested_200m', 'nwi_shrub_wetland_200m',\n",
       "       'nwi_lake_200m', 'nwi_other_200m',\n",
       "       'nwi_estuarine_and_marine_wetland_200m',\n",
       "       'nwi_estuarine_and_marine_deepwater_200m', 'SYSTEM_NAME_vector_200m',\n",
       "       'SUBSYSTEM_NAME_vector_200m', 'CLASS_NAME_vector_200m',\n",
       "       'SUBCLASS_NAME_vector_200m', 'SPLIT_CLASS_NAME_vector_200m',\n",
       "       'SPLIT_SUBCLASS_NAME_vector_200m', 'WATER_REGIME_NAME_vector_200m',\n",
       "       'WATER_REGIME_SUBGROUP_vector_200m', 'FIRST_MODIFIER_NAME_vector_200m'],\n",
       "      dtype='object')"
      ]
     },
     "execution_count": 278,
     "metadata": {},
     "output_type": "execute_result"
    }
   ],
   "source": [
    "df.columns"
   ]
  },
  {
   "cell_type": "code",
   "execution_count": 281,
   "id": "acoustic-tampa",
   "metadata": {},
   "outputs": [
    {
     "data": {
      "text/plain": [
       "10       [0, 0, 0, 0, 0, 0, 0, 0, 0, 0, 0, 0, 0, 0, 0, ...\n",
       "15       [0, 0, 0, 0, 0, 0, 1, 0, 0, 0, 0, 0, 0, 0, 0, ...\n",
       "21       [0, 0, 0, 0, 1, 0, 0, 0, 0, 0, 0, 0, 0, 0, 0, ...\n",
       "23       [0, 0, 0, 0, 0, 0, 0, 0, 0, 0, 0, 0, 0, 0, 0, ...\n",
       "29       [0, 0, 0, 0, 0, 0, 0, 0, 0, 0, 0, 0, 0, 0, 0, ...\n",
       "                               ...                        \n",
       "14549    [0, 0, 0, 0, 0, 0, 2, 0, 0, 0, 0, 0, 0, 0, 0, ...\n",
       "14563    [0, 0, 0, 0, 0, 0, 0, 0, 0, 0, 0, 0, 0, 0, 0, ...\n",
       "14612    [0, 0, 0, 0, 0, 0, 0, 0, 0, 0, 0, 0, 0, 0, 0, ...\n",
       "14613    [0, 0, 0, 0, 1, 0, 1, 0, 0, 0, 0, 0, 0, 0, 0, ...\n",
       "14614    [0, 0, 0, 0, 0, 0, 1, 0, 0, 0, 0, 0, 0, 0, 0, ...\n",
       "Name: FIRST_MODIFIER_NAME_vector_200m, Length: 2176, dtype: object"
      ]
     },
     "execution_count": 281,
     "metadata": {},
     "output_type": "execute_result"
    }
   ],
   "source": [
    "df.FIRST_MODIFIER_NAME_vector_200m[good]"
   ]
  },
  {
   "cell_type": "code",
   "execution_count": 282,
   "id": "increasing-looking",
   "metadata": {},
   "outputs": [
    {
     "name": "stdout",
     "output_type": "stream",
     "text": [
      "SYSTEM_NAME\n",
      "SUBSYSTEM_NAME\n",
      "CLASS_NAME\n",
      "SUBCLASS_NAME\n",
      "SPLIT_CLASS_NAME\n",
      "SPLIT_SUBCLASS_NAME\n",
      "WATER_REGIME_NAME\n",
      "WATER_REGIME_SUBGROUP\n",
      "FIRST_MODIFIER_NAME\n"
     ]
    }
   ],
   "source": [
    "print(*attribute_features, sep=\"\\n\")"
   ]
  },
  {
   "cell_type": "code",
   "execution_count": 286,
   "id": "collectible-roller",
   "metadata": {},
   "outputs": [
    {
     "data": {
      "text/plain": [
       "10       1\n",
       "15       1\n",
       "21       1\n",
       "23       1\n",
       "29       0\n",
       "        ..\n",
       "14549    1\n",
       "14563    1\n",
       "14612    4\n",
       "14613    4\n",
       "14614    0\n",
       "Name: nwi_riverine_200m, Length: 2176, dtype: int64"
      ]
     },
     "execution_count": 286,
     "metadata": {},
     "output_type": "execute_result"
    }
   ],
   "source": [
    "df.nwi_riverine_200m[good]"
   ]
  },
  {
   "cell_type": "code",
   "execution_count": 287,
   "id": "meaning-paradise",
   "metadata": {},
   "outputs": [],
   "source": [
    "# working\n",
    "for count, feature in enumerate(df_attr.SYSTEM_NAME_uniques_list[0]):\n",
    "    df[\"nwi_\" + str(feature) + \"_\" + str(2 * PATCH_SIZE) + \"m\"] = (df.apply(lambda x: \n",
    "                                                                                    x[\"SYSTEM_NAME_vector_\" \n",
    "                                                                                      + str(2 * PATCH_SIZE) \n",
    "                                                                                      + \"m\"][count],\n",
    "                                                                                   axis=1))\n",
    "    \n"
   ]
  },
  {
   "cell_type": "code",
   "execution_count": 290,
   "id": "aging-copper",
   "metadata": {},
   "outputs": [
    {
     "data": {
      "text/plain": [
       "Index(['Unnamed: 0', 'Unnamed: 0.1', 'jurisdiction_type', 'da_number',\n",
       "       'district', 'project_name', 'longitude', 'latitude',\n",
       "       'date_issued_or_denied', 'rha_determination', 'cwa_determination',\n",
       "       'rha1', 'rha2', 'cwa1', 'cwa2', 'cwa3', 'cwa4', 'cwa5', 'cwa6', 'cwa7',\n",
       "       'cwa8', 'cwa9', 'potential_wetland', 'index', 'Index', 'mukey',\n",
       "       'hydclprs', 'aws025wta', 'drclassdcd', 'nwi_vars_200m',\n",
       "       'nwi_feature_count_200m', 'nwi_attr_list_200m', 'nwi_wetland_list_200m',\n",
       "       'wetland_type_vector_200m', 'nwi_riverine_200m',\n",
       "       'nwi_freshwater_pond_200m', 'nwi_freshwater_emergent_wetland_200m',\n",
       "       'nwi_freshwater_forested_200m', 'nwi_shrub_wetland_200m',\n",
       "       'nwi_lake_200m', 'nwi_other_200m',\n",
       "       'nwi_estuarine_and_marine_wetland_200m',\n",
       "       'nwi_estuarine_and_marine_deepwater_200m', 'SYSTEM_NAME_vector_200m',\n",
       "       'SUBSYSTEM_NAME_vector_200m', 'CLASS_NAME_vector_200m',\n",
       "       'SUBCLASS_NAME_vector_200m', 'SPLIT_CLASS_NAME_vector_200m',\n",
       "       'SPLIT_SUBCLASS_NAME_vector_200m', 'WATER_REGIME_NAME_vector_200m',\n",
       "       'WATER_REGIME_SUBGROUP_vector_200m', 'FIRST_MODIFIER_NAME_vector_200m',\n",
       "       'nwi_estuarine_200m', 'nwi_lacustrine_200m', 'nwi_marine_200m',\n",
       "       'nwi_palustrine_200m'],\n",
       "      dtype='object')"
      ]
     },
     "execution_count": 290,
     "metadata": {},
     "output_type": "execute_result"
    }
   ],
   "source": [
    "df.columns"
   ]
  },
  {
   "cell_type": "code",
   "execution_count": 299,
   "id": "accredited-asthma",
   "metadata": {},
   "outputs": [
    {
     "data": {
      "text/plain": [
       "0.8924632352941176"
      ]
     },
     "execution_count": 299,
     "metadata": {},
     "output_type": "execute_result"
    }
   ],
   "source": [
    "np.mean(np.array(df.nwi_palustrine_200m[good]))"
   ]
  },
  {
   "cell_type": "code",
   "execution_count": 300,
   "id": "included-contents",
   "metadata": {},
   "outputs": [
    {
     "name": "stdout",
     "output_type": "stream",
     "text": [
      "SYSTEM_NAME\n",
      "SUBSYSTEM_NAME\n",
      "CLASS_NAME\n",
      "SUBCLASS_NAME\n",
      "SPLIT_CLASS_NAME\n",
      "SPLIT_SUBCLASS_NAME\n",
      "WATER_REGIME_NAME\n",
      "WATER_REGIME_SUBGROUP\n",
      "FIRST_MODIFIER_NAME\n"
     ]
    }
   ],
   "source": [
    "# The wetland vector is then stripped into individual columns\n",
    "\n",
    "# SYSTEM_NAME_vector_200m\n",
    "\n",
    "def handle_empty_list(x, count):\n",
    "    try:\n",
    "        return x[count]\n",
    "    except:\n",
    "        return np.nan\n",
    "\n",
    "\n",
    "for attr_feature in attribute_features:\n",
    "    print(attr_feature)\n",
    "    for count, feature in enumerate(df_attr[attr_feature + \"_uniques_list\"][0]):\n",
    "        df[\"nwi_\" + attr_feature + \"_\" + str(feature) + \"_\" + str(2 * PATCH_SIZE) + \"m\"] = (df.apply(lambda x: \n",
    "                                                                                        handle_empty_list(x[attr_feature + \"_vector_\" \n",
    "                                                                                          + str(2 * PATCH_SIZE) \n",
    "                                                                                          + \"m\"], count),\n",
    "                                                                                       axis=1))\n",
    "    \n"
   ]
  },
  {
   "cell_type": "code",
   "execution_count": null,
   "id": "electoral-eight",
   "metadata": {},
   "outputs": [],
   "source": [
    "# # The wetland vector is then stripped into individual columns\n",
    "\n",
    "# # SYSTEM_NAME_vector_200m\n",
    "\n",
    "# def handle_empty_list(x, count):\n",
    "#     try:\n",
    "#         return x[count]\n",
    "#     except:\n",
    "#         return np.nan\n",
    "\n",
    "\n",
    "# for attr_feature in attribute_features:\n",
    "#     print(attr_feature)\n",
    "#     for count, feature in enumerate(df_attr[attr_feature + \"_uniques_list\"][0]):\n",
    "#         df[\"nwi_\" + str(feature) + \"_\" + str(2 * PATCH_SIZE) + \"m\"] = (df.apply(lambda x: \n",
    "#                                                                                         x[attr_feature + \"_vector_\" \n",
    "#                                                                                           + str(2 * PATCH_SIZE) \n",
    "#                                                                                           + \"m\"][count],\n",
    "#                                                                                        axis=1))\n",
    "    \n"
   ]
  },
  {
   "cell_type": "code",
   "execution_count": 226,
   "id": "loaded-damages",
   "metadata": {},
   "outputs": [
    {
     "name": "stdout",
     "output_type": "stream",
     "text": [
      "Unnamed: 0\n",
      "Unnamed: 0.1\n",
      "jurisdiction_type\n",
      "da_number\n",
      "district\n",
      "project_name\n",
      "longitude\n",
      "latitude\n",
      "date_issued_or_denied\n",
      "rha_determination\n",
      "cwa_determination\n",
      "rha1\n",
      "rha2\n",
      "cwa1\n",
      "cwa2\n",
      "cwa3\n",
      "cwa4\n",
      "cwa5\n",
      "cwa6\n",
      "cwa7\n",
      "cwa8\n",
      "cwa9\n",
      "potential_wetland\n",
      "index\n",
      "Index\n",
      "mukey\n",
      "hydclprs\n",
      "aws025wta\n",
      "drclassdcd\n",
      "nwi_vars_200m\n",
      "nwi_feature_count_200m\n",
      "nwi_attr_list_200m\n",
      "nwi_wetland_list_200m\n",
      "wetland_type_vector_200m\n",
      "nwi_riverine_200m\n",
      "nwi_freshwater_pond_200m\n",
      "nwi_freshwater_emergent_wetland_200m\n",
      "nwi_freshwater_forested_200m\n",
      "nwi_shrub_wetland_200m\n",
      "nwi_lake_200m\n",
      "nwi_other_200m\n",
      "nwi_estuarine_and_marine_wetland_200m\n",
      "nwi_estuarine_and_marine_deepwater_200m\n",
      "SYSTEM_NAME_vector_200m\n",
      "SUBSYSTEM_NAME_vector_200m\n",
      "CLASS_NAME_vector_200m\n",
      "SUBCLASS_NAME_vector_200m\n",
      "SPLIT_CLASS_NAME_vector_200m\n",
      "SPLIT_SUBCLASS_NAME_vector_200m\n",
      "WATER_REGIME_NAME_vector_200m\n",
      "WATER_REGIME_SUBGROUP_vector_200m\n",
      "FIRST_MODIFIER_NAME_vector_200m\n",
      "nwi_estuarine_200m\n",
      "nwi_lacustrine_200m\n",
      "nwi_marine_200m\n",
      "nwi_palustrine_200m\n",
      "nwi_SYSTEM_NAME_estuarine_200m\n",
      "nwi_SYSTEM_NAME_lacustrine_200m\n",
      "nwi_SYSTEM_NAME_marine_200m\n",
      "nwi_SYSTEM_NAME_palustrine_200m\n",
      "nwi_SYSTEM_NAME_riverine_200m\n",
      "nwi_SUBSYSTEM_NAME_intertidal_200m\n",
      "nwi_SUBSYSTEM_NAME_intermittent_200m\n",
      "nwi_SUBSYSTEM_NAME_limnetic_200m\n",
      "nwi_SUBSYSTEM_NAME_littoral_200m\n",
      "nwi_SUBSYSTEM_NAME_lower_perennial_200m\n",
      "nwi_SUBSYSTEM_NAME_subtidal_200m\n",
      "nwi_SUBSYSTEM_NAME_tidal_200m\n",
      "nwi_SUBSYSTEM_NAME_unknown_perennial_200m\n",
      "nwi_SUBSYSTEM_NAME_upper_perennial_200m\n",
      "nwi_SUBSYSTEM_NAME_zzz_200m\n",
      "nwi_CLASS_NAME_aquatic_bed_200m\n",
      "nwi_CLASS_NAME_emergent_200m\n",
      "nwi_CLASS_NAME_forested_200m\n",
      "nwi_CLASS_NAME_moss-lichen_200m\n",
      "nwi_CLASS_NAME_reef_200m\n",
      "nwi_CLASS_NAME_rock_bottom_200m\n",
      "nwi_CLASS_NAME_rocky_shore_200m\n",
      "nwi_CLASS_NAME_scrub-shrub_200m\n",
      "nwi_CLASS_NAME_streambed_200m\n",
      "nwi_CLASS_NAME_unconsolidated_bottom_200m\n",
      "nwi_CLASS_NAME_unconsolidated_shore_200m\n",
      "nwi_CLASS_NAME_zzz_200m\n",
      "nwi_SUBCLASS_NAME_algal_200m\n",
      "nwi_SUBCLASS_NAME_aquatic_moss_200m\n",
      "nwi_SUBCLASS_NAME_bedrock_200m\n",
      "nwi_SUBCLASS_NAME_broad-leaved_deciduous_200m\n",
      "nwi_SUBCLASS_NAME_broad-leaved_evergreen_200m\n",
      "nwi_SUBCLASS_NAME_cobble-gravel_200m\n",
      "nwi_SUBCLASS_NAME_coral_200m\n",
      "nwi_SUBCLASS_NAME_dead_200m\n",
      "nwi_SUBCLASS_NAME_deciduous_200m\n",
      "nwi_SUBCLASS_NAME_evergreen_200m\n",
      "nwi_SUBCLASS_NAME_floating_vascular_200m\n",
      "nwi_SUBCLASS_NAME_lichen_200m\n",
      "nwi_SUBCLASS_NAME_mollusk_200m\n",
      "nwi_SUBCLASS_NAME_moss_200m\n",
      "nwi_SUBCLASS_NAME_mud_200m\n",
      "nwi_SUBCLASS_NAME_needle-leaved_deciduous_200m\n",
      "nwi_SUBCLASS_NAME_needle-leaved_evergreen_200m\n",
      "nwi_SUBCLASS_NAME_non_persistent_200m\n",
      "nwi_SUBCLASS_NAME_organic_200m\n",
      "nwi_SUBCLASS_NAME_persistent_200m\n",
      "nwi_SUBCLASS_NAME_phragmites_australis_200m\n",
      "nwi_SUBCLASS_NAME_rooted_vascular_200m\n",
      "nwi_SUBCLASS_NAME_rubble_200m\n",
      "nwi_SUBCLASS_NAME_sand_200m\n",
      "nwi_SUBCLASS_NAME_vegetated_200m\n",
      "nwi_SUBCLASS_NAME_zzz_200m\n",
      "nwi_SPLIT_CLASS_NAME_aquatic_bed_200m\n",
      "nwi_SPLIT_CLASS_NAME_emergent_200m\n",
      "nwi_SPLIT_CLASS_NAME_forested_200m\n",
      "nwi_SPLIT_CLASS_NAME_moss-lichen_200m\n",
      "nwi_SPLIT_CLASS_NAME_reef_200m\n",
      "nwi_SPLIT_CLASS_NAME_rocky_shore_200m\n",
      "nwi_SPLIT_CLASS_NAME_scrub-shrub_200m\n",
      "nwi_SPLIT_CLASS_NAME_unconsolidated_bottom_200m\n",
      "nwi_SPLIT_CLASS_NAME_unconsolidated_shore_200m\n",
      "nwi_SPLIT_CLASS_NAME_zzz_200m\n",
      "nwi_SPLIT_SUBCLASS_NAME_algal_200m\n",
      "nwi_SPLIT_SUBCLASS_NAME_aquatic_moss_200m\n",
      "nwi_SPLIT_SUBCLASS_NAME_bedrock_200m\n",
      "nwi_SPLIT_SUBCLASS_NAME_broad-leaved_deciduous_200m\n",
      "nwi_SPLIT_SUBCLASS_NAME_broad-leaved_evergreen_200m\n",
      "nwi_SPLIT_SUBCLASS_NAME_cobble-gravel_200m\n",
      "nwi_SPLIT_SUBCLASS_NAME_coral_200m\n",
      "nwi_SPLIT_SUBCLASS_NAME_dead_200m\n",
      "nwi_SPLIT_SUBCLASS_NAME_deciduous_200m\n",
      "nwi_SPLIT_SUBCLASS_NAME_evergreen_200m\n",
      "nwi_SPLIT_SUBCLASS_NAME_floating_vascular_200m\n",
      "nwi_SPLIT_SUBCLASS_NAME_lichen_200m\n",
      "nwi_SPLIT_SUBCLASS_NAME_mollusk_200m\n",
      "nwi_SPLIT_SUBCLASS_NAME_moss_200m\n",
      "nwi_SPLIT_SUBCLASS_NAME_mud_200m\n",
      "nwi_SPLIT_SUBCLASS_NAME_needle-leaved_deciduous_200m\n",
      "nwi_SPLIT_SUBCLASS_NAME_needle-leaved_evergreen_200m\n",
      "nwi_SPLIT_SUBCLASS_NAME_non_persistent_200m\n",
      "nwi_SPLIT_SUBCLASS_NAME_organic_200m\n",
      "nwi_SPLIT_SUBCLASS_NAME_persistent_200m\n",
      "nwi_SPLIT_SUBCLASS_NAME_phragmites_australis_200m\n",
      "nwi_SPLIT_SUBCLASS_NAME_rooted_vascular_200m\n",
      "nwi_SPLIT_SUBCLASS_NAME_rubble_200m\n",
      "nwi_SPLIT_SUBCLASS_NAME_sand_200m\n",
      "nwi_SPLIT_SUBCLASS_NAME_vegetated_200m\n",
      "nwi_SPLIT_SUBCLASS_NAME_zzz_200m\n",
      "nwi_WATER_REGIME_NAME_artificially_flooded_200m\n",
      "nwi_WATER_REGIME_NAME_continuously__saturated_200m\n",
      "nwi_WATER_REGIME_NAME_intermittently_exposed_200m\n",
      "nwi_WATER_REGIME_NAME_intermittently_flooded_200m\n",
      "nwi_WATER_REGIME_NAME_irregularly_exposed_200m\n",
      "nwi_WATER_REGIME_NAME_irregularly_flooded_200m\n",
      "nwi_WATER_REGIME_NAME_permanently_flooded_200m\n",
      "nwi_WATER_REGIME_NAME_permanently_flooded-tidal_200m\n",
      "nwi_WATER_REGIME_NAME_regularly_flooded_200m\n",
      "nwi_WATER_REGIME_NAME_seasonally_flooded_200m\n",
      "nwi_WATER_REGIME_NAME_seasonally_flooded-tidal_200m\n",
      "nwi_WATER_REGIME_NAME_seasonally_flooded/saturated_200m\n",
      "nwi_WATER_REGIME_NAME_seasonally_saturated_200m\n",
      "nwi_WATER_REGIME_NAME_semipermanently_flooded_200m\n",
      "nwi_WATER_REGIME_NAME_semipermanently_flooded-tidal_200m\n",
      "nwi_WATER_REGIME_NAME_subtidal_200m\n",
      "nwi_WATER_REGIME_NAME_temporary_flooded_200m\n",
      "nwi_WATER_REGIME_NAME_temporary_flooded-tidal_200m\n",
      "nwi_WATER_REGIME_NAME_zzz_200m\n",
      "nwi_WATER_REGIME_SUBGROUP_freshwater_tidal_200m\n",
      "nwi_WATER_REGIME_SUBGROUP_nontidal_200m\n",
      "nwi_WATER_REGIME_SUBGROUP_saltwater_tidal_200m\n",
      "nwi_WATER_REGIME_SUBGROUP_zzz_200m\n",
      "nwi_FIRST_MODIFIER_NAME_acid_200m\n",
      "nwi_FIRST_MODIFIER_NAME_alkaline_200m\n",
      "nwi_FIRST_MODIFIER_NAME_artificial_substrate_200m\n",
      "nwi_FIRST_MODIFIER_NAME_beaver_200m\n",
      "nwi_FIRST_MODIFIER_NAME_diked/impounded_200m\n",
      "nwi_FIRST_MODIFIER_NAME_euthaline/eusaline_200m\n",
      "nwi_FIRST_MODIFIER_NAME_excavated_200m\n",
      "nwi_FIRST_MODIFIER_NAME_farmed_200m\n",
      "nwi_FIRST_MODIFIER_NAME_hyperhaline/hypersaline_200m\n",
      "nwi_FIRST_MODIFIER_NAME_managed_200m\n",
      "nwi_FIRST_MODIFIER_NAME_mesohaline_200m\n",
      "nwi_FIRST_MODIFIER_NAME_mineral_200m\n",
      "nwi_FIRST_MODIFIER_NAME_mixohaline/mixosaline_(brackish)_200m\n",
      "nwi_FIRST_MODIFIER_NAME_oligohaline_200m\n",
      "nwi_FIRST_MODIFIER_NAME_organic_200m\n",
      "nwi_FIRST_MODIFIER_NAME_partially_drained/ditched_200m\n",
      "nwi_FIRST_MODIFIER_NAME_polyhaline_200m\n",
      "nwi_FIRST_MODIFIER_NAME_spoil_200m\n",
      "nwi_FIRST_MODIFIER_NAME_zzz_200m\n"
     ]
    }
   ],
   "source": [
    "print(*df.columns, sep=\"\\n\")"
   ]
  },
  {
   "cell_type": "code",
   "execution_count": 301,
   "id": "advanced-twenty",
   "metadata": {},
   "outputs": [
    {
     "data": {
      "text/plain": [
       "Index(['Unnamed: 0', 'Unnamed: 0.1', 'jurisdiction_type', 'da_number',\n",
       "       'district', 'project_name', 'longitude', 'latitude',\n",
       "       'date_issued_or_denied', 'rha_determination',\n",
       "       ...\n",
       "       'nwi_FIRST_MODIFIER_NAME_managed_200m',\n",
       "       'nwi_FIRST_MODIFIER_NAME_mesohaline_200m',\n",
       "       'nwi_FIRST_MODIFIER_NAME_mineral_200m',\n",
       "       'nwi_FIRST_MODIFIER_NAME_mixohaline/mixosaline_(brackish)_200m',\n",
       "       'nwi_FIRST_MODIFIER_NAME_oligohaline_200m',\n",
       "       'nwi_FIRST_MODIFIER_NAME_organic_200m',\n",
       "       'nwi_FIRST_MODIFIER_NAME_partially_drained/ditched_200m',\n",
       "       'nwi_FIRST_MODIFIER_NAME_polyhaline_200m',\n",
       "       'nwi_FIRST_MODIFIER_NAME_spoil_200m',\n",
       "       'nwi_FIRST_MODIFIER_NAME_zzz_200m'],\n",
       "      dtype='object', length=187)"
      ]
     },
     "execution_count": 301,
     "metadata": {},
     "output_type": "execute_result"
    }
   ],
   "source": [
    "df[good].columns"
   ]
  },
  {
   "cell_type": "code",
   "execution_count": 233,
   "id": "mediterranean-significance",
   "metadata": {},
   "outputs": [
    {
     "data": {
      "text/plain": [
       "{'CLASS_NAME_vector_200m',\n",
       " 'FIRST_MODIFIER_NAME_vector_200m',\n",
       " 'SPLIT_CLASS_NAME_vector_200m',\n",
       " 'SPLIT_SUBCLASS_NAME_vector_200m',\n",
       " 'SUBCLASS_NAME_vector_200m',\n",
       " 'SUBSYSTEM_NAME_vector_200m',\n",
       " 'SYSTEM_NAME_vector_200m',\n",
       " 'WATER_REGIME_NAME_vector_200m',\n",
       " 'WATER_REGIME_SUBGROUP_vector_200m',\n",
       " 'da_number',\n",
       " 'date_issued_or_denied',\n",
       " 'district',\n",
       " 'drclassdcd',\n",
       " 'jurisdiction_type',\n",
       " 'nwi_CLASS_NAME_forested_200m',\n",
       " 'nwi_CLASS_NAME_moss-lichen_200m',\n",
       " 'nwi_CLASS_NAME_reef_200m',\n",
       " 'nwi_CLASS_NAME_rock_bottom_200m',\n",
       " 'nwi_CLASS_NAME_streambed_200m',\n",
       " 'nwi_FIRST_MODIFIER_NAME_artificial_substrate_200m',\n",
       " 'nwi_FIRST_MODIFIER_NAME_beaver_200m',\n",
       " 'nwi_FIRST_MODIFIER_NAME_diked/impounded_200m',\n",
       " 'nwi_FIRST_MODIFIER_NAME_euthaline/eusaline_200m',\n",
       " 'nwi_FIRST_MODIFIER_NAME_hyperhaline/hypersaline_200m',\n",
       " 'nwi_SPLIT_CLASS_NAME_forested_200m',\n",
       " 'nwi_SPLIT_CLASS_NAME_moss-lichen_200m',\n",
       " 'nwi_SPLIT_CLASS_NAME_reef_200m',\n",
       " 'nwi_SPLIT_CLASS_NAME_rocky_shore_200m',\n",
       " 'nwi_SPLIT_CLASS_NAME_unconsolidated_shore_200m',\n",
       " 'nwi_SPLIT_SUBCLASS_NAME_bedrock_200m',\n",
       " 'nwi_SPLIT_SUBCLASS_NAME_broad-leaved_deciduous_200m',\n",
       " 'nwi_SPLIT_SUBCLASS_NAME_broad-leaved_evergreen_200m',\n",
       " 'nwi_SPLIT_SUBCLASS_NAME_cobble-gravel_200m',\n",
       " 'nwi_SPLIT_SUBCLASS_NAME_deciduous_200m',\n",
       " 'nwi_SUBCLASS_NAME_bedrock_200m',\n",
       " 'nwi_SUBCLASS_NAME_broad-leaved_deciduous_200m',\n",
       " 'nwi_SUBCLASS_NAME_broad-leaved_evergreen_200m',\n",
       " 'nwi_SUBCLASS_NAME_cobble-gravel_200m',\n",
       " 'nwi_SUBCLASS_NAME_deciduous_200m',\n",
       " 'nwi_SUBSYSTEM_NAME_intertidal_200m',\n",
       " 'nwi_SUBSYSTEM_NAME_limnetic_200m',\n",
       " 'nwi_SUBSYSTEM_NAME_littoral_200m',\n",
       " 'nwi_SUBSYSTEM_NAME_lower_perennial_200m',\n",
       " 'nwi_SUBSYSTEM_NAME_unknown_perennial_200m',\n",
       " 'nwi_SYSTEM_NAME_marine_200m',\n",
       " 'nwi_SYSTEM_NAME_palustrine_200m',\n",
       " 'nwi_SYSTEM_NAME_riverine_200m',\n",
       " 'nwi_WATER_REGIME_NAME_intermittently_exposed_200m',\n",
       " 'nwi_WATER_REGIME_NAME_intermittently_flooded_200m',\n",
       " 'nwi_WATER_REGIME_NAME_irregularly_exposed_200m',\n",
       " 'nwi_WATER_REGIME_NAME_irregularly_flooded_200m',\n",
       " 'nwi_WATER_REGIME_NAME_regularly_flooded_200m',\n",
       " 'nwi_WATER_REGIME_SUBGROUP_saltwater_tidal_200m',\n",
       " 'nwi_WATER_REGIME_SUBGROUP_zzz_200m',\n",
       " 'nwi_attr_list_200m',\n",
       " 'nwi_vars_200m',\n",
       " 'nwi_wetland_list_200m',\n",
       " 'project_name',\n",
       " 'wetland_type_vector_200m'}"
      ]
     },
     "execution_count": 233,
     "metadata": {},
     "output_type": "execute_result"
    }
   ],
   "source": [
    "set(df.columns) - set(df.describe().columns)"
   ]
  },
  {
   "cell_type": "code",
   "execution_count": 305,
   "id": "united-increase",
   "metadata": {},
   "outputs": [
    {
     "data": {
      "text/plain": [
       "0.0"
      ]
     },
     "execution_count": 305,
     "metadata": {},
     "output_type": "execute_result"
    }
   ],
   "source": [
    "np.mean(np.array(df.nwi_SUBSYSTEM_NAME_intertidal_200m))"
   ]
  },
  {
   "cell_type": "code",
   "execution_count": 304,
   "id": "julian-bottom",
   "metadata": {},
   "outputs": [
    {
     "data": {
      "text/plain": [
       "0.0034202065804774607"
      ]
     },
     "execution_count": 304,
     "metadata": {},
     "output_type": "execute_result"
    }
   ],
   "source": [
    "np.mean(np.array(df.nwi_WATER_REGIME_NAME_regularly_flooded_200m))"
   ]
  }
 ],
 "metadata": {
  "kernelspec": {
   "display_name": "Python 3",
   "language": "python",
   "name": "python3"
  },
  "language_info": {
   "codemirror_mode": {
    "name": "ipython",
    "version": 3
   },
   "file_extension": ".py",
   "mimetype": "text/x-python",
   "name": "python",
   "nbconvert_exporter": "python",
   "pygments_lexer": "ipython3",
   "version": "3.9.2"
  }
 },
 "nbformat": 4,
 "nbformat_minor": 5
}
