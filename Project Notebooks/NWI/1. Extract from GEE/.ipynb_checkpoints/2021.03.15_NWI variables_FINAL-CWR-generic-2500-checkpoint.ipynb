{
 "cells": [
  {
   "cell_type": "code",
   "execution_count": 1,
   "id": "wooden-mountain",
   "metadata": {},
   "outputs": [],
   "source": [
    "import pandas as pd\n",
    "import pickle\n",
    "# read in csv file with SSURGO variables\n",
    "# df_m = pd.read_csv(\"combined_regular_clean_with_ssurgo_variables.csv\")\n",
    "df_m = pd.read_pickle(\"cwr_nwpr_dataset\")\n",
    "\n",
    "PATCH_SIZE = 1250 # 100 # 1250"
   ]
  },
  {
   "cell_type": "code",
   "execution_count": 2,
   "id": "golden-prefix",
   "metadata": {},
   "outputs": [
    {
     "data": {
      "text/plain": [
       "Index(['Unnamed: 0', 'Unnamed: 0.1', 'jurisdiction_type', 'da_number',\n",
       "       'district', 'project_name', 'longitude', 'latitude',\n",
       "       'date_issued_or_denied', 'rha_determination', 'cwa_determination',\n",
       "       'rha1', 'rha2', 'cwa1', 'cwa2', 'cwa3', 'cwa4', 'cwa5', 'cwa6', 'cwa7',\n",
       "       'cwa8', 'cwa9', 'potential_wetland', 'index', 'Index', 'mukey',\n",
       "       'hydclprs', 'aws025wta', 'drclassdcd', 'nwi_bbox_vars_1000m'],\n",
       "      dtype='object')"
      ]
     },
     "execution_count": 2,
     "metadata": {},
     "output_type": "execute_result"
    }
   ],
   "source": [
    "# consolidate the pickle files into one\n",
    "df = []\n",
    "\n",
    "for i in range(df_m.shape[0] // 500 + 1):\n",
    "    try:\n",
    "        df_temp = (pd.read_pickle('NWI_extracted_vars_' + str(2 * PATCH_SIZE) + 'm/nwi_extraction_' \n",
    "                                  + str(2 * PATCH_SIZE) + \"X\" \n",
    "                                  + str(2 * PATCH_SIZE) + \n",
    "                                  'm_part' + str(500 * i + 1)))\n",
    "        df.append(df_temp)\n",
    "\n",
    "    except:\n",
    "        break\n",
    "df = pd.concat(df)\n",
    "\n",
    "# rename the column to reflect naming convention elsewhere\n",
    "# THIS IS MANUAL HERE\n",
    "if PATCH_SIZE == 100:\n",
    "    df.rename(columns={\"nwi_bbox_vars_100\" : \"nwi_vars_\" + str(2 * PATCH_SIZE) + \"m\"}, inplace=True)\n",
    "elif PATCH_SIZE == 1250:\n",
    "    df.rename(columns={\"nwi_bbox_vars_1250\" : \"nwi_vars_\" + str(2 * PATCH_SIZE) + \"m\"}, inplace=True)\n",
    "df.columns"
   ]
  },
  {
   "cell_type": "code",
   "execution_count": 3,
   "id": "fabulous-beatles",
   "metadata": {},
   "outputs": [
    {
     "name": "stdout",
     "output_type": "stream",
     "text": [
      "6.093428571428571\n",
      "(2697, 30)\n"
     ]
    },
    {
     "data": {
      "text/html": [
       "<div>\n",
       "<style scoped>\n",
       "    .dataframe tbody tr th:only-of-type {\n",
       "        vertical-align: middle;\n",
       "    }\n",
       "\n",
       "    .dataframe tbody tr th {\n",
       "        vertical-align: top;\n",
       "    }\n",
       "\n",
       "    .dataframe thead th {\n",
       "        text-align: right;\n",
       "    }\n",
       "</style>\n",
       "<table border=\"1\" class=\"dataframe\">\n",
       "  <thead>\n",
       "    <tr style=\"text-align: right;\">\n",
       "      <th></th>\n",
       "      <th>Unnamed: 0</th>\n",
       "      <th>Unnamed: 0.1</th>\n",
       "      <th>jurisdiction_type</th>\n",
       "      <th>da_number</th>\n",
       "      <th>district</th>\n",
       "      <th>project_name</th>\n",
       "      <th>longitude</th>\n",
       "      <th>latitude</th>\n",
       "      <th>date_issued_or_denied</th>\n",
       "      <th>rha_determination</th>\n",
       "      <th>...</th>\n",
       "      <th>cwa8</th>\n",
       "      <th>cwa9</th>\n",
       "      <th>potential_wetland</th>\n",
       "      <th>index</th>\n",
       "      <th>Index</th>\n",
       "      <th>mukey</th>\n",
       "      <th>hydclprs</th>\n",
       "      <th>aws025wta</th>\n",
       "      <th>drclassdcd</th>\n",
       "      <th>nwi_bbox_vars_1000m</th>\n",
       "    </tr>\n",
       "  </thead>\n",
       "  <tbody>\n",
       "    <tr>\n",
       "      <th>0</th>\n",
       "      <td>0</td>\n",
       "      <td>0</td>\n",
       "      <td>RAPANOS</td>\n",
       "      <td>LRB-1983-10120</td>\n",
       "      <td>Buffalo</td>\n",
       "      <td>Trade-A-Yacht (Hibiscus Harbor - Union Springs...</td>\n",
       "      <td>-76.70773</td>\n",
       "      <td>42.85821</td>\n",
       "      <td>06/19/2020</td>\n",
       "      <td>0</td>\n",
       "      <td>...</td>\n",
       "      <td>0</td>\n",
       "      <td>0</td>\n",
       "      <td>1</td>\n",
       "      <td>1</td>\n",
       "      <td>1</td>\n",
       "      <td>289404.0</td>\n",
       "      <td>100.0</td>\n",
       "      <td>7.4</td>\n",
       "      <td>Very poorly drained</td>\n",
       "      <td>(26, [R2UBH, R4SBC, R2UBHx, R4SBAx, R4SBCx, R4...</td>\n",
       "    </tr>\n",
       "    <tr>\n",
       "      <th>1</th>\n",
       "      <td>1</td>\n",
       "      <td>1</td>\n",
       "      <td>RAPANOS</td>\n",
       "      <td>LRB-1985-69031</td>\n",
       "      <td>Buffalo</td>\n",
       "      <td>POOLEY, MARK A.</td>\n",
       "      <td>-75.85524</td>\n",
       "      <td>43.15230</td>\n",
       "      <td>07/07/2016</td>\n",
       "      <td>0</td>\n",
       "      <td>...</td>\n",
       "      <td>0</td>\n",
       "      <td>0</td>\n",
       "      <td>0</td>\n",
       "      <td>2</td>\n",
       "      <td>2</td>\n",
       "      <td>293511.0</td>\n",
       "      <td>0.0</td>\n",
       "      <td>0.0</td>\n",
       "      <td>NaN</td>\n",
       "      <td>(5, [L1UBH, L2UBH, L2USC, R5UBH, PFO1B], [Lake...</td>\n",
       "    </tr>\n",
       "    <tr>\n",
       "      <th>2</th>\n",
       "      <td>2</td>\n",
       "      <td>2</td>\n",
       "      <td>RAPANOS</td>\n",
       "      <td>LRB-1986-99614</td>\n",
       "      <td>Buffalo</td>\n",
       "      <td>Bellamy, Michael (previous: MACKO, JOHN)</td>\n",
       "      <td>-78.04046</td>\n",
       "      <td>42.68911</td>\n",
       "      <td>10/12/2017</td>\n",
       "      <td>0</td>\n",
       "      <td>...</td>\n",
       "      <td>0</td>\n",
       "      <td>0</td>\n",
       "      <td>0</td>\n",
       "      <td>3</td>\n",
       "      <td>3</td>\n",
       "      <td>295436.0</td>\n",
       "      <td>0.0</td>\n",
       "      <td>0.0</td>\n",
       "      <td>NaN</td>\n",
       "      <td>(2, [L1UBHh, R4SBC], [Lake, Riverine])</td>\n",
       "    </tr>\n",
       "  </tbody>\n",
       "</table>\n",
       "<p>3 rows × 30 columns</p>\n",
       "</div>"
      ],
      "text/plain": [
       "   Unnamed: 0  Unnamed: 0.1 jurisdiction_type       da_number district  \\\n",
       "0           0             0           RAPANOS  LRB-1983-10120  Buffalo   \n",
       "1           1             1           RAPANOS  LRB-1985-69031  Buffalo   \n",
       "2           2             2           RAPANOS  LRB-1986-99614  Buffalo   \n",
       "\n",
       "                                        project_name  longitude  latitude  \\\n",
       "0  Trade-A-Yacht (Hibiscus Harbor - Union Springs...  -76.70773  42.85821   \n",
       "1                                    POOLEY, MARK A.  -75.85524  43.15230   \n",
       "2           Bellamy, Michael (previous: MACKO, JOHN)  -78.04046  42.68911   \n",
       "\n",
       "  date_issued_or_denied  rha_determination  ...  cwa8  cwa9  \\\n",
       "0            06/19/2020                  0  ...     0     0   \n",
       "1            07/07/2016                  0  ...     0     0   \n",
       "2            10/12/2017                  0  ...     0     0   \n",
       "\n",
       "   potential_wetland  index  Index     mukey  hydclprs  aws025wta  \\\n",
       "0                  1      1      1  289404.0     100.0        7.4   \n",
       "1                  0      2      2  293511.0       0.0        0.0   \n",
       "2                  0      3      3  295436.0       0.0        0.0   \n",
       "\n",
       "            drclassdcd                                nwi_bbox_vars_1000m  \n",
       "0  Very poorly drained  (26, [R2UBH, R4SBC, R2UBHx, R4SBAx, R4SBCx, R4...  \n",
       "1                  NaN  (5, [L1UBH, L2UBH, L2USC, R5UBH, PFO1B], [Lake...  \n",
       "2                  NaN             (2, [L1UBHh, R4SBC], [Lake, Riverine])  \n",
       "\n",
       "[3 rows x 30 columns]"
      ]
     },
     "execution_count": 3,
     "metadata": {},
     "output_type": "execute_result"
    }
   ],
   "source": [
    "import numpy as np\n",
    "\n",
    "# fraction of records that have data\n",
    "print(np.mean(np.array(df[\"nwi_bbox_vars_\" + str(2 * PATCH_SIZE) + \"m\"].apply(lambda x: x[0]))) )\n",
    "\n",
    "# records for which data is available (because GEE ingestion is still ongoing)\n",
    "# THIS IS AN AD-HOC THAT WILL BE DISCARDED\n",
    "good = df[\"nwi_bbox_vars_\" + str(2 * PATCH_SIZE) + \"m\"].apply(lambda x: x[0]) != 0\n",
    "\n",
    "df_selected = df[good]\n",
    "print(df_selected.shape)\n",
    "df_selected.head(3)"
   ]
  },
  {
   "cell_type": "code",
   "execution_count": 4,
   "id": "discrete-polish",
   "metadata": {},
   "outputs": [],
   "source": [
    "# NWI features within a bbox come as a list of ATTRIBUTES\n",
    "# create a column with number of such features in the patch\n",
    "\n",
    "df[\"nwi_feature_count_\" + str(2 * PATCH_SIZE) + \"m\"] = (df.apply(lambda x: \n",
    "                                                                 x[\"nwi_bbox_vars_\" \n",
    "                                                                   + str(2 * PATCH_SIZE) \n",
    "                                                                   + \"m\"][0], \n",
    "                                                                 axis=1))\n",
    "\n"
   ]
  },
  {
   "cell_type": "code",
   "execution_count": 5,
   "id": "permanent-arkansas",
   "metadata": {},
   "outputs": [],
   "source": [
    "# df.nwi_feature_count_200m[good]"
   ]
  },
  {
   "cell_type": "code",
   "execution_count": 6,
   "id": "human-certificate",
   "metadata": {},
   "outputs": [],
   "source": [
    "# Create a list of ATTRIBUTES within a bbox\n",
    "df[\"nwi_attr_list_\" + str(2 * PATCH_SIZE) + \"m\"] = (df.apply(lambda x: \n",
    "                                                             x[\"nwi_bbox_vars_\" \n",
    "                                                               + str(2 * PATCH_SIZE) \n",
    "                                                               + \"m\"][1], \n",
    "                                                             axis=1))\n",
    "\n",
    "# Create a list of Wetland Types within a bbox\n",
    "df[\"nwi_wetland_list_\" + str(2 * PATCH_SIZE) + \"m\"] = (df.apply(lambda x: \n",
    "                                                                x[\"nwi_bbox_vars_\" \n",
    "                                                                  + str(2 * PATCH_SIZE) \n",
    "                                                                  + \"m\"][2], \n",
    "                                                                axis=1))"
   ]
  },
  {
   "cell_type": "code",
   "execution_count": 7,
   "id": "laden-semiconductor",
   "metadata": {},
   "outputs": [],
   "source": [
    "# how does nwi attribute_list look in a record\n",
    "# df.nwi_attr_list_200m[good]#[0:10]"
   ]
  },
  {
   "cell_type": "code",
   "execution_count": 8,
   "id": "boring-academy",
   "metadata": {},
   "outputs": [],
   "source": [
    "# how does nwi_wetland_list look in a record\n",
    "# df.nwi_wetland_list_200m[good]#[0:10]"
   ]
  },
  {
   "cell_type": "code",
   "execution_count": 9,
   "id": "given-alaska",
   "metadata": {},
   "outputs": [
    {
     "name": "stdout",
     "output_type": "stream",
     "text": [
      "277\n"
     ]
    }
   ],
   "source": [
    "# Find all the unique attributes (not used later)\n",
    "from collections import defaultdict\n",
    "\n",
    "attr_dict = defaultdict(int)\n",
    "\n",
    "for i in range(df[\"nwi_wetland_list_\" + str(2 * PATCH_SIZE) + \"m\"][good].shape[0]):\n",
    "    for feature in df[\"nwi_attr_list_\" + str(2 * PATCH_SIZE) + \"m\"][good].iloc[i]:\n",
    "        attr_dict[feature.lower().replace(\" \", \"_\") ] += 1\n",
    "print(len(attr_dict.keys()))        \n",
    "# attr_dict  "
   ]
  },
  {
   "cell_type": "code",
   "execution_count": 10,
   "id": "loving-tanzania",
   "metadata": {},
   "outputs": [
    {
     "name": "stdout",
     "output_type": "stream",
     "text": [
      "9\n"
     ]
    },
    {
     "data": {
      "text/plain": [
       "dict_keys(['riverine', 'freshwater_pond', 'freshwater_emergent_wetland', 'freshwater_forested', 'shrub_wetland', 'lake', 'other', 'estuarine_and_marine_wetland', 'estuarine_and_marine_deepwater'])"
      ]
     },
     "execution_count": 10,
     "metadata": {},
     "output_type": "execute_result"
    }
   ],
   "source": [
    "# Find all the unique wetland types for later bookkeeping\n",
    "from collections import defaultdict\n",
    "\n",
    "wetland_dict = defaultdict(int)\n",
    "\n",
    "for i in range(df[\"nwi_wetland_list_\" + str(2 * PATCH_SIZE) + \"m\"][good].shape[0]):\n",
    "    for feature in df[\"nwi_wetland_list_\" + str(2 * PATCH_SIZE) + \"m\"][good].iloc[i]:\n",
    "        wetland_dict[feature.lower().replace(\" \", \"_\") ] += 1\n",
    "print(len(wetland_dict.keys()))\n",
    "wetland_dict.keys()      "
   ]
  },
  {
   "cell_type": "code",
   "execution_count": 11,
   "id": "unable-beverage",
   "metadata": {},
   "outputs": [
    {
     "name": "stdout",
     "output_type": "stream",
     "text": [
      "9\n"
     ]
    },
    {
     "data": {
      "text/plain": [
       "('riverine',\n",
       " 'freshwater_pond',\n",
       " 'freshwater_emergent_wetland',\n",
       " 'freshwater_forested',\n",
       " 'shrub_wetland',\n",
       " 'lake',\n",
       " 'other',\n",
       " 'estuarine_and_marine_wetland',\n",
       " 'estuarine_and_marine_deepwater')"
      ]
     },
     "execution_count": 11,
     "metadata": {},
     "output_type": "execute_result"
    }
   ],
   "source": [
    "from collections import OrderedDict\n",
    "\n",
    "wetland_types = tuple(wetland_dict.keys())\n",
    "\n",
    "def create_wetland_vector(wetland_list):\n",
    "    \"\"\"\n",
    "    Returns vector of form [1, 1, 2, 1, 1, 0, 0, 0, 0]\n",
    "    corresponding to wetland_types\n",
    "    \"\"\"\n",
    "    wetland_dict = OrderedDict(zip(wetland_types, [0] * len(wetland_types)))\n",
    "    for wetland in wetland_list:\n",
    "        wetland_dict[wetland.lower().replace(\" \", \"_\") ] += 1\n",
    "    return list(wetland_dict.values())\n",
    "print(len(wetland_types))\n",
    "wetland_types\n"
   ]
  },
  {
   "cell_type": "code",
   "execution_count": 12,
   "id": "accessory-blend",
   "metadata": {},
   "outputs": [
    {
     "data": {
      "text/plain": [
       "[1, 1, 2, 1, 1, 0, 0, 0, 0]"
      ]
     },
     "execution_count": 12,
     "metadata": {},
     "output_type": "execute_result"
    }
   ],
   "source": [
    "# delete\n",
    "alist = wetland_types[0:3] + wetland_types[2:5]\n",
    "create_wetland_vector(alist)\n"
   ]
  },
  {
   "cell_type": "code",
   "execution_count": 13,
   "id": "frozen-graphic",
   "metadata": {},
   "outputs": [],
   "source": [
    "# Convert the nwi_wetland_list_XXXXm column into a vector\n",
    "\n",
    "df[\"wetland_type_vector_\" + str(2 * PATCH_SIZE) + \"m\"] = (df.apply(lambda x: \n",
    "                                                                  create_wetland_vector(x[\"nwi_wetland_list_\" \n",
    "                                                                                           + str(2 * PATCH_SIZE) \n",
    "                                                                                           + \"m\"]), \n",
    "                                                                  axis=1))\n",
    "\n",
    "\n",
    "\n"
   ]
  },
  {
   "cell_type": "code",
   "execution_count": 14,
   "id": "certified-compilation",
   "metadata": {},
   "outputs": [],
   "source": [
    "# The wetland vector is then stripped into individual columns\n",
    "\n",
    "for count, wetland in enumerate(wetland_types):\n",
    "    df[\"nwi_\" + str(wetland) + \"_\" + str(2 * PATCH_SIZE) + \"m\"] = (df.apply(lambda x: \n",
    "                                                                                    x[\"wetland_type_vector_\" \n",
    "                                                                                      + str(2 * PATCH_SIZE) \n",
    "                                                                                      + \"m\"][count],\n",
    "                                                                                   axis=1))\n",
    "    \n",
    "    "
   ]
  },
  {
   "cell_type": "code",
   "execution_count": 15,
   "id": "effective-violation",
   "metadata": {},
   "outputs": [
    {
     "data": {
      "text/plain": [
       "Index(['Unnamed: 0', 'Unnamed: 0.1', 'jurisdiction_type', 'da_number',\n",
       "       'district', 'project_name', 'longitude', 'latitude',\n",
       "       'date_issued_or_denied', 'rha_determination', 'cwa_determination',\n",
       "       'rha1', 'rha2', 'cwa1', 'cwa2', 'cwa3', 'cwa4', 'cwa5', 'cwa6', 'cwa7',\n",
       "       'cwa8', 'cwa9', 'potential_wetland', 'index', 'Index', 'mukey',\n",
       "       'hydclprs', 'aws025wta', 'drclassdcd', 'nwi_bbox_vars_1000m',\n",
       "       'nwi_feature_count_1000m', 'nwi_attr_list_1000m',\n",
       "       'nwi_wetland_list_1000m', 'wetland_type_vector_1000m',\n",
       "       'nwi_riverine_1000m', 'nwi_freshwater_pond_1000m',\n",
       "       'nwi_freshwater_emergent_wetland_1000m',\n",
       "       'nwi_freshwater_forested_1000m', 'nwi_shrub_wetland_1000m',\n",
       "       'nwi_lake_1000m', 'nwi_other_1000m',\n",
       "       'nwi_estuarine_and_marine_wetland_1000m',\n",
       "       'nwi_estuarine_and_marine_deepwater_1000m'],\n",
       "      dtype='object')"
      ]
     },
     "execution_count": 15,
     "metadata": {},
     "output_type": "execute_result"
    }
   ],
   "source": [
    "df.columns"
   ]
  },
  {
   "cell_type": "code",
   "execution_count": 16,
   "id": "common-joyce",
   "metadata": {},
   "outputs": [
    {
     "data": {
      "text/html": [
       "<div>\n",
       "<style scoped>\n",
       "    .dataframe tbody tr th:only-of-type {\n",
       "        vertical-align: middle;\n",
       "    }\n",
       "\n",
       "    .dataframe tbody tr th {\n",
       "        vertical-align: top;\n",
       "    }\n",
       "\n",
       "    .dataframe thead th {\n",
       "        text-align: right;\n",
       "    }\n",
       "</style>\n",
       "<table border=\"1\" class=\"dataframe\">\n",
       "  <thead>\n",
       "    <tr style=\"text-align: right;\">\n",
       "      <th></th>\n",
       "      <th>wetland_type_vector_1000m</th>\n",
       "      <th>nwi_riverine_1000m</th>\n",
       "      <th>nwi_freshwater_pond_1000m</th>\n",
       "      <th>nwi_freshwater_emergent_wetland_1000m</th>\n",
       "      <th>nwi_freshwater_forested_1000m</th>\n",
       "      <th>nwi_shrub_wetland_1000m</th>\n",
       "      <th>nwi_lake_1000m</th>\n",
       "      <th>nwi_other_1000m</th>\n",
       "      <th>nwi_estuarine_and_marine_wetland_1000m</th>\n",
       "      <th>nwi_estuarine_and_marine_deepwater_1000m</th>\n",
       "    </tr>\n",
       "  </thead>\n",
       "  <tbody>\n",
       "    <tr>\n",
       "      <th>0</th>\n",
       "      <td>[11, 6, 1, 8, 8, 0, 0, 0, 0]</td>\n",
       "      <td>11</td>\n",
       "      <td>6</td>\n",
       "      <td>1</td>\n",
       "      <td>8</td>\n",
       "      <td>8</td>\n",
       "      <td>0</td>\n",
       "      <td>0</td>\n",
       "      <td>0</td>\n",
       "      <td>0</td>\n",
       "    </tr>\n",
       "    <tr>\n",
       "      <th>1</th>\n",
       "      <td>[1, 0, 0, 1, 1, 3, 0, 0, 0]</td>\n",
       "      <td>1</td>\n",
       "      <td>0</td>\n",
       "      <td>0</td>\n",
       "      <td>1</td>\n",
       "      <td>1</td>\n",
       "      <td>3</td>\n",
       "      <td>0</td>\n",
       "      <td>0</td>\n",
       "      <td>0</td>\n",
       "    </tr>\n",
       "    <tr>\n",
       "      <th>2</th>\n",
       "      <td>[1, 0, 0, 0, 0, 1, 0, 0, 0]</td>\n",
       "      <td>1</td>\n",
       "      <td>0</td>\n",
       "      <td>0</td>\n",
       "      <td>0</td>\n",
       "      <td>0</td>\n",
       "      <td>1</td>\n",
       "      <td>0</td>\n",
       "      <td>0</td>\n",
       "      <td>0</td>\n",
       "    </tr>\n",
       "  </tbody>\n",
       "</table>\n",
       "</div>"
      ],
      "text/plain": [
       "      wetland_type_vector_1000m  nwi_riverine_1000m  \\\n",
       "0  [11, 6, 1, 8, 8, 0, 0, 0, 0]                  11   \n",
       "1   [1, 0, 0, 1, 1, 3, 0, 0, 0]                   1   \n",
       "2   [1, 0, 0, 0, 0, 1, 0, 0, 0]                   1   \n",
       "\n",
       "   nwi_freshwater_pond_1000m  nwi_freshwater_emergent_wetland_1000m  \\\n",
       "0                          6                                      1   \n",
       "1                          0                                      0   \n",
       "2                          0                                      0   \n",
       "\n",
       "   nwi_freshwater_forested_1000m  nwi_shrub_wetland_1000m  nwi_lake_1000m  \\\n",
       "0                              8                        8               0   \n",
       "1                              1                        1               3   \n",
       "2                              0                        0               1   \n",
       "\n",
       "   nwi_other_1000m  nwi_estuarine_and_marine_wetland_1000m  \\\n",
       "0                0                                       0   \n",
       "1                0                                       0   \n",
       "2                0                                       0   \n",
       "\n",
       "   nwi_estuarine_and_marine_deepwater_1000m  \n",
       "0                                         0  \n",
       "1                                         0  \n",
       "2                                         0  "
      ]
     },
     "execution_count": 16,
     "metadata": {},
     "output_type": "execute_result"
    }
   ],
   "source": [
    "# just looking at the newly created columns\n",
    "df[good].head(3).loc[:, \"wetland_type_vector_\" + str(2 * PATCH_SIZE) + \"m\" : \"nwi_estuarine_and_marine_deepwater_\" + str(2 * PATCH_SIZE) + \"m\"]\n",
    "\n",
    "\n"
   ]
  },
  {
   "cell_type": "markdown",
   "id": "synthetic-prince",
   "metadata": {},
   "source": [
    "# NWI Code Definitions"
   ]
  },
  {
   "cell_type": "markdown",
   "id": "apart-johns",
   "metadata": {},
   "source": [
    "## Glean out features from attributes using the NWI Code Defn book"
   ]
  },
  {
   "cell_type": "code",
   "execution_count": 17,
   "id": "expanded-falls",
   "metadata": {},
   "outputs": [],
   "source": [
    "df_attr = pd.read_csv(\"NWI_Code_Definitions.csv\")"
   ]
  },
  {
   "cell_type": "code",
   "execution_count": 18,
   "id": "affiliated-leone",
   "metadata": {},
   "outputs": [
    {
     "data": {
      "text/plain": [
       "(5419, 24)"
      ]
     },
     "execution_count": 18,
     "metadata": {},
     "output_type": "execute_result"
    }
   ],
   "source": [
    "df_attr.shape"
   ]
  },
  {
   "cell_type": "code",
   "execution_count": 19,
   "id": "massive-pioneer",
   "metadata": {},
   "outputs": [
    {
     "data": {
      "text/plain": [
       "Index(['ATTRIBUTE', 'SYSTEM_NAME', 'SYSTEM_DEFINITION', 'SUBSYSTEM_NAME',\n",
       "       'SUBSYSTEM_DEFINITION', 'CLASS_NAME', 'CLASS_DEFINITION',\n",
       "       'SUBCLASS_NAME', 'SUBCLASS_DEFINITION', 'SPLIT_CLASS_NAME',\n",
       "       'SPLIT_CLASS_DEFINITION', 'SPLIT_SUBCLASS_NAME',\n",
       "       'SPLIT_SUBCLASS_DEFINITION', 'WATER_REGIME_NAME',\n",
       "       'WATER_REGIME_SUBGROUP', 'WATER_REGIME_DEFINITION',\n",
       "       'FIRST_MODIFIER_NAME', 'FIRST_MODIFIER_GROUP',\n",
       "       'FIRST_MODIFIER_SUBGROUP', 'FIRST_MODIFIER_DEFINITION',\n",
       "       'SECOND_MODIFIER_NAME', 'SECOND_MODIFIER_GROUP',\n",
       "       'SECOND_MODIFIER_SUBGROUP', 'SECOND_MODIFIER_DEFINITION'],\n",
       "      dtype='object')"
      ]
     },
     "execution_count": 19,
     "metadata": {},
     "output_type": "execute_result"
    }
   ],
   "source": [
    "df_attr.columns"
   ]
  },
  {
   "cell_type": "code",
   "execution_count": 20,
   "id": "adjusted-glasgow",
   "metadata": {},
   "outputs": [
    {
     "data": {
      "text/plain": [
       "PEM1/FO3Ad    1\n",
       "PSS3/2B       1\n",
       "PFO4Rd        1\n",
       "R2US3C        1\n",
       "PFO1/SS2D     1\n",
       "             ..\n",
       "PFO4/1Ed      1\n",
       "PUSKs         1\n",
       "PAB3/FO5Gb    1\n",
       "PFO6/UBFa     1\n",
       "PFO/SS1Eb     1\n",
       "Name: ATTRIBUTE, Length: 5419, dtype: int64"
      ]
     },
     "execution_count": 20,
     "metadata": {},
     "output_type": "execute_result"
    }
   ],
   "source": [
    "# ATTRIBUTE column has all unique entries (some with \"/\" which may not be used)\n",
    "df_attr.ATTRIBUTE.value_counts()"
   ]
  },
  {
   "cell_type": "code",
   "execution_count": 21,
   "id": "unusual-healing",
   "metadata": {},
   "outputs": [
    {
     "data": {
      "text/html": [
       "<div>\n",
       "<style scoped>\n",
       "    .dataframe tbody tr th:only-of-type {\n",
       "        vertical-align: middle;\n",
       "    }\n",
       "\n",
       "    .dataframe tbody tr th {\n",
       "        vertical-align: top;\n",
       "    }\n",
       "\n",
       "    .dataframe thead th {\n",
       "        text-align: right;\n",
       "    }\n",
       "</style>\n",
       "<table border=\"1\" class=\"dataframe\">\n",
       "  <thead>\n",
       "    <tr style=\"text-align: right;\">\n",
       "      <th></th>\n",
       "      <th>ATTRIBUTE</th>\n",
       "      <th>SYSTEM_NAME</th>\n",
       "      <th>CLASS_NAME</th>\n",
       "      <th>SUBCLASS_NAME</th>\n",
       "      <th>SPLIT_CLASS_NAME</th>\n",
       "      <th>WATER_REGIME_NAME</th>\n",
       "      <th>FIRST_MODIFIER_NAME</th>\n",
       "      <th>FIRST_MODIFIER_SUBGROUP</th>\n",
       "      <th>SECOND_MODIFIER_NAME</th>\n",
       "      <th>SECOND_MODIFIER_DEFINITION</th>\n",
       "    </tr>\n",
       "  </thead>\n",
       "  <tbody>\n",
       "    <tr>\n",
       "      <th>685</th>\n",
       "      <td>L1UBHh</td>\n",
       "      <td>Lacustrine</td>\n",
       "      <td>Unconsolidated Bottom</td>\n",
       "      <td>NaN</td>\n",
       "      <td>NaN</td>\n",
       "      <td>Permanently Flooded</td>\n",
       "      <td>Diked/Impounded</td>\n",
       "      <td>NaN</td>\n",
       "      <td>NaN</td>\n",
       "      <td>NaN</td>\n",
       "    </tr>\n",
       "  </tbody>\n",
       "</table>\n",
       "</div>"
      ],
      "text/plain": [
       "    ATTRIBUTE SYSTEM_NAME             CLASS_NAME SUBCLASS_NAME  \\\n",
       "685    L1UBHh  Lacustrine  Unconsolidated Bottom           NaN   \n",
       "\n",
       "    SPLIT_CLASS_NAME    WATER_REGIME_NAME FIRST_MODIFIER_NAME  \\\n",
       "685              NaN  Permanently Flooded     Diked/Impounded   \n",
       "\n",
       "    FIRST_MODIFIER_SUBGROUP SECOND_MODIFIER_NAME SECOND_MODIFIER_DEFINITION  \n",
       "685                     NaN                  NaN                        NaN  "
      ]
     },
     "execution_count": 21,
     "metadata": {},
     "output_type": "execute_result"
    }
   ],
   "source": [
    "def find_feature(attribute=\"L1UBHh\"):\n",
    "    \"\"\"\n",
    "    \n",
    "    input: attribute observed in the GEE NWI bbox\n",
    "    output: corresponding row in the NWI Code Definition book\n",
    "    \"\"\"\n",
    "    return (df_attr[df_attr.ATTRIBUTE == attribute].loc[:, [\"ATTRIBUTE\", \n",
    "                                                            \"SYSTEM_NAME\",\n",
    "                                                            \"CLASS_NAME\",\n",
    "                                                            \"SUBCLASS_NAME\",\n",
    "                                                            \"SPLIT_CLASS_NAME\",\n",
    "                                                            \"WATER_REGIME_NAME\",\n",
    "                                                            \"FIRST_MODIFIER_NAME\",\n",
    "                                                            \"FIRST_MODIFIER_SUBGROUP\",\n",
    "                                                            \"SECOND_MODIFIER_NAME\",\n",
    "                                                            \"SECOND_MODIFIER_DEFINITION\"]])\n",
    "\n",
    "find_feature()"
   ]
  },
  {
   "cell_type": "code",
   "execution_count": 22,
   "id": "institutional-sapphire",
   "metadata": {},
   "outputs": [],
   "source": [
    "# df_attr.SPLIT_SUBCLASS_NAME.value_counts()"
   ]
  },
  {
   "cell_type": "code",
   "execution_count": 23,
   "id": "varied-aerospace",
   "metadata": {},
   "outputs": [
    {
     "name": "stdout",
     "output_type": "stream",
     "text": [
      "ATTRIBUTE 0.0\n",
      "SYSTEM_NAME 0.0\n",
      "SUBSYSTEM_NAME 0.7422033585532386\n",
      "CLASS_NAME 0.0009226794611551947\n",
      "SUBCLASS_NAME 0.20114412253183245\n",
      "SPLIT_CLASS_NAME 0.35929138217383283\n",
      "SPLIT_SUBCLASS_NAME 0.4469459309835763\n",
      "WATER_REGIME_NAME 0.002029894814541428\n",
      "WATER_REGIME_SUBGROUP 0.002029894814541428\n",
      "FIRST_MODIFIER_NAME 0.36482745894076396\n",
      "FIRST_MODIFIER_SUBGROUP 0.9512825244510057\n",
      "SECOND_MODIFIER_NAME 0.9675216829673371\n",
      "SECOND_MODIFIER_DEFINITION 0.9675216829673371\n"
     ]
    }
   ],
   "source": [
    "# find fraction of nan's\n",
    "attribute_features = ([\"ATTRIBUTE\",\"SYSTEM_NAME\",\"SUBSYSTEM_NAME\", \"CLASS_NAME\",\n",
    "             \"SUBCLASS_NAME\", \"SPLIT_CLASS_NAME\", \"SPLIT_SUBCLASS_NAME\", \n",
    "             \"WATER_REGIME_NAME\", \"WATER_REGIME_SUBGROUP\", \"FIRST_MODIFIER_NAME\", \n",
    "             \"FIRST_MODIFIER_SUBGROUP\", \"SECOND_MODIFIER_NAME\", \n",
    "             \"SECOND_MODIFIER_DEFINITION\"])\n",
    "\n",
    "for feature in attribute_features:\n",
    "    print(feature, np.mean(df_attr[feature].isna()))"
   ]
  },
  {
   "cell_type": "code",
   "execution_count": 24,
   "id": "toxic-carry",
   "metadata": {},
   "outputs": [
    {
     "name": "stdout",
     "output_type": "stream",
     "text": [
      "ATTRIBUTE 0.0\n",
      "SYSTEM_NAME 0.0\n",
      "SUBSYSTEM_NAME 0.0\n",
      "CLASS_NAME 0.0\n",
      "SUBCLASS_NAME 0.0\n",
      "SPLIT_CLASS_NAME 0.0\n",
      "SPLIT_SUBCLASS_NAME 0.0\n",
      "WATER_REGIME_NAME 0.0\n",
      "WATER_REGIME_SUBGROUP 0.0\n",
      "FIRST_MODIFIER_NAME 0.0\n",
      "FIRST_MODIFIER_SUBGROUP 0.0\n",
      "SECOND_MODIFIER_NAME 0.0\n",
      "SECOND_MODIFIER_DEFINITION 0.0\n"
     ]
    }
   ],
   "source": [
    "# impute not_available category so available and not-available can be OHE\n",
    "df_attr.fillna(\"zzz\", inplace=True)\n",
    "\n",
    "# verify no more nans left\n",
    "for feature in attribute_features:\n",
    "    print(feature, np.mean(df_attr[feature].isna()))"
   ]
  },
  {
   "cell_type": "code",
   "execution_count": 25,
   "id": "million-armstrong",
   "metadata": {},
   "outputs": [
    {
     "name": "stdout",
     "output_type": "stream",
     "text": [
      "SYSTEM_NAME : 5\n",
      "['Estuarine' 'Lacustrine' 'Marine' 'Palustrine' 'Riverine']\n",
      "____________________________________________________________________________________________________\n",
      "SUBSYSTEM_NAME : 11\n",
      "['Subtidal' 'Intertidal' 'zzz' 'Limnetic' 'Littoral' 'INTERTIDAL' 'Tidal'\n",
      " 'Lower Perennial' 'Upper Perennial' 'Intermittent' 'Unknown Perennial']\n",
      "____________________________________________________________________________________________________\n",
      "CLASS_NAME : 12\n",
      "['Aquatic Bed' 'Rock Bottom' 'Reef' 'Unconsolidated Bottom' 'Emergent'\n",
      " 'Forested' 'Rocky Shore' 'Streambed' 'Scrub-Shrub' 'Unconsolidated Shore'\n",
      " 'zzz' 'Moss-Lichen']\n",
      "____________________________________________________________________________________________________\n",
      "SUBCLASS_NAME : 26\n",
      "['zzz' 'Algal' 'Rooted Vascular' 'Floating Vascular' 'Rubble' 'Mollusk'\n",
      " 'Cobble-Gravel' 'Sand' 'Mud' 'Organic' 'Persistent' 'Non persistent'\n",
      " 'Phragmites australis' 'Broad-Leaved Deciduous' 'Broad-Leaved Evergreen'\n",
      " 'Needle-Leaved Evergreen' 'Dead' 'Evergreen' 'Bedrock'\n",
      " 'Needle-Leaved Deciduous' 'Deciduous' 'Aquatic Moss' 'Vegetated' 'Coral'\n",
      " 'Moss' 'Lichen']\n",
      "____________________________________________________________________________________________________\n",
      "SPLIT_CLASS_NAME : 10\n",
      "['Unconsolidated Bottom' 'zzz' 'Reef' 'Aquatic Bed' 'Rocky Shore'\n",
      " 'Unconsolidated Shore' 'Emergent' 'Forested' 'Scrub-Shrub' 'Moss-Lichen']\n",
      "____________________________________________________________________________________________________\n",
      "SPLIT_SUBCLASS_NAME : 26\n",
      "['zzz' 'Sand' 'Rooted Vascular' 'Algal' 'Mud' 'Persistent' 'Bedrock'\n",
      " 'Cobble-Gravel' 'Phragmites australis' 'Broad-Leaved Deciduous'\n",
      " 'Broad-Leaved Evergreen' 'Needle-Leaved Evergreen' 'Dead'\n",
      " 'Needle-Leaved Deciduous' 'Evergreen' 'Non persistent' 'Mollusk'\n",
      " 'Floating Vascular' 'Coral' 'Rubble' 'Deciduous' 'Organic' 'Aquatic Moss'\n",
      " 'Moss' 'Lichen' 'Vegetated']\n",
      "____________________________________________________________________________________________________\n",
      "WATER_REGIME_NAME : 19\n",
      "['Subtidal' 'Irregularly Exposed' 'Regularly Flooded'\n",
      " 'Irregularly Flooded' 'zzz' 'Permanently Flooded'\n",
      " 'Permanently Flooded-Tidal' 'Intermittently Exposed'\n",
      " 'Artificially Flooded' 'Semipermanently Flooded'\n",
      " 'Semipermanently Flooded-Tidal' 'Seasonally Flooded' 'Temporary Flooded'\n",
      " 'Intermittently Flooded' 'Seasonally Flooded-Tidal'\n",
      " 'Seasonally Saturated' 'Seasonally Flooded/Saturated'\n",
      " 'Continuously  Saturated' 'Temporary Flooded-Tidal']\n",
      "____________________________________________________________________________________________________\n",
      "WATER_REGIME_SUBGROUP : 4\n",
      "['Saltwater Tidal' 'zzz' 'Nontidal' 'Freshwater Tidal']\n",
      "____________________________________________________________________________________________________\n",
      "FIRST_MODIFIER_NAME : 19\n",
      "['zzz' 'Excavated' 'Oligohaline' 'Diked/Impounded' 'Mesohaline'\n",
      " 'Polyhaline' 'Mixohaline/Mixosaline (Brackish)' 'Artificial Substrate'\n",
      " 'Partially Drained/Ditched' 'Spoil' 'Organic' 'Beaver'\n",
      " 'Euthaline/Eusaline' 'Managed' 'Hyperhaline/Hypersaline' 'Farmed'\n",
      " 'Alkaline' 'Acid' 'Mineral']\n",
      "____________________________________________________________________________________________________\n"
     ]
    }
   ],
   "source": [
    "\"\"\"attribute_features = ([\"ATTRIBUTE\",\"SYSTEM_NAME\",\"SUBSYSTEM_NAME\", \"CLASS_NAME\",\n",
    "             \"SUBCLASS_NAME\", \"SPLIT_CLASS_NAME\", \"SPLIT_SUBCLASS_NAME\", \n",
    "             \"WATER_REGIME_NAME\", \"WATER_REGIME_SUBGROUP\", \"FIRST_MODIFIER_NAME\", \n",
    "             \"FIRST_MODIFIER_SUBGROUP\", \"SECOND_MODIFIER_NAME\", \n",
    "             \"SECOND_MODIFIER_DEFINITION\"])\n",
    "QAZAAZAA\"\"\"\n",
    "attribute_features = ([\"SYSTEM_NAME\",\"SUBSYSTEM_NAME\", \"CLASS_NAME\",\n",
    "             \"SUBCLASS_NAME\", \"SPLIT_CLASS_NAME\", \"SPLIT_SUBCLASS_NAME\", \n",
    "             \"WATER_REGIME_NAME\", \"WATER_REGIME_SUBGROUP\", \"FIRST_MODIFIER_NAME\"])\n",
    "\n",
    "\n",
    "for feature in attribute_features:\n",
    "    print(feature, \":\", len(df_attr[feature].value_counts()))\n",
    "#     print(df_attr[feature].value_counts())\n",
    "    print(df_attr[feature].unique())\n",
    "    print(\"_\" * 100)\n",
    "\n"
   ]
  },
  {
   "cell_type": "code",
   "execution_count": 26,
   "id": "rising-promotion",
   "metadata": {},
   "outputs": [],
   "source": [
    "# attribute_features = ([\"ATTRIBUTE\",\"SYSTEM_NAME\"])\n",
    "\n",
    "def feature_vector(df_attr=df_attr, feature=\"SYSTEM_NAME\"):\n",
    "    \"\"\"\n",
    "    \n",
    "    Returns the vector for each feature of an attribute\n",
    "    \n",
    "    input: NWI Code Definition as df_attr to find unique values for a featurE & feature name \n",
    "    output: feature vector for that (attribute, feature) set\n",
    "    \n",
    "    \"\"\"\n",
    "    # find unique values for a give feature\n",
    "    feature_list = list(df_attr[feature].unique())\n",
    "    # sort\n",
    "    feature_list.sort()\n",
    "    # lower case and replace spaces by _\n",
    "    feature_list = [feature.lower().replace(\" \", \"_\") for feature in feature_list]\n",
    "    \n",
    "    # create a dict where the order is maintained. Initialize values to 0\n",
    "    feature_dict = OrderedDict(zip(feature_list, [0] * len(feature_list)))\n",
    "    \n",
    "    # you would like to actually create a new column with this frozen feature_list\n",
    "    df_attr[feature + \"_\" + \"uniques_list\"] = df_attr.apply(lambda x: feature_list, axis=1)\n",
    "    return df_attr\n",
    "    \n"
   ]
  },
  {
   "cell_type": "code",
   "execution_count": 27,
   "id": "rising-velvet",
   "metadata": {},
   "outputs": [
    {
     "data": {
      "text/plain": [
       "Index(['ATTRIBUTE', 'SYSTEM_NAME', 'SYSTEM_DEFINITION', 'SUBSYSTEM_NAME',\n",
       "       'SUBSYSTEM_DEFINITION', 'CLASS_NAME', 'CLASS_DEFINITION',\n",
       "       'SUBCLASS_NAME', 'SUBCLASS_DEFINITION', 'SPLIT_CLASS_NAME',\n",
       "       'SPLIT_CLASS_DEFINITION', 'SPLIT_SUBCLASS_NAME',\n",
       "       'SPLIT_SUBCLASS_DEFINITION', 'WATER_REGIME_NAME',\n",
       "       'WATER_REGIME_SUBGROUP', 'WATER_REGIME_DEFINITION',\n",
       "       'FIRST_MODIFIER_NAME', 'FIRST_MODIFIER_GROUP',\n",
       "       'FIRST_MODIFIER_SUBGROUP', 'FIRST_MODIFIER_DEFINITION',\n",
       "       'SECOND_MODIFIER_NAME', 'SECOND_MODIFIER_GROUP',\n",
       "       'SECOND_MODIFIER_SUBGROUP', 'SECOND_MODIFIER_DEFINITION',\n",
       "       'SYSTEM_NAME_uniques_list', 'SUBSYSTEM_NAME_uniques_list',\n",
       "       'CLASS_NAME_uniques_list', 'SUBCLASS_NAME_uniques_list',\n",
       "       'SPLIT_CLASS_NAME_uniques_list', 'SPLIT_SUBCLASS_NAME_uniques_list',\n",
       "       'WATER_REGIME_NAME_uniques_list', 'WATER_REGIME_SUBGROUP_uniques_list',\n",
       "       'FIRST_MODIFIER_NAME_uniques_list'],\n",
       "      dtype='object')"
      ]
     },
     "execution_count": 27,
     "metadata": {},
     "output_type": "execute_result"
    }
   ],
   "source": [
    "# create the columns for each of the attribute_features    \n",
    "for feature in attribute_features:\n",
    "    feature_vector(feature=feature)\n",
    "    \n",
    "# note the _uniques_list columns created\n",
    "df_attr.columns"
   ]
  },
  {
   "cell_type": "markdown",
   "id": "annual-spectrum",
   "metadata": {},
   "source": [
    "# Creating NWI attribute features"
   ]
  },
  {
   "cell_type": "code",
   "execution_count": 28,
   "id": "subtle-mystery",
   "metadata": {},
   "outputs": [
    {
     "data": {
      "text/plain": [
       "['estuarine', 'lacustrine', 'marine', 'palustrine', 'riverine']"
      ]
     },
     "execution_count": 28,
     "metadata": {},
     "output_type": "execute_result"
    }
   ],
   "source": [
    "# read a uniques column\n",
    "df_attr.SYSTEM_NAME_uniques_list[0]"
   ]
  },
  {
   "cell_type": "code",
   "execution_count": 29,
   "id": "conceptual-juvenile",
   "metadata": {},
   "outputs": [
    {
     "data": {
      "text/plain": [
       "['artificially_flooded',\n",
       " 'continuously__saturated',\n",
       " 'intermittently_exposed',\n",
       " 'intermittently_flooded',\n",
       " 'irregularly_exposed',\n",
       " 'irregularly_flooded',\n",
       " 'permanently_flooded',\n",
       " 'permanently_flooded-tidal',\n",
       " 'regularly_flooded',\n",
       " 'seasonally_flooded',\n",
       " 'seasonally_flooded-tidal',\n",
       " 'seasonally_flooded/saturated',\n",
       " 'seasonally_saturated',\n",
       " 'semipermanently_flooded',\n",
       " 'semipermanently_flooded-tidal',\n",
       " 'subtidal',\n",
       " 'temporary_flooded',\n",
       " 'temporary_flooded-tidal',\n",
       " 'zzz']"
      ]
     },
     "execution_count": 29,
     "metadata": {},
     "output_type": "execute_result"
    }
   ],
   "source": [
    "# read a uniques column\n",
    "df_attr.WATER_REGIME_NAME_uniques_list[0]"
   ]
  },
  {
   "cell_type": "code",
   "execution_count": 30,
   "id": "excellent-skiing",
   "metadata": {},
   "outputs": [
    {
     "data": {
      "text/plain": [
       "'Streambed'"
      ]
     },
     "execution_count": 30,
     "metadata": {},
     "output_type": "execute_result"
    }
   ],
   "source": [
    "# for an attribute and feature find the value\n",
    "# the [0] pulls out the entry from pandas Series\n",
    "find_feature(\"R4SBC\")[\"CLASS_NAME\"].values[0]"
   ]
  },
  {
   "cell_type": "code",
   "execution_count": 31,
   "id": "southeast-fever",
   "metadata": {},
   "outputs": [
    {
     "data": {
      "text/plain": [
       "'Aquatic Bed'"
      ]
     },
     "execution_count": 31,
     "metadata": {},
     "output_type": "execute_result"
    }
   ],
   "source": [
    "find_feature(\"PABGx\")[\"CLASS_NAME\"].values[0]"
   ]
  },
  {
   "cell_type": "code",
   "execution_count": 32,
   "id": "elegant-track",
   "metadata": {},
   "outputs": [
    {
     "data": {
      "text/plain": [
       "'Riverine'"
      ]
     },
     "execution_count": 32,
     "metadata": {},
     "output_type": "execute_result"
    }
   ],
   "source": [
    "find_feature(\"R4SBC\")[\"SYSTEM_NAME\"].values[0]"
   ]
  },
  {
   "cell_type": "code",
   "execution_count": 33,
   "id": "equipped-chile",
   "metadata": {},
   "outputs": [
    {
     "data": {
      "text/plain": [
       "[0, 0, 0, 2, 1]"
      ]
     },
     "execution_count": 33,
     "metadata": {},
     "output_type": "execute_result"
    }
   ],
   "source": [
    "def create_attr_feature_vector(attr_list=[\"R4SBC\", \"PABGx\", \"PABGx\"], attr_feature=\"SYSTEM_NAME\"):\n",
    "    \"\"\"\n",
    "    Returns vector of form [1, 1, 2, 1, 1, 0, 0, 0, 0]\n",
    "    corresponding to attr feature\n",
    "    \n",
    "    attr_list: is of the form [\"R4SBC\", \"PUBGx\"]\n",
    "    attr_feature is of the form \"CLASS_NAME\"\n",
    "    \n",
    "    output: attr feature vector\n",
    "    \"\"\"\n",
    "    feature_uniques_dict = (OrderedDict(zip(df_attr[attr_feature + \"_uniques_list\"][0], \n",
    "                                    [0] * len(df_attr[attr_feature + \"_uniques_list\"][0]))))\n",
    "    for attr in attr_list:\n",
    "        # its possible to not find an entry in Code book that matches ATTRIBUTE from GEE\n",
    "        # as such handle the empty list returned\n",
    "        try:\n",
    "            feature = find_feature(attr)[attr_feature].values[0]\n",
    "            feature = feature.lower().replace(\" \", \"_\") \n",
    "            feature_uniques_dict[feature] += 1\n",
    "        except Exception as e:\n",
    "            pass\n",
    "    return list(feature_uniques_dict.values())\n",
    "\n",
    "create_attr_feature_vector()"
   ]
  },
  {
   "cell_type": "code",
   "execution_count": 34,
   "id": "about-arrangement",
   "metadata": {},
   "outputs": [
    {
     "data": {
      "text/plain": [
       "[2, 0, 0, 0, 0, 0, 0, 0, 1, 0, 0, 0]"
      ]
     },
     "execution_count": 34,
     "metadata": {},
     "output_type": "execute_result"
    }
   ],
   "source": [
    "create_attr_feature_vector(attr_feature=\"CLASS_NAME\")"
   ]
  },
  {
   "cell_type": "code",
   "execution_count": null,
   "id": "passive-consciousness",
   "metadata": {},
   "outputs": [
    {
     "name": "stdout",
     "output_type": "stream",
     "text": [
      "SYSTEM_NAME\n",
      "SUBSYSTEM_NAME\n"
     ]
    }
   ],
   "source": [
    "# create feature vectors for the chosen attribute features\n",
    "for attr_feature in attribute_features:\n",
    "    print(attr_feature)\n",
    "    df[attr_feature + \"_vector_\" + str(2 * PATCH_SIZE) + \"m\"] = (df.apply(lambda x: \n",
    "                                                                    create_attr_feature_vector(\n",
    "                                                                        x[\"nwi_attr_list_\"  \n",
    "                                                                          + str(2 * PATCH_SIZE) + \"m\"], \n",
    "                                                                        attr_feature=attr_feature), \n",
    "                                                           axis=1))"
   ]
  },
  {
   "cell_type": "code",
   "execution_count": null,
   "id": "controlled-disaster",
   "metadata": {},
   "outputs": [],
   "source": [
    "df.columns"
   ]
  },
  {
   "cell_type": "code",
   "execution_count": null,
   "id": "immediate-trade",
   "metadata": {},
   "outputs": [],
   "source": [
    "# df.SYSTEM_NAME_vector_200m[good]"
   ]
  },
  {
   "cell_type": "code",
   "execution_count": null,
   "id": "offshore-feeding",
   "metadata": {},
   "outputs": [],
   "source": [
    "df_attr.SYSTEM_NAME_uniques_list[0]"
   ]
  },
  {
   "cell_type": "code",
   "execution_count": null,
   "id": "victorian-ticket",
   "metadata": {},
   "outputs": [],
   "source": [
    "# df.SYSTEM_NAME_vector_200m[0]"
   ]
  },
  {
   "cell_type": "code",
   "execution_count": null,
   "id": "accepting-recovery",
   "metadata": {},
   "outputs": [],
   "source": [
    "df_attr.SYSTEM_NAME_uniques_list[0]"
   ]
  },
  {
   "cell_type": "code",
   "execution_count": null,
   "id": "acoustic-tampa",
   "metadata": {},
   "outputs": [],
   "source": [
    "# df.FIRST_MODIFIER_NAME_vector_200m[good]"
   ]
  },
  {
   "cell_type": "code",
   "execution_count": null,
   "id": "increasing-looking",
   "metadata": {},
   "outputs": [],
   "source": [
    "print(*attribute_features, sep=\"\\n\")"
   ]
  },
  {
   "cell_type": "code",
   "execution_count": null,
   "id": "included-contents",
   "metadata": {},
   "outputs": [],
   "source": [
    "# Strip vectors into individual columns\n",
    "\n",
    "def handle_empty_list(x, count):\n",
    "    try:\n",
    "        return x[count]\n",
    "    except:\n",
    "        return np.nan\n",
    "\n",
    "\n",
    "for attr_feature in attribute_features:\n",
    "    print(attr_feature)\n",
    "    for count, feature in enumerate(df_attr[attr_feature + \"_uniques_list\"][0]):\n",
    "        df[\"nwi_\" + attr_feature + \"_\" + str(feature) + \"_\" + str(2 * PATCH_SIZE) + \"m\"] = (df.apply(lambda x: \n",
    "                                                                                        handle_empty_list(x[attr_feature + \"_vector_\" \n",
    "                                                                                          + str(2 * PATCH_SIZE) \n",
    "                                                                                          + \"m\"], count),\n",
    "                                                                                       axis=1))\n",
    "    \n"
   ]
  },
  {
   "cell_type": "code",
   "execution_count": null,
   "id": "disabled-dress",
   "metadata": {},
   "outputs": [],
   "source": [
    "df.columns"
   ]
  },
  {
   "cell_type": "code",
   "execution_count": null,
   "id": "accredited-asthma",
   "metadata": {},
   "outputs": [],
   "source": [
    "# what fraction are non-zero values?\n",
    "# np.mean(np.array(df.nwi_SYSTEM_NAME_palustrine_200m[good]))"
   ]
  },
  {
   "cell_type": "code",
   "execution_count": null,
   "id": "mediterranean-significance",
   "metadata": {},
   "outputs": [],
   "source": [
    "set(df.columns) - set(df.describe().columns)"
   ]
  },
  {
   "cell_type": "code",
   "execution_count": null,
   "id": "united-increase",
   "metadata": {},
   "outputs": [],
   "source": [
    "# np.mean(np.array(df.nwi_SUBSYSTEM_NAME_intertidal_200m[good]))"
   ]
  },
  {
   "cell_type": "code",
   "execution_count": null,
   "id": "julian-bottom",
   "metadata": {},
   "outputs": [],
   "source": [
    "# np.mean(np.array(df.nwi_WATER_REGIME_NAME_regularly_flooded_200m))"
   ]
  },
  {
   "cell_type": "code",
   "execution_count": null,
   "id": "honey-binary",
   "metadata": {},
   "outputs": [],
   "source": [
    "# save the resultant dataframe\n",
    "\n",
    "(pickle.dump(df, open((\"nwi_extracted_features_\" + str(2 * PATCH_SIZE) + \"X\" + str(2 * PATCH_SIZE) + \"m\"),\"wb\"), \n",
    "               protocol=3))        "
   ]
  },
  {
   "cell_type": "code",
   "execution_count": null,
   "id": "social-remark",
   "metadata": {},
   "outputs": [],
   "source": [
    "(\"nwi_extracted_features_\" + str(2 * PATCH_SIZE) + \"X\" + str(2 * PATCH_SIZE) + \"m\")"
   ]
  },
  {
   "cell_type": "code",
   "execution_count": null,
   "id": "related-chicken",
   "metadata": {},
   "outputs": [],
   "source": []
  },
  {
   "cell_type": "code",
   "execution_count": null,
   "id": "academic-minority",
   "metadata": {},
   "outputs": [],
   "source": []
  }
 ],
 "metadata": {
  "kernelspec": {
   "display_name": "Python 3",
   "language": "python",
   "name": "python3"
  },
  "language_info": {
   "codemirror_mode": {
    "name": "ipython",
    "version": 3
   },
   "file_extension": ".py",
   "mimetype": "text/x-python",
   "name": "python",
   "nbconvert_exporter": "python",
   "pygments_lexer": "ipython3",
   "version": "3.9.2"
  }
 },
 "nbformat": 4,
 "nbformat_minor": 5
}
